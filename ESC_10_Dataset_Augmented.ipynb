{
  "nbformat": 4,
  "nbformat_minor": 0,
  "metadata": {
    "accelerator": "GPU",
    "colab": {
      "name": "ESC_10_Dataset_Augmented.ipynb",
      "provenance": [],
      "collapsed_sections": [],
      "mount_file_id": "14we1Nji1NTDan1Y_NuwS4flM9mDzOMyB",
      "authorship_tag": "ABX9TyOHo0bS9XmWBUFAjjyZsQCS",
      "include_colab_link": true
    },
    "kernelspec": {
      "display_name": "Python 3",
      "name": "python3"
    }
  },
  "cells": [
    {
      "cell_type": "markdown",
      "metadata": {
        "id": "view-in-github",
        "colab_type": "text"
      },
      "source": [
        "<a href=\"https://colab.research.google.com/github/Nagu34/Thesis/blob/main/ESC_10_Dataset_Augmented.ipynb\" target=\"_parent\"><img src=\"https://colab.research.google.com/assets/colab-badge.svg\" alt=\"Open In Colab\"/></a>"
      ]
    },
    {
      "cell_type": "code",
      "metadata": {
        "id": "Sm5QGG-DUGgC"
      },
      "source": [
        ""
      ],
      "execution_count": null,
      "outputs": []
    },
    {
      "cell_type": "code",
      "metadata": {
        "colab": {
          "base_uri": "https://localhost:8080/",
          "height": 17
        },
        "id": "JcA-eupMaQ0C",
        "outputId": "c6cacabe-6fb7-4a39-964e-6804c0dfc06b"
      },
      "source": [
        "#package imports\n",
        "import os\n",
        "import random\n",
        "import sys\n",
        "import glob \n",
        "import keras\n",
        "\n",
        "import IPython.display as ipd\n",
        "import librosa\n",
        "import librosa.display\n",
        "import matplotlib.pyplot as plt\n",
        "import numpy as np\n",
        "import pandas as pd\n",
        "import plotly.graph_objs as go\n",
        "import plotly.offline as py\n",
        "import plotly.tools as tls\n",
        "import seaborn as sns\n",
        "import scipy.io.wavfile\n",
        "import tensorflow as tf\n",
        "py.init_notebook_mode(connected=True)\n",
        "\n",
        "\n",
        "## Keras\n",
        "from keras import regularizers\n",
        "from keras.callbacks import ModelCheckpoint, LearningRateScheduler, EarlyStopping\n",
        "from keras.callbacks import  History, ReduceLROnPlateau, CSVLogger\n",
        "from keras.models import Model, Sequential\n",
        "from keras.layers import Dense, Embedding, LSTM\n",
        "from keras.layers import Input, Flatten, Dropout, Activation, BatchNormalization\n",
        "from keras.layers import Conv1D, MaxPooling1D, AveragePooling1D\n",
        "from keras.preprocessing import sequence\n",
        "from keras.preprocessing.sequence import pad_sequences\n",
        "from keras.preprocessing.text import Tokenizer\n",
        "from keras.utils import np_utils\n",
        "from keras.utils import to_categorical\n",
        "\n",
        "\n",
        "## Sklearn\n",
        "from sklearn.metrics import confusion_matrix\n",
        "from sklearn.preprocessing import LabelEncoder\n",
        "\n",
        "\n",
        "## Rest\n",
        "from scipy.fftpack import fft\n",
        "from scipy import signal\n",
        "from scipy.io import wavfile\n",
        "from tqdm import tqdm\n",
        "\n",
        "## extra added \n",
        "import pandas as pd\n",
        "import numpy as np\n",
        "import os\n",
        "import librosa\n",
        "import matplotlib.pyplot as plt\n",
        "import librosa.display\n",
        "import IPython.display as ipd\n",
        "from scipy import stats\n",
        "import warnings\n",
        "import seaborn as sns\n",
        "import multiprocessing as mp\n",
        "%matplotlib inline"
      ],
      "execution_count": null,
      "outputs": [
        {
          "output_type": "display_data",
          "data": {
            "text/html": [
              "        <script type=\"text/javascript\">\n",
              "        window.PlotlyConfig = {MathJaxConfig: 'local'};\n",
              "        if (window.MathJax) {MathJax.Hub.Config({SVG: {font: \"STIX-Web\"}});}\n",
              "        if (typeof require !== 'undefined') {\n",
              "        require.undef(\"plotly\");\n",
              "        requirejs.config({\n",
              "            paths: {\n",
              "                'plotly': ['https://cdn.plot.ly/plotly-latest.min']\n",
              "            }\n",
              "        });\n",
              "        require(['plotly'], function(Plotly) {\n",
              "            window._Plotly = Plotly;\n",
              "        });\n",
              "        }\n",
              "        </script>\n",
              "        "
            ]
          },
          "metadata": {
            "tags": []
          }
        }
      ]
    },
    {
      "cell_type": "code",
      "metadata": {
        "id": "Wxsynl2Par21"
      },
      "source": [
        "import pandas as pd\n",
        "import numpy as np\n",
        "import os\n",
        "import librosa\n",
        "import matplotlib.pyplot as plt\n",
        "import librosa.display\n",
        "import IPython.display as ipd\n",
        "from scipy import stats\n",
        "import warnings\n",
        "import seaborn as sns\n",
        "import multiprocessing as mp\n",
        "%matplotlib inline"
      ],
      "execution_count": null,
      "outputs": []
    },
    {
      "cell_type": "code",
      "metadata": {
        "id": "MqT7sACmjf21"
      },
      "source": [
        "df = pd.read_csv('/content/drive/My Drive/ESC-50-master/meta/esc50.csv')"
      ],
      "execution_count": null,
      "outputs": []
    },
    {
      "cell_type": "code",
      "metadata": {
        "colab": {
          "base_uri": "https://localhost:8080/",
          "height": 419
        },
        "id": "AJ2-68Rpkml7",
        "outputId": "031f84e6-e5d3-493c-a53e-9d20d49ee922"
      },
      "source": [
        "df"
      ],
      "execution_count": null,
      "outputs": [
        {
          "output_type": "execute_result",
          "data": {
            "text/html": [
              "<div>\n",
              "<style scoped>\n",
              "    .dataframe tbody tr th:only-of-type {\n",
              "        vertical-align: middle;\n",
              "    }\n",
              "\n",
              "    .dataframe tbody tr th {\n",
              "        vertical-align: top;\n",
              "    }\n",
              "\n",
              "    .dataframe thead th {\n",
              "        text-align: right;\n",
              "    }\n",
              "</style>\n",
              "<table border=\"1\" class=\"dataframe\">\n",
              "  <thead>\n",
              "    <tr style=\"text-align: right;\">\n",
              "      <th></th>\n",
              "      <th>filename</th>\n",
              "      <th>fold</th>\n",
              "      <th>target</th>\n",
              "      <th>category</th>\n",
              "      <th>esc10</th>\n",
              "      <th>src_file</th>\n",
              "      <th>take</th>\n",
              "    </tr>\n",
              "  </thead>\n",
              "  <tbody>\n",
              "    <tr>\n",
              "      <th>0</th>\n",
              "      <td>1-100032-A-0.wav</td>\n",
              "      <td>1</td>\n",
              "      <td>0</td>\n",
              "      <td>dog</td>\n",
              "      <td>True</td>\n",
              "      <td>100032</td>\n",
              "      <td>A</td>\n",
              "    </tr>\n",
              "    <tr>\n",
              "      <th>1</th>\n",
              "      <td>1-100038-A-14.wav</td>\n",
              "      <td>1</td>\n",
              "      <td>14</td>\n",
              "      <td>chirping_birds</td>\n",
              "      <td>False</td>\n",
              "      <td>100038</td>\n",
              "      <td>A</td>\n",
              "    </tr>\n",
              "    <tr>\n",
              "      <th>2</th>\n",
              "      <td>1-100210-A-36.wav</td>\n",
              "      <td>1</td>\n",
              "      <td>36</td>\n",
              "      <td>vacuum_cleaner</td>\n",
              "      <td>False</td>\n",
              "      <td>100210</td>\n",
              "      <td>A</td>\n",
              "    </tr>\n",
              "    <tr>\n",
              "      <th>3</th>\n",
              "      <td>1-100210-B-36.wav</td>\n",
              "      <td>1</td>\n",
              "      <td>36</td>\n",
              "      <td>vacuum_cleaner</td>\n",
              "      <td>False</td>\n",
              "      <td>100210</td>\n",
              "      <td>B</td>\n",
              "    </tr>\n",
              "    <tr>\n",
              "      <th>4</th>\n",
              "      <td>1-101296-A-19.wav</td>\n",
              "      <td>1</td>\n",
              "      <td>19</td>\n",
              "      <td>thunderstorm</td>\n",
              "      <td>False</td>\n",
              "      <td>101296</td>\n",
              "      <td>A</td>\n",
              "    </tr>\n",
              "    <tr>\n",
              "      <th>...</th>\n",
              "      <td>...</td>\n",
              "      <td>...</td>\n",
              "      <td>...</td>\n",
              "      <td>...</td>\n",
              "      <td>...</td>\n",
              "      <td>...</td>\n",
              "      <td>...</td>\n",
              "    </tr>\n",
              "    <tr>\n",
              "      <th>1995</th>\n",
              "      <td>5-263831-B-6.wav</td>\n",
              "      <td>5</td>\n",
              "      <td>6</td>\n",
              "      <td>hen</td>\n",
              "      <td>False</td>\n",
              "      <td>263831</td>\n",
              "      <td>B</td>\n",
              "    </tr>\n",
              "    <tr>\n",
              "      <th>1996</th>\n",
              "      <td>5-263902-A-36.wav</td>\n",
              "      <td>5</td>\n",
              "      <td>36</td>\n",
              "      <td>vacuum_cleaner</td>\n",
              "      <td>False</td>\n",
              "      <td>263902</td>\n",
              "      <td>A</td>\n",
              "    </tr>\n",
              "    <tr>\n",
              "      <th>1997</th>\n",
              "      <td>5-51149-A-25.wav</td>\n",
              "      <td>5</td>\n",
              "      <td>25</td>\n",
              "      <td>footsteps</td>\n",
              "      <td>False</td>\n",
              "      <td>51149</td>\n",
              "      <td>A</td>\n",
              "    </tr>\n",
              "    <tr>\n",
              "      <th>1998</th>\n",
              "      <td>5-61635-A-8.wav</td>\n",
              "      <td>5</td>\n",
              "      <td>8</td>\n",
              "      <td>sheep</td>\n",
              "      <td>False</td>\n",
              "      <td>61635</td>\n",
              "      <td>A</td>\n",
              "    </tr>\n",
              "    <tr>\n",
              "      <th>1999</th>\n",
              "      <td>5-9032-A-0.wav</td>\n",
              "      <td>5</td>\n",
              "      <td>0</td>\n",
              "      <td>dog</td>\n",
              "      <td>True</td>\n",
              "      <td>9032</td>\n",
              "      <td>A</td>\n",
              "    </tr>\n",
              "  </tbody>\n",
              "</table>\n",
              "<p>2000 rows × 7 columns</p>\n",
              "</div>"
            ],
            "text/plain": [
              "               filename  fold  target        category  esc10  src_file take\n",
              "0      1-100032-A-0.wav     1       0             dog   True    100032    A\n",
              "1     1-100038-A-14.wav     1      14  chirping_birds  False    100038    A\n",
              "2     1-100210-A-36.wav     1      36  vacuum_cleaner  False    100210    A\n",
              "3     1-100210-B-36.wav     1      36  vacuum_cleaner  False    100210    B\n",
              "4     1-101296-A-19.wav     1      19    thunderstorm  False    101296    A\n",
              "...                 ...   ...     ...             ...    ...       ...  ...\n",
              "1995   5-263831-B-6.wav     5       6             hen  False    263831    B\n",
              "1996  5-263902-A-36.wav     5      36  vacuum_cleaner  False    263902    A\n",
              "1997   5-51149-A-25.wav     5      25       footsteps  False     51149    A\n",
              "1998    5-61635-A-8.wav     5       8           sheep  False     61635    A\n",
              "1999     5-9032-A-0.wav     5       0             dog   True      9032    A\n",
              "\n",
              "[2000 rows x 7 columns]"
            ]
          },
          "metadata": {
            "tags": []
          },
          "execution_count": 10
        }
      ]
    },
    {
      "cell_type": "code",
      "metadata": {
        "id": "W-HBqnTfkuhP"
      },
      "source": [
        "df_10 = df[df['esc10'] == True]"
      ],
      "execution_count": null,
      "outputs": []
    },
    {
      "cell_type": "code",
      "metadata": {
        "colab": {
          "base_uri": "https://localhost:8080/"
        },
        "id": "o_AP-TbLmf0F",
        "outputId": "7750c270-74a7-404d-b84b-1ad6e1a1e9cb"
      },
      "source": [
        "df_10.count"
      ],
      "execution_count": null,
      "outputs": [
        {
          "output_type": "execute_result",
          "data": {
            "text/plain": [
              "<bound method DataFrame.count of                filename  fold  target        category  esc10  src_file take\n",
              "0      1-100032-A-0.wav     1       0             dog   True    100032    A\n",
              "14     1-110389-A-0.wav     1       0             dog   True    110389    A\n",
              "24    1-116765-A-41.wav     1      41        chainsaw   True    116765    A\n",
              "54     1-17150-A-12.wav     1      12  crackling_fire   True     17150    A\n",
              "55    1-172649-A-40.wav     1      40      helicopter   True    172649    A\n",
              "...                 ...   ...     ...             ...    ...       ...  ...\n",
              "1876   5-233160-A-1.wav     5       1         rooster   True    233160    A\n",
              "1888   5-234879-A-1.wav     5       1         rooster   True    234879    A\n",
              "1889   5-234879-B-1.wav     5       1         rooster   True    234879    B\n",
              "1894  5-235671-A-38.wav     5      38      clock_tick   True    235671    A\n",
              "1999     5-9032-A-0.wav     5       0             dog   True      9032    A\n",
              "\n",
              "[400 rows x 7 columns]>"
            ]
          },
          "metadata": {
            "tags": []
          },
          "execution_count": 13
        }
      ]
    },
    {
      "cell_type": "code",
      "metadata": {
        "id": "cgDSrvP_cClN"
      },
      "source": [
        "src_path=\"/content/drive/MyDrive/ESC-50-master/audio_o\""
      ],
      "execution_count": null,
      "outputs": []
    },
    {
      "cell_type": "code",
      "metadata": {
        "colab": {
          "base_uri": "https://localhost:8080/"
        },
        "id": "lck1d6ujb2Ws",
        "outputId": "66c69a30-baa6-410e-bd0d-e79e5d039fc5"
      },
      "source": [
        "data_df = pd.DataFrame(columns=['path','sound'])\n",
        "count=0\n",
        "#dir_list=os.listdir(src_path)\n",
        "#dir_list.sort()\n",
        "for sound_files in tqdm(df_10.filename.values):\n",
        "    #print(sound_files)\n",
        "     sound_file= sound_files.split('.')[0].split('-')\n",
        "    #print(emotion_file)\n",
        "     path= src_path + '/' + sound_files\n",
        "     des_path = \"/content/drive/MyDrive/ESC-10-master/audio\" \n",
        "     des_path1 = des_path + '/' + sound_files\n",
        "     os.rename(path, des_path1)\n",
        "    #print(path)\n",
        "     sound=int(sound_file[3])\n",
        "    #print(emotion)\n",
        "     data_df.loc[count] = [path,sound]\n",
        "     count += 1"
      ],
      "execution_count": null,
      "outputs": [
        {
          "output_type": "stream",
          "text": [
            "100%|██████████| 400/400 [00:01<00:00, 200.70it/s]\n"
          ],
          "name": "stderr"
        }
      ]
    },
    {
      "cell_type": "code",
      "metadata": {
        "colab": {
          "base_uri": "https://localhost:8080/",
          "height": 419
        },
        "id": "purRPGo0cOMD",
        "outputId": "cce40a4f-4c2b-4c08-a55f-bdce4dd85282"
      },
      "source": [
        "data_df"
      ],
      "execution_count": null,
      "outputs": [
        {
          "output_type": "execute_result",
          "data": {
            "text/html": [
              "<div>\n",
              "<style scoped>\n",
              "    .dataframe tbody tr th:only-of-type {\n",
              "        vertical-align: middle;\n",
              "    }\n",
              "\n",
              "    .dataframe tbody tr th {\n",
              "        vertical-align: top;\n",
              "    }\n",
              "\n",
              "    .dataframe thead th {\n",
              "        text-align: right;\n",
              "    }\n",
              "</style>\n",
              "<table border=\"1\" class=\"dataframe\">\n",
              "  <thead>\n",
              "    <tr style=\"text-align: right;\">\n",
              "      <th></th>\n",
              "      <th>path</th>\n",
              "      <th>sound</th>\n",
              "    </tr>\n",
              "  </thead>\n",
              "  <tbody>\n",
              "    <tr>\n",
              "      <th>0</th>\n",
              "      <td>/content/drive/MyDrive/ESC-50-master/audio_o/1...</td>\n",
              "      <td>0</td>\n",
              "    </tr>\n",
              "    <tr>\n",
              "      <th>1</th>\n",
              "      <td>/content/drive/MyDrive/ESC-50-master/audio_o/1...</td>\n",
              "      <td>0</td>\n",
              "    </tr>\n",
              "    <tr>\n",
              "      <th>2</th>\n",
              "      <td>/content/drive/MyDrive/ESC-50-master/audio_o/1...</td>\n",
              "      <td>41</td>\n",
              "    </tr>\n",
              "    <tr>\n",
              "      <th>3</th>\n",
              "      <td>/content/drive/MyDrive/ESC-50-master/audio_o/1...</td>\n",
              "      <td>12</td>\n",
              "    </tr>\n",
              "    <tr>\n",
              "      <th>4</th>\n",
              "      <td>/content/drive/MyDrive/ESC-50-master/audio_o/1...</td>\n",
              "      <td>40</td>\n",
              "    </tr>\n",
              "    <tr>\n",
              "      <th>...</th>\n",
              "      <td>...</td>\n",
              "      <td>...</td>\n",
              "    </tr>\n",
              "    <tr>\n",
              "      <th>395</th>\n",
              "      <td>/content/drive/MyDrive/ESC-50-master/audio_o/5...</td>\n",
              "      <td>1</td>\n",
              "    </tr>\n",
              "    <tr>\n",
              "      <th>396</th>\n",
              "      <td>/content/drive/MyDrive/ESC-50-master/audio_o/5...</td>\n",
              "      <td>1</td>\n",
              "    </tr>\n",
              "    <tr>\n",
              "      <th>397</th>\n",
              "      <td>/content/drive/MyDrive/ESC-50-master/audio_o/5...</td>\n",
              "      <td>1</td>\n",
              "    </tr>\n",
              "    <tr>\n",
              "      <th>398</th>\n",
              "      <td>/content/drive/MyDrive/ESC-50-master/audio_o/5...</td>\n",
              "      <td>38</td>\n",
              "    </tr>\n",
              "    <tr>\n",
              "      <th>399</th>\n",
              "      <td>/content/drive/MyDrive/ESC-50-master/audio_o/5...</td>\n",
              "      <td>0</td>\n",
              "    </tr>\n",
              "  </tbody>\n",
              "</table>\n",
              "<p>400 rows × 2 columns</p>\n",
              "</div>"
            ],
            "text/plain": [
              "                                                  path sound\n",
              "0    /content/drive/MyDrive/ESC-50-master/audio_o/1...     0\n",
              "1    /content/drive/MyDrive/ESC-50-master/audio_o/1...     0\n",
              "2    /content/drive/MyDrive/ESC-50-master/audio_o/1...    41\n",
              "3    /content/drive/MyDrive/ESC-50-master/audio_o/1...    12\n",
              "4    /content/drive/MyDrive/ESC-50-master/audio_o/1...    40\n",
              "..                                                 ...   ...\n",
              "395  /content/drive/MyDrive/ESC-50-master/audio_o/5...     1\n",
              "396  /content/drive/MyDrive/ESC-50-master/audio_o/5...     1\n",
              "397  /content/drive/MyDrive/ESC-50-master/audio_o/5...     1\n",
              "398  /content/drive/MyDrive/ESC-50-master/audio_o/5...    38\n",
              "399  /content/drive/MyDrive/ESC-50-master/audio_o/5...     0\n",
              "\n",
              "[400 rows x 2 columns]"
            ]
          },
          "metadata": {
            "tags": []
          },
          "execution_count": 23
        }
      ]
    },
    {
      "cell_type": "code",
      "metadata": {
        "colab": {
          "base_uri": "https://localhost:8080/"
        },
        "id": "QQGljTZicTkb",
        "outputId": "5eb1d7fd-d310-45e6-e62f-74c0d20c2596"
      },
      "source": [
        "data_df.sound.unique()"
      ],
      "execution_count": null,
      "outputs": [
        {
          "output_type": "execute_result",
          "data": {
            "text/plain": [
              "array([0, 41, 12, 40, 10, 20, 38, 21, 1, 11], dtype=object)"
            ]
          },
          "metadata": {
            "tags": []
          },
          "execution_count": 26
        }
      ]
    },
    {
      "cell_type": "code",
      "metadata": {
        "id": "nVY9X-wHhhWV"
      },
      "source": [
        ""
      ],
      "execution_count": null,
      "outputs": []
    },
    {
      "cell_type": "code",
      "metadata": {
        "id": "DqzM-t9NYtWi"
      },
      "source": [
        "import numpy as np\n",
        "max_pad_len = 228\n",
        "def extract_features(file_name):\n",
        "   \n",
        "    try:\n",
        "        audio, sample_rate = librosa.load(file_name, res_type='kaiser_fast') \n",
        "        mfccs = librosa.feature.mfcc(y=audio, sr=sample_rate, n_mfcc=40)\n",
        "        pad_width = max_pad_len - mfccs.shape[1]\n",
        "        mfccs = np.pad(mfccs, pad_width=((0, 0), (0, pad_width)), mode='constant')\n",
        "    \n",
        "        \n",
        "    except Exception as e:\n",
        "        print(\"Error encountered while parsing file: \", file_name)\n",
        "        return None \n",
        "     \n",
        "    return mfccs"
      ],
      "execution_count": null,
      "outputs": []
    },
    {
      "cell_type": "code",
      "metadata": {
        "id": "JobkmhsQYtWs"
      },
      "source": [
        "src_path=\"/content/drive/MyDrive/emotion/audio_augmentations\""
      ],
      "execution_count": null,
      "outputs": []
    },
    {
      "cell_type": "code",
      "metadata": {
        "colab": {
          "base_uri": "https://localhost:8080/"
        },
        "id": "bMUuQdEKYtWu",
        "outputId": "c7c4d2ee-a278-4d44-afa9-d4c3e9b42904"
      },
      "source": [
        "data_df = pd.DataFrame(columns=['path','sound'])\n",
        "count=0\n",
        "features=[]\n",
        "dir_list=os.listdir(src_path)\n",
        "dir_list.sort()\n",
        "for sound_files in tqdm(dir_list):\n",
        "    #print(sound_files)\n",
        "     sound_file= sound_files.split('.')[0].split('-')\n",
        "    #print(emotion_file)\n",
        "     path= src_path + '/' + sound_files\n",
        "    #print(path)\n",
        "     file_name=os.path.abspath(path)\n",
        "     data = extract_features(file_name)\n",
        "     sound=int(sound_file[2])\n",
        "     features.append([data, sound])\n",
        "    #print(emotion)\n",
        "     data_df.loc[count] = [path,sound]\n",
        "     count += 1\n",
        "    #print(\"------------------------------\")\n",
        "    #print(\"++++++++++++++++++++++++++++++++++++++++++++++\")\n",
        "featuresdf = pd.DataFrame(features, columns=['feature','sound'])\n",
        "featuresdf.to_pickle('/content/drive/MyDrive/emotion/emotion_mfcc_aug.pkl')"
      ],
      "execution_count": null,
      "outputs": [
        {
          "output_type": "stream",
          "text": [
            "100%|██████████| 5760/5760 [40:04<00:00,  2.40it/s]\n"
          ],
          "name": "stderr"
        }
      ]
    },
    {
      "cell_type": "code",
      "metadata": {
        "colab": {
          "base_uri": "https://localhost:8080/"
        },
        "id": "6CZm58n20fRG",
        "outputId": "e7fd02ef-f655-409b-9bbf-3e4836a2d4ce"
      },
      "source": [
        ""
      ],
      "execution_count": null,
      "outputs": [
        {
          "output_type": "execute_result",
          "data": {
            "text/plain": [
              "feature    [[-901.8272547194704, -901.8272547194704, -901...\n",
              "sound                                                      2\n",
              "Name: 867, dtype: object"
            ]
          },
          "metadata": {
            "tags": []
          },
          "execution_count": 10
        }
      ]
    },
    {
      "cell_type": "code",
      "metadata": {
        "colab": {
          "base_uri": "https://localhost:8080/"
        },
        "id": "ZQx76acRPMhi",
        "outputId": "a6e17d4b-2d55-4a46-8e25-ebb3bdeb7c7c"
      },
      "source": [
        "src_path=\"/content/drive/MyDrive/ESC-10-master/audio\"\n",
        "target_dir=\"/content/drive/MyDrive/ESC-10-master/audio_augmentations\"\n",
        "dir_list=os.listdir(src_path)\n",
        "dir_list.sort()\n",
        "for sound_files in tqdm(dir_list):\n",
        "    #print(sound_files)\n",
        "     sound_file= sound_files.split('.')[0].split('-')\n",
        "    #print(emotion_file)\n",
        "     path= src_path + '/' + sound_files\n",
        "     #data, sample_rate = read_audio_file(path)\n",
        "     data,sample_rate = librosa.core.load(path)\n",
        "     data_noise = add_noise(data)\n",
        "     outfile = sound_files.split('.')[0] + \"-\" + \"aug\" + \".wav\"\n",
        "     outfile = target_dir + '/' + outfile\n",
        "     write_audio_file(outfile, data_noise,sample_rate)\n",
        "     data_roll = shift(data,sample_rate)\n",
        "     outfile = sound_files.split('.')[0] + \"-\" + \"aug1\" + \".wav\"\n",
        "     outfile = target_dir + '/' + outfile\n",
        "     write_audio_file(outfile, data_roll,sample_rate)\n",
        "     # change of pitch the sound\n",
        "     data_pitch = pitch(data)\n",
        "     outfile = sound_files.split('.')[0] + \"-\" + \"aug2\" + \".wav\"\n",
        "     outfile = target_dir + '/' + outfile\n",
        "     write_audio_file(outfile, data_pitch,sample_rate)\n",
        "     #change of dynamic range\n",
        "     data_range = range(data_pitch)\n",
        "     outfile = sound_files.split('.')[0] + \"-\" + \"aug3\" + \".wav\"\n",
        "     outfile = target_dir + '/' + outfile\n",
        "     write_audio_file(outfile, data_range,sample_rate)"
      ],
      "execution_count": null,
      "outputs": [
        {
          "output_type": "stream",
          "text": [
            "100%|██████████| 400/400 [03:46<00:00,  1.77it/s]\n"
          ],
          "name": "stderr"
        }
      ]
    },
    {
      "cell_type": "code",
      "metadata": {
        "id": "_7MjwE35aSQm"
      },
      "source": [
        ""
      ],
      "execution_count": null,
      "outputs": []
    },
    {
      "cell_type": "code",
      "metadata": {
        "id": "0nsjj1T-JUvJ"
      },
      "source": [
        "import librosa\n",
        "import numpy as np\n",
        "import matplotlib.pyplot as plt\n",
        "\n",
        "\n",
        "def add_noise(data):\n",
        "        data_noise = data + 0.009*np.random.normal(0,1,len(data))\n",
        "        return data_noise\n",
        "def shift(data,sample_rate):\n",
        "        return np.roll(data,int(sample_rate/10))\n",
        "def pitch(y):\n",
        "    y_mod=y\n",
        "    length_change = np.random.uniform(low=0.9,high=1.1)\n",
        "    speed_fac = 1.0  / length_change\n",
        "    #print(tab+\"    resample length_change = \",length_change)\n",
        "    tmp = np.interp(np.arange(0,len(y),speed_fac),np.arange(0,len(y)),y)\n",
        "    #tmp = resample(y,int(length*lengt_fac))    # signal.resample is too slow\n",
        "    minlen = min( y.shape[0], tmp.shape[0])     # keep same length as original; \n",
        "    y_mod *= 0                                    # pad with zeros \n",
        "    y_mod[0:minlen] = tmp[0:minlen]\n",
        "    return y_mod\n",
        "def range(y_mod):\n",
        "    dyn_change = np.random.uniform(low=0.5,high=1.1)  # change amplitude\n",
        "    #print(tab+\"    dyn_change = \",dyn_change)\n",
        "    y_mod = y_mod * dyn_change\n",
        "    return y_mod\n",
        "def write_audio_file(file, data, sample_rate):\n",
        "        librosa.output.write_wav(file, data, sample_rate)"
      ],
      "execution_count": null,
      "outputs": []
    },
    {
      "cell_type": "code",
      "metadata": {
        "id": "0gqk3wiArADP"
      },
      "source": [
        "def log_specgram(audio, sample_rate, window_size=5,\n",
        "                 step_size=2, eps=1e-10):\n",
        "    nperseg = int(round(window_size * sample_rate / 1e3))\n",
        "    noverlap = int(round(step_size * sample_rate / 1e3))\n",
        "    freqs, _, spec = signal.spectrogram(audio,\n",
        "                                    fs=sample_rate,\n",
        "                                    window='hann',\n",
        "                                    nperseg=nperseg,\n",
        "                                    noverlap=noverlap,\n",
        "                                    detrend=False,\n",
        "                            )\n",
        "    return freqs, np.log(spec.T.astype(np.float32) + eps)"
      ],
      "execution_count": null,
      "outputs": []
    },
    {
      "cell_type": "code",
      "metadata": {
        "id": "GTain7fWrL0v"
      },
      "source": [
        "def wav2img(wav_path, targetdir='', figsize=(1.28,1.28)):\n",
        "    \"\"\"\n",
        "    takes in wave file path\n",
        "    and the fig size. Default 4,4 will make images 224 x 224\n",
        "    \"\"\"\n",
        "    import pylab\n",
        "    from matplotlib import cm\n",
        "    pylab.figure(figsize=figsize) \n",
        "    pylab.axis('off')\n",
        "    pylab.axes([0., 0., 1., 1.], frameon=False, xticks=[], yticks=[])   \n",
        "    # use soundfile library to read in the wave files\n",
        "    test_sound,samplerate  = librosa.load(wav_path)\n",
        "    test_sound, index1= librosa.effects.trim(test_sound)\n",
        "    _, spectrogram = log_specgram(test_sound, samplerate)\n",
        "    \n",
        "    ## create output path\n",
        "    output_file = wav_path.split('/')[-1].split('.wav')[0]\n",
        "    output_file = targetdir +'/'+ output_file\n",
        "    #plt.figure(figsize=(2.24, 2.24), dpi=100)\n",
        "    #plt.axis('off')\n",
        "    #plt.imshow(spectrogram.T, aspect='auto', origin='lower')\n",
        "    #pylab.figure(1, figsize=(2.24,2.24))\n",
        "    librosa.display.specshow(spectrogram, y_axis='mel', x_axis='time',cmap=cm.jet)\n",
        "    #plt.show()\n",
        "    #pylab.plot(spectrogram)\n",
        "    pylab.savefig('%s.png' % output_file,bbox_inches=None, pad_inches=0,dpi=100)\n",
        "\n",
        "    #plt.savefig('%s.png' % output_file,transparent=False,dpi=100)\n",
        "    \n",
        "    #plt.imsave('%s.png' % output_file, spectrogram.T)\n",
        "    pylab.close()\n",
        "    #plt.close()"
      ],
      "execution_count": null,
      "outputs": []
    },
    {
      "cell_type": "code",
      "metadata": {
        "id": "gFI5AYf3QglG"
      },
      "source": [
        "def wav2img(wav_path, targetdir='', figsize=(1.28,1.28)):\n",
        "    \"\"\"\n",
        "    takes in wave file path\n",
        "    and the fig size. Default 4,4 will make images 224 x 224\n",
        "    \"\"\"\n",
        "    import pylab\n",
        "    from matplotlib import cm\n",
        "    pylab.figure(figsize=figsize) \n",
        "    pylab.axis('off')\n",
        "    pylab.axes([0., 0., 1., 1.], frameon=False, xticks=[], yticks=[])   \n",
        "    # use soundfile library to read in the wave files\n",
        "    test_sound,samplerate  = librosa.load(wav_path)\n",
        "    test_sound, index1= librosa.effects.trim(test_sound)\n",
        "    #_, spectrogram = log_specgram(test_sound, samplerate)\n",
        "    #hop_length = 512\n",
        "    #chromagram = librosa.feature.chroma_stft(test_sound, sr=samplerate, hop_length=hop_length)\n",
        "    N = 4096\n",
        "    H = 512 \n",
        "    eps = np.finfo(float).eps\n",
        "    C = librosa.feature.chroma_stft(y=test_sound, sr=samplerate, tuning=0, norm=None, hop_length=H, n_fft=N)\n",
        "    ## create output path\n",
        "    output_file = wav_path.split('/')[-1].split('.wav')[0]\n",
        "    output_file = targetdir +'/'+ output_file\n",
        "    #plt.figure(figsize=(2.24, 2.24), dpi=100)\n",
        "    #plt.axis('off')\n",
        "    #plt.imshow(spectrogram.T, aspect='auto', origin='lower')\n",
        "    #pylab.figure(1, figsize=(2.24,2.24))\n",
        "    #librosa.display.specshow(spectrogram, y_axis='mel', x_axis='time',cmap=cm.jet)\n",
        "    #librosa.display.specshow(chromagram, x_axis='time', y_axis='chroma', hop_length=hop_length, cmap='coolwarm')\n",
        "    librosa.display.specshow(10 * np.log10(eps + C), x_axis='time', y_axis='chroma', sr=samplerate, hop_length=H)\n",
        "    #plt.show()\n",
        "    #pylab.plot(spectrogram)\n",
        "    pylab.savefig('%s.png' % output_file,bbox_inches=None, pad_inches=0,dpi=100)\n",
        "\n",
        "    #plt.savefig('%s.png' % output_file,transparent=False,dpi=100)\n",
        "    \n",
        "    #plt.imsave('%s.png' % output_file, spectrogram.T)\n",
        "    pylab.close()\n",
        "    #plt.close()"
      ],
      "execution_count": null,
      "outputs": []
    },
    {
      "cell_type": "code",
      "metadata": {
        "colab": {
          "base_uri": "https://localhost:8080/"
        },
        "id": "N_qq2oIVT7gQ",
        "outputId": "d65ad944-8f28-4436-941c-ebb2f66df1b8"
      },
      "source": [
        "!pip install split-folders"
      ],
      "execution_count": null,
      "outputs": [
        {
          "output_type": "stream",
          "text": [
            "Collecting split-folders\n",
            "  Downloading https://files.pythonhosted.org/packages/b8/5f/3c2b2f7ea5e047c8cdc3bb00ae582c5438fcdbbedcc23b3cc1c2c7aae642/split_folders-0.4.3-py3-none-any.whl\n",
            "Installing collected packages: split-folders\n",
            "Successfully installed split-folders-0.4.3\n"
          ],
          "name": "stdout"
        }
      ]
    },
    {
      "cell_type": "code",
      "metadata": {
        "id": "vPsqonZ_TYS6"
      },
      "source": [
        "import splitfolders  # or import split_folders\n",
        "\n",
        "# Split with a ratio.\n",
        "# To only split into training and validation set, set a tuple to `ratio`, i.e, `(.8, .2)`.\n",
        "#splitfolders.ratio(\"/content/drive/MyDrive/ESC-50-master/audio_augmentations/\", output=\"/content/drive/MyDrive/ESC-50-master/audio_augmentations1\", seed=1337, ratio=(.4, .3, .3), group_prefix=None) # default values\n",
        "\n",
        "# Split val/test with a fixed number of items e.g. 100 for each set.\n",
        "# To only split into training and validation set, use a single number to `fixed`, i.e., `10`.\n",
        "splitfolders.fixed(\"/content/drive/MyDrive/ESC-50-master/audio_augmentations\", output=\"/content/drive/MyDrive/ESC-50-master/audio_augmentations1\", seed=1337, fixed=(3000, 3000), oversample=False, group_prefix=None) # default values"
      ],
      "execution_count": null,
      "outputs": []
    },
    {
      "cell_type": "code",
      "metadata": {
        "id": "WA3_KcHAop7H"
      },
      "source": [
        "src_path=\"/content/drive/MyDrive/ESC-50-master/audio_augmentations1/test/audio_augmentations\""
      ],
      "execution_count": null,
      "outputs": []
    },
    {
      "cell_type": "code",
      "metadata": {
        "id": "VdYBCh2PsqtH"
      },
      "source": [
        "target_dir=\"/content/drive/My Drive/ESC-50-master/ESC_RGBA_128_SPE\""
      ],
      "execution_count": null,
      "outputs": []
    },
    {
      "cell_type": "code",
      "metadata": {
        "colab": {
          "base_uri": "https://localhost:8080/"
        },
        "id": "W7EyW2nhmzMu",
        "outputId": "0717d79e-c9a6-40e5-8b6b-e06b23af31af"
      },
      "source": [
        "for file_list in tqdm(os.listdir(src_path)):\n",
        "     wav2img(src_path + '/' + file_list, target_dir)\n",
        "     #convert(src_path  + '/' + file_list, target_dir)\n"
      ],
      "execution_count": null,
      "outputs": [
        {
          "output_type": "stream",
          "text": [
            "100%|██████████| 3000/3000 [1:48:35<00:00,  2.17s/it]\n"
          ],
          "name": "stderr"
        }
      ]
    },
    {
      "cell_type": "code",
      "metadata": {
        "id": "jlrG-DnWSbXF"
      },
      "source": [
        "src_path=\"/content/drive/MyDrive/ESC-10-master/audio_augmentations\"\n",
        "target_dir=\"/content/drive/MyDrive/ESC-10-master/ESC_RGBA_128_CHR_aug\""
      ],
      "execution_count": null,
      "outputs": []
    },
    {
      "cell_type": "code",
      "metadata": {
        "colab": {
          "base_uri": "https://localhost:8080/"
        },
        "id": "RHOA7PvWSnc9",
        "outputId": "d3322602-e774-4f2a-8f30-8f22c21e36eb"
      },
      "source": [
        "for file_list in tqdm(os.listdir(src_path)):\n",
        "     wav2img(src_path + '/' + file_list, target_dir)\n",
        "     #convert(src_path  + '/' + file_list, target_dir)"
      ],
      "execution_count": null,
      "outputs": [
        {
          "output_type": "stream",
          "text": [
            "100%|██████████| 1600/1600 [38:39<00:00,  1.45s/it]\n"
          ],
          "name": "stderr"
        }
      ]
    },
    {
      "cell_type": "code",
      "metadata": {
        "id": "Lh6W3cwGFMDD"
      },
      "source": [
        "src_path=\"/content/drive/MyDrive/ESC-10-master/ESC_RGBA_128_SPE_aug\"\n",
        "target_dir=\"/content/drive/MyDrive/ESC-10-master/ESC_RGB_128_SPE_aug\""
      ],
      "execution_count": null,
      "outputs": []
    },
    {
      "cell_type": "code",
      "metadata": {
        "id": "wGK6r2lgSHpL"
      },
      "source": [
        "from PIL import Image\n",
        "from numpy import asarray"
      ],
      "execution_count": null,
      "outputs": []
    },
    {
      "cell_type": "code",
      "metadata": {
        "id": "ydt0d1e9RSMM"
      },
      "source": [
        "def convert(png_path, targetdir=''):\n",
        "    im=Image.open(png_path)\n",
        "    output_file = png_path.split('/')[-1].split('.png')[0]\n",
        "    output_file = targetdir +'/'+ output_file\n",
        "    im.convert('RGB').save(\"%s.jpg\" %output_file)\n",
        "\n"
      ],
      "execution_count": null,
      "outputs": []
    },
    {
      "cell_type": "code",
      "metadata": {
        "colab": {
          "base_uri": "https://localhost:8080/"
        },
        "id": "1wla_ShMS1FE",
        "outputId": "c8260a9c-3d54-445f-ef8b-cd7041ec9ae3"
      },
      "source": [
        "for file_list in tqdm(os.listdir(src_path)):\n",
        "     #wav2img(src_path + '/' + file_list, target_dir)\n",
        "     convert(src_path  + '/' + file_list, target_dir)"
      ],
      "execution_count": null,
      "outputs": [
        {
          "output_type": "stream",
          "text": [
            "100%|██████████| 1600/1600 [20:44<00:00,  1.29it/s]\n"
          ],
          "name": "stderr"
        }
      ]
    },
    {
      "cell_type": "code",
      "metadata": {
        "id": "lAoqK84l0Kza"
      },
      "source": [
        ""
      ],
      "execution_count": null,
      "outputs": []
    },
    {
      "cell_type": "code",
      "metadata": {
        "id": "9Y0ysqMDka8-"
      },
      "source": [
        "src_path=\"/content/drive/MyDrive/ESC-10-master/ESC_RGB_128_SPE_aug\""
      ],
      "execution_count": null,
      "outputs": []
    },
    {
      "cell_type": "code",
      "metadata": {
        "colab": {
          "base_uri": "https://localhost:8080/"
        },
        "id": "PNE7dWaZGI1h",
        "outputId": "1dae0716-e12e-452f-a97b-4e75136d9b88"
      },
      "source": [
        "data_df = pd.DataFrame(columns=['path','sound'])\n",
        "count=0\n",
        "dir_list=os.listdir(src_path)\n",
        "dir_list.sort()\n",
        "for sound_files in tqdm(dir_list):\n",
        "    #print(sound_files)\n",
        "     sound_file= sound_files.split('.')[0].split('-')\n",
        "    #print(emotion_file)\n",
        "     path= src_path + '/' + sound_files\n",
        "    #print(path)\n",
        "     sound=int(sound_file[3])\n",
        "    #print(emotion)\n",
        "     data_df.loc[count] = [path,sound]\n",
        "     count += 1\n",
        "    #print(\"------------------------------\")\n",
        "    #print(\"++++++++++++++++++++++++++++++++++++++++++++++\")"
      ],
      "execution_count": null,
      "outputs": [
        {
          "output_type": "stream",
          "text": [
            "100%|██████████| 1600/1600 [00:04<00:00, 397.81it/s]\n"
          ],
          "name": "stderr"
        }
      ]
    },
    {
      "cell_type": "code",
      "metadata": {
        "colab": {
          "base_uri": "https://localhost:8080/",
          "height": 419
        },
        "id": "tFB8BVu9HYU6",
        "outputId": "f9a3e6e7-a3f6-4b44-8207-b4cdf93b1557"
      },
      "source": [
        "data_df"
      ],
      "execution_count": null,
      "outputs": [
        {
          "output_type": "execute_result",
          "data": {
            "text/html": [
              "<div>\n",
              "<style scoped>\n",
              "    .dataframe tbody tr th:only-of-type {\n",
              "        vertical-align: middle;\n",
              "    }\n",
              "\n",
              "    .dataframe tbody tr th {\n",
              "        vertical-align: top;\n",
              "    }\n",
              "\n",
              "    .dataframe thead th {\n",
              "        text-align: right;\n",
              "    }\n",
              "</style>\n",
              "<table border=\"1\" class=\"dataframe\">\n",
              "  <thead>\n",
              "    <tr style=\"text-align: right;\">\n",
              "      <th></th>\n",
              "      <th>path</th>\n",
              "      <th>sound</th>\n",
              "    </tr>\n",
              "  </thead>\n",
              "  <tbody>\n",
              "    <tr>\n",
              "      <th>0</th>\n",
              "      <td>/content/drive/MyDrive/ESC-10-master/ESC_RGB_1...</td>\n",
              "      <td>0</td>\n",
              "    </tr>\n",
              "    <tr>\n",
              "      <th>1</th>\n",
              "      <td>/content/drive/MyDrive/ESC-10-master/ESC_RGB_1...</td>\n",
              "      <td>0</td>\n",
              "    </tr>\n",
              "    <tr>\n",
              "      <th>2</th>\n",
              "      <td>/content/drive/MyDrive/ESC-10-master/ESC_RGB_1...</td>\n",
              "      <td>0</td>\n",
              "    </tr>\n",
              "    <tr>\n",
              "      <th>3</th>\n",
              "      <td>/content/drive/MyDrive/ESC-10-master/ESC_RGB_1...</td>\n",
              "      <td>0</td>\n",
              "    </tr>\n",
              "    <tr>\n",
              "      <th>4</th>\n",
              "      <td>/content/drive/MyDrive/ESC-10-master/ESC_RGB_1...</td>\n",
              "      <td>0</td>\n",
              "    </tr>\n",
              "    <tr>\n",
              "      <th>...</th>\n",
              "      <td>...</td>\n",
              "      <td>...</td>\n",
              "    </tr>\n",
              "    <tr>\n",
              "      <th>1595</th>\n",
              "      <td>/content/drive/MyDrive/ESC-10-master/ESC_RGB_1...</td>\n",
              "      <td>38</td>\n",
              "    </tr>\n",
              "    <tr>\n",
              "      <th>1596</th>\n",
              "      <td>/content/drive/MyDrive/ESC-10-master/ESC_RGB_1...</td>\n",
              "      <td>0</td>\n",
              "    </tr>\n",
              "    <tr>\n",
              "      <th>1597</th>\n",
              "      <td>/content/drive/MyDrive/ESC-10-master/ESC_RGB_1...</td>\n",
              "      <td>0</td>\n",
              "    </tr>\n",
              "    <tr>\n",
              "      <th>1598</th>\n",
              "      <td>/content/drive/MyDrive/ESC-10-master/ESC_RGB_1...</td>\n",
              "      <td>0</td>\n",
              "    </tr>\n",
              "    <tr>\n",
              "      <th>1599</th>\n",
              "      <td>/content/drive/MyDrive/ESC-10-master/ESC_RGB_1...</td>\n",
              "      <td>0</td>\n",
              "    </tr>\n",
              "  </tbody>\n",
              "</table>\n",
              "<p>1600 rows × 2 columns</p>\n",
              "</div>"
            ],
            "text/plain": [
              "                                                   path sound\n",
              "0     /content/drive/MyDrive/ESC-10-master/ESC_RGB_1...     0\n",
              "1     /content/drive/MyDrive/ESC-10-master/ESC_RGB_1...     0\n",
              "2     /content/drive/MyDrive/ESC-10-master/ESC_RGB_1...     0\n",
              "3     /content/drive/MyDrive/ESC-10-master/ESC_RGB_1...     0\n",
              "4     /content/drive/MyDrive/ESC-10-master/ESC_RGB_1...     0\n",
              "...                                                 ...   ...\n",
              "1595  /content/drive/MyDrive/ESC-10-master/ESC_RGB_1...    38\n",
              "1596  /content/drive/MyDrive/ESC-10-master/ESC_RGB_1...     0\n",
              "1597  /content/drive/MyDrive/ESC-10-master/ESC_RGB_1...     0\n",
              "1598  /content/drive/MyDrive/ESC-10-master/ESC_RGB_1...     0\n",
              "1599  /content/drive/MyDrive/ESC-10-master/ESC_RGB_1...     0\n",
              "\n",
              "[1600 rows x 2 columns]"
            ]
          },
          "metadata": {
            "tags": []
          },
          "execution_count": 5
        }
      ]
    },
    {
      "cell_type": "code",
      "metadata": {
        "id": "25FLpPCFGlmS"
      },
      "source": [
        "src_path=\"/content/drive/MyDrive/ESC-10-master/ESC_RGB_128_CHR_aug\""
      ],
      "execution_count": null,
      "outputs": []
    },
    {
      "cell_type": "code",
      "metadata": {
        "colab": {
          "base_uri": "https://localhost:8080/"
        },
        "id": "G8TARwoIIytA",
        "outputId": "b018348c-621a-4c2f-87f0-021d659f45e5"
      },
      "source": [
        "data_df1 = pd.DataFrame(columns=['path1','sound1'])\n",
        "count=0\n",
        "dir_list=os.listdir(src_path)\n",
        "dir_list.sort()\n",
        "for sound_files in tqdm(dir_list):\n",
        "    #print(sound_files)\n",
        "     sound_file= sound_files.split('.')[0].split('-')\n",
        "    #print(emotion_file)\n",
        "     path= src_path + '/' + sound_files\n",
        "    #print(path)\n",
        "     sound=int(sound_file[3])\n",
        "    #print(emotion)\n",
        "     data_df1.loc[count] = [path,sound]\n",
        "     count += 1\n",
        "    #print(\"------------------------------\")\n",
        "    #print(\"++++++++++++++++++++++++++++++++++++++++++++++\")"
      ],
      "execution_count": null,
      "outputs": [
        {
          "output_type": "stream",
          "text": [
            "100%|██████████| 1600/1600 [00:03<00:00, 400.88it/s]\n"
          ],
          "name": "stderr"
        }
      ]
    },
    {
      "cell_type": "code",
      "metadata": {
        "colab": {
          "base_uri": "https://localhost:8080/",
          "height": 419
        },
        "id": "cVW6nipaYGDd",
        "outputId": "f6ffb4c9-8eab-4e3c-ccd5-35391592920b"
      },
      "source": [
        "data_df1"
      ],
      "execution_count": null,
      "outputs": [
        {
          "output_type": "execute_result",
          "data": {
            "text/html": [
              "<div>\n",
              "<style scoped>\n",
              "    .dataframe tbody tr th:only-of-type {\n",
              "        vertical-align: middle;\n",
              "    }\n",
              "\n",
              "    .dataframe tbody tr th {\n",
              "        vertical-align: top;\n",
              "    }\n",
              "\n",
              "    .dataframe thead th {\n",
              "        text-align: right;\n",
              "    }\n",
              "</style>\n",
              "<table border=\"1\" class=\"dataframe\">\n",
              "  <thead>\n",
              "    <tr style=\"text-align: right;\">\n",
              "      <th></th>\n",
              "      <th>path1</th>\n",
              "      <th>sound1</th>\n",
              "    </tr>\n",
              "  </thead>\n",
              "  <tbody>\n",
              "    <tr>\n",
              "      <th>0</th>\n",
              "      <td>/content/drive/MyDrive/ESC-10-master/ESC_RGB_1...</td>\n",
              "      <td>0</td>\n",
              "    </tr>\n",
              "    <tr>\n",
              "      <th>1</th>\n",
              "      <td>/content/drive/MyDrive/ESC-10-master/ESC_RGB_1...</td>\n",
              "      <td>0</td>\n",
              "    </tr>\n",
              "    <tr>\n",
              "      <th>2</th>\n",
              "      <td>/content/drive/MyDrive/ESC-10-master/ESC_RGB_1...</td>\n",
              "      <td>0</td>\n",
              "    </tr>\n",
              "    <tr>\n",
              "      <th>3</th>\n",
              "      <td>/content/drive/MyDrive/ESC-10-master/ESC_RGB_1...</td>\n",
              "      <td>0</td>\n",
              "    </tr>\n",
              "    <tr>\n",
              "      <th>4</th>\n",
              "      <td>/content/drive/MyDrive/ESC-10-master/ESC_RGB_1...</td>\n",
              "      <td>0</td>\n",
              "    </tr>\n",
              "    <tr>\n",
              "      <th>...</th>\n",
              "      <td>...</td>\n",
              "      <td>...</td>\n",
              "    </tr>\n",
              "    <tr>\n",
              "      <th>1595</th>\n",
              "      <td>/content/drive/MyDrive/ESC-10-master/ESC_RGB_1...</td>\n",
              "      <td>38</td>\n",
              "    </tr>\n",
              "    <tr>\n",
              "      <th>1596</th>\n",
              "      <td>/content/drive/MyDrive/ESC-10-master/ESC_RGB_1...</td>\n",
              "      <td>0</td>\n",
              "    </tr>\n",
              "    <tr>\n",
              "      <th>1597</th>\n",
              "      <td>/content/drive/MyDrive/ESC-10-master/ESC_RGB_1...</td>\n",
              "      <td>0</td>\n",
              "    </tr>\n",
              "    <tr>\n",
              "      <th>1598</th>\n",
              "      <td>/content/drive/MyDrive/ESC-10-master/ESC_RGB_1...</td>\n",
              "      <td>0</td>\n",
              "    </tr>\n",
              "    <tr>\n",
              "      <th>1599</th>\n",
              "      <td>/content/drive/MyDrive/ESC-10-master/ESC_RGB_1...</td>\n",
              "      <td>0</td>\n",
              "    </tr>\n",
              "  </tbody>\n",
              "</table>\n",
              "<p>1600 rows × 2 columns</p>\n",
              "</div>"
            ],
            "text/plain": [
              "                                                  path1 sound1\n",
              "0     /content/drive/MyDrive/ESC-10-master/ESC_RGB_1...      0\n",
              "1     /content/drive/MyDrive/ESC-10-master/ESC_RGB_1...      0\n",
              "2     /content/drive/MyDrive/ESC-10-master/ESC_RGB_1...      0\n",
              "3     /content/drive/MyDrive/ESC-10-master/ESC_RGB_1...      0\n",
              "4     /content/drive/MyDrive/ESC-10-master/ESC_RGB_1...      0\n",
              "...                                                 ...    ...\n",
              "1595  /content/drive/MyDrive/ESC-10-master/ESC_RGB_1...     38\n",
              "1596  /content/drive/MyDrive/ESC-10-master/ESC_RGB_1...      0\n",
              "1597  /content/drive/MyDrive/ESC-10-master/ESC_RGB_1...      0\n",
              "1598  /content/drive/MyDrive/ESC-10-master/ESC_RGB_1...      0\n",
              "1599  /content/drive/MyDrive/ESC-10-master/ESC_RGB_1...      0\n",
              "\n",
              "[1600 rows x 2 columns]"
            ]
          },
          "metadata": {
            "tags": []
          },
          "execution_count": 17
        }
      ]
    },
    {
      "cell_type": "code",
      "metadata": {
        "id": "k3JCQBJaX2Lz"
      },
      "source": [
        "data_merged = pd.concat([data_df, data_df1], axis=1)"
      ],
      "execution_count": null,
      "outputs": []
    },
    {
      "cell_type": "code",
      "metadata": {
        "id": "1mb1mERAYByc"
      },
      "source": [
        "del data_merged['sound1']"
      ],
      "execution_count": null,
      "outputs": []
    },
    {
      "cell_type": "code",
      "metadata": {
        "colab": {
          "base_uri": "https://localhost:8080/",
          "height": 419
        },
        "id": "u3Byka-LYFHo",
        "outputId": "c519826c-d7e1-44bd-c063-4984b49b429e"
      },
      "source": [
        "data_merged\n"
      ],
      "execution_count": null,
      "outputs": [
        {
          "output_type": "execute_result",
          "data": {
            "text/html": [
              "<div>\n",
              "<style scoped>\n",
              "    .dataframe tbody tr th:only-of-type {\n",
              "        vertical-align: middle;\n",
              "    }\n",
              "\n",
              "    .dataframe tbody tr th {\n",
              "        vertical-align: top;\n",
              "    }\n",
              "\n",
              "    .dataframe thead th {\n",
              "        text-align: right;\n",
              "    }\n",
              "</style>\n",
              "<table border=\"1\" class=\"dataframe\">\n",
              "  <thead>\n",
              "    <tr style=\"text-align: right;\">\n",
              "      <th></th>\n",
              "      <th>path</th>\n",
              "      <th>sound</th>\n",
              "      <th>path1</th>\n",
              "    </tr>\n",
              "  </thead>\n",
              "  <tbody>\n",
              "    <tr>\n",
              "      <th>0</th>\n",
              "      <td>/content/drive/MyDrive/ESC-10-master/ESC_RGB_1...</td>\n",
              "      <td>0</td>\n",
              "      <td>/content/drive/MyDrive/ESC-10-master/ESC_RGB_1...</td>\n",
              "    </tr>\n",
              "    <tr>\n",
              "      <th>1</th>\n",
              "      <td>/content/drive/MyDrive/ESC-10-master/ESC_RGB_1...</td>\n",
              "      <td>0</td>\n",
              "      <td>/content/drive/MyDrive/ESC-10-master/ESC_RGB_1...</td>\n",
              "    </tr>\n",
              "    <tr>\n",
              "      <th>2</th>\n",
              "      <td>/content/drive/MyDrive/ESC-10-master/ESC_RGB_1...</td>\n",
              "      <td>0</td>\n",
              "      <td>/content/drive/MyDrive/ESC-10-master/ESC_RGB_1...</td>\n",
              "    </tr>\n",
              "    <tr>\n",
              "      <th>3</th>\n",
              "      <td>/content/drive/MyDrive/ESC-10-master/ESC_RGB_1...</td>\n",
              "      <td>0</td>\n",
              "      <td>/content/drive/MyDrive/ESC-10-master/ESC_RGB_1...</td>\n",
              "    </tr>\n",
              "    <tr>\n",
              "      <th>4</th>\n",
              "      <td>/content/drive/MyDrive/ESC-10-master/ESC_RGB_1...</td>\n",
              "      <td>0</td>\n",
              "      <td>/content/drive/MyDrive/ESC-10-master/ESC_RGB_1...</td>\n",
              "    </tr>\n",
              "    <tr>\n",
              "      <th>...</th>\n",
              "      <td>...</td>\n",
              "      <td>...</td>\n",
              "      <td>...</td>\n",
              "    </tr>\n",
              "    <tr>\n",
              "      <th>1595</th>\n",
              "      <td>/content/drive/MyDrive/ESC-10-master/ESC_RGB_1...</td>\n",
              "      <td>38</td>\n",
              "      <td>/content/drive/MyDrive/ESC-10-master/ESC_RGB_1...</td>\n",
              "    </tr>\n",
              "    <tr>\n",
              "      <th>1596</th>\n",
              "      <td>/content/drive/MyDrive/ESC-10-master/ESC_RGB_1...</td>\n",
              "      <td>0</td>\n",
              "      <td>/content/drive/MyDrive/ESC-10-master/ESC_RGB_1...</td>\n",
              "    </tr>\n",
              "    <tr>\n",
              "      <th>1597</th>\n",
              "      <td>/content/drive/MyDrive/ESC-10-master/ESC_RGB_1...</td>\n",
              "      <td>0</td>\n",
              "      <td>/content/drive/MyDrive/ESC-10-master/ESC_RGB_1...</td>\n",
              "    </tr>\n",
              "    <tr>\n",
              "      <th>1598</th>\n",
              "      <td>/content/drive/MyDrive/ESC-10-master/ESC_RGB_1...</td>\n",
              "      <td>0</td>\n",
              "      <td>/content/drive/MyDrive/ESC-10-master/ESC_RGB_1...</td>\n",
              "    </tr>\n",
              "    <tr>\n",
              "      <th>1599</th>\n",
              "      <td>/content/drive/MyDrive/ESC-10-master/ESC_RGB_1...</td>\n",
              "      <td>0</td>\n",
              "      <td>/content/drive/MyDrive/ESC-10-master/ESC_RGB_1...</td>\n",
              "    </tr>\n",
              "  </tbody>\n",
              "</table>\n",
              "<p>1600 rows × 3 columns</p>\n",
              "</div>"
            ],
            "text/plain": [
              "                                                   path  ...                                              path1\n",
              "0     /content/drive/MyDrive/ESC-10-master/ESC_RGB_1...  ...  /content/drive/MyDrive/ESC-10-master/ESC_RGB_1...\n",
              "1     /content/drive/MyDrive/ESC-10-master/ESC_RGB_1...  ...  /content/drive/MyDrive/ESC-10-master/ESC_RGB_1...\n",
              "2     /content/drive/MyDrive/ESC-10-master/ESC_RGB_1...  ...  /content/drive/MyDrive/ESC-10-master/ESC_RGB_1...\n",
              "3     /content/drive/MyDrive/ESC-10-master/ESC_RGB_1...  ...  /content/drive/MyDrive/ESC-10-master/ESC_RGB_1...\n",
              "4     /content/drive/MyDrive/ESC-10-master/ESC_RGB_1...  ...  /content/drive/MyDrive/ESC-10-master/ESC_RGB_1...\n",
              "...                                                 ...  ...                                                ...\n",
              "1595  /content/drive/MyDrive/ESC-10-master/ESC_RGB_1...  ...  /content/drive/MyDrive/ESC-10-master/ESC_RGB_1...\n",
              "1596  /content/drive/MyDrive/ESC-10-master/ESC_RGB_1...  ...  /content/drive/MyDrive/ESC-10-master/ESC_RGB_1...\n",
              "1597  /content/drive/MyDrive/ESC-10-master/ESC_RGB_1...  ...  /content/drive/MyDrive/ESC-10-master/ESC_RGB_1...\n",
              "1598  /content/drive/MyDrive/ESC-10-master/ESC_RGB_1...  ...  /content/drive/MyDrive/ESC-10-master/ESC_RGB_1...\n",
              "1599  /content/drive/MyDrive/ESC-10-master/ESC_RGB_1...  ...  /content/drive/MyDrive/ESC-10-master/ESC_RGB_1...\n",
              "\n",
              "[1600 rows x 3 columns]"
            ]
          },
          "metadata": {
            "tags": []
          },
          "execution_count": 20
        }
      ]
    },
    {
      "cell_type": "code",
      "metadata": {
        "id": "fGeQxXTE_mEc"
      },
      "source": [
        "import pandas as pd\n",
        "import numpy as np\n",
        "from skimage.io import imread\n",
        "from sklearn.model_selection import train_test_split\n",
        "from matplotlib import pyplot as plt\n",
        "%matplotlib inline\n",
        "\n",
        "import keras\n",
        "from keras import optimizers\n",
        "from keras.utils import to_categorical\n",
        "from keras.layers import Input, Dense, Flatten, Dropout, Conv2D, MaxPooling2D, GlobalAveragePooling2D, Activation, concatenate\n",
        "from keras.layers.advanced_activations import LeakyReLU\n",
        "from keras.layers.normalization import BatchNormalization\n",
        "from keras.models import Model\n",
        "from keras.callbacks import ModelCheckpoint, ReduceLROnPlateau"
      ],
      "execution_count": null,
      "outputs": []
    },
    {
      "cell_type": "code",
      "metadata": {
        "colab": {
          "base_uri": "https://localhost:8080/"
        },
        "id": "fcZr6KiA3aZW",
        "outputId": "07f30261-daf1-4d4c-e0c1-818aedaefa2e"
      },
      "source": [
        "from PIL import Image\n",
        "from numpy import asarray\n",
        "# load the image\n",
        "image = Image.open('/content/drive/My Drive/ESC-50-master/ESC_RGBA_224/2-118964-A-0.png')\n",
        "# convert image to numpy array\n",
        "data = asarray(image)\n",
        "print(type(data))\n",
        "# summarize shape\n",
        "print(data.shape)\n",
        "\n",
        "# create Pillow image\n",
        "image2 = Image.fromarray(data)\n",
        "print(type(image2))\n",
        "\n",
        "# summarize image details\n",
        "print(image2.mode)\n",
        "print(image2.size)"
      ],
      "execution_count": null,
      "outputs": [
        {
          "output_type": "stream",
          "text": [
            "<class 'numpy.ndarray'>\n",
            "(224, 224, 4)\n",
            "<class 'PIL.Image.Image'>\n",
            "RGBA\n",
            "(224, 224)\n"
          ],
          "name": "stdout"
        }
      ]
    },
    {
      "cell_type": "code",
      "metadata": {
        "id": "ESEcZfH4O0hl"
      },
      "source": [
        "def read_spectograms(file_paths, img_rows, img_cols, as_gray, channels):\n",
        "  \"\"\"\n",
        "  Reads the spectogram files from disk and normalizes the pixel values\n",
        "    @params:\n",
        "      file_paths - Array of file paths to read from\n",
        "      img_rows - The image height.\n",
        "      img_cols - The image width.\n",
        "      as_grey - Read the image as Greyscale or RGB.\n",
        "      channels - Number of channels.\n",
        "    @returns:\n",
        "      The created and compiled model (Model)        \n",
        "  \"\"\"\n",
        "  images = []\n",
        "  \n",
        "  for file_path in tqdm(file_paths):\n",
        "    images.append(imread(file_path, as_gray = as_gray))\n",
        "  \n",
        "  images = np.asarray(images, dtype=np.float32)\n",
        "  \n",
        "  # normalize\n",
        "  images = images / np.max(images)\n",
        "  \n",
        "  # reshape to match Keras expectaions\n",
        "  images = images.reshape(images.shape[0], img_rows, img_cols, channels)\n",
        "\n",
        "  return images"
      ],
      "execution_count": null,
      "outputs": []
    },
    {
      "cell_type": "code",
      "metadata": {
        "id": "7RBG1sXJO8iv"
      },
      "source": [
        "as_gray = False\n",
        "in_channel = 3\n",
        "\n",
        "if as_gray:\n",
        "  in_channel = 1\n",
        "\n",
        "img_rows, img_cols = 128, 128\n",
        "num_classes = 10 # number of appliances\n",
        "\n",
        "batch_size = 32\n",
        "epochs = 100\n",
        "input_shape = (img_rows, img_cols, in_channel)\n",
        "input_img = Input(shape = input_shape)"
      ],
      "execution_count": null,
      "outputs": []
    },
    {
      "cell_type": "code",
      "metadata": {
        "colab": {
          "base_uri": "https://localhost:8080/"
        },
        "id": "D1JtkFdQPQAo",
        "outputId": "f3d18aff-1038-460b-f66a-ff36dc1df192"
      },
      "source": [
        "x_train_spectrogram = read_spectograms(data_merged.path.values, img_rows, img_cols, as_gray, in_channel)\n",
        "np.save('/content/drive/MyDrive/ESC-10-master/x_train_rgb_128_esc_spectrogram_aug.npy', x_train_spectrogram)"
      ],
      "execution_count": null,
      "outputs": [
        {
          "output_type": "stream",
          "text": [
            "100%|██████████| 1600/1600 [00:02<00:00, 663.30it/s]\n"
          ],
          "name": "stderr"
        }
      ]
    },
    {
      "cell_type": "code",
      "metadata": {
        "colab": {
          "base_uri": "https://localhost:8080/"
        },
        "id": "byJbXZayYoBj",
        "outputId": "e1017369-8a53-4152-8a12-0f04dafc9016"
      },
      "source": [
        "x_train_chroma = read_spectograms(data_merged.path1.values, img_rows, img_cols, as_gray, in_channel)\n",
        "np.save('/content/drive/MyDrive/ESC-10-master/x_train_rgb_128_esc_chroma_aug.npy', x_train_chroma)"
      ],
      "execution_count": null,
      "outputs": [
        {
          "output_type": "stream",
          "text": [
            "100%|██████████| 1600/1600 [16:36<00:00,  1.61it/s]\n"
          ],
          "name": "stderr"
        }
      ]
    },
    {
      "cell_type": "code",
      "metadata": {
        "id": "J-3opdJFV-Ct"
      },
      "source": [
        "data_df.replace(41,9,inplace=True)"
      ],
      "execution_count": null,
      "outputs": []
    },
    {
      "cell_type": "code",
      "metadata": {
        "id": "Q0ILIfZFDgSy"
      },
      "source": [
        "[0,1,2,3,4,5,6,7,8,9]"
      ],
      "execution_count": null,
      "outputs": []
    },
    {
      "cell_type": "code",
      "metadata": {
        "colab": {
          "base_uri": "https://localhost:8080/"
        },
        "id": "djjpYKIMn4d2",
        "outputId": "8924cd16-fe10-4802-cd67-019757c013cd"
      },
      "source": [
        "data_df.sound.unique()"
      ],
      "execution_count": null,
      "outputs": [
        {
          "output_type": "execute_result",
          "data": {
            "text/plain": [
              "array([0, 9, 4, 8, 2, 5, 7, 6, 1, 3])"
            ]
          },
          "metadata": {
            "tags": []
          },
          "execution_count": 15
        }
      ]
    },
    {
      "cell_type": "code",
      "metadata": {
        "colab": {
          "base_uri": "https://localhost:8080/",
          "height": 419
        },
        "id": "NNF8nMtpZxFH",
        "outputId": "1170da13-78cb-4cb0-bb19-338e841b31a3"
      },
      "source": [
        "data_df"
      ],
      "execution_count": null,
      "outputs": [
        {
          "output_type": "execute_result",
          "data": {
            "text/html": [
              "<div>\n",
              "<style scoped>\n",
              "    .dataframe tbody tr th:only-of-type {\n",
              "        vertical-align: middle;\n",
              "    }\n",
              "\n",
              "    .dataframe tbody tr th {\n",
              "        vertical-align: top;\n",
              "    }\n",
              "\n",
              "    .dataframe thead th {\n",
              "        text-align: right;\n",
              "    }\n",
              "</style>\n",
              "<table border=\"1\" class=\"dataframe\">\n",
              "  <thead>\n",
              "    <tr style=\"text-align: right;\">\n",
              "      <th></th>\n",
              "      <th>path</th>\n",
              "      <th>sound</th>\n",
              "    </tr>\n",
              "  </thead>\n",
              "  <tbody>\n",
              "    <tr>\n",
              "      <th>0</th>\n",
              "      <td>/content/drive/MyDrive/ESC-10-master/ESC_RGB_1...</td>\n",
              "      <td>0</td>\n",
              "    </tr>\n",
              "    <tr>\n",
              "      <th>1</th>\n",
              "      <td>/content/drive/MyDrive/ESC-10-master/ESC_RGB_1...</td>\n",
              "      <td>0</td>\n",
              "    </tr>\n",
              "    <tr>\n",
              "      <th>2</th>\n",
              "      <td>/content/drive/MyDrive/ESC-10-master/ESC_RGB_1...</td>\n",
              "      <td>0</td>\n",
              "    </tr>\n",
              "    <tr>\n",
              "      <th>3</th>\n",
              "      <td>/content/drive/MyDrive/ESC-10-master/ESC_RGB_1...</td>\n",
              "      <td>0</td>\n",
              "    </tr>\n",
              "    <tr>\n",
              "      <th>4</th>\n",
              "      <td>/content/drive/MyDrive/ESC-10-master/ESC_RGB_1...</td>\n",
              "      <td>0</td>\n",
              "    </tr>\n",
              "    <tr>\n",
              "      <th>...</th>\n",
              "      <td>...</td>\n",
              "      <td>...</td>\n",
              "    </tr>\n",
              "    <tr>\n",
              "      <th>1595</th>\n",
              "      <td>/content/drive/MyDrive/ESC-10-master/ESC_RGB_1...</td>\n",
              "      <td>7</td>\n",
              "    </tr>\n",
              "    <tr>\n",
              "      <th>1596</th>\n",
              "      <td>/content/drive/MyDrive/ESC-10-master/ESC_RGB_1...</td>\n",
              "      <td>0</td>\n",
              "    </tr>\n",
              "    <tr>\n",
              "      <th>1597</th>\n",
              "      <td>/content/drive/MyDrive/ESC-10-master/ESC_RGB_1...</td>\n",
              "      <td>0</td>\n",
              "    </tr>\n",
              "    <tr>\n",
              "      <th>1598</th>\n",
              "      <td>/content/drive/MyDrive/ESC-10-master/ESC_RGB_1...</td>\n",
              "      <td>0</td>\n",
              "    </tr>\n",
              "    <tr>\n",
              "      <th>1599</th>\n",
              "      <td>/content/drive/MyDrive/ESC-10-master/ESC_RGB_1...</td>\n",
              "      <td>0</td>\n",
              "    </tr>\n",
              "  </tbody>\n",
              "</table>\n",
              "<p>1600 rows × 2 columns</p>\n",
              "</div>"
            ],
            "text/plain": [
              "                                                   path  sound\n",
              "0     /content/drive/MyDrive/ESC-10-master/ESC_RGB_1...      0\n",
              "1     /content/drive/MyDrive/ESC-10-master/ESC_RGB_1...      0\n",
              "2     /content/drive/MyDrive/ESC-10-master/ESC_RGB_1...      0\n",
              "3     /content/drive/MyDrive/ESC-10-master/ESC_RGB_1...      0\n",
              "4     /content/drive/MyDrive/ESC-10-master/ESC_RGB_1...      0\n",
              "...                                                 ...    ...\n",
              "1595  /content/drive/MyDrive/ESC-10-master/ESC_RGB_1...      7\n",
              "1596  /content/drive/MyDrive/ESC-10-master/ESC_RGB_1...      0\n",
              "1597  /content/drive/MyDrive/ESC-10-master/ESC_RGB_1...      0\n",
              "1598  /content/drive/MyDrive/ESC-10-master/ESC_RGB_1...      0\n",
              "1599  /content/drive/MyDrive/ESC-10-master/ESC_RGB_1...      0\n",
              "\n",
              "[1600 rows x 2 columns]"
            ]
          },
          "metadata": {
            "tags": []
          },
          "execution_count": 16
        }
      ]
    },
    {
      "cell_type": "code",
      "metadata": {
        "id": "S_snGXt8ZPP_"
      },
      "source": [
        "labels = data_df.sound.values\n",
        "\n",
        "# convert class vectors to binary class matrices One Hot Encoding\n",
        "labels = keras.utils.to_categorical(labels, 10)"
      ],
      "execution_count": null,
      "outputs": []
    },
    {
      "cell_type": "code",
      "metadata": {
        "colab": {
          "base_uri": "https://localhost:8080/"
        },
        "id": "i56QvJREE2wW",
        "outputId": "962ed566-de93-402a-9bd8-ee84c244956c"
      },
      "source": [
        "labels.shape"
      ],
      "execution_count": null,
      "outputs": [
        {
          "output_type": "execute_result",
          "data": {
            "text/plain": [
              "(1600, 10)"
            ]
          },
          "metadata": {
            "tags": []
          },
          "execution_count": 19
        }
      ]
    },
    {
      "cell_type": "code",
      "metadata": {
        "id": "AJjXZxsvFFaB"
      },
      "source": [
        "np.save('/content/drive/MyDrive/ESC-10-master/labels_128_aug.npy', labels)"
      ],
      "execution_count": null,
      "outputs": []
    },
    {
      "cell_type": "code",
      "metadata": {
        "colab": {
          "base_uri": "https://localhost:8080/",
          "height": 358
        },
        "id": "3zVJIT70ZCIe",
        "outputId": "a1612ab7-1c60-441d-9e17-5ea5c1161f7a"
      },
      "source": [
        "x_train_spectrogram, x_test_spectrogram, y_train, y_test = train_test_split(x_train_spectrogram, labels, test_size = 0.2, random_state=666)\n",
        "print(y_train[10])\n",
        "x_train_chroma, x_test_chroma, y_train, y_test = train_test_split(x_train_chroma, labels, test_size = 0.2, random_state=666)\n",
        "print(y_train[10])"
      ],
      "execution_count": null,
      "outputs": [
        {
          "output_type": "error",
          "ename": "ValueError",
          "evalue": "ignored",
          "traceback": [
            "\u001b[0;31m---------------------------------------------------------------------------\u001b[0m",
            "\u001b[0;31mValueError\u001b[0m                                Traceback (most recent call last)",
            "\u001b[0;32m<ipython-input-51-2eb1276fab19>\u001b[0m in \u001b[0;36m<module>\u001b[0;34m()\u001b[0m\n\u001b[0;32m----> 1\u001b[0;31m \u001b[0mx_train_spectrogram\u001b[0m\u001b[0;34m,\u001b[0m \u001b[0mx_test_spectrogram\u001b[0m\u001b[0;34m,\u001b[0m \u001b[0my_train\u001b[0m\u001b[0;34m,\u001b[0m \u001b[0my_test\u001b[0m \u001b[0;34m=\u001b[0m \u001b[0mtrain_test_split\u001b[0m\u001b[0;34m(\u001b[0m\u001b[0mx_train_spectrogram\u001b[0m\u001b[0;34m,\u001b[0m \u001b[0mlabels\u001b[0m\u001b[0;34m,\u001b[0m \u001b[0mtest_size\u001b[0m \u001b[0;34m=\u001b[0m \u001b[0;36m0.2\u001b[0m\u001b[0;34m,\u001b[0m \u001b[0mrandom_state\u001b[0m\u001b[0;34m=\u001b[0m\u001b[0;36m666\u001b[0m\u001b[0;34m)\u001b[0m\u001b[0;34m\u001b[0m\u001b[0;34m\u001b[0m\u001b[0m\n\u001b[0m\u001b[1;32m      2\u001b[0m \u001b[0mprint\u001b[0m\u001b[0;34m(\u001b[0m\u001b[0my_train\u001b[0m\u001b[0;34m[\u001b[0m\u001b[0;36m10\u001b[0m\u001b[0;34m]\u001b[0m\u001b[0;34m)\u001b[0m\u001b[0;34m\u001b[0m\u001b[0;34m\u001b[0m\u001b[0m\n\u001b[1;32m      3\u001b[0m \u001b[0mx_train_chroma\u001b[0m\u001b[0;34m,\u001b[0m \u001b[0mx_test_chroma\u001b[0m\u001b[0;34m,\u001b[0m \u001b[0my_train\u001b[0m\u001b[0;34m,\u001b[0m \u001b[0my_test\u001b[0m \u001b[0;34m=\u001b[0m \u001b[0mtrain_test_split\u001b[0m\u001b[0;34m(\u001b[0m\u001b[0mx_train_chroma\u001b[0m\u001b[0;34m,\u001b[0m \u001b[0mlabels\u001b[0m\u001b[0;34m,\u001b[0m \u001b[0mtest_size\u001b[0m \u001b[0;34m=\u001b[0m \u001b[0;36m0.2\u001b[0m\u001b[0;34m,\u001b[0m \u001b[0mrandom_state\u001b[0m\u001b[0;34m=\u001b[0m\u001b[0;36m666\u001b[0m\u001b[0;34m)\u001b[0m\u001b[0;34m\u001b[0m\u001b[0;34m\u001b[0m\u001b[0m\n\u001b[1;32m      4\u001b[0m \u001b[0mprint\u001b[0m\u001b[0;34m(\u001b[0m\u001b[0my_train\u001b[0m\u001b[0;34m[\u001b[0m\u001b[0;36m10\u001b[0m\u001b[0;34m]\u001b[0m\u001b[0;34m)\u001b[0m\u001b[0;34m\u001b[0m\u001b[0;34m\u001b[0m\u001b[0m\n",
            "\u001b[0;32m/usr/local/lib/python3.6/dist-packages/sklearn/model_selection/_split.py\u001b[0m in \u001b[0;36mtrain_test_split\u001b[0;34m(*arrays, **options)\u001b[0m\n\u001b[1;32m   2116\u001b[0m         \u001b[0;32mraise\u001b[0m \u001b[0mTypeError\u001b[0m\u001b[0;34m(\u001b[0m\u001b[0;34m\"Invalid parameters passed: %s\"\u001b[0m \u001b[0;34m%\u001b[0m \u001b[0mstr\u001b[0m\u001b[0;34m(\u001b[0m\u001b[0moptions\u001b[0m\u001b[0;34m)\u001b[0m\u001b[0;34m)\u001b[0m\u001b[0;34m\u001b[0m\u001b[0;34m\u001b[0m\u001b[0m\n\u001b[1;32m   2117\u001b[0m \u001b[0;34m\u001b[0m\u001b[0m\n\u001b[0;32m-> 2118\u001b[0;31m     \u001b[0marrays\u001b[0m \u001b[0;34m=\u001b[0m \u001b[0mindexable\u001b[0m\u001b[0;34m(\u001b[0m\u001b[0;34m*\u001b[0m\u001b[0marrays\u001b[0m\u001b[0;34m)\u001b[0m\u001b[0;34m\u001b[0m\u001b[0;34m\u001b[0m\u001b[0m\n\u001b[0m\u001b[1;32m   2119\u001b[0m \u001b[0;34m\u001b[0m\u001b[0m\n\u001b[1;32m   2120\u001b[0m     \u001b[0mn_samples\u001b[0m \u001b[0;34m=\u001b[0m \u001b[0m_num_samples\u001b[0m\u001b[0;34m(\u001b[0m\u001b[0marrays\u001b[0m\u001b[0;34m[\u001b[0m\u001b[0;36m0\u001b[0m\u001b[0;34m]\u001b[0m\u001b[0;34m)\u001b[0m\u001b[0;34m\u001b[0m\u001b[0;34m\u001b[0m\u001b[0m\n",
            "\u001b[0;32m/usr/local/lib/python3.6/dist-packages/sklearn/utils/validation.py\u001b[0m in \u001b[0;36mindexable\u001b[0;34m(*iterables)\u001b[0m\n\u001b[1;32m    246\u001b[0m     \"\"\"\n\u001b[1;32m    247\u001b[0m     \u001b[0mresult\u001b[0m \u001b[0;34m=\u001b[0m \u001b[0;34m[\u001b[0m\u001b[0m_make_indexable\u001b[0m\u001b[0;34m(\u001b[0m\u001b[0mX\u001b[0m\u001b[0;34m)\u001b[0m \u001b[0;32mfor\u001b[0m \u001b[0mX\u001b[0m \u001b[0;32min\u001b[0m \u001b[0miterables\u001b[0m\u001b[0;34m]\u001b[0m\u001b[0;34m\u001b[0m\u001b[0;34m\u001b[0m\u001b[0m\n\u001b[0;32m--> 248\u001b[0;31m     \u001b[0mcheck_consistent_length\u001b[0m\u001b[0;34m(\u001b[0m\u001b[0;34m*\u001b[0m\u001b[0mresult\u001b[0m\u001b[0;34m)\u001b[0m\u001b[0;34m\u001b[0m\u001b[0;34m\u001b[0m\u001b[0m\n\u001b[0m\u001b[1;32m    249\u001b[0m     \u001b[0;32mreturn\u001b[0m \u001b[0mresult\u001b[0m\u001b[0;34m\u001b[0m\u001b[0;34m\u001b[0m\u001b[0m\n\u001b[1;32m    250\u001b[0m \u001b[0;34m\u001b[0m\u001b[0m\n",
            "\u001b[0;32m/usr/local/lib/python3.6/dist-packages/sklearn/utils/validation.py\u001b[0m in \u001b[0;36mcheck_consistent_length\u001b[0;34m(*arrays)\u001b[0m\n\u001b[1;32m    210\u001b[0m     \u001b[0;32mif\u001b[0m \u001b[0mlen\u001b[0m\u001b[0;34m(\u001b[0m\u001b[0muniques\u001b[0m\u001b[0;34m)\u001b[0m \u001b[0;34m>\u001b[0m \u001b[0;36m1\u001b[0m\u001b[0;34m:\u001b[0m\u001b[0;34m\u001b[0m\u001b[0;34m\u001b[0m\u001b[0m\n\u001b[1;32m    211\u001b[0m         raise ValueError(\"Found input variables with inconsistent numbers of\"\n\u001b[0;32m--> 212\u001b[0;31m                          \" samples: %r\" % [int(l) for l in lengths])\n\u001b[0m\u001b[1;32m    213\u001b[0m \u001b[0;34m\u001b[0m\u001b[0m\n\u001b[1;32m    214\u001b[0m \u001b[0;34m\u001b[0m\u001b[0m\n",
            "\u001b[0;31mValueError\u001b[0m: Found input variables with inconsistent numbers of samples: [1600, 400]"
          ]
        }
      ]
    },
    {
      "cell_type": "code",
      "metadata": {
        "id": "JDl6H6tmaCbJ"
      },
      "source": [
        ""
      ],
      "execution_count": null,
      "outputs": []
    },
    {
      "cell_type": "code",
      "metadata": {
        "id": "pyX8e_WMh7DB"
      },
      "source": [
        "import pandas as pd\n",
        "import numpy as np\n",
        "from skimage.io import imread\n",
        "from sklearn.model_selection import train_test_split\n",
        "from matplotlib import pyplot as plt\n",
        "%matplotlib inline\n",
        "\n",
        "import keras\n",
        "from keras import optimizers\n",
        "from keras.utils import to_categorical\n",
        "from keras.layers import Input, Dense, Flatten, Dropout, Conv2D, MaxPooling2D, GlobalAveragePooling2D, Activation, concatenate\n",
        "from keras.layers.advanced_activations import LeakyReLU\n",
        "from keras.layers.normalization import BatchNormalization\n",
        "from keras.models import Model\n",
        "from keras.callbacks import ModelCheckpoint, ReduceLROnPlateau"
      ],
      "execution_count": null,
      "outputs": []
    },
    {
      "cell_type": "code",
      "metadata": {
        "id": "YFp4WsF0iE5f"
      },
      "source": [
        ""
      ],
      "execution_count": null,
      "outputs": []
    },
    {
      "cell_type": "code",
      "metadata": {
        "id": "7mj6FeoKRsBv"
      },
      "source": [
        "labels = data_df.sound.values\n",
        "\n",
        "# convert class vectors to binary class matrices One Hot Encoding\n",
        "labels = keras.utils.to_categorical(labels, num_classes)"
      ],
      "execution_count": null,
      "outputs": []
    },
    {
      "cell_type": "code",
      "metadata": {
        "id": "JaE4RbLFbZia"
      },
      "source": [
        "x_train_spectrogram = np.load('/content/drive/MyDrive/ESC-10-master/x_train_rgb_128_spectrogram_augmentedfull.npy',allow_pickle=True) \n",
        "x_train_chroma = np.load('/content/drive/MyDrive/ESC-10-master/x_train_rgb_128_chroma_augmentedfull.npy',allow_pickle=True) \n",
        "labels= np.load('/content/drive/MyDrive/ESC-10-master/labels_augmentedfull.npy',allow_pickle=True) "
      ],
      "execution_count": null,
      "outputs": []
    },
    {
      "cell_type": "code",
      "metadata": {
        "colab": {
          "base_uri": "https://localhost:8080/"
        },
        "id": "MoNLg_d4YWEP",
        "outputId": "67a1d6b7-ea35-43d4-99b7-bce30e5749a7"
      },
      "source": [
        "x_train_spectrogram.shape"
      ],
      "execution_count": null,
      "outputs": [
        {
          "output_type": "execute_result",
          "data": {
            "text/plain": [
              "(2000, 128, 128, 3)"
            ]
          },
          "metadata": {
            "tags": []
          },
          "execution_count": 6
        }
      ]
    },
    {
      "cell_type": "code",
      "metadata": {
        "colab": {
          "base_uri": "https://localhost:8080/"
        },
        "id": "NX9ONiAwbbCc",
        "outputId": "153664d1-98f8-4b53-c054-ba6fffb64cb6"
      },
      "source": [
        "labels.shape"
      ],
      "execution_count": null,
      "outputs": [
        {
          "output_type": "execute_result",
          "data": {
            "text/plain": [
              "(2000, 10)"
            ]
          },
          "metadata": {
            "tags": []
          },
          "execution_count": 7
        }
      ]
    },
    {
      "cell_type": "code",
      "metadata": {
        "id": "LcnJbsyZZXIk"
      },
      "source": [
        "labels_old= np.load('/content/drive/MyDrive/ESC-10-master/labels_128.npy',allow_pickle=True) "
      ],
      "execution_count": null,
      "outputs": []
    },
    {
      "cell_type": "code",
      "metadata": {
        "colab": {
          "base_uri": "https://localhost:8080/"
        },
        "id": "xpH6Um0Ca3ba",
        "outputId": "493c3e42-a8b6-4895-d823-6ce1ba5260c6"
      },
      "source": [
        "labels_old.shape"
      ],
      "execution_count": null,
      "outputs": [
        {
          "output_type": "execute_result",
          "data": {
            "text/plain": [
              "(400, 10)"
            ]
          },
          "metadata": {
            "tags": []
          },
          "execution_count": 29
        }
      ]
    },
    {
      "cell_type": "code",
      "metadata": {
        "id": "taxp-Ijpi3Wx"
      },
      "source": [
        "labels_new=np.append(labels_old,labels,axis=0)"
      ],
      "execution_count": null,
      "outputs": []
    },
    {
      "cell_type": "code",
      "metadata": {
        "colab": {
          "base_uri": "https://localhost:8080/"
        },
        "id": "QEwccyIMs_QP",
        "outputId": "162be096-b971-4479-b70d-f11e4defa087"
      },
      "source": [
        "labels_new.shape"
      ],
      "execution_count": null,
      "outputs": [
        {
          "output_type": "execute_result",
          "data": {
            "text/plain": [
              "(2000, 10)"
            ]
          },
          "metadata": {
            "tags": []
          },
          "execution_count": 32
        }
      ]
    },
    {
      "cell_type": "code",
      "metadata": {
        "id": "anVCg1HlxRLH"
      },
      "source": [
        "np.save('/content/drive/MyDrive/ESC-10-master/labels_augmentedfull.npy', labels_new)"
      ],
      "execution_count": null,
      "outputs": []
    },
    {
      "cell_type": "code",
      "metadata": {
        "id": "Gg7WSG1_OlJ-"
      },
      "source": [
        "x_train_spectrogram = np.load('/content/drive/MyDrive/ESC-10-master/x_train_rgb_128_esc_spectrogram.npy')\n",
        "x_train_spectrogram_aug = np.load('/content/drive/MyDrive/ESC-10-master/x_train_rgb_128_esc_spectrogram_aug.npy')\n",
        "x_train_chroma = np.load('/content/drive/MyDrive/ESC-10-master/x_train_rgb_128_esc_chroma.npy')\n",
        "x_train_chroma_aug = np.load('/content/drive/MyDrive/ESC-10-master/x_train_rgb_128_esc_chroma_aug.npy')"
      ],
      "execution_count": null,
      "outputs": []
    },
    {
      "cell_type": "code",
      "metadata": {
        "id": "TUjeKjlNXyiP"
      },
      "source": [
        "x_train_chroma_new=np.append(x_train_chroma,x_train_chroma_aug,axis=0)\n",
        "np.save('/content/drive/MyDrive/ESC-10-master/x_train_rgb_128_chroma_augmentedfull.npy', x_train_chroma_new)"
      ],
      "execution_count": null,
      "outputs": []
    },
    {
      "cell_type": "code",
      "metadata": {
        "id": "YAYQrsseluFR"
      },
      "source": [
        "x_train_spectrogram_new=np.append(x_train_spectrogram,x_train_spectrogram_aug,axis=0)\n",
        "np.save('/content/drive/MyDrive/ESC-10-master/x_train_rgb_128_spectrogram_augmentedfull.npy', x_train_spectrogram_new)"
      ],
      "execution_count": null,
      "outputs": []
    },
    {
      "cell_type": "code",
      "metadata": {
        "id": "3SHFU39jZZdA"
      },
      "source": [
        "featuresdf=pd.read_pickle('/content/drive/MyDrive/ESC-10-master/esc_mfcc_aug.pkl')\n",
        "featuresdf_old=pd.read_pickle('/content/drive/MyDrive/ESC-10-master/esc_mfcc.pkl')"
      ],
      "execution_count": null,
      "outputs": []
    },
    {
      "cell_type": "code",
      "metadata": {
        "colab": {
          "base_uri": "https://localhost:8080/"
        },
        "id": "FS9_CmDBpj_r",
        "outputId": "ba932ad5-e7b5-468b-a9d7-3f8cab14e180"
      },
      "source": [
        "x_train_spectrogram_new.shape"
      ],
      "execution_count": null,
      "outputs": [
        {
          "output_type": "execute_result",
          "data": {
            "text/plain": [
              "(2000, 128, 128, 3)"
            ]
          },
          "metadata": {
            "tags": []
          },
          "execution_count": 38
        }
      ]
    },
    {
      "cell_type": "code",
      "metadata": {
        "id": "7rM6_LyaZZdB"
      },
      "source": [
        "features_df=featuresdf_old.append(featuresdf)"
      ],
      "execution_count": null,
      "outputs": []
    },
    {
      "cell_type": "code",
      "metadata": {
        "id": "PoEGv_sbcEz_"
      },
      "source": [
        "x_train_spectrogram, x_test_spectrogram, y_train, y_test = train_test_split(x_train_spectrogram, labels, test_size = 0.2, random_state=666)\n",
        "x_train_chroma, x_test_chroma, y_train, y_test = train_test_split(x_train_chroma, labels, test_size = 0.2, random_state=666)"
      ],
      "execution_count": null,
      "outputs": []
    },
    {
      "cell_type": "code",
      "metadata": {
        "id": "aGXXx4zlb2qF"
      },
      "source": [
        "features_df.to_pickle('/content/drive/MyDrive/ESC-10-master/mfcc_augemtedfull_128.pkl')"
      ],
      "execution_count": null,
      "outputs": []
    },
    {
      "cell_type": "code",
      "metadata": {
        "id": "iGu7sOacEofv"
      },
      "source": [
        ""
      ],
      "execution_count": null,
      "outputs": []
    },
    {
      "cell_type": "code",
      "metadata": {
        "id": "CIEdgErDDSWa"
      },
      "source": [
        "#x_train_spectrogram = np.load('/content/drive/My Drive/UrbanSound8K/x_train_rgb_224_spectrogram.npy') \n",
        "x_train_spectrogram, x_test_spectrogram, y_spec_train, y_spec_test = train_test_split(x_train_spectrogram, labels, test_size = 0.2, random_state=666)\n",
        "x_train_chroma, x_test_chroma, y_chr_train, y_chr_test = train_test_split(x_train_chroma, labels, test_size = 0.2, random_state=666)"
      ],
      "execution_count": null,
      "outputs": []
    },
    {
      "cell_type": "code",
      "metadata": {
        "id": "fKDJXLq4quSp"
      },
      "source": [
        "#x_train_spectrogram = np.load('/content/drive/My Drive/UrbanSound8K/x_train_rgb_224_spectrogram.npy') \n",
        "x_val_spectrogram, x_test_spectrogram, y_val, y_test = train_test_split(x_test_spectrogram, y_spec_test, test_size = 0.5, random_state=666)\n",
        "x_val_chroma, x_test_chroma, y_val, y_test = train_test_split(x_test_chroma, y_chr_test, test_size = 0.5, random_state=666)"
      ],
      "execution_count": null,
      "outputs": []
    },
    {
      "cell_type": "code",
      "metadata": {
        "id": "6LbaHbFU9j_9"
      },
      "source": [
        "def create_convolution_layers(input_img):\n",
        "  model = Conv2D(32, (3, 3), padding='same', input_shape=input_shape)(input_img)\n",
        "  model = LeakyReLU(alpha=0.1)(model)\n",
        "  model = MaxPooling2D((2, 2),padding='same')(model)\n",
        "  model = Dropout(0.25)(model)\n",
        "  \n",
        "  model = Conv2D(64, (3, 3), padding='same')(model)\n",
        "  model = LeakyReLU(alpha=0.1)(model)\n",
        "  model = MaxPooling2D(pool_size=(2, 2),padding='same')(model)\n",
        "  model = Dropout(0.25)(model)\n",
        "    \n",
        "  model = Conv2D(64, (3, 3), padding='same')(model)\n",
        "  model = LeakyReLU(alpha=0.1)(model)\n",
        "  model = MaxPooling2D(pool_size=(2, 2),padding='same')(model)\n",
        "  model = Dropout(0.25)(model)\n",
        "\n",
        "  model = Conv2D(128, (3, 3), padding='same')(model)\n",
        "  model = LeakyReLU(alpha=0.1)(model)\n",
        "  model = MaxPooling2D(pool_size=(2, 2),padding='same')(model)\n",
        "  model = Dropout(0.25)(model)\n",
        "\n",
        "  \n",
        "  model = GlobalAveragePooling2D()(model)\n",
        "\n",
        "  #model = Flatten()(model)\n",
        "    \n",
        "  return model"
      ],
      "execution_count": null,
      "outputs": []
    },
    {
      "cell_type": "code",
      "metadata": {
        "id": "6gv2Cv24JNiy"
      },
      "source": [
        ""
      ],
      "execution_count": null,
      "outputs": []
    },
    {
      "cell_type": "code",
      "metadata": {
        "id": "1ihl-OWSwqut"
      },
      "source": [
        "def create_convolution_layers1(input_img):\n",
        "    base_model2 = keras.applications.InceptionV3(weights='imagenet',include_top=False)\n",
        "    x = base_model2(input_img, training=True)\n",
        "    # Convert features of shape `base_model.output_shape[1:]` to vectors\n",
        "    x = keras.layers.GlobalAveragePooling2D()(x)\n",
        "    return x\n"
      ],
      "execution_count": null,
      "outputs": []
    },
    {
      "cell_type": "code",
      "metadata": {
        "id": "_Fny4w9Hwr8n"
      },
      "source": [
        "def create_convolution_layers2(input_img):\n",
        "    base_model2 = keras.applications.VGG19(weights='imagenet',include_top=False)\n",
        "    x = base_model2(input_img, training=True)\n",
        "    # Convert features of shape `base_model.output_shape[1:]` to vectors\n",
        "    x = keras.layers.GlobalAveragePooling2D()(x)\n",
        "    return x"
      ],
      "execution_count": null,
      "outputs": []
    },
    {
      "cell_type": "code",
      "metadata": {
        "id": "SN5sJyRY40Nu"
      },
      "source": [
        "def create_convolution_layers3(input_img):\n",
        "    base_model2 = keras.applications.Xception(weights='imagenet',include_top=False)\n",
        "    x = Conv2D(3,(3,3),padding='same')(input_img)\n",
        "    x = base_model2(x, training=True)\n",
        "    # Convert features of shape `base_model.output_shape[1:]` to vectors\n",
        "    x = keras.layers.GlobalAveragePooling2D()(x)\n",
        "    return x"
      ],
      "execution_count": null,
      "outputs": []
    },
    {
      "cell_type": "code",
      "metadata": {
        "id": "fhp7zl1jM0JO"
      },
      "source": [
        "def create_convolution_layers(input_img):\n",
        "  model = Conv2D(32, (3, 3), padding='same',activation='relu' ,input_shape=input_shape)(input_img)\n",
        "  model = BatchNormalization()(model) \n",
        "  model = Conv2D(32,(3,3),activation='relu')(model)\n",
        "  model = BatchNormalization()(model) \n",
        "  #model = LeakyReLU(alpha=0.1)(model)\n",
        "  model = MaxPooling2D((2, 2),padding='same')(model)\n",
        "  model = Dropout(0.25)(model)\n",
        "  \n",
        "  model = Conv2D(64, (3, 3), padding='same',activation='relu')(model)\n",
        "  model = BatchNormalization()(model) \n",
        "  model = Conv2D(64, (3, 3),activation='relu')(model)\n",
        "  model = BatchNormalization()(model) \n",
        "  #model = LeakyReLU(alpha=0.1)(model)\n",
        "  model = MaxPooling2D(pool_size=(2, 2),padding='same')(model)\n",
        "  model = Dropout(0.25)(model)\n",
        "    \n",
        "  model = Conv2D(64, (3, 3), padding='same',activation='relu')(model)\n",
        "  model = BatchNormalization()(model) \n",
        "  model = Conv2D(64, (3, 3), activation='relu')(model)\n",
        "  model = BatchNormalization()(model) \n",
        "  #model = LeakyReLU(alpha=0.1)(model)\n",
        "  model = MaxPooling2D(pool_size=(2, 2),padding='same')(model)\n",
        "  model = Dropout(0.25)(model)\n",
        "\n",
        "  model = Conv2D(128, (3, 3), padding='same',activation='relu')(model)\n",
        "  model = BatchNormalization()(model) \n",
        "  model = Conv2D(128, (3, 3), activation='relu')(model)\n",
        "  model = BatchNormalization()(model) \n",
        "  #model = LeakyReLU(alpha=0.1)(model)\n",
        "  model = MaxPooling2D(pool_size=(2, 2),padding='same')(model)\n",
        "  model = Dropout(0.25)(model)\n",
        "\n",
        "  model = GlobalAveragePooling2D()(model)\n",
        "\n",
        "  #model = Flatten()(model)\n",
        "    \n",
        "  return model"
      ],
      "execution_count": null,
      "outputs": []
    },
    {
      "cell_type": "code",
      "metadata": {
        "id": "ns04w9v7OQwO"
      },
      "source": [
        "def create_convolution_layer(input_img):\n",
        "  model = Conv2D(32, (3, 3), padding='same',kernel_regularizer=regularizers.l2(1e-4) ,input_shape=input_shape)(input_img)\n",
        "  model = Activation('relu')(model)\n",
        "  model = BatchNormalization()(model) \n",
        "  model = Conv2D(32,(3,3),kernel_regularizer=regularizers.l2(1e-4))(model)\n",
        "  model = Activation('relu')(model)\n",
        "  model = BatchNormalization()(model) \n",
        "  #model = LeakyReLU(alpha=0.1)(model)\n",
        "  model = MaxPooling2D((2, 2))(model)\n",
        "  model = Dropout(0.25)(model)\n",
        "  \n",
        "  model = Conv2D(64, (3, 3), padding='same',kernel_regularizer=regularizers.l2(1e-4))(model)\n",
        "  model = Activation('relu')(model)\n",
        "  model = BatchNormalization()(model) \n",
        "  model = Conv2D(64,(3,3),kernel_regularizer=regularizers.l2(1e-4))(model)\n",
        "  model = Activation('relu')(model)\n",
        "  model = BatchNormalization()(model) \n",
        "  #model = LeakyReLU(alpha=0.1)(model)\n",
        "  model = MaxPooling2D((2, 2))(model)\n",
        "  model = Dropout(0.25)(model)\n",
        "    \n",
        "  model = Conv2D(64, (3, 3), padding='same',kernel_regularizer=regularizers.l2(1e-4))(model)\n",
        "  model = Activation('relu')(model)\n",
        "  model = BatchNormalization()(model) \n",
        "  model = Conv2D(64,(3,3),kernel_regularizer=regularizers.l2(1e-4))(model)\n",
        "  model = Activation('relu')(model)\n",
        "  model = BatchNormalization()(model) \n",
        "  #model = LeakyReLU(alpha=0.1)(model)\n",
        "  model = MaxPooling2D((2, 2))(model)\n",
        "  model = Dropout(0.25)(model)\n",
        "\n",
        "  model = Conv2D(128, (3, 3), padding='same',kernel_regularizer=regularizers.l2(1e-4))(model)\n",
        "  model = Activation('relu')(model)\n",
        "  model = BatchNormalization()(model) \n",
        "  model = Conv2D(128,(3,3),kernel_regularizer=regularizers.l2(1e-4))(model)\n",
        "  model = Activation('relu')(model)\n",
        "  model = BatchNormalization()(model) \n",
        "  #model = LeakyReLU(alpha=0.1)(model)\n",
        "  model = MaxPooling2D((2, 2))(model)\n",
        "  model = Dropout(0.4)(model)\n",
        "\n",
        "  model = GlobalAveragePooling2D()(model)\n",
        "\n",
        "  #model = Flatten()(model)\n",
        "    \n",
        "  return model"
      ],
      "execution_count": null,
      "outputs": []
    },
    {
      "cell_type": "code",
      "metadata": {
        "id": "NqW8rUjvkHYp"
      },
      "source": [
        "def create_convolution_layers3(input_img):\n",
        "    base_model2 = keras.applications.Xception(weights='imagenet',include_top=False)\n",
        "    x = Conv2D(3,(3,3),padding='same')(input_img)\n",
        "    x = base_model2(x, training=True)\n",
        "    # Convert features of shape `base_model.output_shape[1:]` to vectors\n",
        "    x = keras.layers.GlobalAveragePooling2D()(x)\n",
        "    return x"
      ],
      "execution_count": null,
      "outputs": []
    },
    {
      "cell_type": "code",
      "metadata": {
        "id": "cIslLRlKXNCj"
      },
      "source": [
        "def create_convolution_layers1(input_img):\n",
        "    x = Conv2D(3,(3,3),padding='same')(input_img)\n",
        "    conv1  = Conv2D(filters=64, kernel_size=(3,3), padding=\"same\", activation=\"relu\")(x)\n",
        "    conv2  = Conv2D(filters=64, kernel_size=(3,3), padding=\"same\", activation=\"relu\")(conv1)\n",
        "    pool1  = MaxPooling2D((2, 2))(conv2)\n",
        "    conv3  = Conv2D(filters=128, kernel_size=(3,3), padding=\"same\", activation=\"relu\")(pool1)\n",
        "    conv4  = Conv2D(filters=128, kernel_size=(3,3), padding=\"same\", activation=\"relu\")(conv3)\n",
        "    pool2  = MaxPooling2D((2, 2))(conv4)\n",
        "    conv5  = Conv2D(filters=256, kernel_size=(3,3), padding=\"same\", activation=\"relu\")(pool2)\n",
        "    conv6  = Conv2D(filters=256, kernel_size=(3,3), padding=\"same\", activation=\"relu\")(conv5)\n",
        "    conv7  = Conv2D(filters=256, kernel_size=(3,3), padding=\"same\", activation=\"relu\")(conv6)\n",
        "    pool3  = MaxPooling2D((2, 2))(conv7)\n",
        "    conv8  = Conv2D(filters=512, kernel_size=(3,3), padding=\"same\", activation=\"relu\")(pool3)\n",
        "    conv9  = Conv2D(filters=512, kernel_size=(3,3), padding=\"same\", activation=\"relu\")(conv8)\n",
        "    conv10 = Conv2D(filters=512, kernel_size=(3,3), padding=\"same\", activation=\"relu\")(conv9)\n",
        "    pool4  = MaxPooling2D((2, 2))(conv10)\n",
        "    conv11 = Conv2D(filters=512, kernel_size=(3,3), padding=\"same\", activation=\"relu\")(pool4)\n",
        "    conv12 = Conv2D(filters=512, kernel_size=(3,3), padding=\"same\", activation=\"relu\")(conv11)\n",
        "    conv13 = Conv2D(filters=512, kernel_size=(3,3), padding=\"same\", activation=\"relu\")(conv12)\n",
        "    pool5  = MaxPooling2D((2, 2))(conv13)\n",
        "\n",
        "    model = GlobalAveragePooling2D()(pool5)\n",
        "    return model"
      ],
      "execution_count": null,
      "outputs": []
    },
    {
      "cell_type": "code",
      "metadata": {
        "id": "We3if_SZh7DI"
      },
      "source": [
        "as_gray = False\n",
        "in_channel = 3\n",
        "\n",
        "if as_gray:\n",
        "  in_channel = 1\n",
        "\n",
        "img_rows, img_cols = 128,128\n",
        "num_classes = 10 # number of appliances\n",
        "\n",
        "batch_size = 32\n",
        "epochs = 100\n",
        "input_shape = (img_rows, img_cols, in_channel)\n",
        "input_img = Input(shape = input_shape)"
      ],
      "execution_count": null,
      "outputs": []
    },
    {
      "cell_type": "code",
      "metadata": {
        "id": "EH3bw8OuiH_h"
      },
      "source": [
        "spectrogram_input = Input(shape=input_shape)\n",
        "spectrogram_model = create_convolution_layers(spectrogram_input)\n",
        "\n",
        "chroma_input = Input(shape=input_shape)\n",
        "chroma_model = create_convolution_layers(chroma_input)"
      ],
      "execution_count": null,
      "outputs": []
    },
    {
      "cell_type": "code",
      "metadata": {
        "id": "DB-heL_3ZCVN"
      },
      "source": [
        "featuresdf=pd.read_pickle('/content/drive/MyDrive/ESC-10-master/mfcc_augemtedfull_128.pkl')"
      ],
      "execution_count": null,
      "outputs": []
    },
    {
      "cell_type": "code",
      "metadata": {
        "id": "6FqFdsrQiMxb"
      },
      "source": [
        "X = np.array(featuresdf.feature.tolist())"
      ],
      "execution_count": null,
      "outputs": []
    },
    {
      "cell_type": "code",
      "metadata": {
        "colab": {
          "base_uri": "https://localhost:8080/"
        },
        "id": "pja3jKCbQg6T",
        "outputId": "655af398-9f8b-48d8-9e84-2aa9b186a76a"
      },
      "source": [
        "X.shape"
      ],
      "execution_count": null,
      "outputs": [
        {
          "output_type": "execute_result",
          "data": {
            "text/plain": [
              "(2000, 40, 217)"
            ]
          },
          "metadata": {
            "tags": []
          },
          "execution_count": 14
        }
      ]
    },
    {
      "cell_type": "code",
      "metadata": {
        "id": "yA2CkR5YiOZe"
      },
      "source": [
        "x_train_mfcc, x_test_mfcc, y_train, y_test = train_test_split(X, labels, test_size=0.2, random_state = 666)\n",
        "\n",
        "num_rows = 40\n",
        "num_columns = 217\n",
        "num_channels = 1\n",
        "\n",
        "x_train_mfcc = x_train_mfcc.reshape(x_train_mfcc.shape[0], num_rows, num_columns, num_channels)\n",
        "x_test_mfcc = x_test_mfcc.reshape(x_test_mfcc.shape[0], num_rows, num_columns, num_channels)"
      ],
      "execution_count": null,
      "outputs": []
    },
    {
      "cell_type": "code",
      "metadata": {
        "id": "J0W4VloJEeKc"
      },
      "source": [
        "x_train_mfcc, x_test_mfcc, y_mfcc_train, y_mfcc_test = train_test_split(X, labels, test_size=0.2, random_state = 666)\n",
        "x_val_mfcc, x_test_mfcc, y_val, y_test = train_test_split(x_test_mfcc, y_mfcc_test, test_size = 0.5, random_state=666)\n",
        "\n",
        "num_rows = 40\n",
        "num_columns = 217\n",
        "num_channels = 1\n",
        "\n",
        "x_train_mfcc = x_train_mfcc.reshape(x_train_mfcc.shape[0], num_rows, num_columns, num_channels)\n",
        "x_test_mfcc = x_test_mfcc.reshape(x_test_mfcc.shape[0], num_rows, num_columns, num_channels)\n",
        "x_val_mfcc = x_val_mfcc.reshape(x_val_mfcc.shape[0], num_rows, num_columns, num_channels)"
      ],
      "execution_count": null,
      "outputs": []
    },
    {
      "cell_type": "code",
      "metadata": {
        "id": "F2jtT3DwiFIQ"
      },
      "source": [
        "num_rows = 40\n",
        "num_columns = 217\n",
        "num_channels = 1\n",
        "input_shape=(num_rows, num_columns, num_channels)\n",
        "mfcc_input = Input(shape=input_shape)\n",
        "mfcc_model = create_convolution_layers(mfcc_input)"
      ],
      "execution_count": null,
      "outputs": []
    },
    {
      "cell_type": "code",
      "metadata": {
        "colab": {
          "base_uri": "https://localhost:8080/"
        },
        "id": "U1LgEWiQ9sCJ",
        "outputId": "894263f2-555f-462f-f58e-503778c215e2"
      },
      "source": [
        "\n",
        "\n",
        "#chroma_input = Input(shape=input_shape)\n",
        "#chroma_model = create_convolution_layers(chroma_input)\n",
        "\n",
        "conv = concatenate([spectrogram_model,chroma_model,mfcc_model])\n",
        "\n",
        "#conv = Flatten()(conv)\n",
        "\n",
        "dense = Dense(512)(conv)\n",
        "model = LeakyReLU(alpha=0.1)(dense)\n",
        "dense = Dropout(0.5)(dense)\n",
        "\n",
        "output = Dense(num_classes, activation='softmax')(dense)\n",
        "\n",
        "model = Model(inputs=[spectrogram_input,chroma_input,mfcc_input], outputs=[output])\n",
        "\n",
        "opt = optimizers.Adam()\n",
        "\n",
        "model.compile(loss='categorical_crossentropy',\n",
        "              optimizer=opt,\n",
        "              metrics=['accuracy'])\n",
        "\n",
        "print(model.summary())"
      ],
      "execution_count": null,
      "outputs": [
        {
          "output_type": "stream",
          "text": [
            "Model: \"functional_1\"\n",
            "__________________________________________________________________________________________________\n",
            "Layer (type)                    Output Shape         Param #     Connected to                     \n",
            "==================================================================================================\n",
            "input_3 (InputLayer)            [(None, 128, 128, 3) 0                                            \n",
            "__________________________________________________________________________________________________\n",
            "input_4 (InputLayer)            [(None, 128, 128, 3) 0                                            \n",
            "__________________________________________________________________________________________________\n",
            "input_5 (InputLayer)            [(None, 40, 217, 1)] 0                                            \n",
            "__________________________________________________________________________________________________\n",
            "conv2d (Conv2D)                 (None, 128, 128, 32) 896         input_3[0][0]                    \n",
            "__________________________________________________________________________________________________\n",
            "conv2d_4 (Conv2D)               (None, 128, 128, 32) 896         input_4[0][0]                    \n",
            "__________________________________________________________________________________________________\n",
            "conv2d_8 (Conv2D)               (None, 40, 217, 32)  320         input_5[0][0]                    \n",
            "__________________________________________________________________________________________________\n",
            "leaky_re_lu (LeakyReLU)         (None, 128, 128, 32) 0           conv2d[0][0]                     \n",
            "__________________________________________________________________________________________________\n",
            "leaky_re_lu_4 (LeakyReLU)       (None, 128, 128, 32) 0           conv2d_4[0][0]                   \n",
            "__________________________________________________________________________________________________\n",
            "leaky_re_lu_8 (LeakyReLU)       (None, 40, 217, 32)  0           conv2d_8[0][0]                   \n",
            "__________________________________________________________________________________________________\n",
            "max_pooling2d (MaxPooling2D)    (None, 64, 64, 32)   0           leaky_re_lu[0][0]                \n",
            "__________________________________________________________________________________________________\n",
            "max_pooling2d_4 (MaxPooling2D)  (None, 64, 64, 32)   0           leaky_re_lu_4[0][0]              \n",
            "__________________________________________________________________________________________________\n",
            "max_pooling2d_8 (MaxPooling2D)  (None, 20, 109, 32)  0           leaky_re_lu_8[0][0]              \n",
            "__________________________________________________________________________________________________\n",
            "dropout (Dropout)               (None, 64, 64, 32)   0           max_pooling2d[0][0]              \n",
            "__________________________________________________________________________________________________\n",
            "dropout_4 (Dropout)             (None, 64, 64, 32)   0           max_pooling2d_4[0][0]            \n",
            "__________________________________________________________________________________________________\n",
            "dropout_8 (Dropout)             (None, 20, 109, 32)  0           max_pooling2d_8[0][0]            \n",
            "__________________________________________________________________________________________________\n",
            "conv2d_1 (Conv2D)               (None, 64, 64, 64)   18496       dropout[0][0]                    \n",
            "__________________________________________________________________________________________________\n",
            "conv2d_5 (Conv2D)               (None, 64, 64, 64)   18496       dropout_4[0][0]                  \n",
            "__________________________________________________________________________________________________\n",
            "conv2d_9 (Conv2D)               (None, 20, 109, 64)  18496       dropout_8[0][0]                  \n",
            "__________________________________________________________________________________________________\n",
            "leaky_re_lu_1 (LeakyReLU)       (None, 64, 64, 64)   0           conv2d_1[0][0]                   \n",
            "__________________________________________________________________________________________________\n",
            "leaky_re_lu_5 (LeakyReLU)       (None, 64, 64, 64)   0           conv2d_5[0][0]                   \n",
            "__________________________________________________________________________________________________\n",
            "leaky_re_lu_9 (LeakyReLU)       (None, 20, 109, 64)  0           conv2d_9[0][0]                   \n",
            "__________________________________________________________________________________________________\n",
            "max_pooling2d_1 (MaxPooling2D)  (None, 32, 32, 64)   0           leaky_re_lu_1[0][0]              \n",
            "__________________________________________________________________________________________________\n",
            "max_pooling2d_5 (MaxPooling2D)  (None, 32, 32, 64)   0           leaky_re_lu_5[0][0]              \n",
            "__________________________________________________________________________________________________\n",
            "max_pooling2d_9 (MaxPooling2D)  (None, 10, 55, 64)   0           leaky_re_lu_9[0][0]              \n",
            "__________________________________________________________________________________________________\n",
            "dropout_1 (Dropout)             (None, 32, 32, 64)   0           max_pooling2d_1[0][0]            \n",
            "__________________________________________________________________________________________________\n",
            "dropout_5 (Dropout)             (None, 32, 32, 64)   0           max_pooling2d_5[0][0]            \n",
            "__________________________________________________________________________________________________\n",
            "dropout_9 (Dropout)             (None, 10, 55, 64)   0           max_pooling2d_9[0][0]            \n",
            "__________________________________________________________________________________________________\n",
            "conv2d_2 (Conv2D)               (None, 32, 32, 64)   36928       dropout_1[0][0]                  \n",
            "__________________________________________________________________________________________________\n",
            "conv2d_6 (Conv2D)               (None, 32, 32, 64)   36928       dropout_5[0][0]                  \n",
            "__________________________________________________________________________________________________\n",
            "conv2d_10 (Conv2D)              (None, 10, 55, 64)   36928       dropout_9[0][0]                  \n",
            "__________________________________________________________________________________________________\n",
            "leaky_re_lu_2 (LeakyReLU)       (None, 32, 32, 64)   0           conv2d_2[0][0]                   \n",
            "__________________________________________________________________________________________________\n",
            "leaky_re_lu_6 (LeakyReLU)       (None, 32, 32, 64)   0           conv2d_6[0][0]                   \n",
            "__________________________________________________________________________________________________\n",
            "leaky_re_lu_10 (LeakyReLU)      (None, 10, 55, 64)   0           conv2d_10[0][0]                  \n",
            "__________________________________________________________________________________________________\n",
            "max_pooling2d_2 (MaxPooling2D)  (None, 16, 16, 64)   0           leaky_re_lu_2[0][0]              \n",
            "__________________________________________________________________________________________________\n",
            "max_pooling2d_6 (MaxPooling2D)  (None, 16, 16, 64)   0           leaky_re_lu_6[0][0]              \n",
            "__________________________________________________________________________________________________\n",
            "max_pooling2d_10 (MaxPooling2D) (None, 5, 28, 64)    0           leaky_re_lu_10[0][0]             \n",
            "__________________________________________________________________________________________________\n",
            "dropout_2 (Dropout)             (None, 16, 16, 64)   0           max_pooling2d_2[0][0]            \n",
            "__________________________________________________________________________________________________\n",
            "dropout_6 (Dropout)             (None, 16, 16, 64)   0           max_pooling2d_6[0][0]            \n",
            "__________________________________________________________________________________________________\n",
            "dropout_10 (Dropout)            (None, 5, 28, 64)    0           max_pooling2d_10[0][0]           \n",
            "__________________________________________________________________________________________________\n",
            "conv2d_3 (Conv2D)               (None, 16, 16, 128)  73856       dropout_2[0][0]                  \n",
            "__________________________________________________________________________________________________\n",
            "conv2d_7 (Conv2D)               (None, 16, 16, 128)  73856       dropout_6[0][0]                  \n",
            "__________________________________________________________________________________________________\n",
            "conv2d_11 (Conv2D)              (None, 5, 28, 128)   73856       dropout_10[0][0]                 \n",
            "__________________________________________________________________________________________________\n",
            "leaky_re_lu_3 (LeakyReLU)       (None, 16, 16, 128)  0           conv2d_3[0][0]                   \n",
            "__________________________________________________________________________________________________\n",
            "leaky_re_lu_7 (LeakyReLU)       (None, 16, 16, 128)  0           conv2d_7[0][0]                   \n",
            "__________________________________________________________________________________________________\n",
            "leaky_re_lu_11 (LeakyReLU)      (None, 5, 28, 128)   0           conv2d_11[0][0]                  \n",
            "__________________________________________________________________________________________________\n",
            "max_pooling2d_3 (MaxPooling2D)  (None, 8, 8, 128)    0           leaky_re_lu_3[0][0]              \n",
            "__________________________________________________________________________________________________\n",
            "max_pooling2d_7 (MaxPooling2D)  (None, 8, 8, 128)    0           leaky_re_lu_7[0][0]              \n",
            "__________________________________________________________________________________________________\n",
            "max_pooling2d_11 (MaxPooling2D) (None, 3, 14, 128)   0           leaky_re_lu_11[0][0]             \n",
            "__________________________________________________________________________________________________\n",
            "dropout_3 (Dropout)             (None, 8, 8, 128)    0           max_pooling2d_3[0][0]            \n",
            "__________________________________________________________________________________________________\n",
            "dropout_7 (Dropout)             (None, 8, 8, 128)    0           max_pooling2d_7[0][0]            \n",
            "__________________________________________________________________________________________________\n",
            "dropout_11 (Dropout)            (None, 3, 14, 128)   0           max_pooling2d_11[0][0]           \n",
            "__________________________________________________________________________________________________\n",
            "global_average_pooling2d (Globa (None, 128)          0           dropout_3[0][0]                  \n",
            "__________________________________________________________________________________________________\n",
            "global_average_pooling2d_1 (Glo (None, 128)          0           dropout_7[0][0]                  \n",
            "__________________________________________________________________________________________________\n",
            "global_average_pooling2d_2 (Glo (None, 128)          0           dropout_11[0][0]                 \n",
            "__________________________________________________________________________________________________\n",
            "concatenate (Concatenate)       (None, 384)          0           global_average_pooling2d[0][0]   \n",
            "                                                                 global_average_pooling2d_1[0][0] \n",
            "                                                                 global_average_pooling2d_2[0][0] \n",
            "__________________________________________________________________________________________________\n",
            "dense (Dense)                   (None, 512)          197120      concatenate[0][0]                \n",
            "__________________________________________________________________________________________________\n",
            "dropout_12 (Dropout)            (None, 512)          0           dense[0][0]                      \n",
            "__________________________________________________________________________________________________\n",
            "dense_1 (Dense)                 (None, 10)           5130        dropout_12[0][0]                 \n",
            "==================================================================================================\n",
            "Total params: 592,202\n",
            "Trainable params: 592,202\n",
            "Non-trainable params: 0\n",
            "__________________________________________________________________________________________________\n",
            "None\n"
          ],
          "name": "stdout"
        }
      ]
    },
    {
      "cell_type": "code",
      "metadata": {
        "id": "y0eM6bc9IknK"
      },
      "source": [
        "import torch"
      ],
      "execution_count": null,
      "outputs": []
    },
    {
      "cell_type": "code",
      "metadata": {
        "colab": {
          "base_uri": "https://localhost:8080/"
        },
        "id": "GhWqMseMcH96",
        "outputId": "280f9135-5e18-4dce-8373-5fe6cda2d3df"
      },
      "source": [
        "labels.shape"
      ],
      "execution_count": null,
      "outputs": [
        {
          "output_type": "execute_result",
          "data": {
            "text/plain": [
              "(2000, 10)"
            ]
          },
          "metadata": {
            "tags": []
          },
          "execution_count": 23
        }
      ]
    },
    {
      "cell_type": "code",
      "metadata": {
        "colab": {
          "base_uri": "https://localhost:8080/"
        },
        "id": "DfTix6-y-N6H",
        "outputId": "7f41b538-867b-4d51-e079-733582843354"
      },
      "source": [
        "from keras.callbacks import ModelCheckpoint \n",
        "from datetime import datetime \n",
        "\n",
        "#num_epochs = 12\n",
        "#num_batch_size = 128\n",
        "\n",
        "num_epochs = 200\n",
        "num_batch_size = 50\n",
        "\n",
        "\n",
        "#checkpointer = ModelCheckpoint(filepath='/content/drive/My Drive/ESC-50-master/weights.best.basic_cnn.hdf5', verbose=1, save_best_only=True)\n",
        "#callback = tf.keras.callbacks.EarlyStopping(patience=4, restore_best_weights=True)\n",
        "start = datetime.now()\n",
        "\n",
        "\n",
        "\n",
        "\n",
        "history=model.fit([x_train_spectrogram,x_train_chroma,x_train_mfcc], y_spec_train,\n",
        "          batch_size=num_batch_size,\n",
        "          epochs=num_epochs,\n",
        "          verbose=1,\n",
        "          validation_data=([x_val_spectrogram,x_val_chroma,x_val_mfcc], y_val),shuffle=True)\n",
        "\n",
        "\n",
        "duration = datetime.now() - start\n",
        "print(\"Training completed in time: \", duration)"
      ],
      "execution_count": null,
      "outputs": [
        {
          "output_type": "stream",
          "text": [
            "Epoch 1/200\n",
            "32/32 [==============================] - 1s 45ms/step - loss: 2.5993 - accuracy: 0.2438 - val_loss: 1.6794 - val_accuracy: 0.4000\n",
            "Epoch 2/200\n",
            "32/32 [==============================] - 1s 38ms/step - loss: 1.2872 - accuracy: 0.5113 - val_loss: 1.1209 - val_accuracy: 0.6350\n",
            "Epoch 3/200\n",
            "32/32 [==============================] - 1s 37ms/step - loss: 0.8630 - accuracy: 0.6844 - val_loss: 0.9154 - val_accuracy: 0.6700\n",
            "Epoch 4/200\n",
            "32/32 [==============================] - 1s 38ms/step - loss: 0.6768 - accuracy: 0.7713 - val_loss: 0.6546 - val_accuracy: 0.7950\n",
            "Epoch 5/200\n",
            "32/32 [==============================] - 1s 38ms/step - loss: 0.5393 - accuracy: 0.8100 - val_loss: 0.4916 - val_accuracy: 0.8550\n",
            "Epoch 6/200\n",
            "32/32 [==============================] - 1s 38ms/step - loss: 0.3836 - accuracy: 0.8681 - val_loss: 0.4488 - val_accuracy: 0.8350\n",
            "Epoch 7/200\n",
            "32/32 [==============================] - 1s 38ms/step - loss: 0.3449 - accuracy: 0.8769 - val_loss: 0.4339 - val_accuracy: 0.8400\n",
            "Epoch 8/200\n",
            "32/32 [==============================] - 1s 38ms/step - loss: 0.2991 - accuracy: 0.8931 - val_loss: 0.2750 - val_accuracy: 0.9300\n",
            "Epoch 9/200\n",
            "32/32 [==============================] - 1s 38ms/step - loss: 0.2443 - accuracy: 0.9181 - val_loss: 0.2693 - val_accuracy: 0.9000\n",
            "Epoch 10/200\n",
            "32/32 [==============================] - 1s 38ms/step - loss: 0.2203 - accuracy: 0.9319 - val_loss: 0.3964 - val_accuracy: 0.8650\n",
            "Epoch 11/200\n",
            "32/32 [==============================] - 1s 39ms/step - loss: 0.2008 - accuracy: 0.9381 - val_loss: 0.2224 - val_accuracy: 0.9200\n",
            "Epoch 12/200\n",
            "32/32 [==============================] - 1s 38ms/step - loss: 0.2019 - accuracy: 0.9262 - val_loss: 0.3818 - val_accuracy: 0.9000\n",
            "Epoch 13/200\n",
            "32/32 [==============================] - 1s 38ms/step - loss: 0.1916 - accuracy: 0.9331 - val_loss: 0.1412 - val_accuracy: 0.9650\n",
            "Epoch 14/200\n",
            "32/32 [==============================] - 1s 38ms/step - loss: 0.1709 - accuracy: 0.9375 - val_loss: 0.1059 - val_accuracy: 0.9750\n",
            "Epoch 15/200\n",
            "32/32 [==============================] - 1s 38ms/step - loss: 0.1374 - accuracy: 0.9531 - val_loss: 0.2730 - val_accuracy: 0.8950\n",
            "Epoch 16/200\n",
            "32/32 [==============================] - 1s 38ms/step - loss: 0.1175 - accuracy: 0.9594 - val_loss: 0.1960 - val_accuracy: 0.9200\n",
            "Epoch 17/200\n",
            "32/32 [==============================] - 1s 38ms/step - loss: 0.0801 - accuracy: 0.9700 - val_loss: 0.1167 - val_accuracy: 0.9450\n",
            "Epoch 18/200\n",
            "32/32 [==============================] - 1s 37ms/step - loss: 0.0663 - accuracy: 0.9756 - val_loss: 0.0847 - val_accuracy: 0.9750\n",
            "Epoch 19/200\n",
            "32/32 [==============================] - 1s 38ms/step - loss: 0.0742 - accuracy: 0.9762 - val_loss: 0.1444 - val_accuracy: 0.9450\n",
            "Epoch 20/200\n",
            "32/32 [==============================] - 1s 37ms/step - loss: 0.0834 - accuracy: 0.9663 - val_loss: 0.1645 - val_accuracy: 0.9450\n",
            "Epoch 21/200\n",
            "32/32 [==============================] - 1s 38ms/step - loss: 0.1411 - accuracy: 0.9494 - val_loss: 0.2428 - val_accuracy: 0.9200\n",
            "Epoch 22/200\n",
            "32/32 [==============================] - 1s 38ms/step - loss: 0.0745 - accuracy: 0.9762 - val_loss: 0.0817 - val_accuracy: 0.9650\n",
            "Epoch 23/200\n",
            "32/32 [==============================] - 1s 38ms/step - loss: 0.0579 - accuracy: 0.9844 - val_loss: 0.2350 - val_accuracy: 0.9250\n",
            "Epoch 24/200\n",
            "32/32 [==============================] - 1s 37ms/step - loss: 0.0590 - accuracy: 0.9794 - val_loss: 0.0502 - val_accuracy: 0.9850\n",
            "Epoch 25/200\n",
            "32/32 [==============================] - 1s 37ms/step - loss: 0.0820 - accuracy: 0.9750 - val_loss: 0.3697 - val_accuracy: 0.8950\n",
            "Epoch 26/200\n",
            "32/32 [==============================] - 1s 39ms/step - loss: 0.0879 - accuracy: 0.9750 - val_loss: 0.1056 - val_accuracy: 0.9550\n",
            "Epoch 27/200\n",
            "32/32 [==============================] - 1s 38ms/step - loss: 0.0776 - accuracy: 0.9744 - val_loss: 0.1735 - val_accuracy: 0.9600\n",
            "Epoch 28/200\n",
            "32/32 [==============================] - 1s 38ms/step - loss: 0.0375 - accuracy: 0.9881 - val_loss: 0.0331 - val_accuracy: 0.9900\n",
            "Epoch 29/200\n",
            "32/32 [==============================] - 1s 37ms/step - loss: 0.0358 - accuracy: 0.9856 - val_loss: 0.0933 - val_accuracy: 0.9750\n",
            "Epoch 30/200\n",
            "32/32 [==============================] - 1s 38ms/step - loss: 0.0363 - accuracy: 0.9875 - val_loss: 0.1576 - val_accuracy: 0.9450\n",
            "Epoch 31/200\n",
            "32/32 [==============================] - 1s 39ms/step - loss: 0.0684 - accuracy: 0.9806 - val_loss: 0.1763 - val_accuracy: 0.9550\n",
            "Epoch 32/200\n",
            "32/32 [==============================] - 1s 37ms/step - loss: 0.0663 - accuracy: 0.9762 - val_loss: 0.1687 - val_accuracy: 0.9650\n",
            "Epoch 33/200\n",
            "32/32 [==============================] - 1s 37ms/step - loss: 0.0796 - accuracy: 0.9681 - val_loss: 0.0920 - val_accuracy: 0.9700\n",
            "Epoch 34/200\n",
            "32/32 [==============================] - 1s 37ms/step - loss: 0.0445 - accuracy: 0.9825 - val_loss: 0.0556 - val_accuracy: 0.9850\n",
            "Epoch 35/200\n",
            "32/32 [==============================] - 1s 38ms/step - loss: 0.0286 - accuracy: 0.9919 - val_loss: 0.0101 - val_accuracy: 1.0000\n",
            "Epoch 36/200\n",
            "32/32 [==============================] - 1s 38ms/step - loss: 0.0595 - accuracy: 0.9875 - val_loss: 0.0451 - val_accuracy: 0.9850\n",
            "Epoch 37/200\n",
            "32/32 [==============================] - 1s 38ms/step - loss: 0.0914 - accuracy: 0.9756 - val_loss: 0.0480 - val_accuracy: 0.9850\n",
            "Epoch 38/200\n",
            "32/32 [==============================] - 1s 38ms/step - loss: 0.0377 - accuracy: 0.9844 - val_loss: 0.1296 - val_accuracy: 0.9450\n",
            "Epoch 39/200\n",
            "32/32 [==============================] - 1s 38ms/step - loss: 0.0364 - accuracy: 0.9856 - val_loss: 0.0087 - val_accuracy: 1.0000\n",
            "Epoch 40/200\n",
            "32/32 [==============================] - 1s 38ms/step - loss: 0.0478 - accuracy: 0.9844 - val_loss: 0.1104 - val_accuracy: 0.9600\n",
            "Epoch 41/200\n",
            "32/32 [==============================] - 1s 38ms/step - loss: 0.0808 - accuracy: 0.9812 - val_loss: 0.0563 - val_accuracy: 0.9850\n",
            "Epoch 42/200\n",
            "32/32 [==============================] - 1s 38ms/step - loss: 0.0214 - accuracy: 0.9931 - val_loss: 0.0307 - val_accuracy: 0.9900\n",
            "Epoch 43/200\n",
            "32/32 [==============================] - 1s 37ms/step - loss: 0.0322 - accuracy: 0.9881 - val_loss: 0.0186 - val_accuracy: 0.9950\n",
            "Epoch 44/200\n",
            "32/32 [==============================] - 1s 39ms/step - loss: 0.0510 - accuracy: 0.9800 - val_loss: 0.0245 - val_accuracy: 0.9950\n",
            "Epoch 45/200\n",
            "32/32 [==============================] - 1s 37ms/step - loss: 0.0090 - accuracy: 0.9987 - val_loss: 0.0061 - val_accuracy: 1.0000\n",
            "Epoch 46/200\n",
            "32/32 [==============================] - 1s 38ms/step - loss: 0.0056 - accuracy: 0.9987 - val_loss: 0.0216 - val_accuracy: 0.9900\n",
            "Epoch 47/200\n",
            "32/32 [==============================] - 1s 38ms/step - loss: 0.0044 - accuracy: 0.9994 - val_loss: 0.0053 - val_accuracy: 1.0000\n",
            "Epoch 48/200\n",
            "32/32 [==============================] - 1s 38ms/step - loss: 0.0022 - accuracy: 1.0000 - val_loss: 0.0087 - val_accuracy: 1.0000\n",
            "Epoch 49/200\n",
            "32/32 [==============================] - 1s 38ms/step - loss: 0.0026 - accuracy: 0.9994 - val_loss: 0.0121 - val_accuracy: 0.9900\n",
            "Epoch 50/200\n",
            "32/32 [==============================] - 1s 38ms/step - loss: 0.0045 - accuracy: 0.9994 - val_loss: 0.0160 - val_accuracy: 0.9950\n",
            "Epoch 51/200\n",
            "32/32 [==============================] - 1s 38ms/step - loss: 0.0034 - accuracy: 0.9994 - val_loss: 0.0203 - val_accuracy: 0.9950\n",
            "Epoch 52/200\n",
            "32/32 [==============================] - 1s 38ms/step - loss: 0.0034 - accuracy: 0.9994 - val_loss: 0.0056 - val_accuracy: 0.9950\n",
            "Epoch 53/200\n",
            "32/32 [==============================] - 1s 38ms/step - loss: 0.0033 - accuracy: 0.9987 - val_loss: 0.0078 - val_accuracy: 1.0000\n",
            "Epoch 54/200\n",
            "32/32 [==============================] - 1s 38ms/step - loss: 0.0080 - accuracy: 0.9975 - val_loss: 0.0230 - val_accuracy: 0.9950\n",
            "Epoch 55/200\n",
            "32/32 [==============================] - 1s 38ms/step - loss: 0.0224 - accuracy: 0.9962 - val_loss: 0.0192 - val_accuracy: 0.9900\n",
            "Epoch 56/200\n",
            "32/32 [==============================] - 1s 38ms/step - loss: 0.0231 - accuracy: 0.9906 - val_loss: 0.0339 - val_accuracy: 0.9850\n",
            "Epoch 57/200\n",
            "32/32 [==============================] - 1s 38ms/step - loss: 0.0627 - accuracy: 0.9844 - val_loss: 0.0356 - val_accuracy: 0.9850\n",
            "Epoch 58/200\n",
            "32/32 [==============================] - 1s 38ms/step - loss: 0.0361 - accuracy: 0.9856 - val_loss: 0.0449 - val_accuracy: 0.9800\n",
            "Epoch 59/200\n",
            "32/32 [==============================] - 1s 38ms/step - loss: 0.0498 - accuracy: 0.9844 - val_loss: 0.0570 - val_accuracy: 0.9800\n",
            "Epoch 60/200\n",
            "32/32 [==============================] - 1s 39ms/step - loss: 0.0981 - accuracy: 0.9731 - val_loss: 0.1923 - val_accuracy: 0.9400\n",
            "Epoch 61/200\n",
            "32/32 [==============================] - 1s 38ms/step - loss: 0.0937 - accuracy: 0.9700 - val_loss: 0.0330 - val_accuracy: 0.9850\n",
            "Epoch 62/200\n",
            "32/32 [==============================] - 1s 38ms/step - loss: 0.1279 - accuracy: 0.9631 - val_loss: 0.0935 - val_accuracy: 0.9500\n",
            "Epoch 63/200\n",
            "32/32 [==============================] - 1s 37ms/step - loss: 0.0694 - accuracy: 0.9812 - val_loss: 0.0149 - val_accuracy: 0.9950\n",
            "Epoch 64/200\n",
            "32/32 [==============================] - 1s 38ms/step - loss: 0.0391 - accuracy: 0.9875 - val_loss: 0.0823 - val_accuracy: 0.9700\n",
            "Epoch 65/200\n",
            "32/32 [==============================] - 1s 38ms/step - loss: 0.0520 - accuracy: 0.9881 - val_loss: 0.0922 - val_accuracy: 0.9600\n",
            "Epoch 66/200\n",
            "32/32 [==============================] - 1s 38ms/step - loss: 0.0314 - accuracy: 0.9894 - val_loss: 0.0459 - val_accuracy: 0.9800\n",
            "Epoch 67/200\n",
            "32/32 [==============================] - 1s 38ms/step - loss: 0.0100 - accuracy: 0.9981 - val_loss: 0.0263 - val_accuracy: 0.9900\n",
            "Epoch 68/200\n",
            "32/32 [==============================] - 1s 39ms/step - loss: 0.0098 - accuracy: 0.9962 - val_loss: 0.0153 - val_accuracy: 0.9900\n",
            "Epoch 69/200\n",
            "32/32 [==============================] - 1s 39ms/step - loss: 0.0138 - accuracy: 0.9969 - val_loss: 0.0277 - val_accuracy: 0.9950\n",
            "Epoch 70/200\n",
            "32/32 [==============================] - 1s 39ms/step - loss: 0.0219 - accuracy: 0.9925 - val_loss: 0.0172 - val_accuracy: 0.9950\n",
            "Epoch 71/200\n",
            "32/32 [==============================] - 1s 38ms/step - loss: 0.0105 - accuracy: 0.9962 - val_loss: 0.0216 - val_accuracy: 0.9900\n",
            "Epoch 72/200\n",
            "32/32 [==============================] - 1s 39ms/step - loss: 0.0124 - accuracy: 0.9962 - val_loss: 0.0322 - val_accuracy: 0.9900\n",
            "Epoch 73/200\n",
            "32/32 [==============================] - 1s 38ms/step - loss: 0.0431 - accuracy: 0.9869 - val_loss: 0.0548 - val_accuracy: 0.9800\n",
            "Epoch 74/200\n",
            "32/32 [==============================] - 1s 37ms/step - loss: 0.1190 - accuracy: 0.9725 - val_loss: 0.0700 - val_accuracy: 0.9850\n",
            "Epoch 75/200\n",
            "32/32 [==============================] - 1s 38ms/step - loss: 0.0946 - accuracy: 0.9744 - val_loss: 0.0296 - val_accuracy: 0.9850\n",
            "Epoch 76/200\n",
            "32/32 [==============================] - 1s 38ms/step - loss: 0.0726 - accuracy: 0.9781 - val_loss: 0.0617 - val_accuracy: 0.9700\n",
            "Epoch 77/200\n",
            "32/32 [==============================] - 1s 38ms/step - loss: 0.0441 - accuracy: 0.9862 - val_loss: 0.0647 - val_accuracy: 0.9600\n",
            "Epoch 78/200\n",
            "32/32 [==============================] - 1s 39ms/step - loss: 0.0313 - accuracy: 0.9887 - val_loss: 0.1075 - val_accuracy: 0.9850\n",
            "Epoch 79/200\n",
            "32/32 [==============================] - 1s 38ms/step - loss: 0.0241 - accuracy: 0.9925 - val_loss: 0.0065 - val_accuracy: 0.9950\n",
            "Epoch 80/200\n",
            "32/32 [==============================] - 1s 38ms/step - loss: 0.0094 - accuracy: 0.9962 - val_loss: 0.0617 - val_accuracy: 0.9800\n",
            "Epoch 81/200\n",
            "32/32 [==============================] - 1s 38ms/step - loss: 0.0197 - accuracy: 0.9944 - val_loss: 0.0053 - val_accuracy: 1.0000\n",
            "Epoch 82/200\n",
            "32/32 [==============================] - 1s 38ms/step - loss: 0.0345 - accuracy: 0.9912 - val_loss: 0.0375 - val_accuracy: 0.9900\n",
            "Epoch 83/200\n",
            "32/32 [==============================] - 1s 38ms/step - loss: 0.0240 - accuracy: 0.9912 - val_loss: 0.0157 - val_accuracy: 0.9950\n",
            "Epoch 84/200\n",
            "32/32 [==============================] - 1s 38ms/step - loss: 0.0833 - accuracy: 0.9831 - val_loss: 0.1599 - val_accuracy: 0.9500\n",
            "Epoch 85/200\n",
            "32/32 [==============================] - 1s 38ms/step - loss: 0.0451 - accuracy: 0.9906 - val_loss: 0.0207 - val_accuracy: 0.9850\n",
            "Epoch 86/200\n",
            "32/32 [==============================] - 1s 39ms/step - loss: 0.0757 - accuracy: 0.9781 - val_loss: 0.0307 - val_accuracy: 0.9950\n",
            "Epoch 87/200\n",
            "32/32 [==============================] - 1s 39ms/step - loss: 0.0221 - accuracy: 0.9931 - val_loss: 0.0613 - val_accuracy: 0.9850\n",
            "Epoch 88/200\n",
            "32/32 [==============================] - 1s 38ms/step - loss: 0.0087 - accuracy: 0.9962 - val_loss: 0.0026 - val_accuracy: 1.0000\n",
            "Epoch 89/200\n",
            "32/32 [==============================] - 1s 38ms/step - loss: 0.0130 - accuracy: 0.9981 - val_loss: 0.0059 - val_accuracy: 1.0000\n",
            "Epoch 90/200\n",
            "32/32 [==============================] - 1s 38ms/step - loss: 0.0025 - accuracy: 0.9994 - val_loss: 0.0031 - val_accuracy: 1.0000\n",
            "Epoch 91/200\n",
            "32/32 [==============================] - 1s 38ms/step - loss: 0.0010 - accuracy: 0.9994 - val_loss: 0.0016 - val_accuracy: 1.0000\n",
            "Epoch 92/200\n",
            "32/32 [==============================] - 1s 38ms/step - loss: 8.3842e-04 - accuracy: 1.0000 - val_loss: 0.0010 - val_accuracy: 1.0000\n",
            "Epoch 93/200\n",
            "32/32 [==============================] - 1s 38ms/step - loss: 4.5556e-04 - accuracy: 1.0000 - val_loss: 0.0023 - val_accuracy: 1.0000\n",
            "Epoch 94/200\n",
            "32/32 [==============================] - 1s 38ms/step - loss: 9.9623e-04 - accuracy: 0.9994 - val_loss: 0.0023 - val_accuracy: 1.0000\n",
            "Epoch 95/200\n",
            "32/32 [==============================] - 1s 38ms/step - loss: 9.8658e-04 - accuracy: 1.0000 - val_loss: 0.0046 - val_accuracy: 1.0000\n",
            "Epoch 96/200\n",
            "32/32 [==============================] - 1s 38ms/step - loss: 8.0195e-04 - accuracy: 1.0000 - val_loss: 0.0039 - val_accuracy: 1.0000\n",
            "Epoch 97/200\n",
            "32/32 [==============================] - 1s 39ms/step - loss: 2.4066e-04 - accuracy: 1.0000 - val_loss: 0.0020 - val_accuracy: 1.0000\n",
            "Epoch 98/200\n",
            "32/32 [==============================] - 1s 38ms/step - loss: 1.1496e-04 - accuracy: 1.0000 - val_loss: 0.0016 - val_accuracy: 1.0000\n",
            "Epoch 99/200\n",
            "32/32 [==============================] - 1s 38ms/step - loss: 3.2910e-04 - accuracy: 1.0000 - val_loss: 6.0684e-04 - val_accuracy: 1.0000\n",
            "Epoch 100/200\n",
            "32/32 [==============================] - 1s 38ms/step - loss: 1.8513e-04 - accuracy: 1.0000 - val_loss: 6.5219e-04 - val_accuracy: 1.0000\n",
            "Epoch 101/200\n",
            "32/32 [==============================] - 1s 39ms/step - loss: 2.3580e-04 - accuracy: 1.0000 - val_loss: 8.5072e-04 - val_accuracy: 1.0000\n",
            "Epoch 102/200\n",
            "32/32 [==============================] - 1s 37ms/step - loss: 7.0241e-04 - accuracy: 1.0000 - val_loss: 0.0014 - val_accuracy: 1.0000\n",
            "Epoch 103/200\n",
            "32/32 [==============================] - 1s 38ms/step - loss: 6.1072e-05 - accuracy: 1.0000 - val_loss: 0.0028 - val_accuracy: 1.0000\n",
            "Epoch 104/200\n",
            "32/32 [==============================] - 1s 37ms/step - loss: 1.4718e-04 - accuracy: 1.0000 - val_loss: 0.0020 - val_accuracy: 1.0000\n",
            "Epoch 105/200\n",
            "32/32 [==============================] - 1s 38ms/step - loss: 0.0368 - accuracy: 0.9912 - val_loss: 0.2639 - val_accuracy: 0.9350\n",
            "Epoch 106/200\n",
            "32/32 [==============================] - 1s 37ms/step - loss: 0.1502 - accuracy: 0.9650 - val_loss: 0.0462 - val_accuracy: 0.9750\n",
            "Epoch 107/200\n",
            "32/32 [==============================] - 1s 39ms/step - loss: 0.1963 - accuracy: 0.9669 - val_loss: 0.1533 - val_accuracy: 0.9600\n",
            "Epoch 108/200\n",
            "32/32 [==============================] - 1s 39ms/step - loss: 0.1475 - accuracy: 0.9650 - val_loss: 0.0478 - val_accuracy: 0.9900\n",
            "Epoch 109/200\n",
            "32/32 [==============================] - 1s 39ms/step - loss: 0.0531 - accuracy: 0.9787 - val_loss: 0.1542 - val_accuracy: 0.9700\n",
            "Epoch 110/200\n",
            "32/32 [==============================] - 1s 38ms/step - loss: 0.0588 - accuracy: 0.9819 - val_loss: 0.3423 - val_accuracy: 0.9350\n",
            "Epoch 111/200\n",
            "32/32 [==============================] - 1s 38ms/step - loss: 0.0424 - accuracy: 0.9900 - val_loss: 0.0326 - val_accuracy: 0.9900\n",
            "Epoch 112/200\n",
            "32/32 [==============================] - 1s 39ms/step - loss: 0.0272 - accuracy: 0.9894 - val_loss: 0.0040 - val_accuracy: 1.0000\n",
            "Epoch 113/200\n",
            "32/32 [==============================] - 1s 38ms/step - loss: 0.0253 - accuracy: 0.9956 - val_loss: 0.0470 - val_accuracy: 0.9800\n",
            "Epoch 114/200\n",
            "32/32 [==============================] - 1s 39ms/step - loss: 0.0253 - accuracy: 0.9925 - val_loss: 0.0029 - val_accuracy: 1.0000\n",
            "Epoch 115/200\n",
            "32/32 [==============================] - 1s 38ms/step - loss: 0.0147 - accuracy: 0.9956 - val_loss: 4.5047e-04 - val_accuracy: 1.0000\n",
            "Epoch 116/200\n",
            "32/32 [==============================] - 1s 38ms/step - loss: 0.0124 - accuracy: 0.9944 - val_loss: 0.0087 - val_accuracy: 0.9950\n",
            "Epoch 117/200\n",
            "32/32 [==============================] - 1s 39ms/step - loss: 0.0333 - accuracy: 0.9919 - val_loss: 0.0049 - val_accuracy: 0.9950\n",
            "Epoch 118/200\n",
            "32/32 [==============================] - 1s 38ms/step - loss: 0.0153 - accuracy: 0.9962 - val_loss: 0.0063 - val_accuracy: 0.9950\n",
            "Epoch 119/200\n",
            "32/32 [==============================] - 1s 39ms/step - loss: 0.0238 - accuracy: 0.9950 - val_loss: 0.0052 - val_accuracy: 0.9950\n",
            "Epoch 120/200\n",
            "32/32 [==============================] - 1s 38ms/step - loss: 0.0207 - accuracy: 0.9962 - val_loss: 0.0403 - val_accuracy: 0.9850\n",
            "Epoch 121/200\n",
            "32/32 [==============================] - 1s 37ms/step - loss: 0.0245 - accuracy: 0.9931 - val_loss: 0.0015 - val_accuracy: 1.0000\n",
            "Epoch 122/200\n",
            "32/32 [==============================] - 1s 38ms/step - loss: 0.0827 - accuracy: 0.9856 - val_loss: 0.1612 - val_accuracy: 0.9700\n",
            "Epoch 123/200\n",
            "32/32 [==============================] - 1s 38ms/step - loss: 0.0727 - accuracy: 0.9819 - val_loss: 0.1483 - val_accuracy: 0.9850\n",
            "Epoch 124/200\n",
            "32/32 [==============================] - 1s 38ms/step - loss: 0.0386 - accuracy: 0.9887 - val_loss: 0.0250 - val_accuracy: 0.9850\n",
            "Epoch 125/200\n",
            "32/32 [==============================] - 1s 38ms/step - loss: 0.0766 - accuracy: 0.9800 - val_loss: 0.0548 - val_accuracy: 0.9850\n",
            "Epoch 126/200\n",
            "32/32 [==============================] - 1s 38ms/step - loss: 0.0598 - accuracy: 0.9894 - val_loss: 0.0080 - val_accuracy: 0.9950\n",
            "Epoch 127/200\n",
            "32/32 [==============================] - 1s 38ms/step - loss: 0.0500 - accuracy: 0.9887 - val_loss: 0.0555 - val_accuracy: 0.9950\n",
            "Epoch 128/200\n",
            "32/32 [==============================] - 1s 38ms/step - loss: 0.0318 - accuracy: 0.9925 - val_loss: 0.1484 - val_accuracy: 0.9700\n",
            "Epoch 129/200\n",
            "32/32 [==============================] - 1s 39ms/step - loss: 0.0494 - accuracy: 0.9887 - val_loss: 6.7946e-04 - val_accuracy: 1.0000\n",
            "Epoch 130/200\n",
            "32/32 [==============================] - 1s 38ms/step - loss: 0.0477 - accuracy: 0.9887 - val_loss: 0.0159 - val_accuracy: 0.9900\n",
            "Epoch 131/200\n",
            "32/32 [==============================] - 1s 38ms/step - loss: 0.0253 - accuracy: 0.9931 - val_loss: 0.0311 - val_accuracy: 0.9900\n",
            "Epoch 132/200\n",
            "32/32 [==============================] - 1s 38ms/step - loss: 0.0138 - accuracy: 0.9975 - val_loss: 0.0023 - val_accuracy: 1.0000\n",
            "Epoch 133/200\n",
            "32/32 [==============================] - 1s 38ms/step - loss: 0.0400 - accuracy: 0.9950 - val_loss: 0.0343 - val_accuracy: 0.9900\n",
            "Epoch 134/200\n",
            "32/32 [==============================] - 1s 39ms/step - loss: 0.0109 - accuracy: 0.9956 - val_loss: 0.0662 - val_accuracy: 0.9900\n",
            "Epoch 135/200\n",
            "32/32 [==============================] - 1s 38ms/step - loss: 0.0140 - accuracy: 0.9969 - val_loss: 0.0818 - val_accuracy: 0.9850\n",
            "Epoch 136/200\n",
            "32/32 [==============================] - 1s 38ms/step - loss: 0.0459 - accuracy: 0.9856 - val_loss: 0.0025 - val_accuracy: 1.0000\n",
            "Epoch 137/200\n",
            "32/32 [==============================] - 1s 39ms/step - loss: 0.0241 - accuracy: 0.9931 - val_loss: 0.0176 - val_accuracy: 0.9950\n",
            "Epoch 138/200\n",
            "32/32 [==============================] - 1s 39ms/step - loss: 0.0258 - accuracy: 0.9944 - val_loss: 0.0498 - val_accuracy: 0.9950\n",
            "Epoch 139/200\n",
            "32/32 [==============================] - 1s 38ms/step - loss: 0.0210 - accuracy: 0.9931 - val_loss: 0.0261 - val_accuracy: 0.9900\n",
            "Epoch 140/200\n",
            "32/32 [==============================] - 1s 38ms/step - loss: 0.0091 - accuracy: 0.9962 - val_loss: 0.0204 - val_accuracy: 0.9900\n",
            "Epoch 141/200\n",
            "32/32 [==============================] - 1s 38ms/step - loss: 0.0105 - accuracy: 0.9969 - val_loss: 0.0101 - val_accuracy: 0.9950\n",
            "Epoch 142/200\n",
            "32/32 [==============================] - 1s 38ms/step - loss: 0.0044 - accuracy: 0.9981 - val_loss: 0.0848 - val_accuracy: 0.9800\n",
            "Epoch 143/200\n",
            "32/32 [==============================] - 1s 39ms/step - loss: 0.0113 - accuracy: 0.9962 - val_loss: 0.0380 - val_accuracy: 0.9950\n",
            "Epoch 144/200\n",
            "32/32 [==============================] - 1s 39ms/step - loss: 0.0120 - accuracy: 0.9962 - val_loss: 0.0347 - val_accuracy: 0.9900\n",
            "Epoch 145/200\n",
            "32/32 [==============================] - 1s 39ms/step - loss: 0.0039 - accuracy: 0.9981 - val_loss: 0.0113 - val_accuracy: 0.9950\n",
            "Epoch 146/200\n",
            "32/32 [==============================] - 1s 38ms/step - loss: 0.0074 - accuracy: 0.9981 - val_loss: 2.4937e-04 - val_accuracy: 1.0000\n",
            "Epoch 147/200\n",
            "32/32 [==============================] - 1s 39ms/step - loss: 2.0010e-04 - accuracy: 1.0000 - val_loss: 0.0016 - val_accuracy: 1.0000\n",
            "Epoch 148/200\n",
            "32/32 [==============================] - 1s 39ms/step - loss: 0.0041 - accuracy: 0.9987 - val_loss: 0.0014 - val_accuracy: 1.0000\n",
            "Epoch 149/200\n",
            "32/32 [==============================] - 1s 39ms/step - loss: 0.0013 - accuracy: 0.9994 - val_loss: 0.0084 - val_accuracy: 0.9950\n",
            "Epoch 150/200\n",
            "32/32 [==============================] - 1s 39ms/step - loss: 5.7621e-05 - accuracy: 1.0000 - val_loss: 0.0151 - val_accuracy: 0.9950\n",
            "Epoch 151/200\n",
            "32/32 [==============================] - 1s 39ms/step - loss: 8.1622e-06 - accuracy: 1.0000 - val_loss: 0.0152 - val_accuracy: 0.9950\n",
            "Epoch 152/200\n",
            "32/32 [==============================] - 1s 38ms/step - loss: 2.3295e-05 - accuracy: 1.0000 - val_loss: 0.0148 - val_accuracy: 0.9950\n",
            "Epoch 153/200\n",
            "32/32 [==============================] - 1s 37ms/step - loss: 4.7576e-05 - accuracy: 1.0000 - val_loss: 0.0154 - val_accuracy: 0.9950\n",
            "Epoch 154/200\n",
            "32/32 [==============================] - 1s 38ms/step - loss: 2.9422e-05 - accuracy: 1.0000 - val_loss: 0.0153 - val_accuracy: 0.9950\n",
            "Epoch 155/200\n",
            "32/32 [==============================] - 1s 38ms/step - loss: 1.8138e-05 - accuracy: 1.0000 - val_loss: 0.0151 - val_accuracy: 0.9950\n",
            "Epoch 156/200\n",
            "32/32 [==============================] - 1s 38ms/step - loss: 1.6248e-04 - accuracy: 1.0000 - val_loss: 0.0132 - val_accuracy: 0.9950\n",
            "Epoch 157/200\n",
            "32/32 [==============================] - 1s 38ms/step - loss: 9.7737e-06 - accuracy: 1.0000 - val_loss: 0.0117 - val_accuracy: 0.9950\n",
            "Epoch 158/200\n",
            "32/32 [==============================] - 1s 38ms/step - loss: 4.7431e-05 - accuracy: 1.0000 - val_loss: 0.0105 - val_accuracy: 0.9950\n",
            "Epoch 159/200\n",
            "32/32 [==============================] - 1s 39ms/step - loss: 7.5516e-06 - accuracy: 1.0000 - val_loss: 0.0104 - val_accuracy: 0.9950\n",
            "Epoch 160/200\n",
            "32/32 [==============================] - 1s 38ms/step - loss: 2.6937e-05 - accuracy: 1.0000 - val_loss: 0.0091 - val_accuracy: 0.9950\n",
            "Epoch 161/200\n",
            "32/32 [==============================] - 1s 38ms/step - loss: 9.8628e-04 - accuracy: 0.9994 - val_loss: 3.7371e-05 - val_accuracy: 1.0000\n",
            "Epoch 162/200\n",
            "32/32 [==============================] - 1s 38ms/step - loss: 0.0077 - accuracy: 0.9975 - val_loss: 0.0099 - val_accuracy: 0.9950\n",
            "Epoch 163/200\n",
            "32/32 [==============================] - 1s 37ms/step - loss: 0.0595 - accuracy: 0.9925 - val_loss: 0.1504 - val_accuracy: 0.9650\n",
            "Epoch 164/200\n",
            "32/32 [==============================] - 1s 38ms/step - loss: 0.1873 - accuracy: 0.9794 - val_loss: 0.6102 - val_accuracy: 0.9150\n",
            "Epoch 165/200\n",
            "32/32 [==============================] - 1s 39ms/step - loss: 0.4837 - accuracy: 0.9350 - val_loss: 0.9581 - val_accuracy: 0.8650\n",
            "Epoch 166/200\n",
            "32/32 [==============================] - 1s 38ms/step - loss: 0.7551 - accuracy: 0.9156 - val_loss: 0.5694 - val_accuracy: 0.9200\n",
            "Epoch 167/200\n",
            "32/32 [==============================] - 1s 39ms/step - loss: 0.3978 - accuracy: 0.9531 - val_loss: 0.0887 - val_accuracy: 0.9700\n",
            "Epoch 168/200\n",
            "32/32 [==============================] - 1s 38ms/step - loss: 0.0861 - accuracy: 0.9794 - val_loss: 0.0435 - val_accuracy: 0.9750\n",
            "Epoch 169/200\n",
            "32/32 [==============================] - 1s 38ms/step - loss: 0.0991 - accuracy: 0.9825 - val_loss: 0.1007 - val_accuracy: 0.9900\n",
            "Epoch 170/200\n",
            "32/32 [==============================] - 1s 39ms/step - loss: 0.0284 - accuracy: 0.9912 - val_loss: 0.0032 - val_accuracy: 1.0000\n",
            "Epoch 171/200\n",
            "32/32 [==============================] - 1s 38ms/step - loss: 0.0385 - accuracy: 0.9906 - val_loss: 0.0097 - val_accuracy: 0.9950\n",
            "Epoch 172/200\n",
            "32/32 [==============================] - 1s 38ms/step - loss: 0.0203 - accuracy: 0.9937 - val_loss: 0.0033 - val_accuracy: 1.0000\n",
            "Epoch 173/200\n",
            "32/32 [==============================] - 1s 39ms/step - loss: 0.0047 - accuracy: 0.9981 - val_loss: 4.8739e-04 - val_accuracy: 1.0000\n",
            "Epoch 174/200\n",
            "32/32 [==============================] - 1s 39ms/step - loss: 0.0024 - accuracy: 0.9987 - val_loss: 0.0010 - val_accuracy: 1.0000\n",
            "Epoch 175/200\n",
            "32/32 [==============================] - 1s 38ms/step - loss: 0.0024 - accuracy: 0.9994 - val_loss: 0.0048 - val_accuracy: 0.9950\n",
            "Epoch 176/200\n",
            "32/32 [==============================] - 1s 37ms/step - loss: 6.9833e-04 - accuracy: 1.0000 - val_loss: 5.4487e-05 - val_accuracy: 1.0000\n",
            "Epoch 177/200\n",
            "32/32 [==============================] - 1s 39ms/step - loss: 0.0174 - accuracy: 0.9962 - val_loss: 3.3822e-04 - val_accuracy: 1.0000\n",
            "Epoch 178/200\n",
            "32/32 [==============================] - 1s 38ms/step - loss: 0.0091 - accuracy: 0.9975 - val_loss: 9.3807e-05 - val_accuracy: 1.0000\n",
            "Epoch 179/200\n",
            "32/32 [==============================] - 1s 38ms/step - loss: 0.0185 - accuracy: 0.9931 - val_loss: 0.0026 - val_accuracy: 1.0000\n",
            "Epoch 180/200\n",
            "32/32 [==============================] - 1s 38ms/step - loss: 0.0059 - accuracy: 0.9981 - val_loss: 0.0076 - val_accuracy: 0.9950\n",
            "Epoch 181/200\n",
            "32/32 [==============================] - 1s 38ms/step - loss: 0.0171 - accuracy: 0.9944 - val_loss: 3.4932e-04 - val_accuracy: 1.0000\n",
            "Epoch 182/200\n",
            "32/32 [==============================] - 1s 39ms/step - loss: 0.0075 - accuracy: 0.9969 - val_loss: 0.0051 - val_accuracy: 1.0000\n",
            "Epoch 183/200\n",
            "32/32 [==============================] - 1s 38ms/step - loss: 0.0024 - accuracy: 0.9994 - val_loss: 1.0010e-05 - val_accuracy: 1.0000\n",
            "Epoch 184/200\n",
            "32/32 [==============================] - 1s 39ms/step - loss: 1.1618e-04 - accuracy: 1.0000 - val_loss: 1.9307e-05 - val_accuracy: 1.0000\n",
            "Epoch 185/200\n",
            "32/32 [==============================] - 1s 38ms/step - loss: 1.8201e-04 - accuracy: 1.0000 - val_loss: 1.5002e-05 - val_accuracy: 1.0000\n",
            "Epoch 186/200\n",
            "32/32 [==============================] - 1s 39ms/step - loss: 0.0010 - accuracy: 0.9994 - val_loss: 6.6587e-06 - val_accuracy: 1.0000\n",
            "Epoch 187/200\n",
            "32/32 [==============================] - 1s 39ms/step - loss: 0.0079 - accuracy: 0.9987 - val_loss: 0.0175 - val_accuracy: 0.9950\n",
            "Epoch 188/200\n",
            "32/32 [==============================] - 1s 38ms/step - loss: 0.0056 - accuracy: 0.9987 - val_loss: 0.0229 - val_accuracy: 0.9950\n",
            "Epoch 189/200\n",
            "32/32 [==============================] - 1s 38ms/step - loss: 6.0338e-04 - accuracy: 1.0000 - val_loss: 7.7238e-05 - val_accuracy: 1.0000\n",
            "Epoch 190/200\n",
            "32/32 [==============================] - 1s 38ms/step - loss: 2.8578e-04 - accuracy: 1.0000 - val_loss: 4.3089e-04 - val_accuracy: 1.0000\n",
            "Epoch 191/200\n",
            "32/32 [==============================] - 1s 39ms/step - loss: 0.0015 - accuracy: 0.9994 - val_loss: 1.9775e-06 - val_accuracy: 1.0000\n",
            "Epoch 192/200\n",
            "32/32 [==============================] - 1s 38ms/step - loss: 0.0011 - accuracy: 0.9994 - val_loss: 4.8240e-04 - val_accuracy: 1.0000\n",
            "Epoch 193/200\n",
            "32/32 [==============================] - 1s 38ms/step - loss: 6.6361e-04 - accuracy: 0.9994 - val_loss: 0.0034 - val_accuracy: 1.0000\n",
            "Epoch 194/200\n",
            "32/32 [==============================] - 1s 39ms/step - loss: 0.0025 - accuracy: 0.9994 - val_loss: 1.3071e-05 - val_accuracy: 1.0000\n",
            "Epoch 195/200\n",
            "32/32 [==============================] - 1s 39ms/step - loss: 0.0020 - accuracy: 0.9987 - val_loss: 5.8105e-04 - val_accuracy: 1.0000\n",
            "Epoch 196/200\n",
            "32/32 [==============================] - 1s 39ms/step - loss: 7.2147e-04 - accuracy: 0.9994 - val_loss: 0.0373 - val_accuracy: 0.9950\n",
            "Epoch 197/200\n",
            "32/32 [==============================] - 1s 38ms/step - loss: 0.0070 - accuracy: 0.9981 - val_loss: 0.2770 - val_accuracy: 0.9850\n",
            "Epoch 198/200\n",
            "32/32 [==============================] - 1s 38ms/step - loss: 0.0439 - accuracy: 0.9937 - val_loss: 0.0858 - val_accuracy: 0.9900\n",
            "Epoch 199/200\n",
            "32/32 [==============================] - 1s 39ms/step - loss: 0.0659 - accuracy: 0.9894 - val_loss: 0.0222 - val_accuracy: 0.9900\n",
            "Epoch 200/200\n",
            "32/32 [==============================] - 1s 38ms/step - loss: 0.0638 - accuracy: 0.9887 - val_loss: 0.0038 - val_accuracy: 1.0000\n",
            "Training completed in time:  0:04:14.821138\n"
          ],
          "name": "stdout"
        }
      ]
    },
    {
      "cell_type": "code",
      "metadata": {
        "id": "1oZmO7xq4now"
      },
      "source": [
        ""
      ],
      "execution_count": null,
      "outputs": []
    },
    {
      "cell_type": "code",
      "metadata": {
        "colab": {
          "base_uri": "https://localhost:8080/"
        },
        "id": "Pz0xriBTe9w4",
        "outputId": "11eb5974-76fa-4874-d103-2db38b2e3548"
      },
      "source": [
        "\n",
        "final_loss, final_acc = model.evaluate([x_test_spectrogram,x_test_chroma,x_test_mfcc], y_test, verbose=1)\n",
        "print(\"Final loss: {0:.6f}, final accuracy: {1:.6f}\".format(final_loss, final_acc))\n"
      ],
      "execution_count": null,
      "outputs": [
        {
          "output_type": "stream",
          "text": [
            "13/13 [==============================] - 0s 11ms/step - loss: 0.0198 - accuracy: 0.9950\n",
            "Final loss: 0.019803, final accuracy: 0.995000\n"
          ],
          "name": "stdout"
        }
      ]
    },
    {
      "cell_type": "code",
      "metadata": {
        "colab": {
          "base_uri": "https://localhost:8080/",
          "height": 573
        },
        "id": "xo11WFRmxv0z",
        "outputId": "2c67b3dd-2e50-4445-f720-09ceedc8874a"
      },
      "source": [
        "acc = history.history['accuracy']\n",
        "val_acc = history.history['val_accuracy']\n",
        "loss = history.history['loss']\n",
        "val_loss = history.history['val_loss']\n",
        "epochs = range(len(acc))\n",
        "plt.plot(epochs, acc, 'r', label='Training acc')\n",
        "plt.plot(epochs, val_acc, 'b', label='Validation acc')\n",
        "plt.title('Training and validation accuracy')\n",
        "plt.ylabel('accuracy')  \n",
        "plt.xlabel('epoch')\n",
        "plt.legend()\n",
        "plt.figure()\n",
        "plt.plot(epochs, loss, 'r', label='Training loss')\n",
        "plt.plot(epochs, val_loss, 'b', label='Validation loss')\n",
        "plt.title('Training and validation loss')\n",
        "plt.ylabel('loss')  \n",
        "plt.xlabel('epoch')\n",
        "plt.legend()\n",
        "plt.show()"
      ],
      "execution_count": null,
      "outputs": [
        {
          "output_type": "display_data",
          "data": {
            "image/png": "[encoded data removed]",
            "text/plain": [
              "<Figure size 432x288 with 1 Axes>"
            ]
          },
          "metadata": {
            "tags": [],
            "needs_background": "light"
          }
        },
        {
          "output_type": "display_data",
          "data": {
            "image/png": "[encoded data removed]",
            "text/plain": [
              "<Figure size 432x288 with 1 Axes>"
            ]
          },
          "metadata": {
            "tags": [],
            "needs_background": "light"
          }
        }
      ]
    },
    {
      "cell_type": "code",
      "metadata": {
        "id": "1oJdW25vSRt6"
      },
      "source": [
        ""
      ],
      "execution_count": null,
      "outputs": []
    },
    {
      "cell_type": "code",
      "metadata": {
        "colab": {
          "base_uri": "https://localhost:8080/"
        },
        "id": "WNPIJIOoGUbV",
        "outputId": "a3d7ecfe-43cb-4c6e-c562-6b88a607fd80"
      },
      "source": [
        "\n",
        "final_loss, final_acc = model.evaluate([x_test_chroma,x_test_mfcc],y_test, verbose=1)\n",
        "print(\"Final loss: {0:.6f}, final accuracy: {1:.6f}\".format(final_loss, final_acc))\n",
        "\n",
        "final_loss, final_acc = model.evaluate([x_val_chroma,x_val_mfcc], y_val, verbose=1)\n",
        "print(\"Final loss: {0:.6f}, final accuracy: {1:.6f}\".format(final_loss, final_acc))\n",
        "\n"
      ],
      "execution_count": null,
      "outputs": [
        {
          "output_type": "stream",
          "text": [
            "7/7 [==============================] - 0s 9ms/step - loss: 0.0343 - accuracy: 0.9950\n",
            "Final loss: 0.034285, final accuracy: 0.995000\n",
            "7/7 [==============================] - 0s 10ms/step - loss: 0.0556 - accuracy: 0.9900\n",
            "Final loss: 0.055641, final accuracy: 0.990000\n"
          ],
          "name": "stdout"
        }
      ]
    },
    {
      "cell_type": "code",
      "metadata": {
        "id": "w5WtjH3d3X_K",
        "colab": {
          "base_uri": "https://localhost:8080/"
        },
        "outputId": "1aa534cf-bfcc-4a94-ebfd-195bd816a86a"
      },
      "source": [
        "score = model.evaluate([x_train_chroma,x_train_mfcc], y_spec_train, verbose=0)\n",
        "print(\"Training Accuracy: \", score[1])\n",
        "\n",
        "score = model.evaluate([x_test_chroma,x_test_mfcc], y_test, verbose=0)\n",
        "print(\"Test Accuracy: \", score[1])\n",
        "\n",
        "score = model.evaluate([x_val_chroma,x_val_mfcc], y_val, verbose=0)\n",
        "print(\"val Accuracy: \", score[1])"
      ],
      "execution_count": null,
      "outputs": [
        {
          "output_type": "stream",
          "text": [
            "Training Accuracy:  0.9993749856948853\n",
            "Test Accuracy:  0.9950000047683716\n",
            "val Accuracy:  0.9900000095367432\n"
          ],
          "name": "stdout"
        }
      ]
    },
    {
      "cell_type": "code",
      "metadata": {
        "colab": {
          "base_uri": "https://localhost:8080/"
        },
        "id": "yRQsQXWymF_4",
        "outputId": "9a4e8f2c-a4d2-4a90-87d8-c1e4e81f1ab7"
      },
      "source": [
        "# Evaluating the model on the training and testing set\n",
        "score = model.evaluate([x_train_spectrogram,x_train_chroma,x_train_mfcc], y_spec_train, verbose=0)\n",
        "print(\"Training Accuracy: \", score[1])\n",
        "\n",
        "score = model.evaluate([x_val_spectrogram,x_val_chroma,x_val_mfcc], y_val, verbose=0)\n",
        "print(\"Val Accuracy: \", score[1])\n",
        "\n",
        "score = model.evaluate([x_test_spectrogram,x_test_chroma,x_test_mfcc], y_test, verbose=0)\n",
        "print(\"Testing Accuracy: \", score[1])"
      ],
      "execution_count": null,
      "outputs": [
        {
          "output_type": "stream",
          "text": [
            "Training Accuracy:  1.0\n",
            "Val Accuracy:  1.0\n",
            "Testing Accuracy:  0.9800000190734863\n"
          ],
          "name": "stdout"
        }
      ]
    },
    {
      "cell_type": "code",
      "metadata": {
        "colab": {
          "base_uri": "https://localhost:8080/",
          "height": 392
        },
        "id": "MOlruswT_yMn",
        "outputId": "ef4ffe20-c691-4996-9147-a10fcce3550e"
      },
      "source": [
        "score = model.evaluate([x_test_spectrogram[1],x_test_chroma[1],x_test_mfcc[1]], y_test[1], verbose=0)\n",
        "print(\"%s: %.2f%%\" % (model.metrics_names[1], score[1]*100))"
      ],
      "execution_count": null,
      "outputs": [
        {
          "output_type": "error",
          "ename": "ValueError",
          "evalue": "ignored",
          "traceback": [
            "\u001b[0;31m---------------------------------------------------------------------------\u001b[0m",
            "\u001b[0;31mValueError\u001b[0m                                Traceback (most recent call last)",
            "\u001b[0;32m<ipython-input-32-7d1e9bf38563>\u001b[0m in \u001b[0;36m<module>\u001b[0;34m()\u001b[0m\n\u001b[0;32m----> 1\u001b[0;31m \u001b[0mscore\u001b[0m \u001b[0;34m=\u001b[0m \u001b[0mmodel\u001b[0m\u001b[0;34m.\u001b[0m\u001b[0mevaluate\u001b[0m\u001b[0;34m(\u001b[0m\u001b[0;34m[\u001b[0m\u001b[0mx_test_spectrogram\u001b[0m\u001b[0;34m[\u001b[0m\u001b[0;36m1\u001b[0m\u001b[0;34m]\u001b[0m\u001b[0;34m,\u001b[0m\u001b[0mx_test_chroma\u001b[0m\u001b[0;34m[\u001b[0m\u001b[0;36m1\u001b[0m\u001b[0;34m]\u001b[0m\u001b[0;34m,\u001b[0m\u001b[0mx_test_mfcc\u001b[0m\u001b[0;34m[\u001b[0m\u001b[0;36m1\u001b[0m\u001b[0;34m]\u001b[0m\u001b[0;34m]\u001b[0m\u001b[0;34m,\u001b[0m \u001b[0my_test\u001b[0m\u001b[0;34m[\u001b[0m\u001b[0;36m1\u001b[0m\u001b[0;34m]\u001b[0m\u001b[0;34m,\u001b[0m \u001b[0mverbose\u001b[0m\u001b[0;34m=\u001b[0m\u001b[0;36m0\u001b[0m\u001b[0;34m)\u001b[0m\u001b[0;34m\u001b[0m\u001b[0;34m\u001b[0m\u001b[0m\n\u001b[0m\u001b[1;32m      2\u001b[0m \u001b[0mprint\u001b[0m\u001b[0;34m(\u001b[0m\u001b[0;34m\"%s: %.2f%%\"\u001b[0m \u001b[0;34m%\u001b[0m \u001b[0;34m(\u001b[0m\u001b[0mmodel\u001b[0m\u001b[0;34m.\u001b[0m\u001b[0mmetrics_names\u001b[0m\u001b[0;34m[\u001b[0m\u001b[0;36m1\u001b[0m\u001b[0;34m]\u001b[0m\u001b[0;34m,\u001b[0m \u001b[0mscore\u001b[0m\u001b[0;34m[\u001b[0m\u001b[0;36m1\u001b[0m\u001b[0;34m]\u001b[0m\u001b[0;34m*\u001b[0m\u001b[0;36m100\u001b[0m\u001b[0;34m)\u001b[0m\u001b[0;34m)\u001b[0m\u001b[0;34m\u001b[0m\u001b[0;34m\u001b[0m\u001b[0m\n",
            "\u001b[0;32m/usr/local/lib/python3.6/dist-packages/tensorflow/python/keras/engine/training.py\u001b[0m in \u001b[0;36m_method_wrapper\u001b[0;34m(self, *args, **kwargs)\u001b[0m\n\u001b[1;32m    106\u001b[0m   \u001b[0;32mdef\u001b[0m \u001b[0m_method_wrapper\u001b[0m\u001b[0;34m(\u001b[0m\u001b[0mself\u001b[0m\u001b[0;34m,\u001b[0m \u001b[0;34m*\u001b[0m\u001b[0margs\u001b[0m\u001b[0;34m,\u001b[0m \u001b[0;34m**\u001b[0m\u001b[0mkwargs\u001b[0m\u001b[0;34m)\u001b[0m\u001b[0;34m:\u001b[0m\u001b[0;34m\u001b[0m\u001b[0;34m\u001b[0m\u001b[0m\n\u001b[1;32m    107\u001b[0m     \u001b[0;32mif\u001b[0m \u001b[0;32mnot\u001b[0m \u001b[0mself\u001b[0m\u001b[0;34m.\u001b[0m\u001b[0m_in_multi_worker_mode\u001b[0m\u001b[0;34m(\u001b[0m\u001b[0;34m)\u001b[0m\u001b[0;34m:\u001b[0m  \u001b[0;31m# pylint: disable=protected-access\u001b[0m\u001b[0;34m\u001b[0m\u001b[0;34m\u001b[0m\u001b[0m\n\u001b[0;32m--> 108\u001b[0;31m       \u001b[0;32mreturn\u001b[0m \u001b[0mmethod\u001b[0m\u001b[0;34m(\u001b[0m\u001b[0mself\u001b[0m\u001b[0;34m,\u001b[0m \u001b[0;34m*\u001b[0m\u001b[0margs\u001b[0m\u001b[0;34m,\u001b[0m \u001b[0;34m**\u001b[0m\u001b[0mkwargs\u001b[0m\u001b[0;34m)\u001b[0m\u001b[0;34m\u001b[0m\u001b[0;34m\u001b[0m\u001b[0m\n\u001b[0m\u001b[1;32m    109\u001b[0m \u001b[0;34m\u001b[0m\u001b[0m\n\u001b[1;32m    110\u001b[0m     \u001b[0;31m# Running inside `run_distribute_coordinator` already.\u001b[0m\u001b[0;34m\u001b[0m\u001b[0;34m\u001b[0m\u001b[0;34m\u001b[0m\u001b[0m\n",
            "\u001b[0;32m/usr/local/lib/python3.6/dist-packages/tensorflow/python/keras/engine/training.py\u001b[0m in \u001b[0;36mevaluate\u001b[0;34m(self, x, y, batch_size, verbose, sample_weight, steps, callbacks, max_queue_size, workers, use_multiprocessing, return_dict)\u001b[0m\n\u001b[1;32m   1354\u001b[0m             \u001b[0muse_multiprocessing\u001b[0m\u001b[0;34m=\u001b[0m\u001b[0muse_multiprocessing\u001b[0m\u001b[0;34m,\u001b[0m\u001b[0;34m\u001b[0m\u001b[0;34m\u001b[0m\u001b[0m\n\u001b[1;32m   1355\u001b[0m             \u001b[0mmodel\u001b[0m\u001b[0;34m=\u001b[0m\u001b[0mself\u001b[0m\u001b[0;34m,\u001b[0m\u001b[0;34m\u001b[0m\u001b[0;34m\u001b[0m\u001b[0m\n\u001b[0;32m-> 1356\u001b[0;31m             steps_per_execution=self._steps_per_execution)\n\u001b[0m\u001b[1;32m   1357\u001b[0m \u001b[0;34m\u001b[0m\u001b[0m\n\u001b[1;32m   1358\u001b[0m       \u001b[0;31m# Container that configures and calls `tf.keras.Callback`s.\u001b[0m\u001b[0;34m\u001b[0m\u001b[0;34m\u001b[0m\u001b[0;34m\u001b[0m\u001b[0m\n",
            "\u001b[0;32m/usr/local/lib/python3.6/dist-packages/tensorflow/python/keras/engine/data_adapter.py\u001b[0m in \u001b[0;36m__init__\u001b[0;34m(self, x, y, sample_weight, batch_size, steps_per_epoch, initial_epoch, epochs, shuffle, class_weight, max_queue_size, workers, use_multiprocessing, model, steps_per_execution)\u001b[0m\n\u001b[1;32m   1115\u001b[0m         \u001b[0muse_multiprocessing\u001b[0m\u001b[0;34m=\u001b[0m\u001b[0muse_multiprocessing\u001b[0m\u001b[0;34m,\u001b[0m\u001b[0;34m\u001b[0m\u001b[0;34m\u001b[0m\u001b[0m\n\u001b[1;32m   1116\u001b[0m         \u001b[0mdistribution_strategy\u001b[0m\u001b[0;34m=\u001b[0m\u001b[0mds_context\u001b[0m\u001b[0;34m.\u001b[0m\u001b[0mget_strategy\u001b[0m\u001b[0;34m(\u001b[0m\u001b[0;34m)\u001b[0m\u001b[0;34m,\u001b[0m\u001b[0;34m\u001b[0m\u001b[0;34m\u001b[0m\u001b[0m\n\u001b[0;32m-> 1117\u001b[0;31m         model=model)\n\u001b[0m\u001b[1;32m   1118\u001b[0m \u001b[0;34m\u001b[0m\u001b[0m\n\u001b[1;32m   1119\u001b[0m     \u001b[0mstrategy\u001b[0m \u001b[0;34m=\u001b[0m \u001b[0mds_context\u001b[0m\u001b[0;34m.\u001b[0m\u001b[0mget_strategy\u001b[0m\u001b[0;34m(\u001b[0m\u001b[0;34m)\u001b[0m\u001b[0;34m\u001b[0m\u001b[0;34m\u001b[0m\u001b[0m\n",
            "\u001b[0;32m/usr/local/lib/python3.6/dist-packages/tensorflow/python/keras/engine/data_adapter.py\u001b[0m in \u001b[0;36m__init__\u001b[0;34m(self, x, y, sample_weights, sample_weight_modes, batch_size, epochs, steps, shuffle, **kwargs)\u001b[0m\n\u001b[1;32m    280\u001b[0m             label, \", \".join(str(i.shape[0]) for i in nest.flatten(data)))\n\u001b[1;32m    281\u001b[0m       \u001b[0mmsg\u001b[0m \u001b[0;34m+=\u001b[0m \u001b[0;34m\"Please provide data which shares the same first dimension.\"\u001b[0m\u001b[0;34m\u001b[0m\u001b[0;34m\u001b[0m\u001b[0m\n\u001b[0;32m--> 282\u001b[0;31m       \u001b[0;32mraise\u001b[0m \u001b[0mValueError\u001b[0m\u001b[0;34m(\u001b[0m\u001b[0mmsg\u001b[0m\u001b[0;34m)\u001b[0m\u001b[0;34m\u001b[0m\u001b[0;34m\u001b[0m\u001b[0m\n\u001b[0m\u001b[1;32m    283\u001b[0m     \u001b[0mnum_samples\u001b[0m \u001b[0;34m=\u001b[0m \u001b[0mnum_samples\u001b[0m\u001b[0;34m.\u001b[0m\u001b[0mpop\u001b[0m\u001b[0;34m(\u001b[0m\u001b[0;34m)\u001b[0m\u001b[0;34m\u001b[0m\u001b[0;34m\u001b[0m\u001b[0m\n\u001b[1;32m    284\u001b[0m \u001b[0;34m\u001b[0m\u001b[0m\n",
            "\u001b[0;31mValueError\u001b[0m: Data cardinality is ambiguous:\n  x sizes: 128, 128, 40\n  y sizes: 10\nPlease provide data which shares the same first dimension."
          ]
        }
      ]
    },
    {
      "cell_type": "code",
      "metadata": {
        "colab": {
          "base_uri": "https://localhost:8080/"
        },
        "id": "wC1Uhd0y2p9b",
        "outputId": "9e366139-a424-4c07-e352-9a1f55d23593"
      },
      "source": [
        "\n",
        "final_loss, final_acc = model.evaluate([x_test_spectrogram,x_test_chroma,x_test_mfcc], y_test, verbose=1)\n",
        "print(\"Final loss: {0:.6f}, final accuracy: {1:.6f}\".format(final_loss, final_acc))\n",
        "\n",
        "final_loss, final_acc = model.evaluate([x_val_spectrogram,x_val_chroma,x_val_mfcc], y_val, verbose=1)\n",
        "print(\"Final loss: {0:.6f}, final accuracy: {1:.6f}\".format(final_loss, final_acc))\n",
        "\n"
      ],
      "execution_count": null,
      "outputs": [
        {
          "output_type": "stream",
          "text": [
            "7/7 [==============================] - 0s 11ms/step - loss: 0.0411 - accuracy: 0.9800\n",
            "Final loss: 0.041077, final accuracy: 0.980000\n",
            "7/7 [==============================] - 0s 10ms/step - loss: 0.0038 - accuracy: 1.0000\n",
            "Final loss: 0.003788, final accuracy: 1.000000\n"
          ],
          "name": "stdout"
        }
      ]
    },
    {
      "cell_type": "code",
      "metadata": {
        "id": "lsqlXP9JeMZW"
      },
      "source": [
        "model.load_weights(\"/content/drive/My Drive/UrbanSound8K/weights.best.basic_cnn.hdf5\")"
      ],
      "execution_count": null,
      "outputs": []
    },
    {
      "cell_type": "code",
      "metadata": {
        "colab": {
          "base_uri": "https://localhost:8080/"
        },
        "id": "xK9hmonwDGHF",
        "outputId": "cd260304-d78d-4c17-aa90-a66614d313e0"
      },
      "source": [
        "\n",
        "# Evaluating the model on the training and testing set\n",
        "score = model.evaluate([x_train_spectrogram,x_train_chroma,x_train_mfcc], y_train, verbose=0)\n",
        "print(\"Training Accuracy: \", score[1])\n",
        "\n",
        "score = model.evaluate([x_test_spectrogram,x_test_chroma,x_test_mfcc], y_test, verbose=0)\n",
        "print(\"Testing Accuracy: \", score[1])"
      ],
      "execution_count": null,
      "outputs": [
        {
          "output_type": "stream",
          "text": [
            "Training Accuracy:  1.0\n",
            "Testing Accuracy:  0.9950000047683716\n"
          ],
          "name": "stdout"
        }
      ]
    },
    {
      "cell_type": "code",
      "metadata": {
        "id": "uae0iLEMttMG"
      },
      "source": [
        ""
      ],
      "execution_count": null,
      "outputs": []
    },
    {
      "cell_type": "code",
      "metadata": {
        "id": "-AdsTmf0tth-"
      },
      "source": [
        "#print('test data', test_data)\n",
        "preds = np.round(model.predict([x_test_spectrogram,x_test_chroma,x_test_mfcc]),0) \n",
        "#to fit them into classification metrics and confusion metrics, some additional modificaitions are required\n",
        "#print('rounded test_labels', preds)"
      ],
      "execution_count": null,
      "outputs": []
    },
    {
      "cell_type": "code",
      "metadata": {
        "id": "gAmzgIJpw6Mc"
      },
      "source": [
        "Classes_List=['dog','rooster', 'rain','sea_waves' ,'crackling_fire', 'crying_baby','sneezing' ,'clock_tick','helicopter','chainsaw']"
      ],
      "execution_count": null,
      "outputs": []
    },
    {
      "cell_type": "code",
      "metadata": {
        "colab": {
          "base_uri": "https://localhost:8080/"
        },
        "id": "uVZIvcQwUT8T",
        "outputId": "da0ef9d1-6330-4e51-eb01-fbe48cfcffb0"
      },
      "source": [
        "import sklearn.metrics as metrics\n",
        "classification_metrics = metrics.classification_report(y_test, preds, target_names=Classes_List )\n",
        "print(classification_metrics)"
      ],
      "execution_count": null,
      "outputs": [
        {
          "output_type": "stream",
          "text": [
            "                precision    recall  f1-score   support\n",
            "\n",
            "           dog       1.00      1.00      1.00        18\n",
            "       rooster       1.00      1.00      1.00        16\n",
            "          rain       1.00      1.00      1.00        20\n",
            "     sea_waves       1.00      0.95      0.98        21\n",
            "crackling_fire       0.91      1.00      0.95        30\n",
            "   crying_baby       1.00      1.00      1.00        17\n",
            "      sneezing       0.95      1.00      0.97        18\n",
            "    clock_tick       1.00      0.88      0.93        24\n",
            "    helicopter       1.00      1.00      1.00        18\n",
            "      chainsaw       1.00      1.00      1.00        18\n",
            "\n",
            "     micro avg       0.98      0.98      0.98       200\n",
            "     macro avg       0.99      0.98      0.98       200\n",
            "  weighted avg       0.98      0.98      0.98       200\n",
            "   samples avg       0.98      0.98      0.98       200\n",
            "\n"
          ],
          "name": "stdout"
        }
      ]
    },
    {
      "cell_type": "code",
      "metadata": {
        "id": "4ueoeSAEVHLL"
      },
      "source": [
        ""
      ],
      "execution_count": null,
      "outputs": []
    },
    {
      "cell_type": "code",
      "metadata": {
        "id": "cE9M76g8Ck2x"
      },
      "source": [
        "#Since our data is in dummy format we put the numpy array into a dataframe and call idxmax axis=1 to return the column\n",
        "# label of the maximum value thus creating a categorical variable\n",
        "#Basically, flipping a dummy variable back to it's categorical variable\n",
        "categorical_test_labels = pd.DataFrame(y_test).idxmax(axis=1)\n",
        "categorical_preds = pd.DataFrame(preds).idxmax(axis=1)"
      ],
      "execution_count": null,
      "outputs": []
    },
    {
      "cell_type": "code",
      "metadata": {
        "id": "fxLP9pmpC8gL"
      },
      "source": [
        "confusion_matrix= confusion_matrix(categorical_test_labels, categorical_preds)"
      ],
      "execution_count": null,
      "outputs": []
    },
    {
      "cell_type": "code",
      "metadata": {
        "id": "YEWpGt2sDsIP"
      },
      "source": [
        "#To get better visual of the confusion matrix:\n",
        "from itertools import product\n",
        "def plot_confusion_matrix(cm, classes,\n",
        "             normalize=False,\n",
        "             title='Confusion matrix',\n",
        "             cmap=plt.cm.Blues):\n",
        "    #Add Normalization Option\n",
        "    '''prints pretty confusion metric with normalization option '''\n",
        "    if normalize:\n",
        "        cm = cm.astype('float') / cm.sum(axis=1)[:, np.newaxis]\n",
        "        print(\"Normalized confusion matrix\")\n",
        "    else:\n",
        "        print('Confusion matrix, without normalization')\n",
        "    \n",
        "#     print(cm)\n",
        "    \n",
        "    plt.imshow(cm, interpolation='nearest', cmap=cmap)\n",
        "    plt.title(title)\n",
        "    plt.colorbar()\n",
        "    tick_marks = np.arange(len(classes))\n",
        "    plt.xticks(tick_marks, classes, rotation=45)\n",
        "    plt.yticks(tick_marks, classes)\n",
        "    \n",
        "    fmt = '.2f' if normalize else 'd'\n",
        "    thresh = cm.max() / 2.\n",
        "    for i, j in product(range(cm.shape[0]), range(cm.shape[1])):\n",
        "        plt.text(j, i, format(cm[i, j], fmt), horizontalalignment=\"center\", color=\"white\" if cm[i, j] > thresh else \"black\")\n",
        "    \n",
        "    #plt.tight_layout()\n",
        "    plt.ylabel('True label')\n",
        "    plt.xlabel('Predicted label')"
      ],
      "execution_count": null,
      "outputs": []
    },
    {
      "cell_type": "code",
      "metadata": {
        "colab": {
          "base_uri": "https://localhost:8080/",
          "height": 357
        },
        "id": "bO3wgRi-DxIX",
        "outputId": "4496a9ba-853d-49e9-8f90-74ea85e9962a"
      },
      "source": [
        "plot_confusion_matrix(confusion_matrix, Classes_List)"
      ],
      "execution_count": null,
      "outputs": [
        {
          "output_type": "stream",
          "text": [
            "Confusion matrix, without normalization\n"
          ],
          "name": "stdout"
        },
        {
          "output_type": "display_data",
          "data": {
            "image/png": "[encoded data removed]",
            "text/plain": [
              "<Figure size 432x288 with 2 Axes>"
            ]
          },
          "metadata": {
            "tags": [],
            "needs_background": "light"
          }
        }
      ]
    },
    {
      "cell_type": "code",
      "metadata": {
        "colab": {
          "base_uri": "https://localhost:8080/",
          "height": 357
        },
        "id": "912bQHG7FNUl",
        "outputId": "153bc907-abb8-4b35-900b-d1677b5322a0"
      },
      "source": [
        "plot_confusion_matrix(confusion_matrix, Classes_List,normalize=True)"
      ],
      "execution_count": null,
      "outputs": [
        {
          "output_type": "stream",
          "text": [
            "Normalized confusion matrix\n"
          ],
          "name": "stdout"
        },
        {
          "output_type": "display_data",
          "data": {
            "image/png": "[encoded data removed]",
            "text/plain": [
              "<Figure size 432x288 with 2 Axes>"
            ]
          },
          "metadata": {
            "tags": [],
            "needs_background": "light"
          }
        }
      ]
    },
    {
      "cell_type": "code",
      "metadata": {
        "id": "huLatZz93NWp"
      },
      "source": [
        ""
      ],
      "execution_count": null,
      "outputs": []
    }
  ]
}