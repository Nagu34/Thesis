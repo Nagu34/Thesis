{
  "nbformat": 4,
  "nbformat_minor": 0,
  "metadata": {
    "colab": {
      "name": "ESC-50_Datatet_Augmented.ipynb",
      "provenance": [],
      "collapsed_sections": [],
      "machine_shape": "hm",
      "mount_file_id": "1683-JletK7oUXhYWUc4iuCGv1bhhrqTS",
      "authorship_tag": "ABX9TyPg1ky5Mp51K5XJzBSc6yBx",
      "include_colab_link": true
    },
    "kernelspec": {
      "name": "python3",
      "display_name": "Python 3"
    },
    "accelerator": "GPU"
  },
  "cells": [
    {
      "cell_type": "markdown",
      "metadata": {
        "id": "view-in-github",
        "colab_type": "text"
      },
      "source": [
        "<a href=\"https://colab.research.google.com/github/Nagu34/Thesis/blob/main/ESC_50_Datatet_Augmented.ipynb\" target=\"_parent\"><img src=\"https://colab.research.google.com/assets/colab-badge.svg\" alt=\"Open In Colab\"/></a>"
      ]
    },
    {
      "cell_type": "code",
      "metadata": {
        "id": "nVCnZHdtfBum"
      },
      "source": [
        ""
      ],
      "execution_count": null,
      "outputs": []
    },
    {
      "cell_type": "code",
      "metadata": {
        "id": "JcA-eupMaQ0C",
        "colab": {
          "base_uri": "https://localhost:8080/",
          "height": 17
        },
        "outputId": "e20c3e6b-e202-48f3-ce46-ecabd7100688"
      },
      "source": [
        "#package imports\n",
        "import os\n",
        "import random\n",
        "import sys\n",
        "import glob \n",
        "import keras\n",
        "\n",
        "import IPython.display as ipd\n",
        "import librosa\n",
        "import librosa.display\n",
        "import matplotlib.pyplot as plt\n",
        "import numpy as np\n",
        "import pandas as pd\n",
        "import plotly.graph_objs as go\n",
        "import plotly.offline as py\n",
        "import plotly.tools as tls\n",
        "import seaborn as sns\n",
        "import scipy.io.wavfile\n",
        "import tensorflow as tf\n",
        "py.init_notebook_mode(connected=True)\n",
        "\n",
        "\n",
        "## Keras\n",
        "from keras import regularizers\n",
        "from keras.callbacks import ModelCheckpoint, LearningRateScheduler, EarlyStopping\n",
        "from keras.callbacks import  History, ReduceLROnPlateau, CSVLogger\n",
        "from keras.models import Model, Sequential\n",
        "from keras.layers import Dense, Embedding, LSTM\n",
        "from keras.layers import Input, Flatten, Dropout, Activation, BatchNormalization\n",
        "from keras.layers import Conv1D, MaxPooling1D, AveragePooling1D\n",
        "from keras.preprocessing import sequence\n",
        "from keras.preprocessing.sequence import pad_sequences\n",
        "from keras.preprocessing.text import Tokenizer\n",
        "from keras.utils import np_utils\n",
        "from keras.utils import to_categorical\n",
        "\n",
        "\n",
        "## Sklearn\n",
        "from sklearn.metrics import confusion_matrix\n",
        "from sklearn.preprocessing import LabelEncoder\n",
        "\n",
        "\n",
        "## Rest\n",
        "from scipy.fftpack import fft\n",
        "from scipy import signal\n",
        "from scipy.io import wavfile\n",
        "from tqdm import tqdm\n",
        "\n",
        "## extra added \n",
        "import pandas as pd\n",
        "import numpy as np\n",
        "import os\n",
        "import librosa\n",
        "import matplotlib.pyplot as plt\n",
        "import librosa.display\n",
        "import IPython.display as ipd\n",
        "from scipy import stats\n",
        "import warnings\n",
        "import seaborn as sns\n",
        "import multiprocessing as mp\n",
        "%matplotlib inline"
      ],
      "execution_count": null,
      "outputs": [
        {
          "output_type": "display_data",
          "data": {
            "text/html": [
              "        <script type=\"text/javascript\">\n",
              "        window.PlotlyConfig = {MathJaxConfig: 'local'};\n",
              "        if (window.MathJax) {MathJax.Hub.Config({SVG: {font: \"STIX-Web\"}});}\n",
              "        if (typeof require !== 'undefined') {\n",
              "        require.undef(\"plotly\");\n",
              "        requirejs.config({\n",
              "            paths: {\n",
              "                'plotly': ['https://cdn.plot.ly/plotly-latest.min']\n",
              "            }\n",
              "        });\n",
              "        require(['plotly'], function(Plotly) {\n",
              "            window._Plotly = Plotly;\n",
              "        });\n",
              "        }\n",
              "        </script>\n",
              "        "
            ]
          },
          "metadata": {
            "tags": []
          }
        }
      ]
    },
    {
      "cell_type": "code",
      "metadata": {
        "id": "Wxsynl2Par21"
      },
      "source": [
        "import pandas as pd\n",
        "import numpy as np\n",
        "import os\n",
        "import librosa\n",
        "import matplotlib.pyplot as plt\n",
        "import librosa.display\n",
        "import IPython.display as ipd\n",
        "from scipy import stats\n",
        "import warnings\n",
        "import seaborn as sns\n",
        "import multiprocessing as mp\n",
        "%matplotlib inline"
      ],
      "execution_count": null,
      "outputs": []
    },
    {
      "cell_type": "code",
      "metadata": {
        "id": "pyX8e_WMh7DB"
      },
      "source": [
        "import pandas as pd\n",
        "import numpy as np\n",
        "from skimage.io import imread\n",
        "from sklearn.model_selection import train_test_split\n",
        "from matplotlib import pyplot as plt\n",
        "%matplotlib inline\n",
        "\n",
        "import keras\n",
        "from keras import optimizers\n",
        "from keras.utils import to_categorical\n",
        "from keras.layers import Input, Dense, Flatten, Dropout, Conv2D, MaxPooling2D, GlobalAveragePooling2D, Activation, concatenate\n",
        "from keras.layers.advanced_activations import LeakyReLU\n",
        "from keras.layers.normalization import BatchNormalization\n",
        "from keras.models import Model\n",
        "from keras.callbacks import ModelCheckpoint, ReduceLROnPlateau"
      ],
      "execution_count": null,
      "outputs": []
    },
    {
      "cell_type": "code",
      "metadata": {
        "id": "qfxvd33a2BvO"
      },
      "source": [
        ""
      ],
      "execution_count": null,
      "outputs": []
    },
    {
      "cell_type": "code",
      "metadata": {
        "id": "x17tyBtp2HFQ"
      },
      "source": [
        ""
      ],
      "execution_count": null,
      "outputs": []
    },
    {
      "cell_type": "code",
      "metadata": {
        "id": "fcZr6KiA3aZW",
        "colab": {
          "base_uri": "https://localhost:8080/"
        },
        "outputId": "07f30261-daf1-4d4c-e0c1-818aedaefa2e"
      },
      "source": [
        "from PIL import Image\n",
        "from numpy import asarray\n",
        "# load the image\n",
        "image = Image.open('/content/drive/My Drive/ESC-50-master/ESC_RGBA_224/2-118964-A-0.png')\n",
        "# convert image to numpy array\n",
        "data = asarray(image)\n",
        "print(type(data))\n",
        "# summarize shape\n",
        "print(data.shape)\n",
        "\n",
        "# create Pillow image\n",
        "image2 = Image.fromarray(data)\n",
        "print(type(image2))\n",
        "\n",
        "# summarize image details\n",
        "print(image2.mode)\n",
        "print(image2.size)"
      ],
      "execution_count": null,
      "outputs": [
        {
          "output_type": "stream",
          "text": [
            "<class 'numpy.ndarray'>\n",
            "(224, 224, 4)\n",
            "<class 'PIL.Image.Image'>\n",
            "RGBA\n",
            "(224, 224)\n"
          ],
          "name": "stdout"
        }
      ]
    },
    {
      "cell_type": "code",
      "metadata": {
        "id": "EGCGHO_EJvlC"
      },
      "source": [
        "labels1 = np.load('/content/drive/MyDrive/ESC-50-master/labels_128.npy',allow_pickle=True) \n",
        "labels_aug = np.load('/content/drive/MyDrive/ESC-50-master/labels_128_aug.npy',allow_pickle=True) "
      ],
      "execution_count": null,
      "outputs": []
    },
    {
      "cell_type": "code",
      "metadata": {
        "id": "QCVoxapF1l4B",
        "colab": {
          "base_uri": "https://localhost:8080/"
        },
        "outputId": "417bcc22-4f27-4ea9-e538-206e5d8af690"
      },
      "source": [
        "labels1.shape"
      ],
      "execution_count": null,
      "outputs": [
        {
          "output_type": "execute_result",
          "data": {
            "text/plain": [
              "(2000,)"
            ]
          },
          "metadata": {
            "tags": []
          },
          "execution_count": 8
        }
      ]
    },
    {
      "cell_type": "code",
      "metadata": {
        "id": "Dg6YdCq93PgG"
      },
      "source": [
        "labels=np.append(labels1,labels_aug)"
      ],
      "execution_count": null,
      "outputs": []
    },
    {
      "cell_type": "code",
      "metadata": {
        "id": "ixpvhNQM3X_M",
        "colab": {
          "base_uri": "https://localhost:8080/"
        },
        "outputId": "489245c2-d102-42f7-d323-4aaea5a06682"
      },
      "source": [
        "labels"
      ],
      "execution_count": null,
      "outputs": [
        {
          "output_type": "execute_result",
          "data": {
            "text/plain": [
              "array([0, 14, 36, ..., 0, 0, 0], dtype=object)"
            ]
          },
          "metadata": {
            "tags": []
          },
          "execution_count": 11
        }
      ]
    },
    {
      "cell_type": "code",
      "metadata": {
        "id": "7mj6FeoKRsBv"
      },
      "source": [
        "#labels = data_df.sound.values\n",
        "\n",
        "# convert class vectors to binary class matrices One Hot Encoding\n",
        "labels = keras.utils.to_categorical(labels, 50)"
      ],
      "execution_count": null,
      "outputs": []
    },
    {
      "cell_type": "code",
      "metadata": {
        "id": "e0ap1SckixOG"
      },
      "source": [
        "np.save('/content/drive/MyDrive/ESC-50-master/labels_augmentedfull1.npy',labels) "
      ],
      "execution_count": null,
      "outputs": []
    },
    {
      "cell_type": "code",
      "metadata": {
        "id": "QEwccyIMs_QP",
        "colab": {
          "base_uri": "https://localhost:8080/"
        },
        "outputId": "c4e9e616-332e-4663-d263-923269bc70e4"
      },
      "source": [
        "labels.shape"
      ],
      "execution_count": null,
      "outputs": [
        {
          "output_type": "execute_result",
          "data": {
            "text/plain": [
              "(2000, 50)"
            ]
          },
          "metadata": {
            "tags": []
          },
          "execution_count": 10
        }
      ]
    },
    {
      "cell_type": "code",
      "metadata": {
        "id": "Gg7WSG1_OlJ-"
      },
      "source": [
        "x_train_spectrogram = np.load('/content/drive/MyDrive/ESC-50-master/x_train_rgb_128_esc_spectrogram.npy')\n",
        "x_train_spectrogram_aug = np.load('/content/drive/MyDrive/ESC-50-master/x_train_rgb_128_esc_spectrogram_aug.npy')\n",
        "x_train_chroma = np.load('/content/drive/MyDrive/ESC-50-master/x_train_rgb_128_esc_chroma.npy')\n",
        "x_train_chroma_aug = np.load('/content/drive/MyDrive/ESC-50-master/x_train_rgb_128_esc_chroma_aug.npy')"
      ],
      "execution_count": null,
      "outputs": []
    },
    {
      "cell_type": "code",
      "metadata": {
        "id": "TUjeKjlNXyiP"
      },
      "source": [
        "x_train_chroma_new=np.append(x_train_chroma,x_train_chroma_aug,axis=0)\n",
        "np.save('/content/drive/MyDrive/ESC-50-master/x_train_rgb_128_chroma_augmentedfull.npy', x_train_chroma_new)"
      ],
      "execution_count": null,
      "outputs": []
    },
    {
      "cell_type": "code",
      "metadata": {
        "id": "YAYQrsseluFR"
      },
      "source": [
        "x_train_spectrogram_new=np.append(x_train_spectrogram,x_train_spectrogram_aug,axis=0)\n",
        "np.save('/content/drive/MyDrive/ESC-50-master/x_train_rgb_128_spectrogram_augmentedfull.npy', x_train_spectrogram_new)"
      ],
      "execution_count": null,
      "outputs": []
    },
    {
      "cell_type": "code",
      "metadata": {
        "id": "JDl6H6tmaCbJ"
      },
      "source": [
        "featuresdf=pd.read_pickle('/content/drive/MyDrive/ESC-50-master/esc_mfcc_aug.pkl')\n",
        "featuresdf_old=pd.read_pickle('/content/drive/MyDrive/ESC-50-master/esc_mfcc.pkl')"
      ],
      "execution_count": null,
      "outputs": []
    },
    {
      "cell_type": "code",
      "metadata": {
        "id": "FS9_CmDBpj_r",
        "colab": {
          "base_uri": "https://localhost:8080/"
        },
        "outputId": "96999a58-4b94-44f9-ef05-37d8613b3005"
      },
      "source": [
        "x_train_spectrogram_new.shape"
      ],
      "execution_count": null,
      "outputs": [
        {
          "output_type": "execute_result",
          "data": {
            "text/plain": [
              "(10000, 128, 128, 3)"
            ]
          },
          "metadata": {
            "tags": []
          },
          "execution_count": 9
        }
      ]
    },
    {
      "cell_type": "code",
      "metadata": {
        "id": "YFp4WsF0iE5f"
      },
      "source": [
        "features_df=featuresdf_old.append(featuresdf)"
      ],
      "execution_count": null,
      "outputs": []
    },
    {
      "cell_type": "code",
      "metadata": {
        "id": "5LpHEMCd3rra"
      },
      "source": [
        "labels = np.load('/content/drive/MyDrive/ESC-50-master/labels_augmentedfull1.npy',allow_pickle=True) \n",
        "x_train_spectrogram = np.load('/content/drive/MyDrive/ESC-50-master/x_train_rgb_128_spectrogram_augmentedfull.npy',allow_pickle=True)\n",
        "x_train_chroma = np.load('/content/drive/MyDrive/ESC-50-master/x_train_rgb_128_chroma_augmentedfull.npy',allow_pickle=True)"
      ],
      "execution_count": null,
      "outputs": []
    },
    {
      "cell_type": "code",
      "metadata": {
        "id": "Ym7eoFvlq2FY",
        "colab": {
          "base_uri": "https://localhost:8080/"
        },
        "outputId": "d4c3eece-d24e-473b-d7a6-24ee69245461"
      },
      "source": [
        "x_train_spectrogram.shape"
      ],
      "execution_count": null,
      "outputs": [
        {
          "output_type": "execute_result",
          "data": {
            "text/plain": [
              "(10000, 128, 128, 3)"
            ]
          },
          "metadata": {
            "tags": []
          },
          "execution_count": 5
        }
      ]
    },
    {
      "cell_type": "code",
      "metadata": {
        "id": "b0Nc7CTrq5Nj",
        "colab": {
          "base_uri": "https://localhost:8080/"
        },
        "outputId": "126e869f-4f06-4dac-d263-507882c5e4a1"
      },
      "source": [
        "labels.shape"
      ],
      "execution_count": null,
      "outputs": [
        {
          "output_type": "execute_result",
          "data": {
            "text/plain": [
              "(10000, 50)"
            ]
          },
          "metadata": {
            "tags": []
          },
          "execution_count": 6
        }
      ]
    },
    {
      "cell_type": "code",
      "metadata": {
        "id": "JaE4RbLFbZia"
      },
      "source": [
        "#x_train_spectrogram = np.load('/content/drive/My Drive/UrbanSound8K/x_train_rgb_224_spectrogram.npy') \n",
        "x_train_spectrogram, x_test_spectrogram, y_train, y_test = train_test_split(x_train_spectrogram, labels, test_size = 0.2, random_state=666)\n",
        "x_train_chroma, x_test_chroma, y_train, y_test = train_test_split(x_train_chroma, labels, test_size = 0.2, random_state=666)"
      ],
      "execution_count": null,
      "outputs": []
    },
    {
      "cell_type": "code",
      "metadata": {
        "id": "5hL4yrXBDR5P"
      },
      "source": [
        ""
      ],
      "execution_count": null,
      "outputs": []
    },
    {
      "cell_type": "code",
      "metadata": {
        "id": "CIEdgErDDSWa"
      },
      "source": [
        "#x_train_spectrogram = np.load('/content/drive/My Drive/UrbanSound8K/x_train_rgb_224_spectrogram.npy') \n",
        "x_train_spectrogram, x_test_spectrogram, y_spec_train, y_spec_test = train_test_split(x_train_spectrogram, labels, test_size = 0.2, random_state=666)\n",
        "x_train_chroma, x_test_chroma, y_chr_train, y_chr_test = train_test_split(x_train_chroma, labels, test_size = 0.2, random_state=666)"
      ],
      "execution_count": null,
      "outputs": []
    },
    {
      "cell_type": "code",
      "metadata": {
        "id": "fKDJXLq4quSp"
      },
      "source": [
        "#x_train_spectrogram = np.load('/content/drive/My Drive/UrbanSound8K/x_train_rgb_224_spectrogram.npy') \n",
        "x_val_spectrogram, x_test_spectrogram, y_val, y_test = train_test_split(x_test_spectrogram, y_spec_test, test_size = 0.5, random_state=666)\n",
        "x_val_chroma, x_test_chroma, y_val, y_test = train_test_split(x_test_chroma, y_chr_test, test_size = 0.5, random_state=666)"
      ],
      "execution_count": null,
      "outputs": []
    },
    {
      "cell_type": "code",
      "metadata": {
        "id": "iPwfQOF85eZJ",
        "colab": {
          "base_uri": "https://localhost:8080/"
        },
        "outputId": "a55e288a-64ae-4622-d768-1644df056796"
      },
      "source": [
        "x_train_chroma.shape"
      ],
      "execution_count": null,
      "outputs": [
        {
          "output_type": "execute_result",
          "data": {
            "text/plain": [
              "(8000, 128, 128, 3)"
            ]
          },
          "metadata": {
            "tags": []
          },
          "execution_count": 10
        }
      ]
    },
    {
      "cell_type": "code",
      "metadata": {
        "id": "u2WZyMYW5gas"
      },
      "source": [
        "x_train_spectrogram_new=np.append(x_train_spectrogram,x_train_spectrogram_aug,axis=0)"
      ],
      "execution_count": null,
      "outputs": []
    },
    {
      "cell_type": "code",
      "metadata": {
        "id": "vbfzHCPs5yYv",
        "colab": {
          "base_uri": "https://localhost:8080/"
        },
        "outputId": "6e2f862c-b1db-42f4-9da5-023c51d97ae4"
      },
      "source": [
        "x_train_spectrogram_new.shape"
      ],
      "execution_count": null,
      "outputs": [
        {
          "output_type": "execute_result",
          "data": {
            "text/plain": [
              "(11302, 224, 224, 3)"
            ]
          },
          "metadata": {
            "tags": []
          },
          "execution_count": 35
        }
      ]
    },
    {
      "cell_type": "code",
      "metadata": {
        "id": "78sTEWrU5-Aj"
      },
      "source": [
        "x_train_spectrogram, x_test_spectrogram, y_train, y_test = train_test_split(x_train_spectrogram_new, labels, test_size = 0.2, random_state=666)"
      ],
      "execution_count": null,
      "outputs": []
    },
    {
      "cell_type": "code",
      "metadata": {
        "id": "IWpkEisD6cAj"
      },
      "source": [
        "np.save('/content/drive/My Drive/UrbanSound8K/x_train_rgb_224_spectrogram_augmentedfull.npy', x_train_spectrogram_new)\n",
        "np.save('/content/drive/My Drive/UrbanSound8K/labels_augmentedfull.npy', labels)"
      ],
      "execution_count": null,
      "outputs": []
    },
    {
      "cell_type": "code",
      "metadata": {
        "id": "t3sHVTJtHfey"
      },
      "source": [
        "def create_convolution_layers(input_img):\n",
        "  model = Conv2D(32, (3, 3), padding='same', input_shape=input_shape)(input_img)\n",
        "  model = LeakyReLU(alpha=0.1)(model)\n",
        "  model = MaxPooling2D((2, 2),padding='same')(model)\n",
        "  model = Dropout(0.25)(model)\n",
        "  \n",
        "  model = Conv2D(64, (3, 3), padding='same')(model)\n",
        "  model = LeakyReLU(alpha=0.1)(model)\n",
        "  model = MaxPooling2D(pool_size=(2, 2),padding='same')(model)\n",
        "  model = Dropout(0.25)(model)\n",
        "    \n",
        "  model = Conv2D(64, (3, 3), padding='same')(model)\n",
        "  model = LeakyReLU(alpha=0.1)(model)\n",
        "  model = MaxPooling2D(pool_size=(2, 2),padding='same')(model)\n",
        "  model = Dropout(0.25)(model)\n",
        "\n",
        "  model = Conv2D(128, (3, 3), padding='same')(model)\n",
        "  model = LeakyReLU(alpha=0.1)(model)\n",
        "  model = MaxPooling2D(pool_size=(2, 2),padding='same')(model)\n",
        "  model = Dropout(0.25)(model)\n",
        "\n",
        "  model = GlobalAveragePooling2D()(model)\n",
        "    \n",
        "  return model"
      ],
      "execution_count": null,
      "outputs": []
    },
    {
      "cell_type": "code",
      "metadata": {
        "id": "1ihl-OWSwqut"
      },
      "source": [
        "def create_convolution_layers1(input_img):\n",
        "    base_model2 = keras.applications.InceptionV3(weights='imagenet',include_top=False)\n",
        "    x = base_model2(input_img, training=True)\n",
        "    # Convert features of shape `base_model.output_shape[1:]` to vectors\n",
        "    x = keras.layers.GlobalAveragePooling2D()(x)\n",
        "    #x = Flatten()(x)\n",
        "    return x\n"
      ],
      "execution_count": null,
      "outputs": []
    },
    {
      "cell_type": "code",
      "metadata": {
        "id": "_Fny4w9Hwr8n"
      },
      "source": [
        "def create_convolution_layers2(input_img):\n",
        "    base_model2 = keras.applications.VGG19(weights='imagenet',include_top=False)\n",
        "    x = base_model2(input_img, training=True)\n",
        "    # Convert features of shape `base_model.output_shape[1:]` to vectors\n",
        "    #x = keras.layers.GlobalAveragePooling2D()(x)\n",
        "    x = Flatten()(x)\n",
        "    return x"
      ],
      "execution_count": null,
      "outputs": []
    },
    {
      "cell_type": "code",
      "metadata": {
        "id": "SN5sJyRY40Nu"
      },
      "source": [
        "def create_convolution_layers3(input_img):\n",
        "    base_model2 = keras.applications.Xception(weights='imagenet',include_top=False)\n",
        "    x = Conv2D(3,(3,3),padding='same')(input_img)\n",
        "    x = base_model2(x, training=True)\n",
        "    # Convert features of shape `base_model.output_shape[1:]` to vectors\n",
        "    #x = keras.layers.GlobalAveragePooling2D()(x)\n",
        "    x = Flatten()(x)\n",
        "    return x"
      ],
      "execution_count": null,
      "outputs": []
    },
    {
      "cell_type": "code",
      "metadata": {
        "id": "7RBG1sXJO8iv"
      },
      "source": [
        "as_gray = False\n",
        "in_channel = 3\n",
        "\n",
        "if as_gray:\n",
        "  in_channel = 1\n",
        "\n",
        "img_rows, img_cols = 128, 128\n",
        "num_classes = 50 # number of appliances\n",
        "\n",
        "batch_size = 32\n",
        "epochs = 100\n",
        "input_shape = (img_rows, img_cols, in_channel)\n",
        "input_img = Input(shape = input_shape)"
      ],
      "execution_count": null,
      "outputs": []
    },
    {
      "cell_type": "code",
      "metadata": {
        "id": "bC4ScqtffDzE"
      },
      "source": [
        ""
      ],
      "execution_count": null,
      "outputs": []
    },
    {
      "cell_type": "code",
      "metadata": {
        "id": "EH3bw8OuiH_h"
      },
      "source": [
        "spectrogram_input = Input(shape=input_shape)\n",
        "spectrogram_model = create_convolution_layers(spectrogram_input)\n",
        "\n",
        "chroma_input = Input(shape=input_shape)\n",
        "chroma_model = create_convolution_layers(chroma_input)"
      ],
      "execution_count": null,
      "outputs": []
    },
    {
      "cell_type": "code",
      "metadata": {
        "id": "JK85Oo9JBOvA"
      },
      "source": [
        "features_df=pd.read_pickle('/content/drive/MyDrive/ESC-50-master/mfcc_augemtedfull_128.pkl')"
      ],
      "execution_count": null,
      "outputs": []
    },
    {
      "cell_type": "code",
      "metadata": {
        "id": "jX0l2bQEhqqr",
        "colab": {
          "base_uri": "https://localhost:8080/"
        },
        "outputId": "8b3ba44e-5115-4668-8614-0047791cd33a"
      },
      "source": [
        "features_df.shape"
      ],
      "execution_count": null,
      "outputs": [
        {
          "output_type": "execute_result",
          "data": {
            "text/plain": [
              "(10000, 2)"
            ]
          },
          "metadata": {
            "tags": []
          },
          "execution_count": 31
        }
      ]
    },
    {
      "cell_type": "code",
      "metadata": {
        "id": "6FqFdsrQiMxb"
      },
      "source": [
        "X = np.array(features_df.feature.tolist())"
      ],
      "execution_count": null,
      "outputs": []
    },
    {
      "cell_type": "code",
      "metadata": {
        "id": "YC2Dxyu9BKGs",
        "colab": {
          "base_uri": "https://localhost:8080/"
        },
        "outputId": "d21d094e-63d8-4e51-b3e6-72953e0acaed"
      },
      "source": [
        "X.shape"
      ],
      "execution_count": null,
      "outputs": [
        {
          "output_type": "execute_result",
          "data": {
            "text/plain": [
              "(10000, 40, 217)"
            ]
          },
          "metadata": {
            "tags": []
          },
          "execution_count": 14
        }
      ]
    },
    {
      "cell_type": "code",
      "metadata": {
        "id": "ZYqZ4QgKO_Hk",
        "colab": {
          "base_uri": "https://localhost:8080/"
        },
        "outputId": "a8fc890c-e651-4989-baf0-83b67938d07d"
      },
      "source": [
        "labels.shape"
      ],
      "execution_count": null,
      "outputs": [
        {
          "output_type": "execute_result",
          "data": {
            "text/plain": [
              "(10000, 50)"
            ]
          },
          "metadata": {
            "tags": []
          },
          "execution_count": 15
        }
      ]
    },
    {
      "cell_type": "code",
      "metadata": {
        "id": "yA2CkR5YiOZe"
      },
      "source": [
        "x_train_mfcc, x_test_mfcc, y_train, y_test = train_test_split(X, labels, test_size=0.2, random_state = 666)\n",
        "\n",
        "num_rows = 40\n",
        "num_columns = 217\n",
        "num_channels = 1\n",
        "\n",
        "x_train_mfcc = x_train_mfcc.reshape(x_train_mfcc.shape[0], num_rows, num_columns, num_channels)\n",
        "x_test_mfcc = x_test_mfcc.reshape(x_test_mfcc.shape[0], num_rows, num_columns, num_channels)"
      ],
      "execution_count": null,
      "outputs": []
    },
    {
      "cell_type": "code",
      "metadata": {
        "id": "b--eKkznDyt4"
      },
      "source": [
        "x_train_mfcc, x_test_mfcc, y_mfcc_train, y_mfcc_test = train_test_split(X, labels, test_size=0.2, random_state = 666)\n",
        "x_val_mfcc, x_test_mfcc, y_val, y_test = train_test_split(x_test_mfcc, y_mfcc_test, test_size = 0.5, random_state=666)\n",
        "\n",
        "num_rows = 40\n",
        "num_columns = 217\n",
        "num_channels = 1\n",
        "\n",
        "x_train_mfcc = x_train_mfcc.reshape(x_train_mfcc.shape[0], num_rows, num_columns, num_channels)\n",
        "x_test_mfcc = x_test_mfcc.reshape(x_test_mfcc.shape[0], num_rows, num_columns, num_channels)\n",
        "x_val_mfcc = x_val_mfcc.reshape(x_val_mfcc.shape[0], num_rows, num_columns, num_channels)"
      ],
      "execution_count": null,
      "outputs": []
    },
    {
      "cell_type": "code",
      "metadata": {
        "id": "F2jtT3DwiFIQ"
      },
      "source": [
        "num_rows = 40\n",
        "num_columns = 217\n",
        "num_channels = 1\n",
        "input_shape=(num_rows, num_columns, num_channels)\n",
        "mfcc_input = Input(shape=input_shape)\n",
        "mfcc_model = create_convolution_layers(mfcc_input)"
      ],
      "execution_count": null,
      "outputs": []
    },
    {
      "cell_type": "code",
      "metadata": {
        "id": "U1LgEWiQ9sCJ",
        "colab": {
          "base_uri": "https://localhost:8080/"
        },
        "outputId": "e2ec0dd7-8f6b-40df-a455-2ccbf1a558f4"
      },
      "source": [
        "\n",
        "from keras.layers import multiply,dot,average,GlobalMaxPooling2D\n",
        "#chroma_input = Input(shape=input_shape)\n",
        "#chroma_model = create_convolution_layers(chroma_input)\n",
        "\n",
        "#conv = concatenate([spectrogram_model, chroma_model,mfcc_model])\n",
        "conv = concatenate([spectrogram_model,chroma_model,mfcc_model])#,mfcc_model])\n",
        "#conv = Flatten()(mfcc_model)\n",
        "\n",
        "dense = Dense(500)(conv)\n",
        "\n",
        "dense = Dropout(0.5)(dense)\n",
        "\n",
        "output = Dense(num_classes, activation='softmax')(dense)\n",
        "\n",
        "model = Model(inputs=[spectrogram_input,chroma_input,mfcc_input], outputs=[output])\n",
        "\n",
        "opt = optimizers.Adam()\n",
        "\n",
        "model.compile(loss='categorical_crossentropy',\n",
        "              optimizer=opt,\n",
        "              metrics=['accuracy'])\n",
        "\n",
        "print(model.summary())"
      ],
      "execution_count": null,
      "outputs": [
        {
          "output_type": "stream",
          "text": [
            "Model: \"functional_1\"\n",
            "__________________________________________________________________________________________________\n",
            "Layer (type)                    Output Shape         Param #     Connected to                     \n",
            "==================================================================================================\n",
            "input_2 (InputLayer)            [(None, 128, 128, 3) 0                                            \n",
            "__________________________________________________________________________________________________\n",
            "input_3 (InputLayer)            [(None, 128, 128, 3) 0                                            \n",
            "__________________________________________________________________________________________________\n",
            "input_4 (InputLayer)            [(None, 40, 217, 1)] 0                                            \n",
            "__________________________________________________________________________________________________\n",
            "conv2d (Conv2D)                 (None, 128, 128, 32) 896         input_2[0][0]                    \n",
            "__________________________________________________________________________________________________\n",
            "conv2d_4 (Conv2D)               (None, 128, 128, 32) 896         input_3[0][0]                    \n",
            "__________________________________________________________________________________________________\n",
            "conv2d_8 (Conv2D)               (None, 40, 217, 32)  320         input_4[0][0]                    \n",
            "__________________________________________________________________________________________________\n",
            "leaky_re_lu (LeakyReLU)         (None, 128, 128, 32) 0           conv2d[0][0]                     \n",
            "__________________________________________________________________________________________________\n",
            "leaky_re_lu_4 (LeakyReLU)       (None, 128, 128, 32) 0           conv2d_4[0][0]                   \n",
            "__________________________________________________________________________________________________\n",
            "leaky_re_lu_8 (LeakyReLU)       (None, 40, 217, 32)  0           conv2d_8[0][0]                   \n",
            "__________________________________________________________________________________________________\n",
            "max_pooling2d (MaxPooling2D)    (None, 64, 64, 32)   0           leaky_re_lu[0][0]                \n",
            "__________________________________________________________________________________________________\n",
            "max_pooling2d_4 (MaxPooling2D)  (None, 64, 64, 32)   0           leaky_re_lu_4[0][0]              \n",
            "__________________________________________________________________________________________________\n",
            "max_pooling2d_8 (MaxPooling2D)  (None, 20, 109, 32)  0           leaky_re_lu_8[0][0]              \n",
            "__________________________________________________________________________________________________\n",
            "dropout (Dropout)               (None, 64, 64, 32)   0           max_pooling2d[0][0]              \n",
            "__________________________________________________________________________________________________\n",
            "dropout_4 (Dropout)             (None, 64, 64, 32)   0           max_pooling2d_4[0][0]            \n",
            "__________________________________________________________________________________________________\n",
            "dropout_8 (Dropout)             (None, 20, 109, 32)  0           max_pooling2d_8[0][0]            \n",
            "__________________________________________________________________________________________________\n",
            "conv2d_1 (Conv2D)               (None, 64, 64, 64)   18496       dropout[0][0]                    \n",
            "__________________________________________________________________________________________________\n",
            "conv2d_5 (Conv2D)               (None, 64, 64, 64)   18496       dropout_4[0][0]                  \n",
            "__________________________________________________________________________________________________\n",
            "conv2d_9 (Conv2D)               (None, 20, 109, 64)  18496       dropout_8[0][0]                  \n",
            "__________________________________________________________________________________________________\n",
            "leaky_re_lu_1 (LeakyReLU)       (None, 64, 64, 64)   0           conv2d_1[0][0]                   \n",
            "__________________________________________________________________________________________________\n",
            "leaky_re_lu_5 (LeakyReLU)       (None, 64, 64, 64)   0           conv2d_5[0][0]                   \n",
            "__________________________________________________________________________________________________\n",
            "leaky_re_lu_9 (LeakyReLU)       (None, 20, 109, 64)  0           conv2d_9[0][0]                   \n",
            "__________________________________________________________________________________________________\n",
            "max_pooling2d_1 (MaxPooling2D)  (None, 32, 32, 64)   0           leaky_re_lu_1[0][0]              \n",
            "__________________________________________________________________________________________________\n",
            "max_pooling2d_5 (MaxPooling2D)  (None, 32, 32, 64)   0           leaky_re_lu_5[0][0]              \n",
            "__________________________________________________________________________________________________\n",
            "max_pooling2d_9 (MaxPooling2D)  (None, 10, 55, 64)   0           leaky_re_lu_9[0][0]              \n",
            "__________________________________________________________________________________________________\n",
            "dropout_1 (Dropout)             (None, 32, 32, 64)   0           max_pooling2d_1[0][0]            \n",
            "__________________________________________________________________________________________________\n",
            "dropout_5 (Dropout)             (None, 32, 32, 64)   0           max_pooling2d_5[0][0]            \n",
            "__________________________________________________________________________________________________\n",
            "dropout_9 (Dropout)             (None, 10, 55, 64)   0           max_pooling2d_9[0][0]            \n",
            "__________________________________________________________________________________________________\n",
            "conv2d_2 (Conv2D)               (None, 32, 32, 64)   36928       dropout_1[0][0]                  \n",
            "__________________________________________________________________________________________________\n",
            "conv2d_6 (Conv2D)               (None, 32, 32, 64)   36928       dropout_5[0][0]                  \n",
            "__________________________________________________________________________________________________\n",
            "conv2d_10 (Conv2D)              (None, 10, 55, 64)   36928       dropout_9[0][0]                  \n",
            "__________________________________________________________________________________________________\n",
            "leaky_re_lu_2 (LeakyReLU)       (None, 32, 32, 64)   0           conv2d_2[0][0]                   \n",
            "__________________________________________________________________________________________________\n",
            "leaky_re_lu_6 (LeakyReLU)       (None, 32, 32, 64)   0           conv2d_6[0][0]                   \n",
            "__________________________________________________________________________________________________\n",
            "leaky_re_lu_10 (LeakyReLU)      (None, 10, 55, 64)   0           conv2d_10[0][0]                  \n",
            "__________________________________________________________________________________________________\n",
            "max_pooling2d_2 (MaxPooling2D)  (None, 16, 16, 64)   0           leaky_re_lu_2[0][0]              \n",
            "__________________________________________________________________________________________________\n",
            "max_pooling2d_6 (MaxPooling2D)  (None, 16, 16, 64)   0           leaky_re_lu_6[0][0]              \n",
            "__________________________________________________________________________________________________\n",
            "max_pooling2d_10 (MaxPooling2D) (None, 5, 28, 64)    0           leaky_re_lu_10[0][0]             \n",
            "__________________________________________________________________________________________________\n",
            "dropout_2 (Dropout)             (None, 16, 16, 64)   0           max_pooling2d_2[0][0]            \n",
            "__________________________________________________________________________________________________\n",
            "dropout_6 (Dropout)             (None, 16, 16, 64)   0           max_pooling2d_6[0][0]            \n",
            "__________________________________________________________________________________________________\n",
            "dropout_10 (Dropout)            (None, 5, 28, 64)    0           max_pooling2d_10[0][0]           \n",
            "__________________________________________________________________________________________________\n",
            "conv2d_3 (Conv2D)               (None, 16, 16, 128)  73856       dropout_2[0][0]                  \n",
            "__________________________________________________________________________________________________\n",
            "conv2d_7 (Conv2D)               (None, 16, 16, 128)  73856       dropout_6[0][0]                  \n",
            "__________________________________________________________________________________________________\n",
            "conv2d_11 (Conv2D)              (None, 5, 28, 128)   73856       dropout_10[0][0]                 \n",
            "__________________________________________________________________________________________________\n",
            "leaky_re_lu_3 (LeakyReLU)       (None, 16, 16, 128)  0           conv2d_3[0][0]                   \n",
            "__________________________________________________________________________________________________\n",
            "leaky_re_lu_7 (LeakyReLU)       (None, 16, 16, 128)  0           conv2d_7[0][0]                   \n",
            "__________________________________________________________________________________________________\n",
            "leaky_re_lu_11 (LeakyReLU)      (None, 5, 28, 128)   0           conv2d_11[0][0]                  \n",
            "__________________________________________________________________________________________________\n",
            "max_pooling2d_3 (MaxPooling2D)  (None, 8, 8, 128)    0           leaky_re_lu_3[0][0]              \n",
            "__________________________________________________________________________________________________\n",
            "max_pooling2d_7 (MaxPooling2D)  (None, 8, 8, 128)    0           leaky_re_lu_7[0][0]              \n",
            "__________________________________________________________________________________________________\n",
            "max_pooling2d_11 (MaxPooling2D) (None, 3, 14, 128)   0           leaky_re_lu_11[0][0]             \n",
            "__________________________________________________________________________________________________\n",
            "dropout_3 (Dropout)             (None, 8, 8, 128)    0           max_pooling2d_3[0][0]            \n",
            "__________________________________________________________________________________________________\n",
            "dropout_7 (Dropout)             (None, 8, 8, 128)    0           max_pooling2d_7[0][0]            \n",
            "__________________________________________________________________________________________________\n",
            "dropout_11 (Dropout)            (None, 3, 14, 128)   0           max_pooling2d_11[0][0]           \n",
            "__________________________________________________________________________________________________\n",
            "global_average_pooling2d (Globa (None, 128)          0           dropout_3[0][0]                  \n",
            "__________________________________________________________________________________________________\n",
            "global_average_pooling2d_1 (Glo (None, 128)          0           dropout_7[0][0]                  \n",
            "__________________________________________________________________________________________________\n",
            "global_average_pooling2d_2 (Glo (None, 128)          0           dropout_11[0][0]                 \n",
            "__________________________________________________________________________________________________\n",
            "concatenate (Concatenate)       (None, 384)          0           global_average_pooling2d[0][0]   \n",
            "                                                                 global_average_pooling2d_1[0][0] \n",
            "                                                                 global_average_pooling2d_2[0][0] \n",
            "__________________________________________________________________________________________________\n",
            "dense (Dense)                   (None, 500)          192500      concatenate[0][0]                \n",
            "__________________________________________________________________________________________________\n",
            "dropout_12 (Dropout)            (None, 500)          0           dense[0][0]                      \n",
            "__________________________________________________________________________________________________\n",
            "dense_1 (Dense)                 (None, 50)           25050       dropout_12[0][0]                 \n",
            "==================================================================================================\n",
            "Total params: 607,502\n",
            "Trainable params: 607,502\n",
            "Non-trainable params: 0\n",
            "__________________________________________________________________________________________________\n",
            "None\n"
          ],
          "name": "stdout"
        }
      ]
    },
    {
      "cell_type": "code",
      "metadata": {
        "id": "y0eM6bc9IknK"
      },
      "source": [
        "import torch"
      ],
      "execution_count": null,
      "outputs": []
    },
    {
      "cell_type": "code",
      "metadata": {
        "colab": {
          "base_uri": "https://localhost:8080/"
        },
        "id": "LbNqfzK_fctU",
        "outputId": "38960135-43e1-48bf-e4d8-fc0c9f229b23"
      },
      "source": [
        "num_classes"
      ],
      "execution_count": null,
      "outputs": [
        {
          "output_type": "execute_result",
          "data": {
            "text/plain": [
              "50"
            ]
          },
          "metadata": {
            "tags": []
          },
          "execution_count": 71
        }
      ]
    },
    {
      "cell_type": "code",
      "metadata": {
        "id": "DfTix6-y-N6H",
        "colab": {
          "base_uri": "https://localhost:8080/"
        },
        "outputId": "2803147a-1cdc-437c-fac4-1e3c013ae2e1"
      },
      "source": [
        "from keras.callbacks import ModelCheckpoint \n",
        "from datetime import datetime \n",
        "\n",
        "#num_epochs = 12\n",
        "#num_batch_size = 256\n",
        "\n",
        "num_epochs = 200\n",
        "num_batch_size = 128\n",
        "\n",
        "#checkpointer = ModelCheckpoint(filepath='/content/drive/My Drive/UrbanSound8K/weights_spe_chr_mfcc.best.basic_cnn.hdf5', verbose=1, save_best_only=True)\n",
        "#callback = tf.keras.callbacks.EarlyStopping(patience=4, restore_best_weights=True)\n",
        "start = datetime.now()\n",
        "\n",
        "\n",
        "\n",
        "\n",
        "history=model.fit([x_train_spectrogram,x_train_chroma,x_train_mfcc], y_spec_train,\n",
        "          batch_size=num_batch_size,\n",
        "          epochs=num_epochs,\n",
        "          verbose=1,\n",
        "          validation_data=([x_val_spectrogram,x_val_chroma,x_val_mfcc], y_val), #callbacks=[checkpointer],\n",
        "          shuffle=True)\n",
        "\n",
        "\n",
        "duration = datetime.now() - start\n",
        "print(\"Training completed in time: \", duration)"
      ],
      "execution_count": null,
      "outputs": [
        {
          "output_type": "stream",
          "text": [
            "Epoch 1/200\n",
            "63/63 [==============================] - 9s 139ms/step - loss: 3.9303 - accuracy: 0.0634 - val_loss: 3.2125 - val_accuracy: 0.1370\n",
            "Epoch 2/200\n",
            "63/63 [==============================] - 8s 126ms/step - loss: 2.8855 - accuracy: 0.1964 - val_loss: 2.5929 - val_accuracy: 0.2560\n",
            "Epoch 3/200\n",
            "63/63 [==============================] - 8s 126ms/step - loss: 2.3380 - accuracy: 0.3205 - val_loss: 2.0772 - val_accuracy: 0.3910\n",
            "Epoch 4/200\n",
            "63/63 [==============================] - 8s 125ms/step - loss: 1.8468 - accuracy: 0.4442 - val_loss: 1.8183 - val_accuracy: 0.4440\n",
            "Epoch 5/200\n",
            "63/63 [==============================] - 8s 125ms/step - loss: 1.5430 - accuracy: 0.5325 - val_loss: 1.3328 - val_accuracy: 0.5890\n",
            "Epoch 6/200\n",
            "63/63 [==============================] - 8s 126ms/step - loss: 1.2889 - accuracy: 0.6108 - val_loss: 1.2703 - val_accuracy: 0.6220\n",
            "Epoch 7/200\n",
            "63/63 [==============================] - 8s 125ms/step - loss: 1.0854 - accuracy: 0.6687 - val_loss: 1.0399 - val_accuracy: 0.6920\n",
            "Epoch 8/200\n",
            "63/63 [==============================] - 8s 126ms/step - loss: 0.9566 - accuracy: 0.7040 - val_loss: 1.1079 - val_accuracy: 0.6790\n",
            "Epoch 9/200\n",
            "63/63 [==============================] - 8s 126ms/step - loss: 0.8442 - accuracy: 0.7368 - val_loss: 0.8588 - val_accuracy: 0.7330\n",
            "Epoch 10/200\n",
            "63/63 [==============================] - 8s 126ms/step - loss: 0.7362 - accuracy: 0.7735 - val_loss: 0.8930 - val_accuracy: 0.7440\n",
            "Epoch 11/200\n",
            "63/63 [==============================] - 8s 126ms/step - loss: 0.6399 - accuracy: 0.7964 - val_loss: 0.5288 - val_accuracy: 0.8420\n",
            "Epoch 12/200\n",
            "63/63 [==============================] - 8s 126ms/step - loss: 0.5830 - accuracy: 0.8134 - val_loss: 0.6238 - val_accuracy: 0.8070\n",
            "Epoch 13/200\n",
            "63/63 [==============================] - 8s 125ms/step - loss: 0.4981 - accuracy: 0.8393 - val_loss: 0.4889 - val_accuracy: 0.8550\n",
            "Epoch 14/200\n",
            "63/63 [==============================] - 8s 126ms/step - loss: 0.4536 - accuracy: 0.8539 - val_loss: 0.5750 - val_accuracy: 0.8170\n",
            "Epoch 15/200\n",
            "63/63 [==============================] - 8s 125ms/step - loss: 0.3996 - accuracy: 0.8705 - val_loss: 0.4607 - val_accuracy: 0.8670\n",
            "Epoch 16/200\n",
            "63/63 [==============================] - 8s 126ms/step - loss: 0.3856 - accuracy: 0.8785 - val_loss: 0.3451 - val_accuracy: 0.8910\n",
            "Epoch 17/200\n",
            "63/63 [==============================] - 8s 125ms/step - loss: 0.3039 - accuracy: 0.8989 - val_loss: 0.2602 - val_accuracy: 0.9210\n",
            "Epoch 18/200\n",
            "63/63 [==============================] - 8s 126ms/step - loss: 0.3014 - accuracy: 0.8995 - val_loss: 0.2959 - val_accuracy: 0.9120\n",
            "Epoch 19/200\n",
            "63/63 [==============================] - 8s 126ms/step - loss: 0.2758 - accuracy: 0.9119 - val_loss: 0.2416 - val_accuracy: 0.9290\n",
            "Epoch 20/200\n",
            "63/63 [==============================] - 8s 125ms/step - loss: 0.2383 - accuracy: 0.9194 - val_loss: 0.2316 - val_accuracy: 0.9250\n",
            "Epoch 21/200\n",
            "63/63 [==============================] - 8s 126ms/step - loss: 0.2369 - accuracy: 0.9236 - val_loss: 0.2711 - val_accuracy: 0.9160\n",
            "Epoch 22/200\n",
            "63/63 [==============================] - 8s 126ms/step - loss: 0.2020 - accuracy: 0.9331 - val_loss: 0.2115 - val_accuracy: 0.9350\n",
            "Epoch 23/200\n",
            "63/63 [==============================] - 8s 126ms/step - loss: 0.2093 - accuracy: 0.9306 - val_loss: 0.2424 - val_accuracy: 0.9270\n",
            "Epoch 24/200\n",
            "63/63 [==============================] - 8s 126ms/step - loss: 0.2343 - accuracy: 0.9212 - val_loss: 0.2584 - val_accuracy: 0.9150\n",
            "Epoch 25/200\n",
            "63/63 [==============================] - 8s 126ms/step - loss: 0.1894 - accuracy: 0.9358 - val_loss: 0.1588 - val_accuracy: 0.9470\n",
            "Epoch 26/200\n",
            "63/63 [==============================] - 8s 126ms/step - loss: 0.1905 - accuracy: 0.9401 - val_loss: 0.2125 - val_accuracy: 0.9330\n",
            "Epoch 27/200\n",
            "63/63 [==============================] - 8s 126ms/step - loss: 0.1669 - accuracy: 0.9474 - val_loss: 0.2140 - val_accuracy: 0.9280\n",
            "Epoch 28/200\n",
            "63/63 [==============================] - 8s 125ms/step - loss: 0.1666 - accuracy: 0.9438 - val_loss: 0.1874 - val_accuracy: 0.9340\n",
            "Epoch 29/200\n",
            "63/63 [==============================] - 8s 126ms/step - loss: 0.1556 - accuracy: 0.9495 - val_loss: 0.1672 - val_accuracy: 0.9520\n",
            "Epoch 30/200\n",
            "63/63 [==============================] - 8s 126ms/step - loss: 0.1515 - accuracy: 0.9510 - val_loss: 0.1931 - val_accuracy: 0.9440\n",
            "Epoch 31/200\n",
            "63/63 [==============================] - 8s 125ms/step - loss: 0.1323 - accuracy: 0.9580 - val_loss: 0.1519 - val_accuracy: 0.9560\n",
            "Epoch 32/200\n",
            "63/63 [==============================] - 8s 126ms/step - loss: 0.1167 - accuracy: 0.9622 - val_loss: 0.1567 - val_accuracy: 0.9530\n",
            "Epoch 33/200\n",
            "63/63 [==============================] - 8s 126ms/step - loss: 0.1410 - accuracy: 0.9544 - val_loss: 0.2011 - val_accuracy: 0.9440\n",
            "Epoch 34/200\n",
            "63/63 [==============================] - 8s 125ms/step - loss: 0.1502 - accuracy: 0.9485 - val_loss: 0.1942 - val_accuracy: 0.9470\n",
            "Epoch 35/200\n",
            "63/63 [==============================] - 8s 126ms/step - loss: 0.1314 - accuracy: 0.9585 - val_loss: 0.1669 - val_accuracy: 0.9530\n",
            "Epoch 36/200\n",
            "63/63 [==============================] - 8s 126ms/step - loss: 0.1414 - accuracy: 0.9539 - val_loss: 0.1796 - val_accuracy: 0.9460\n",
            "Epoch 37/200\n",
            "63/63 [==============================] - 8s 125ms/step - loss: 0.1246 - accuracy: 0.9576 - val_loss: 0.1476 - val_accuracy: 0.9570\n",
            "Epoch 38/200\n",
            "63/63 [==============================] - 8s 126ms/step - loss: 0.1142 - accuracy: 0.9645 - val_loss: 0.1338 - val_accuracy: 0.9670\n",
            "Epoch 39/200\n",
            "63/63 [==============================] - 8s 126ms/step - loss: 0.1327 - accuracy: 0.9605 - val_loss: 0.1729 - val_accuracy: 0.9500\n",
            "Epoch 40/200\n",
            "63/63 [==============================] - 8s 127ms/step - loss: 0.1197 - accuracy: 0.9606 - val_loss: 0.1645 - val_accuracy: 0.9510\n",
            "Epoch 41/200\n",
            "63/63 [==============================] - 8s 126ms/step - loss: 0.1288 - accuracy: 0.9596 - val_loss: 0.2052 - val_accuracy: 0.9460\n",
            "Epoch 42/200\n",
            "63/63 [==============================] - 8s 126ms/step - loss: 0.1053 - accuracy: 0.9650 - val_loss: 0.1305 - val_accuracy: 0.9620\n",
            "Epoch 43/200\n",
            "63/63 [==============================] - 8s 126ms/step - loss: 0.0954 - accuracy: 0.9709 - val_loss: 0.1363 - val_accuracy: 0.9660\n",
            "Epoch 44/200\n",
            "63/63 [==============================] - 8s 126ms/step - loss: 0.0923 - accuracy: 0.9699 - val_loss: 0.1174 - val_accuracy: 0.9640\n",
            "Epoch 45/200\n",
            "63/63 [==============================] - 8s 126ms/step - loss: 0.0932 - accuracy: 0.9711 - val_loss: 0.1670 - val_accuracy: 0.9580\n",
            "Epoch 46/200\n",
            "63/63 [==============================] - 8s 126ms/step - loss: 0.1349 - accuracy: 0.9600 - val_loss: 0.1584 - val_accuracy: 0.9540\n",
            "Epoch 47/200\n",
            "63/63 [==============================] - 8s 126ms/step - loss: 0.0992 - accuracy: 0.9703 - val_loss: 0.1422 - val_accuracy: 0.9620\n",
            "Epoch 48/200\n",
            "63/63 [==============================] - 8s 125ms/step - loss: 0.1038 - accuracy: 0.9690 - val_loss: 0.2370 - val_accuracy: 0.9410\n",
            "Epoch 49/200\n",
            "63/63 [==============================] - 8s 126ms/step - loss: 0.1091 - accuracy: 0.9651 - val_loss: 0.1398 - val_accuracy: 0.9560\n",
            "Epoch 50/200\n",
            "63/63 [==============================] - 8s 126ms/step - loss: 0.0781 - accuracy: 0.9769 - val_loss: 0.1523 - val_accuracy: 0.9650\n",
            "Epoch 51/200\n",
            "63/63 [==============================] - 8s 125ms/step - loss: 0.0822 - accuracy: 0.9736 - val_loss: 0.1373 - val_accuracy: 0.9550\n",
            "Epoch 52/200\n",
            "63/63 [==============================] - 8s 125ms/step - loss: 0.0822 - accuracy: 0.9736 - val_loss: 0.1215 - val_accuracy: 0.9630\n",
            "Epoch 53/200\n",
            "63/63 [==============================] - 8s 126ms/step - loss: 0.0806 - accuracy: 0.9747 - val_loss: 0.1024 - val_accuracy: 0.9730\n",
            "Epoch 54/200\n",
            "63/63 [==============================] - 8s 126ms/step - loss: 0.0677 - accuracy: 0.9761 - val_loss: 0.1295 - val_accuracy: 0.9620\n",
            "Epoch 55/200\n",
            "63/63 [==============================] - 8s 126ms/step - loss: 0.0744 - accuracy: 0.9736 - val_loss: 0.0971 - val_accuracy: 0.9740\n",
            "Epoch 56/200\n",
            "63/63 [==============================] - 8s 125ms/step - loss: 0.1179 - accuracy: 0.9665 - val_loss: 0.1313 - val_accuracy: 0.9640\n",
            "Epoch 57/200\n",
            "63/63 [==============================] - 8s 125ms/step - loss: 0.0876 - accuracy: 0.9729 - val_loss: 0.1080 - val_accuracy: 0.9710\n",
            "Epoch 58/200\n",
            "63/63 [==============================] - 8s 126ms/step - loss: 0.0767 - accuracy: 0.9756 - val_loss: 0.1269 - val_accuracy: 0.9600\n",
            "Epoch 59/200\n",
            "63/63 [==============================] - 8s 126ms/step - loss: 0.0937 - accuracy: 0.9739 - val_loss: 0.1662 - val_accuracy: 0.9630\n",
            "Epoch 60/200\n",
            "63/63 [==============================] - 8s 126ms/step - loss: 0.1190 - accuracy: 0.9669 - val_loss: 0.1132 - val_accuracy: 0.9710\n",
            "Epoch 61/200\n",
            "63/63 [==============================] - 8s 126ms/step - loss: 0.0776 - accuracy: 0.9762 - val_loss: 0.1142 - val_accuracy: 0.9670\n",
            "Epoch 62/200\n",
            "63/63 [==============================] - 8s 126ms/step - loss: 0.0696 - accuracy: 0.9784 - val_loss: 0.0938 - val_accuracy: 0.9730\n",
            "Epoch 63/200\n",
            "63/63 [==============================] - 8s 126ms/step - loss: 0.1020 - accuracy: 0.9696 - val_loss: 0.1234 - val_accuracy: 0.9630\n",
            "Epoch 64/200\n",
            "63/63 [==============================] - 8s 126ms/step - loss: 0.0822 - accuracy: 0.9744 - val_loss: 0.1306 - val_accuracy: 0.9600\n",
            "Epoch 65/200\n",
            "63/63 [==============================] - 8s 126ms/step - loss: 0.0548 - accuracy: 0.9815 - val_loss: 0.0926 - val_accuracy: 0.9730\n",
            "Epoch 66/200\n",
            "63/63 [==============================] - 8s 125ms/step - loss: 0.0471 - accuracy: 0.9864 - val_loss: 0.0915 - val_accuracy: 0.9780\n",
            "Epoch 67/200\n",
            "63/63 [==============================] - 8s 125ms/step - loss: 0.0732 - accuracy: 0.9778 - val_loss: 0.0994 - val_accuracy: 0.9720\n",
            "Epoch 68/200\n",
            "63/63 [==============================] - 8s 126ms/step - loss: 0.0969 - accuracy: 0.9746 - val_loss: 0.1342 - val_accuracy: 0.9610\n",
            "Epoch 69/200\n",
            "63/63 [==============================] - 8s 125ms/step - loss: 0.1039 - accuracy: 0.9710 - val_loss: 0.1314 - val_accuracy: 0.9670\n",
            "Epoch 70/200\n",
            "63/63 [==============================] - 8s 126ms/step - loss: 0.1201 - accuracy: 0.9651 - val_loss: 0.2464 - val_accuracy: 0.9490\n",
            "Epoch 71/200\n",
            "63/63 [==============================] - 8s 126ms/step - loss: 0.0992 - accuracy: 0.9716 - val_loss: 0.1171 - val_accuracy: 0.9720\n",
            "Epoch 72/200\n",
            "63/63 [==============================] - 8s 126ms/step - loss: 0.0782 - accuracy: 0.9760 - val_loss: 0.0886 - val_accuracy: 0.9690\n",
            "Epoch 73/200\n",
            "63/63 [==============================] - 8s 126ms/step - loss: 0.0795 - accuracy: 0.9750 - val_loss: 0.1605 - val_accuracy: 0.9630\n",
            "Epoch 74/200\n",
            "63/63 [==============================] - 8s 126ms/step - loss: 0.0867 - accuracy: 0.9749 - val_loss: 0.1422 - val_accuracy: 0.9680\n",
            "Epoch 75/200\n",
            "63/63 [==============================] - 8s 126ms/step - loss: 0.0581 - accuracy: 0.9821 - val_loss: 0.0916 - val_accuracy: 0.9780\n",
            "Epoch 76/200\n",
            "63/63 [==============================] - 8s 126ms/step - loss: 0.0615 - accuracy: 0.9819 - val_loss: 0.1058 - val_accuracy: 0.9730\n",
            "Epoch 77/200\n",
            "63/63 [==============================] - 8s 125ms/step - loss: 0.0455 - accuracy: 0.9854 - val_loss: 0.0898 - val_accuracy: 0.9720\n",
            "Epoch 78/200\n",
            "63/63 [==============================] - 8s 126ms/step - loss: 0.0389 - accuracy: 0.9880 - val_loss: 0.1343 - val_accuracy: 0.9680\n",
            "Epoch 79/200\n",
            "63/63 [==============================] - 8s 126ms/step - loss: 0.0470 - accuracy: 0.9864 - val_loss: 0.1003 - val_accuracy: 0.9710\n",
            "Epoch 80/200\n",
            "63/63 [==============================] - 8s 126ms/step - loss: 0.0710 - accuracy: 0.9787 - val_loss: 0.2160 - val_accuracy: 0.9480\n",
            "Epoch 81/200\n",
            "63/63 [==============================] - 8s 126ms/step - loss: 0.0876 - accuracy: 0.9761 - val_loss: 0.1418 - val_accuracy: 0.9640\n",
            "Epoch 82/200\n",
            "63/63 [==============================] - 8s 126ms/step - loss: 0.0690 - accuracy: 0.9822 - val_loss: 0.1307 - val_accuracy: 0.9670\n",
            "Epoch 83/200\n",
            "63/63 [==============================] - 8s 126ms/step - loss: 0.0768 - accuracy: 0.9756 - val_loss: 0.1101 - val_accuracy: 0.9700\n",
            "Epoch 84/200\n",
            "63/63 [==============================] - 8s 126ms/step - loss: 0.0741 - accuracy: 0.9785 - val_loss: 0.1673 - val_accuracy: 0.9640\n",
            "Epoch 85/200\n",
            "63/63 [==============================] - 8s 126ms/step - loss: 0.0821 - accuracy: 0.9760 - val_loss: 0.1026 - val_accuracy: 0.9750\n",
            "Epoch 86/200\n",
            "63/63 [==============================] - 8s 125ms/step - loss: 0.0893 - accuracy: 0.9740 - val_loss: 0.1129 - val_accuracy: 0.9680\n",
            "Epoch 87/200\n",
            "63/63 [==============================] - 8s 126ms/step - loss: 0.0647 - accuracy: 0.9820 - val_loss: 0.2467 - val_accuracy: 0.9570\n",
            "Epoch 88/200\n",
            "63/63 [==============================] - 8s 126ms/step - loss: 0.0910 - accuracy: 0.9753 - val_loss: 0.1361 - val_accuracy: 0.9740\n",
            "Epoch 89/200\n",
            "63/63 [==============================] - 8s 126ms/step - loss: 0.0758 - accuracy: 0.9795 - val_loss: 0.1140 - val_accuracy: 0.9740\n",
            "Epoch 90/200\n",
            "63/63 [==============================] - 8s 125ms/step - loss: 0.0914 - accuracy: 0.9747 - val_loss: 0.0770 - val_accuracy: 0.9800\n",
            "Epoch 91/200\n",
            "63/63 [==============================] - 8s 126ms/step - loss: 0.0520 - accuracy: 0.9856 - val_loss: 0.1638 - val_accuracy: 0.9580\n",
            "Epoch 92/200\n",
            "63/63 [==============================] - 8s 125ms/step - loss: 0.0665 - accuracy: 0.9811 - val_loss: 0.1024 - val_accuracy: 0.9700\n",
            "Epoch 93/200\n",
            "63/63 [==============================] - 8s 126ms/step - loss: 0.0624 - accuracy: 0.9811 - val_loss: 0.1182 - val_accuracy: 0.9700\n",
            "Epoch 94/200\n",
            "63/63 [==============================] - 8s 126ms/step - loss: 0.0729 - accuracy: 0.9800 - val_loss: 0.1877 - val_accuracy: 0.9540\n",
            "Epoch 95/200\n",
            "63/63 [==============================] - 8s 126ms/step - loss: 0.0842 - accuracy: 0.9780 - val_loss: 0.1007 - val_accuracy: 0.9750\n",
            "Epoch 96/200\n",
            "63/63 [==============================] - 8s 126ms/step - loss: 0.0771 - accuracy: 0.9791 - val_loss: 0.1409 - val_accuracy: 0.9620\n",
            "Epoch 97/200\n",
            "63/63 [==============================] - 8s 126ms/step - loss: 0.0471 - accuracy: 0.9858 - val_loss: 0.0874 - val_accuracy: 0.9740\n",
            "Epoch 98/200\n",
            "63/63 [==============================] - 8s 125ms/step - loss: 0.0604 - accuracy: 0.9829 - val_loss: 0.1404 - val_accuracy: 0.9710\n",
            "Epoch 99/200\n",
            "63/63 [==============================] - 8s 125ms/step - loss: 0.0420 - accuracy: 0.9868 - val_loss: 0.1069 - val_accuracy: 0.9800\n",
            "Epoch 100/200\n",
            "63/63 [==============================] - 8s 126ms/step - loss: 0.0348 - accuracy: 0.9890 - val_loss: 0.1660 - val_accuracy: 0.9570\n",
            "Epoch 101/200\n",
            "63/63 [==============================] - 8s 125ms/step - loss: 0.0409 - accuracy: 0.9883 - val_loss: 0.1139 - val_accuracy: 0.9810\n",
            "Epoch 102/200\n",
            "63/63 [==============================] - 8s 126ms/step - loss: 0.0423 - accuracy: 0.9865 - val_loss: 0.1157 - val_accuracy: 0.9740\n",
            "Epoch 103/200\n",
            "63/63 [==============================] - 8s 126ms/step - loss: 0.0434 - accuracy: 0.9865 - val_loss: 0.1136 - val_accuracy: 0.9710\n",
            "Epoch 104/200\n",
            "63/63 [==============================] - 8s 126ms/step - loss: 0.0642 - accuracy: 0.9793 - val_loss: 0.0854 - val_accuracy: 0.9790\n",
            "Epoch 105/200\n",
            "63/63 [==============================] - 8s 126ms/step - loss: 0.1108 - accuracy: 0.9729 - val_loss: 0.1650 - val_accuracy: 0.9610\n",
            "Epoch 106/200\n",
            "63/63 [==============================] - 8s 126ms/step - loss: 0.1219 - accuracy: 0.9714 - val_loss: 0.2587 - val_accuracy: 0.9520\n",
            "Epoch 107/200\n",
            "63/63 [==============================] - 8s 126ms/step - loss: 0.1090 - accuracy: 0.9731 - val_loss: 0.1584 - val_accuracy: 0.9710\n",
            "Epoch 108/200\n",
            "63/63 [==============================] - 8s 126ms/step - loss: 0.0954 - accuracy: 0.9761 - val_loss: 0.2167 - val_accuracy: 0.9500\n",
            "Epoch 109/200\n",
            "63/63 [==============================] - 8s 126ms/step - loss: 0.0704 - accuracy: 0.9800 - val_loss: 0.1133 - val_accuracy: 0.9720\n",
            "Epoch 110/200\n",
            "63/63 [==============================] - 8s 126ms/step - loss: 0.0627 - accuracy: 0.9819 - val_loss: 0.1470 - val_accuracy: 0.9660\n",
            "Epoch 111/200\n",
            "63/63 [==============================] - 8s 125ms/step - loss: 0.0604 - accuracy: 0.9827 - val_loss: 0.0996 - val_accuracy: 0.9740\n",
            "Epoch 112/200\n",
            "63/63 [==============================] - 8s 126ms/step - loss: 0.0622 - accuracy: 0.9839 - val_loss: 0.1313 - val_accuracy: 0.9680\n",
            "Epoch 113/200\n",
            "63/63 [==============================] - 8s 126ms/step - loss: 0.0502 - accuracy: 0.9849 - val_loss: 0.0929 - val_accuracy: 0.9780\n",
            "Epoch 114/200\n",
            "63/63 [==============================] - 8s 126ms/step - loss: 0.0262 - accuracy: 0.9914 - val_loss: 0.0651 - val_accuracy: 0.9810\n",
            "Epoch 115/200\n",
            "63/63 [==============================] - 8s 126ms/step - loss: 0.0374 - accuracy: 0.9901 - val_loss: 0.0954 - val_accuracy: 0.9820\n",
            "Epoch 116/200\n",
            "63/63 [==============================] - 8s 125ms/step - loss: 0.0471 - accuracy: 0.9871 - val_loss: 0.1577 - val_accuracy: 0.9600\n",
            "Epoch 117/200\n",
            "63/63 [==============================] - 8s 126ms/step - loss: 0.0811 - accuracy: 0.9803 - val_loss: 0.1089 - val_accuracy: 0.9790\n",
            "Epoch 118/200\n",
            "63/63 [==============================] - 8s 126ms/step - loss: 0.0671 - accuracy: 0.9812 - val_loss: 0.0898 - val_accuracy: 0.9760\n",
            "Epoch 119/200\n",
            "63/63 [==============================] - 8s 126ms/step - loss: 0.0526 - accuracy: 0.9856 - val_loss: 0.1610 - val_accuracy: 0.9690\n",
            "Epoch 120/200\n",
            "63/63 [==============================] - 8s 126ms/step - loss: 0.0626 - accuracy: 0.9845 - val_loss: 0.1424 - val_accuracy: 0.9720\n",
            "Epoch 121/200\n",
            "63/63 [==============================] - 8s 126ms/step - loss: 0.0574 - accuracy: 0.9847 - val_loss: 0.1488 - val_accuracy: 0.9700\n",
            "Epoch 122/200\n",
            "63/63 [==============================] - 8s 126ms/step - loss: 0.0597 - accuracy: 0.9851 - val_loss: 0.1277 - val_accuracy: 0.9650\n",
            "Epoch 123/200\n",
            "63/63 [==============================] - 8s 126ms/step - loss: 0.0827 - accuracy: 0.9793 - val_loss: 0.1565 - val_accuracy: 0.9740\n",
            "Epoch 124/200\n",
            "63/63 [==============================] - 8s 126ms/step - loss: 0.0597 - accuracy: 0.9841 - val_loss: 0.1377 - val_accuracy: 0.9670\n",
            "Epoch 125/200\n",
            "63/63 [==============================] - 8s 126ms/step - loss: 0.0579 - accuracy: 0.9850 - val_loss: 0.1274 - val_accuracy: 0.9650\n",
            "Epoch 126/200\n",
            "63/63 [==============================] - 8s 126ms/step - loss: 0.0725 - accuracy: 0.9810 - val_loss: 0.1065 - val_accuracy: 0.9710\n",
            "Epoch 127/200\n",
            "63/63 [==============================] - 8s 126ms/step - loss: 0.0656 - accuracy: 0.9839 - val_loss: 0.1052 - val_accuracy: 0.9750\n",
            "Epoch 128/200\n",
            "63/63 [==============================] - 8s 126ms/step - loss: 0.0550 - accuracy: 0.9844 - val_loss: 0.1590 - val_accuracy: 0.9650\n",
            "Epoch 129/200\n",
            "63/63 [==============================] - 8s 126ms/step - loss: 0.0308 - accuracy: 0.9898 - val_loss: 0.1325 - val_accuracy: 0.9760\n",
            "Epoch 130/200\n",
            "63/63 [==============================] - 8s 126ms/step - loss: 0.0532 - accuracy: 0.9847 - val_loss: 0.1490 - val_accuracy: 0.9720\n",
            "Epoch 131/200\n",
            "63/63 [==============================] - 8s 126ms/step - loss: 0.0612 - accuracy: 0.9858 - val_loss: 0.1369 - val_accuracy: 0.9720\n",
            "Epoch 132/200\n",
            "63/63 [==============================] - 8s 126ms/step - loss: 0.0580 - accuracy: 0.9847 - val_loss: 0.1165 - val_accuracy: 0.9760\n",
            "Epoch 133/200\n",
            "63/63 [==============================] - 8s 126ms/step - loss: 0.0709 - accuracy: 0.9825 - val_loss: 0.1602 - val_accuracy: 0.9690\n",
            "Epoch 134/200\n",
            "63/63 [==============================] - 8s 126ms/step - loss: 0.0588 - accuracy: 0.9837 - val_loss: 0.1196 - val_accuracy: 0.9740\n",
            "Epoch 135/200\n",
            "63/63 [==============================] - 8s 126ms/step - loss: 0.0637 - accuracy: 0.9850 - val_loss: 0.1077 - val_accuracy: 0.9800\n",
            "Epoch 136/200\n",
            "63/63 [==============================] - 8s 127ms/step - loss: 0.0963 - accuracy: 0.9791 - val_loss: 0.1128 - val_accuracy: 0.9710\n",
            "Epoch 137/200\n",
            "63/63 [==============================] - 8s 126ms/step - loss: 0.0336 - accuracy: 0.9901 - val_loss: 0.1145 - val_accuracy: 0.9780\n",
            "Epoch 138/200\n",
            "63/63 [==============================] - 8s 125ms/step - loss: 0.0444 - accuracy: 0.9891 - val_loss: 0.1010 - val_accuracy: 0.9800\n",
            "Epoch 139/200\n",
            "63/63 [==============================] - 8s 126ms/step - loss: 0.0365 - accuracy: 0.9905 - val_loss: 0.1324 - val_accuracy: 0.9710\n",
            "Epoch 140/200\n",
            "63/63 [==============================] - 8s 126ms/step - loss: 0.0359 - accuracy: 0.9904 - val_loss: 0.1016 - val_accuracy: 0.9770\n",
            "Epoch 141/200\n",
            "63/63 [==============================] - 8s 126ms/step - loss: 0.0665 - accuracy: 0.9859 - val_loss: 0.1556 - val_accuracy: 0.9670\n",
            "Epoch 142/200\n",
            "63/63 [==============================] - 8s 126ms/step - loss: 0.0596 - accuracy: 0.9854 - val_loss: 0.1504 - val_accuracy: 0.9700\n",
            "Epoch 143/200\n",
            "63/63 [==============================] - 8s 126ms/step - loss: 0.0413 - accuracy: 0.9887 - val_loss: 0.1265 - val_accuracy: 0.9720\n",
            "Epoch 144/200\n",
            "63/63 [==============================] - 8s 126ms/step - loss: 0.0747 - accuracy: 0.9834 - val_loss: 0.1239 - val_accuracy: 0.9740\n",
            "Epoch 145/200\n",
            "63/63 [==============================] - 8s 126ms/step - loss: 0.0608 - accuracy: 0.9852 - val_loss: 0.1217 - val_accuracy: 0.9750\n",
            "Epoch 146/200\n",
            "63/63 [==============================] - 8s 126ms/step - loss: 0.1009 - accuracy: 0.9770 - val_loss: 0.1471 - val_accuracy: 0.9730\n",
            "Epoch 147/200\n",
            "63/63 [==============================] - 8s 126ms/step - loss: 0.1232 - accuracy: 0.9741 - val_loss: 0.1899 - val_accuracy: 0.9670\n",
            "Epoch 148/200\n",
            "63/63 [==============================] - 8s 126ms/step - loss: 0.0514 - accuracy: 0.9854 - val_loss: 0.1465 - val_accuracy: 0.9760\n",
            "Epoch 149/200\n",
            "63/63 [==============================] - 8s 125ms/step - loss: 0.0644 - accuracy: 0.9841 - val_loss: 0.1162 - val_accuracy: 0.9820\n",
            "Epoch 150/200\n",
            "63/63 [==============================] - 8s 126ms/step - loss: 0.0605 - accuracy: 0.9837 - val_loss: 0.0938 - val_accuracy: 0.9810\n",
            "Epoch 151/200\n",
            "63/63 [==============================] - 8s 127ms/step - loss: 0.0579 - accuracy: 0.9871 - val_loss: 0.0968 - val_accuracy: 0.9820\n",
            "Epoch 152/200\n",
            "63/63 [==============================] - 8s 127ms/step - loss: 0.0283 - accuracy: 0.9908 - val_loss: 0.1131 - val_accuracy: 0.9720\n",
            "Epoch 153/200\n",
            "63/63 [==============================] - 8s 126ms/step - loss: 0.0512 - accuracy: 0.9895 - val_loss: 0.1022 - val_accuracy: 0.9810\n",
            "Epoch 154/200\n",
            "63/63 [==============================] - 8s 127ms/step - loss: 0.0814 - accuracy: 0.9812 - val_loss: 0.1313 - val_accuracy: 0.9670\n",
            "Epoch 155/200\n",
            "63/63 [==============================] - 8s 127ms/step - loss: 0.0701 - accuracy: 0.9818 - val_loss: 0.0984 - val_accuracy: 0.9790\n",
            "Epoch 156/200\n",
            "63/63 [==============================] - 8s 127ms/step - loss: 0.0590 - accuracy: 0.9868 - val_loss: 0.1170 - val_accuracy: 0.9760\n",
            "Epoch 157/200\n",
            "63/63 [==============================] - 8s 126ms/step - loss: 0.0567 - accuracy: 0.9861 - val_loss: 0.0785 - val_accuracy: 0.9820\n",
            "Epoch 158/200\n",
            "63/63 [==============================] - 8s 126ms/step - loss: 0.0356 - accuracy: 0.9898 - val_loss: 0.0630 - val_accuracy: 0.9850\n",
            "Epoch 159/200\n",
            "63/63 [==============================] - 8s 126ms/step - loss: 0.0364 - accuracy: 0.9904 - val_loss: 0.1045 - val_accuracy: 0.9780\n",
            "Epoch 160/200\n",
            "63/63 [==============================] - 8s 127ms/step - loss: 0.0484 - accuracy: 0.9870 - val_loss: 0.1000 - val_accuracy: 0.9780\n",
            "Epoch 161/200\n",
            "63/63 [==============================] - 8s 126ms/step - loss: 0.0642 - accuracy: 0.9861 - val_loss: 0.1368 - val_accuracy: 0.9770\n",
            "Epoch 162/200\n",
            "63/63 [==============================] - 8s 128ms/step - loss: 0.0836 - accuracy: 0.9804 - val_loss: 0.1660 - val_accuracy: 0.9650\n",
            "Epoch 163/200\n",
            "63/63 [==============================] - 8s 126ms/step - loss: 0.0487 - accuracy: 0.9889 - val_loss: 0.1286 - val_accuracy: 0.9770\n",
            "Epoch 164/200\n",
            "63/63 [==============================] - 8s 126ms/step - loss: 0.0529 - accuracy: 0.9864 - val_loss: 0.1797 - val_accuracy: 0.9660\n",
            "Epoch 165/200\n",
            "63/63 [==============================] - 8s 126ms/step - loss: 0.0737 - accuracy: 0.9827 - val_loss: 0.1539 - val_accuracy: 0.9720\n",
            "Epoch 166/200\n",
            "63/63 [==============================] - 8s 126ms/step - loss: 0.0832 - accuracy: 0.9816 - val_loss: 0.1722 - val_accuracy: 0.9720\n",
            "Epoch 167/200\n",
            "63/63 [==============================] - 8s 126ms/step - loss: 0.0844 - accuracy: 0.9815 - val_loss: 0.0872 - val_accuracy: 0.9810\n",
            "Epoch 168/200\n",
            "63/63 [==============================] - 8s 126ms/step - loss: 0.0436 - accuracy: 0.9889 - val_loss: 0.1849 - val_accuracy: 0.9750\n",
            "Epoch 169/200\n",
            "63/63 [==============================] - 8s 126ms/step - loss: 0.0748 - accuracy: 0.9837 - val_loss: 0.1346 - val_accuracy: 0.9790\n",
            "Epoch 170/200\n",
            "63/63 [==============================] - 8s 126ms/step - loss: 0.0615 - accuracy: 0.9870 - val_loss: 0.1662 - val_accuracy: 0.9710\n",
            "Epoch 171/200\n",
            "63/63 [==============================] - 8s 126ms/step - loss: 0.0604 - accuracy: 0.9855 - val_loss: 0.1694 - val_accuracy: 0.9740\n",
            "Epoch 172/200\n",
            "63/63 [==============================] - 8s 126ms/step - loss: 0.0597 - accuracy: 0.9843 - val_loss: 0.1922 - val_accuracy: 0.9710\n",
            "Epoch 173/200\n",
            "63/63 [==============================] - 8s 126ms/step - loss: 0.0580 - accuracy: 0.9865 - val_loss: 0.1501 - val_accuracy: 0.9730\n",
            "Epoch 174/200\n",
            "63/63 [==============================] - 8s 126ms/step - loss: 0.0495 - accuracy: 0.9870 - val_loss: 0.1231 - val_accuracy: 0.9780\n",
            "Epoch 175/200\n",
            "63/63 [==============================] - 8s 126ms/step - loss: 0.0662 - accuracy: 0.9858 - val_loss: 0.1915 - val_accuracy: 0.9720\n",
            "Epoch 176/200\n",
            "63/63 [==============================] - 8s 126ms/step - loss: 0.0428 - accuracy: 0.9894 - val_loss: 0.0983 - val_accuracy: 0.9780\n",
            "Epoch 177/200\n",
            "63/63 [==============================] - 8s 126ms/step - loss: 0.0385 - accuracy: 0.9904 - val_loss: 0.1199 - val_accuracy: 0.9810\n",
            "Epoch 178/200\n",
            "63/63 [==============================] - 8s 125ms/step - loss: 0.0158 - accuracy: 0.9958 - val_loss: 0.0734 - val_accuracy: 0.9840\n",
            "Epoch 179/200\n",
            "63/63 [==============================] - 8s 125ms/step - loss: 0.0548 - accuracy: 0.9881 - val_loss: 0.1326 - val_accuracy: 0.9790\n",
            "Epoch 180/200\n",
            "63/63 [==============================] - 8s 126ms/step - loss: 0.0787 - accuracy: 0.9809 - val_loss: 0.1755 - val_accuracy: 0.9610\n",
            "Epoch 181/200\n",
            "63/63 [==============================] - 8s 126ms/step - loss: 0.0997 - accuracy: 0.9775 - val_loss: 0.1759 - val_accuracy: 0.9740\n",
            "Epoch 182/200\n",
            "63/63 [==============================] - 8s 126ms/step - loss: 0.0802 - accuracy: 0.9843 - val_loss: 0.2350 - val_accuracy: 0.9620\n",
            "Epoch 183/200\n",
            "63/63 [==============================] - 8s 126ms/step - loss: 0.0693 - accuracy: 0.9852 - val_loss: 0.1074 - val_accuracy: 0.9770\n",
            "Epoch 184/200\n",
            "63/63 [==============================] - 8s 126ms/step - loss: 0.0546 - accuracy: 0.9869 - val_loss: 0.1004 - val_accuracy: 0.9790\n",
            "Epoch 185/200\n",
            "63/63 [==============================] - 8s 126ms/step - loss: 0.0691 - accuracy: 0.9860 - val_loss: 0.1089 - val_accuracy: 0.9760\n",
            "Epoch 186/200\n",
            "63/63 [==============================] - 8s 126ms/step - loss: 0.0749 - accuracy: 0.9845 - val_loss: 0.1297 - val_accuracy: 0.9730\n",
            "Epoch 187/200\n",
            "63/63 [==============================] - 8s 126ms/step - loss: 0.0414 - accuracy: 0.9898 - val_loss: 0.0690 - val_accuracy: 0.9830\n",
            "Epoch 188/200\n",
            "63/63 [==============================] - 8s 126ms/step - loss: 0.0295 - accuracy: 0.9925 - val_loss: 0.1381 - val_accuracy: 0.9760\n",
            "Epoch 189/200\n",
            "63/63 [==============================] - 8s 125ms/step - loss: 0.0496 - accuracy: 0.9891 - val_loss: 0.1463 - val_accuracy: 0.9760\n",
            "Epoch 190/200\n",
            "63/63 [==============================] - 8s 125ms/step - loss: 0.0378 - accuracy: 0.9920 - val_loss: 0.1675 - val_accuracy: 0.9690\n",
            "Epoch 191/200\n",
            "63/63 [==============================] - 8s 125ms/step - loss: 0.0634 - accuracy: 0.9859 - val_loss: 0.2446 - val_accuracy: 0.9650\n",
            "Epoch 192/200\n",
            "63/63 [==============================] - 8s 125ms/step - loss: 0.1186 - accuracy: 0.9784 - val_loss: 0.2766 - val_accuracy: 0.9620\n",
            "Epoch 193/200\n",
            "63/63 [==============================] - 8s 126ms/step - loss: 0.0732 - accuracy: 0.9851 - val_loss: 0.1018 - val_accuracy: 0.9790\n",
            "Epoch 194/200\n",
            "63/63 [==============================] - 8s 125ms/step - loss: 0.0501 - accuracy: 0.9893 - val_loss: 0.0929 - val_accuracy: 0.9790\n",
            "Epoch 195/200\n",
            "63/63 [==============================] - 8s 127ms/step - loss: 0.0517 - accuracy: 0.9889 - val_loss: 0.1358 - val_accuracy: 0.9710\n",
            "Epoch 196/200\n",
            "63/63 [==============================] - 8s 126ms/step - loss: 0.0480 - accuracy: 0.9880 - val_loss: 0.1590 - val_accuracy: 0.9770\n",
            "Epoch 197/200\n",
            "63/63 [==============================] - 8s 126ms/step - loss: 0.0479 - accuracy: 0.9896 - val_loss: 0.1291 - val_accuracy: 0.9780\n",
            "Epoch 198/200\n",
            "63/63 [==============================] - 8s 126ms/step - loss: 0.0725 - accuracy: 0.9858 - val_loss: 0.0603 - val_accuracy: 0.9830\n",
            "Epoch 199/200\n",
            "63/63 [==============================] - 8s 126ms/step - loss: 0.0426 - accuracy: 0.9906 - val_loss: 0.1702 - val_accuracy: 0.9700\n",
            "Epoch 200/200\n",
            "63/63 [==============================] - 8s 125ms/step - loss: 0.0508 - accuracy: 0.9893 - val_loss: 0.1033 - val_accuracy: 0.9790\n",
            "Training completed in time:  0:26:45.188131\n"
          ],
          "name": "stdout"
        }
      ]
    },
    {
      "cell_type": "code",
      "metadata": {
        "id": "4YPmT1aaCp7r"
      },
      "source": [
        ""
      ],
      "execution_count": null,
      "outputs": []
    },
    {
      "cell_type": "code",
      "metadata": {
        "id": "xo11WFRmxv0z",
        "colab": {
          "base_uri": "https://localhost:8080/",
          "height": 573
        },
        "outputId": "ee3c0b0f-6080-4cf2-f2af-1465c3bf8904"
      },
      "source": [
        "acc = history.history['accuracy']\n",
        "val_acc = history.history['val_accuracy']\n",
        "loss = history.history['loss']\n",
        "val_loss = history.history['val_loss']\n",
        "epochs = range(len(acc))\n",
        "plt.plot(epochs, acc, 'r', label='Training acc')\n",
        "plt.plot(epochs, val_acc, 'b', label='Validation acc')\n",
        "plt.title('Training and validation accuracy')\n",
        "plt.ylabel('accuracy')  \n",
        "plt.xlabel('epoch')\n",
        "plt.legend()\n",
        "plt.figure()\n",
        "plt.plot(epochs, loss, 'r', label='Training loss')\n",
        "plt.plot(epochs, val_loss, 'b', label='Validation loss')\n",
        "plt.title('Training and validation loss')\n",
        "plt.ylabel('loss')  \n",
        "plt.xlabel('epoch')\n",
        "plt.legend()\n",
        "plt.show()"
      ],
      "execution_count": null,
      "outputs": [
        {
          "output_type": "display_data",
          "data": {
            "image/png": "[encoded data removed]",
            "text/plain": [
              "<Figure size 432x288 with 1 Axes>"
            ]
          },
          "metadata": {
            "tags": [],
            "needs_background": "light"
          }
        },
        {
          "output_type": "display_data",
          "data": {
            "image/png": "[encoded data removed]",
            "text/plain": [
              "<Figure size 432x288 with 1 Axes>"
            ]
          },
          "metadata": {
            "tags": [],
            "needs_background": "light"
          }
        }
      ]
    },
    {
      "cell_type": "code",
      "metadata": {
        "id": "ub4aNrFQn0WW",
        "colab": {
          "base_uri": "https://localhost:8080/"
        },
        "outputId": "70a27af2-9c6c-4f7d-fceb-c79a6950c10e"
      },
      "source": [
        "\n",
        "final_loss, final_acc = model.evaluate([x_test_spectrogram,x_test_chroma,x_test_mfcc],y_test, verbose=1)\n",
        "print(\"Final loss: {0:.6f}, final accuracy: {1:.6f}\".format(final_loss, final_acc))\n",
        "\n",
        "final_loss, final_acc = model.evaluate([x_val_spectrogram,x_val_chroma,x_val_mfcc], y_val, verbose=1)\n",
        "print(\"Final loss: {0:.6f}, final accuracy: {1:.6f}\".format(final_loss, final_acc))\n",
        "\n"
      ],
      "execution_count": null,
      "outputs": [
        {
          "output_type": "stream",
          "text": [
            "32/32 [==============================] - 1s 17ms/step - loss: 0.1489 - accuracy: 0.9750\n",
            "Final loss: 0.148853, final accuracy: 0.975000\n",
            "32/32 [==============================] - 0s 14ms/step - loss: 0.1033 - accuracy: 0.9790\n",
            "Final loss: 0.103256, final accuracy: 0.979000\n"
          ],
          "name": "stdout"
        }
      ]
    },
    {
      "cell_type": "code",
      "metadata": {
        "id": "yRQsQXWymF_4",
        "colab": {
          "base_uri": "https://localhost:8080/"
        },
        "outputId": "a0a72da6-d359-4656-ffb4-ec8c71828722"
      },
      "source": [
        "# Evaluating the model on the training and testing set\n",
        "score = model.evaluate([x_train_spectrogram,x_train_chroma,x_train_mfcc], y_spec_train, verbose=0)\n",
        "print(\"Training Accuracy: \", score[1])\n",
        "\n",
        "score = model.evaluate([x_test_spectrogram,x_test_chroma,x_test_mfcc], y_test, verbose=0)\n",
        "print(\"Test Accuracy: \", score[1])\n",
        "\n",
        "score = model.evaluate([x_val_spectrogram,x_val_chroma,x_val_mfcc], y_val, verbose=0)\n",
        "print(\"val Accuracy: \", score[1])"
      ],
      "execution_count": null,
      "outputs": [
        {
          "output_type": "stream",
          "text": [
            "Training Accuracy:  0.9991250038146973\n",
            "Test Accuracy:  0.9750000238418579\n",
            "val Accuracy:  0.9789999723434448\n"
          ],
          "name": "stdout"
        }
      ]
    },
    {
      "cell_type": "code",
      "metadata": {
        "colab": {
          "base_uri": "https://localhost:8080/"
        },
        "id": "WNPIJIOoGUbV",
        "outputId": "dc8adf52-fd41-495c-93ad-1bb74a520dbf"
      },
      "source": [
        "\n",
        "final_loss, final_acc = model.evaluate([x_test_chroma,x_test_mfcc],y_test, verbose=1)\n",
        "print(\"Final loss: {0:.6f}, final accuracy: {1:.6f}\".format(final_loss, final_acc))\n",
        "\n",
        "final_loss, final_acc = model.evaluate([x_val_chroma,x_val_mfcc], y_val, verbose=1)\n",
        "print(\"Final loss: {0:.6f}, final accuracy: {1:.6f}\".format(final_loss, final_acc))\n",
        "\n"
      ],
      "execution_count": null,
      "outputs": [
        {
          "output_type": "stream",
          "text": [
            "32/32 [==============================] - 0s 8ms/step - loss: 0.2436 - accuracy: 0.9760\n",
            "Final loss: 0.243642, final accuracy: 0.976000\n",
            "32/32 [==============================] - 0s 8ms/step - loss: 0.2256 - accuracy: 0.9750\n",
            "Final loss: 0.225625, final accuracy: 0.975000\n"
          ],
          "name": "stdout"
        }
      ]
    },
    {
      "cell_type": "code",
      "metadata": {
        "id": "w5WtjH3d3X_K",
        "colab": {
          "base_uri": "https://localhost:8080/"
        },
        "outputId": "079fb0ad-a8e3-4756-c513-c6647079a6fe"
      },
      "source": [
        "score = model.evaluate([x_train_chroma,x_train_mfcc], y_spec_train, verbose=0)\n",
        "print(\"Training Accuracy: \", score[1])\n",
        "\n",
        "score = model.evaluate([x_test_chroma,x_test_mfcc], y_test, verbose=0)\n",
        "print(\"Test Accuracy: \", score[1])\n",
        "\n",
        "score = model.evaluate([x_val_chroma,x_val_mfcc], y_val, verbose=0)\n",
        "print(\"val Accuracy: \", score[1])"
      ],
      "execution_count": null,
      "outputs": [
        {
          "output_type": "stream",
          "text": [
            "Training Accuracy:  0.9993749856948853\n",
            "Test Accuracy:  0.9760000109672546\n",
            "val Accuracy:  0.9750000238418579\n"
          ],
          "name": "stdout"
        }
      ]
    },
    {
      "cell_type": "code",
      "metadata": {
        "colab": {
          "base_uri": "https://localhost:8080/",
          "height": 583
        },
        "id": "WYK94vsAGcui",
        "outputId": "6d06c687-750e-43a2-c33c-d181e220399b"
      },
      "source": [
        "import matplotlib.pyplot as plt \n",
        "import numpy as np \n",
        "  \n",
        "  \n",
        "# Creating dataset \n",
        "#np.random.seed(10) \n",
        "  \n",
        "urban_sound = [95.50,97.46,97.84,96.28,93.09,97.30,95.30,96.33] \n",
        "ESC_50 = [73.00,96.89,96.79,91.79,93.19,95.89,98.27,92.59]\n",
        "ESC_10 = [75.00,99.90,100,99.50,98.00,99.75,98.00,96.49] \n",
        "Emotion = [82.60,93.88,94.16,82.499,80.02,93.19,87.63,80.97] \n",
        "data = [urban_sound, ESC_50, ESC_10, Emotion] \n",
        "  \n",
        "fig = plt.figure(figsize =(10, 7)) \n",
        "  \n",
        "# Creating axes instance \n",
        "ax = fig.add_axes([0, 0, 1, 1]) \n",
        "ax.set_axisbelow(True)\n",
        "ax.set_title('CNN modes Accuracies')\n",
        "ax.set_xlabel('Dataset Names')\n",
        "ax.set_ylabel('Classification Accuracies')\n",
        "\n",
        "# Creating plot \n",
        "bp = ax.boxplot(data) \n",
        "plt.xticks([1, 2, 3,4], ['US8k', 'ESC_50', 'ESC_10','Emotion'])\n",
        "plt.show()"
      ],
      "execution_count": null,
      "outputs": [
        {
          "output_type": "display_data",
          "data": {
            "image/png": "[encoded data removed]",
            "text/plain": [
              "<Figure size 720x504 with 1 Axes>"
            ]
          },
          "metadata": {
            "tags": [],
            "needs_background": "light"
          }
        }
      ]
    },
    {
      "cell_type": "code",
      "metadata": {
        "colab": {
          "base_uri": "https://localhost:8080/"
        },
        "id": "uLxcVTnhgJrT",
        "outputId": "c1372145-5233-4cf6-9904-0a2d1adfdf59"
      },
      "source": [
        "def Average(lst): \n",
        "    return sum(lst) / len(lst) \n",
        "  \n",
        "# Driver Code \n",
        "urban_sound = [95.50,97.46,97.84,96.28,93.09,97.30,95.30,96.33] \n",
        "ESC_50 = [73.00,96.89,96.79,91.79,93.19,95.89,98.27,92.59]\n",
        "ESC_10 = [75.00,99.90,100,99.50,98.00,99.75,98.00,96.49] \n",
        "Emotion = [82.60,93.88,94.16,82.499,80.02,93.19,87.63,80.97] \n",
        "average = Average(Emotion) \n",
        "  \n",
        "# Printing average of the list \n",
        "print(\"Average of the list =\", round(average, 2)) "
      ],
      "execution_count": null,
      "outputs": [
        {
          "output_type": "stream",
          "text": [
            "Average of the list = 86.87\n"
          ],
          "name": "stdout"
        }
      ]
    },
    {
      "cell_type": "code",
      "metadata": {
        "id": "Nx5PfnlKYmjY"
      },
      "source": [
        ""
      ],
      "execution_count": null,
      "outputs": []
    }
  ]
}