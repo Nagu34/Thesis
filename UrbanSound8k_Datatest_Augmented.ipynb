{
  "nbformat": 4,
  "nbformat_minor": 0,
  "metadata": {
    "colab": {
      "name": "UrbanSound8k_Datatest_Augmented.ipynb",
      "provenance": [],
      "collapsed_sections": [],
      "machine_shape": "hm",
      "mount_file_id": "1F5fSRUADBPnZNTbmu-e_1aCsDMj0Ww_8",
      "authorship_tag": "ABX9TyOKJa2NI1nawKHTEzlxW4kC",
      "include_colab_link": true
    },
    "kernelspec": {
      "name": "python3",
      "display_name": "Python 3"
    },
    "accelerator": "GPU"
  },
  "cells": [
    {
      "cell_type": "markdown",
      "metadata": {
        "id": "view-in-github",
        "colab_type": "text"
      },
      "source": [
        "<a href=\"https://colab.research.google.com/github/Nagu34/Thesis/blob/main/UrbanSound8k_Datatest_Augmented.ipynb\" target=\"_parent\"><img src=\"https://colab.research.google.com/assets/colab-badge.svg\" alt=\"Open In Colab\"/></a>"
      ]
    },
    {
      "cell_type": "code",
      "metadata": {
        "id": "kJHioBmgM7t6"
      },
      "source": [
        ""
      ],
      "execution_count": null,
      "outputs": []
    },
    {
      "cell_type": "code",
      "metadata": {
        "id": "JcA-eupMaQ0C",
        "colab": {
          "base_uri": "https://localhost:8080/",
          "height": 17
        },
        "outputId": "c4da79b6-1069-4b0c-829e-449837a88d96"
      },
      "source": [
        "#package imports\n",
        "import os\n",
        "import random\n",
        "import sys\n",
        "import glob \n",
        "import keras\n",
        "\n",
        "import IPython.display as ipd\n",
        "import librosa\n",
        "import librosa.display\n",
        "import matplotlib.pyplot as plt\n",
        "import numpy as np\n",
        "import pandas as pd\n",
        "import plotly.graph_objs as go\n",
        "import plotly.offline as py\n",
        "import plotly.tools as tls\n",
        "import seaborn as sns\n",
        "import scipy.io.wavfile\n",
        "import tensorflow as tf\n",
        "py.init_notebook_mode(connected=True)\n",
        "\n",
        "\n",
        "## Keras\n",
        "from keras import regularizers\n",
        "from keras.callbacks import ModelCheckpoint, LearningRateScheduler, EarlyStopping\n",
        "from keras.callbacks import  History, ReduceLROnPlateau, CSVLogger\n",
        "from keras.models import Model, Sequential\n",
        "from keras.layers import Dense, Embedding, LSTM\n",
        "from keras.layers import Input, Flatten, Dropout, Activation, BatchNormalization\n",
        "from keras.layers import Conv1D, MaxPooling1D, AveragePooling1D\n",
        "from keras.preprocessing import sequence\n",
        "from keras.preprocessing.sequence import pad_sequences\n",
        "from keras.preprocessing.text import Tokenizer\n",
        "from keras.utils import np_utils\n",
        "from keras.utils import to_categorical\n",
        "\n",
        "\n",
        "## Sklearn\n",
        "from sklearn.metrics import confusion_matrix\n",
        "from sklearn.preprocessing import LabelEncoder\n",
        "\n",
        "\n",
        "## Rest\n",
        "from scipy.fftpack import fft\n",
        "from scipy import signal\n",
        "from scipy.io import wavfile\n",
        "from tqdm import tqdm\n",
        "\n",
        "## extra added \n",
        "import pandas as pd\n",
        "import numpy as np\n",
        "import os\n",
        "import librosa\n",
        "import matplotlib.pyplot as plt\n",
        "import librosa.display\n",
        "import IPython.display as ipd\n",
        "from scipy import stats\n",
        "import warnings\n",
        "import seaborn as sns\n",
        "import multiprocessing as mp\n",
        "%matplotlib inline"
      ],
      "execution_count": null,
      "outputs": [
        {
          "output_type": "display_data",
          "data": {
            "text/html": [
              "        <script type=\"text/javascript\">\n",
              "        window.PlotlyConfig = {MathJaxConfig: 'local'};\n",
              "        if (window.MathJax) {MathJax.Hub.Config({SVG: {font: \"STIX-Web\"}});}\n",
              "        if (typeof require !== 'undefined') {\n",
              "        require.undef(\"plotly\");\n",
              "        requirejs.config({\n",
              "            paths: {\n",
              "                'plotly': ['https://cdn.plot.ly/plotly-latest.min']\n",
              "            }\n",
              "        });\n",
              "        require(['plotly'], function(Plotly) {\n",
              "            window._Plotly = Plotly;\n",
              "        });\n",
              "        }\n",
              "        </script>\n",
              "        "
            ]
          },
          "metadata": {
            "tags": []
          }
        }
      ]
    },
    {
      "cell_type": "code",
      "metadata": {
        "id": "Wxsynl2Par21"
      },
      "source": [
        "import pandas as pd\n",
        "import numpy as np\n",
        "import os\n",
        "import librosa\n",
        "import matplotlib.pyplot as plt\n",
        "import librosa.display\n",
        "import IPython.display as ipd\n",
        "from scipy import stats\n",
        "import warnings\n",
        "import seaborn as sns\n",
        "import multiprocessing as mp\n",
        "%matplotlib inline"
      ],
      "execution_count": null,
      "outputs": []
    },
    {
      "cell_type": "code",
      "metadata": {
        "id": "pyX8e_WMh7DB"
      },
      "source": [
        "import pandas as pd\n",
        "import numpy as np\n",
        "from skimage.io import imread\n",
        "from sklearn.model_selection import train_test_split\n",
        "from matplotlib import pyplot as plt\n",
        "%matplotlib inline\n",
        "\n",
        "import keras\n",
        "from keras import optimizers\n",
        "from keras.utils import to_categorical\n",
        "from keras.layers import Input, Dense, Flatten, Dropout, Conv2D, MaxPooling2D, GlobalAveragePooling2D, Activation, concatenate\n",
        "from keras.layers.advanced_activations import LeakyReLU\n",
        "from keras.layers.normalization import BatchNormalization\n",
        "from keras.models import Model\n",
        "from keras.callbacks import ModelCheckpoint, ReduceLROnPlateau\n",
        "from keras.layers import multiply,dot,average,GlobalMaxPooling2D"
      ],
      "execution_count": null,
      "outputs": []
    },
    {
      "cell_type": "code",
      "metadata": {
        "id": "mUmFu2fnO-7V",
        "colab": {
          "base_uri": "https://localhost:8080/"
        },
        "outputId": "43d3cf13-d434-4eb4-b5bf-defc9e587ac4"
      },
      "source": [
        "src_path='/content/drive/My Drive/UrbanSound8K/audio/'\n",
        "dir_list=os.listdir(src_path)\n",
        "dir_list.sort()\n",
        "print(dir_list)"
      ],
      "execution_count": null,
      "outputs": [
        {
          "output_type": "stream",
          "text": [
            "['fold1', 'fold10', 'fold2', 'fold3', 'fold4', 'fold5', 'fold6', 'fold7', 'fold8', 'fold9']\n"
          ],
          "name": "stdout"
        }
      ]
    },
    {
      "cell_type": "code",
      "metadata": {
        "id": "ZQx76acRPMhi",
        "colab": {
          "base_uri": "https://localhost:8080/"
        },
        "outputId": "26027cb6-ed15-4a01-8df8-a5ff6512cc16"
      },
      "source": [
        "src_path=\"/content/drive/My Drive/UrbanSound8K/audio/fold3\"\n",
        "target_dir=\"/content/drive/My Drive/UrbanSound8K/audio_augmentations2\"\n",
        "dir_list=os.listdir(src_path)\n",
        "dir_list.sort()\n",
        "for sound_files in tqdm(dir_list):\n",
        "    #print(sound_files)\n",
        "     sound_file= sound_files.split('.')[0].split('-')\n",
        "    #print(emotion_file)\n",
        "     path= src_path + '/' + sound_files\n",
        "     #data, sample_rate = read_audio_file(path)\n",
        "     data,sample_rate = librosa.core.load(path)\n",
        "     data_noise = add_noise(data)\n",
        "     outfile = sound_files.split('.')[0] + \"-\" + \"aug\" + \".wav\"\n",
        "     outfile = target_dir + '/' + outfile\n",
        "     write_audio_file(outfile, data_noise,sample_rate)\n",
        "     data_roll = shift(data,sample_rate)\n",
        "     outfile = sound_files.split('.')[0] + \"-\" + \"aug1\" + \".wav\"\n",
        "     outfile = target_dir + '/' + outfile\n",
        "     write_audio_file(outfile, data_roll,sample_rate)\n",
        "     # change of pitch the sound\n",
        "     data_pitch = pitch(data)\n",
        "     outfile = sound_files.split('.')[0] + \"-\" + \"aug2\" + \".wav\"\n",
        "     outfile = target_dir + '/' + outfile\n",
        "     write_audio_file(outfile, data_pitch,sample_rate)\n",
        "     #change of dynamic range\n",
        "     data_range = range(data_pitch)\n",
        "     outfile = sound_files.split('.')[0] + \"-\" + \"aug3\" + \".wav\"\n",
        "     outfile = target_dir + '/' + outfile\n",
        "     write_audio_file(outfile, data_range,sample_rate)"
      ],
      "execution_count": null,
      "outputs": [
        {
          "output_type": "stream",
          "text": [
            "100%|██████████| 925/925 [19:35<00:00,  1.27s/it]\n"
          ],
          "name": "stderr"
        }
      ]
    },
    {
      "cell_type": "code",
      "metadata": {
        "id": "_7MjwE35aSQm"
      },
      "source": [
        ""
      ],
      "execution_count": null,
      "outputs": []
    },
    {
      "cell_type": "code",
      "metadata": {
        "id": "0nsjj1T-JUvJ"
      },
      "source": [
        "import librosa\n",
        "import numpy as np\n",
        "import matplotlib.pyplot as plt\n",
        "\n",
        "\n",
        "def add_noise(data):\n",
        "        data_noise = data + 0.009*np.random.normal(0,1,len(data))\n",
        "        return data_noise\n",
        "def shift(data,sample_rate):\n",
        "        return np.roll(data,int(sample_rate/10))\n",
        "def pitch(y):\n",
        "    y_mod=y\n",
        "    length_change = np.random.uniform(low=0.9,high=1.1)\n",
        "    speed_fac = 1.0  / length_change\n",
        "    #print(tab+\"    resample length_change = \",length_change)\n",
        "    tmp = np.interp(np.arange(0,len(y),speed_fac),np.arange(0,len(y)),y)\n",
        "    #tmp = resample(y,int(length*lengt_fac))    # signal.resample is too slow\n",
        "    minlen = min( y.shape[0], tmp.shape[0])     # keep same length as original; \n",
        "    y_mod *= 0                                    # pad with zeros \n",
        "    y_mod[0:minlen] = tmp[0:minlen]\n",
        "    return y_mod\n",
        "def range(y_mod):\n",
        "    dyn_change = np.random.uniform(low=0.5,high=1.1)  # change amplitude\n",
        "    #print(tab+\"    dyn_change = \",dyn_change)\n",
        "    y_mod = y_mod * dyn_change\n",
        "    return y_mod\n",
        "def write_audio_file(file, data, sample_rate):\n",
        "        librosa.output.write_wav(file, data, sample_rate)"
      ],
      "execution_count": null,
      "outputs": []
    },
    {
      "cell_type": "code",
      "metadata": {
        "id": "U0Yrj9mrTgsJ"
      },
      "source": [
        ""
      ],
      "execution_count": null,
      "outputs": []
    },
    {
      "cell_type": "code",
      "metadata": {
        "id": "0gqk3wiArADP"
      },
      "source": [
        "def log_specgram(audio, sample_rate, window_size=5,\n",
        "                 step_size=2, eps=1e-10):\n",
        "    nperseg = int(round(window_size * sample_rate / 1e3))\n",
        "    noverlap = int(round(step_size * sample_rate / 1e3))\n",
        "    freqs, _, spec = signal.spectrogram(audio,\n",
        "                                    fs=sample_rate,\n",
        "                                    window='hann',\n",
        "                                    nperseg=nperseg,\n",
        "                                    noverlap=noverlap,\n",
        "                                    detrend=False,\n",
        "                            )\n",
        "    return freqs, np.log(spec.T.astype(np.float32) + eps)"
      ],
      "execution_count": null,
      "outputs": []
    },
    {
      "cell_type": "code",
      "metadata": {
        "id": "GTain7fWrL0v"
      },
      "source": [
        "def wav2img(wav_path, targetdir='', figsize=(1.28,1.28)):\n",
        "    \"\"\"\n",
        "    takes in wave file path\n",
        "    and the fig size. Default 4,4 will make images 224 x 224\n",
        "    \"\"\"\n",
        "    import pylab\n",
        "    from matplotlib import cm\n",
        "    pylab.figure(figsize=figsize) \n",
        "    pylab.axis('off')\n",
        "    pylab.axes([0., 0., 1., 1.], frameon=False, xticks=[], yticks=[])   \n",
        "    # use soundfile library to read in the wave files\n",
        "    test_sound,samplerate  = librosa.load(wav_path)\n",
        "    test_sound, index1= librosa.effects.trim(test_sound)\n",
        "    _, spectrogram = log_specgram(test_sound, samplerate)\n",
        "    \n",
        "    ## create output path\n",
        "    output_file = wav_path.split('/')[-1].split('.wav')[0]\n",
        "    output_file = targetdir +'/'+ output_file\n",
        "    #plt.figure(figsize=(2.24, 2.24), dpi=100)\n",
        "    #plt.axis('off')\n",
        "    #plt.imshow(spectrogram.T, aspect='auto', origin='lower')\n",
        "    #pylab.figure(1, figsize=(2.24,2.24))\n",
        "    librosa.display.specshow(spectrogram, y_axis='mel', x_axis='time',cmap=cm.jet)\n",
        "    #plt.show()\n",
        "    #pylab.plot(spectrogram)\n",
        "    pylab.savefig('%s.png' % output_file,bbox_inches=None, pad_inches=0,dpi=100)\n",
        "\n",
        "    #plt.savefig('%s.png' % output_file,transparent=False,dpi=100)\n",
        "    \n",
        "    #plt.imsave('%s.png' % output_file, spectrogram.T)\n",
        "    pylab.close()\n",
        "    #plt.close()"
      ],
      "execution_count": null,
      "outputs": []
    },
    {
      "cell_type": "code",
      "metadata": {
        "id": "WA3_KcHAop7H"
      },
      "source": [
        "src_path=\"/content/drive/MyDrive/ESC-50-master/audio_augmentations1/val/audio_augmentations\""
      ],
      "execution_count": null,
      "outputs": []
    },
    {
      "cell_type": "code",
      "metadata": {
        "id": "VdYBCh2PsqtH"
      },
      "source": [
        "target_dir=\"/content/drive/MyDrive/ESC-50-master/ESC_RGBA_128_CHR_aug\""
      ],
      "execution_count": null,
      "outputs": []
    },
    {
      "cell_type": "code",
      "metadata": {
        "id": "W7EyW2nhmzMu",
        "colab": {
          "base_uri": "https://localhost:8080/"
        },
        "outputId": "f3f6589a-ea8a-48bf-bd57-af9f8453d78e"
      },
      "source": [
        "for file_list in tqdm(os.listdir(src_path)):\n",
        "     wav2img(src_path + '/' + file_list, target_dir)\n",
        "     #convert(src_path  + '/' + file_list, target_dir)\n"
      ],
      "execution_count": null,
      "outputs": [
        {
          "output_type": "stream",
          "text": [
            "100%|██████████| 3000/3000 [58:45<00:00,  1.18s/it]\n"
          ],
          "name": "stderr"
        }
      ]
    },
    {
      "cell_type": "code",
      "metadata": {
        "id": "F8DAhF_Gr6Ui"
      },
      "source": [
        ""
      ],
      "execution_count": null,
      "outputs": []
    },
    {
      "cell_type": "code",
      "metadata": {
        "id": "gFI5AYf3QglG"
      },
      "source": [
        "def wav2img(wav_path, targetdir='', figsize=(1.28,1.28)):\n",
        "    \"\"\"\n",
        "    takes in wave file path\n",
        "    and the fig size. Default 4,4 will make images 224 x 224\n",
        "    \"\"\"\n",
        "    import pylab\n",
        "    from matplotlib import cm\n",
        "    pylab.figure(figsize=figsize) \n",
        "    pylab.axis('off')\n",
        "    pylab.axes([0., 0., 1., 1.], frameon=False, xticks=[], yticks=[])   \n",
        "    # use soundfile library to read in the wave files\n",
        "    test_sound,samplerate  = librosa.load(wav_path)\n",
        "    test_sound, index1= librosa.effects.trim(test_sound)\n",
        "    #_, spectrogram = log_specgram(test_sound, samplerate)\n",
        "    #hop_length = 512\n",
        "    #chromagram = librosa.feature.chroma_stft(test_sound, sr=samplerate, hop_length=hop_length)\n",
        "    N = 4096\n",
        "    H = 512 \n",
        "    eps = np.finfo(float).eps\n",
        "    C = librosa.feature.chroma_stft(y=test_sound, sr=samplerate, tuning=0, norm=None, hop_length=H, n_fft=N)\n",
        "    ## create output path\n",
        "    output_file = wav_path.split('/')[-1].split('.wav')[0]\n",
        "    output_file = targetdir +'/'+ output_file\n",
        "    #plt.figure(figsize=(2.24, 2.24), dpi=100)\n",
        "    #plt.axis('off')\n",
        "    #plt.imshow(spectrogram.T, aspect='auto', origin='lower')\n",
        "    #pylab.figure(1, figsize=(2.24,2.24))\n",
        "    #librosa.display.specshow(spectrogram, y_axis='mel', x_axis='time',cmap=cm.jet)\n",
        "    #librosa.display.specshow(chromagram, x_axis='time', y_axis='chroma', hop_length=hop_length, cmap='coolwarm')\n",
        "    librosa.display.specshow(10 * np.log10(eps + C), x_axis='time', y_axis='chroma', sr=samplerate, hop_length=H)\n",
        "    #plt.show()\n",
        "    #pylab.plot(spectrogram)\n",
        "    pylab.savefig('%s.png' % output_file,bbox_inches=None, pad_inches=0,dpi=100)\n",
        "\n",
        "    #plt.savefig('%s.png' % output_file,transparent=False,dpi=100)\n",
        "    \n",
        "    #plt.imsave('%s.png' % output_file, spectrogram.T)\n",
        "    pylab.close()\n",
        "    #plt.close()"
      ],
      "execution_count": null,
      "outputs": []
    },
    {
      "cell_type": "code",
      "metadata": {
        "id": "wGK6r2lgSHpL"
      },
      "source": [
        "from PIL import Image\n",
        "from numpy import asarray"
      ],
      "execution_count": null,
      "outputs": []
    },
    {
      "cell_type": "code",
      "metadata": {
        "id": "ydt0d1e9RSMM"
      },
      "source": [
        "def convert(png_path, targetdir=''):\n",
        "    im=Image.open(png_path)\n",
        "    output_file = png_path.split('/')[-1].split('.png')[0]\n",
        "    output_file = targetdir +'/'+ output_file\n",
        "    im.convert('RGB').save(\"%s.jpg\" %output_file)\n",
        "\n"
      ],
      "execution_count": null,
      "outputs": []
    },
    {
      "cell_type": "code",
      "metadata": {
        "id": "XwN19B1QQfmn"
      },
      "source": [
        "src_path=\"/content/drive/MyDrive/ESC-50-master/ESC_RGBA_128_SPE_aug\"\n",
        "target_dir=\"/content/drive/MyDrive/ESC-50-master/ESC_RGB_128_SPE_aug\""
      ],
      "execution_count": null,
      "outputs": []
    },
    {
      "cell_type": "code",
      "metadata": {
        "id": "Lh6W3cwGFMDD"
      },
      "source": [
        ""
      ],
      "execution_count": null,
      "outputs": []
    },
    {
      "cell_type": "code",
      "metadata": {
        "id": "1wla_ShMS1FE",
        "colab": {
          "base_uri": "https://localhost:8080/"
        },
        "outputId": "f9e3c6c4-b5b2-4492-8e91-4d840f2ceab2"
      },
      "source": [
        "for file_list in tqdm(os.listdir(src_path)):\n",
        "     #wav2img(src_path + '/' + file_list, target_dir)\n",
        "     convert(src_path  + '/' + file_list, target_dir)"
      ],
      "execution_count": null,
      "outputs": [
        {
          "output_type": "stream",
          "text": [
            "100%|██████████| 8000/8000 [13:04<00:00, 10.20it/s] \n"
          ],
          "name": "stderr"
        }
      ]
    },
    {
      "cell_type": "code",
      "metadata": {
        "id": "NVrlCMciyJB-"
      },
      "source": [
        "src_path=\"/content/drive/My Drive/UrbanSound8K/audio_augmentations\"\n",
        "src_path1=\"/content/drive/My Drive/UrbanSound8K/audio_rgba_augmentations\""
      ],
      "execution_count": null,
      "outputs": []
    },
    {
      "cell_type": "code",
      "metadata": {
        "id": "qCjGE0JLuK6_"
      },
      "source": [
        ""
      ],
      "execution_count": null,
      "outputs": []
    },
    {
      "cell_type": "code",
      "metadata": {
        "id": "DqzM-t9NYtWi"
      },
      "source": [
        "import numpy as np\n",
        "max_pad_len = 217\n",
        "def extract_features(file_name):\n",
        "   \n",
        "    try:\n",
        "        audio, sample_rate = librosa.load(file_name, res_type='kaiser_fast') \n",
        "        mfccs = librosa.feature.mfcc(y=audio, sr=sample_rate, n_mfcc=40)\n",
        "        pad_width = max_pad_len - mfccs.shape[1]\n",
        "        mfccs = np.pad(mfccs, pad_width=((0, 0), (0, pad_width)), mode='constant')\n",
        "    \n",
        "        \n",
        "    except Exception as e:\n",
        "        print(\"Error encountered while parsing file: \", file_name)\n",
        "        return None \n",
        "     \n",
        "    return mfccs"
      ],
      "execution_count": null,
      "outputs": []
    },
    {
      "cell_type": "code",
      "metadata": {
        "id": "JobkmhsQYtWs"
      },
      "source": [
        "src_path=\"/content/drive/MyDrive/ESC-50-master/audio_augmentations/audio_augmentations\""
      ],
      "execution_count": null,
      "outputs": []
    },
    {
      "cell_type": "code",
      "metadata": {
        "id": "bMUuQdEKYtWu",
        "colab": {
          "base_uri": "https://localhost:8080/"
        },
        "outputId": "b6c37e31-3d3d-41ea-a2dc-bfb56692e3c7"
      },
      "source": [
        "data_df = pd.DataFrame(columns=['path','sound'])\n",
        "count=0\n",
        "features=[]\n",
        "dir_list=os.listdir(src_path)\n",
        "dir_list.sort()\n",
        "for sound_files in tqdm(dir_list):\n",
        "    #print(sound_files)\n",
        "     sound_file= sound_files.split('.')[0].split('-')\n",
        "    #print(emotion_file)\n",
        "     path= src_path + '/' + sound_files\n",
        "    #print(path)\n",
        "     file_name=os.path.abspath(path)\n",
        "     data = extract_features(file_name)\n",
        "     sound=int(sound_file[3])\n",
        "     features.append([data, sound])\n",
        "    #print(emotion)\n",
        "     data_df.loc[count] = [path,sound]\n",
        "     count += 1\n",
        "    #print(\"------------------------------\")\n",
        "    #print(\"++++++++++++++++++++++++++++++++++++++++++++++\")\n",
        "featuresdf = pd.DataFrame(features, columns=['feature','sound'])\n",
        "featuresdf.to_pickle('/content/drive/My Drive/ESC-50-master/esc_mfcc_aug.pkl')"
      ],
      "execution_count": null,
      "outputs": [
        {
          "output_type": "stream",
          "text": [
            "100%|██████████| 8000/8000 [2:57:44<00:00,  1.33s/it]\n"
          ],
          "name": "stderr"
        }
      ]
    },
    {
      "cell_type": "code",
      "metadata": {
        "id": "JsCn9QOqcy1K",
        "colab": {
          "base_uri": "https://localhost:8080/",
          "height": 419
        },
        "outputId": "249aee19-8398-48d7-f08e-2bb6a16dd132"
      },
      "source": [
        "featuresdf"
      ],
      "execution_count": null,
      "outputs": [
        {
          "output_type": "execute_result",
          "data": {
            "text/html": [
              "<div>\n",
              "<style scoped>\n",
              "    .dataframe tbody tr th:only-of-type {\n",
              "        vertical-align: middle;\n",
              "    }\n",
              "\n",
              "    .dataframe tbody tr th {\n",
              "        vertical-align: top;\n",
              "    }\n",
              "\n",
              "    .dataframe thead th {\n",
              "        text-align: right;\n",
              "    }\n",
              "</style>\n",
              "<table border=\"1\" class=\"dataframe\">\n",
              "  <thead>\n",
              "    <tr style=\"text-align: right;\">\n",
              "      <th></th>\n",
              "      <th>feature</th>\n",
              "      <th>sound</th>\n",
              "    </tr>\n",
              "  </thead>\n",
              "  <tbody>\n",
              "    <tr>\n",
              "      <th>0</th>\n",
              "      <td>[[-260.556799133952, -258.9153047164046, -259....</td>\n",
              "      <td>0</td>\n",
              "    </tr>\n",
              "    <tr>\n",
              "      <th>1</th>\n",
              "      <td>[[-625.2565894025023, -625.2565894025023, -625...</td>\n",
              "      <td>0</td>\n",
              "    </tr>\n",
              "    <tr>\n",
              "      <th>2</th>\n",
              "      <td>[[-622.9055949983652, -622.9055949983652, -622...</td>\n",
              "      <td>0</td>\n",
              "    </tr>\n",
              "    <tr>\n",
              "      <th>3</th>\n",
              "      <td>[[-641.0058468162614, -641.0058468162614, -641...</td>\n",
              "      <td>0</td>\n",
              "    </tr>\n",
              "    <tr>\n",
              "      <th>4</th>\n",
              "      <td>[[-143.13743607040084, -145.93355874331442, -1...</td>\n",
              "      <td>14</td>\n",
              "    </tr>\n",
              "    <tr>\n",
              "      <th>...</th>\n",
              "      <td>...</td>\n",
              "      <td>...</td>\n",
              "    </tr>\n",
              "    <tr>\n",
              "      <th>7995</th>\n",
              "      <td>[[-43.48348316597714, -55.86440021356729, -69....</td>\n",
              "      <td>8</td>\n",
              "    </tr>\n",
              "    <tr>\n",
              "      <th>7996</th>\n",
              "      <td>[[-265.7655921467211, -255.02145562371598, -16...</td>\n",
              "      <td>0</td>\n",
              "    </tr>\n",
              "    <tr>\n",
              "      <th>7997</th>\n",
              "      <td>[[-595.9850826087672, -595.9850826087672, -595...</td>\n",
              "      <td>0</td>\n",
              "    </tr>\n",
              "    <tr>\n",
              "      <th>7998</th>\n",
              "      <td>[[-539.4842603917743, -481.3436254203545, -264...</td>\n",
              "      <td>0</td>\n",
              "    </tr>\n",
              "    <tr>\n",
              "      <th>7999</th>\n",
              "      <td>[[-599.4993830620274, -541.2271784471973, -323...</td>\n",
              "      <td>0</td>\n",
              "    </tr>\n",
              "  </tbody>\n",
              "</table>\n",
              "<p>8000 rows × 2 columns</p>\n",
              "</div>"
            ],
            "text/plain": [
              "                                                feature  sound\n",
              "0     [[-260.556799133952, -258.9153047164046, -259....      0\n",
              "1     [[-625.2565894025023, -625.2565894025023, -625...      0\n",
              "2     [[-622.9055949983652, -622.9055949983652, -622...      0\n",
              "3     [[-641.0058468162614, -641.0058468162614, -641...      0\n",
              "4     [[-143.13743607040084, -145.93355874331442, -1...     14\n",
              "...                                                 ...    ...\n",
              "7995  [[-43.48348316597714, -55.86440021356729, -69....      8\n",
              "7996  [[-265.7655921467211, -255.02145562371598, -16...      0\n",
              "7997  [[-595.9850826087672, -595.9850826087672, -595...      0\n",
              "7998  [[-539.4842603917743, -481.3436254203545, -264...      0\n",
              "7999  [[-599.4993830620274, -541.2271784471973, -323...      0\n",
              "\n",
              "[8000 rows x 2 columns]"
            ]
          },
          "metadata": {
            "tags": []
          },
          "execution_count": 7
        }
      ]
    },
    {
      "cell_type": "code",
      "metadata": {
        "id": "wuOSbcrYMX_A"
      },
      "source": [
        "import numpy as np\n",
        "max_pad_len = 174\n",
        "def extract_features(file_name):\n",
        "   \n",
        "    try:\n",
        "        audio, sample_rate = librosa.load(file_name, res_type='kaiser_fast') \n",
        "        mfccs = librosa.feature.mfcc(y=audio, sr=sample_rate, n_mfcc=40)\n",
        "        pad_width = max_pad_len - mfccs.shape[1]\n",
        "        mfccs = np.pad(mfccs, pad_width=((0, 0), (0, pad_width)), mode='constant')\n",
        "    \n",
        "        \n",
        "    except Exception as e:\n",
        "        print(\"Error encountered while parsing file: \", file_name)\n",
        "        return None \n",
        "     \n",
        "    return mfccs"
      ],
      "execution_count": null,
      "outputs": []
    },
    {
      "cell_type": "code",
      "metadata": {
        "id": "dS0YtygLWqRI",
        "colab": {
          "base_uri": "https://localhost:8080/"
        },
        "outputId": "1354c065-55d3-46e1-e3cf-b896449b9419"
      },
      "source": [
        "extract_features(\"/content/drive/MyDrive/ESC-50-master/audio_augmentations/audio_augmentations/1-100032-A-0-aug.wav\")"
      ],
      "execution_count": null,
      "outputs": [
        {
          "output_type": "stream",
          "text": [
            "Error encountered while parsing file:  /content/drive/MyDrive/ESC-50-master/audio_augmentations/audio_augmentations/1-100032-A-0-aug.wav\n"
          ],
          "name": "stdout"
        }
      ]
    },
    {
      "cell_type": "code",
      "metadata": {
        "id": "U3cCo7VMQh-4"
      },
      "source": [
        "src_path=\"/content/drive/MyDrive/ESC-50-master/audio_augmentations/audio_augmentations\""
      ],
      "execution_count": null,
      "outputs": []
    },
    {
      "cell_type": "code",
      "metadata": {
        "id": "iqoeffH5J9kA",
        "colab": {
          "base_uri": "https://localhost:8080/"
        },
        "outputId": "22a37aeb-e019-4a56-8137-2dbd2264d8a8"
      },
      "source": [
        "data_df = pd.DataFrame(columns=['path','sound'])\n",
        "count=0\n",
        "features=[]\n",
        "dir_list=os.listdir(src_path)\n",
        "dir_list.sort()\n",
        "for sound_files in tqdm(dir_list):\n",
        "    #print(sound_files)\n",
        "     sound_file= sound_files.split('.')[0].split('-')\n",
        "    #print(emotion_file)\n",
        "     path= src_path + '/' + sound_files\n",
        "    #print(path)\n",
        "     file_name=os.path.abspath(path)\n",
        "     data = extract_features(file_name)\n",
        "     sound=int(sound_file[1])\n",
        "     features.append([data, sound])\n",
        "    #print(emotion)\n",
        "     data_df.loc[count] = [path,sound]\n",
        "     count += 1\n",
        "    #print(\"------------------------------\")\n",
        "    #print(\"++++++++++++++++++++++++++++++++++++++++++++++\")\n",
        "featuresdf = pd.DataFrame(features, columns=['feature','sound'])\n",
        "featuresdf.to_pickle('/content/drive/My Drive/UrbanSound8K/mfcc_aug1.pkl')"
      ],
      "execution_count": null,
      "outputs": [
        {
          "output_type": "stream",
          "text": [
            "100%|██████████| 3552/3552 [1:16:39<00:00,  1.29s/it]\n"
          ],
          "name": "stderr"
        }
      ]
    },
    {
      "cell_type": "code",
      "metadata": {
        "id": "azAVKm0LNI1r",
        "colab": {
          "base_uri": "https://localhost:8080/",
          "height": 359
        },
        "outputId": "317f0de7-421b-416e-f5db-0defc4ef0b3a"
      },
      "source": [
        "featuresdf[0:10]"
      ],
      "execution_count": null,
      "outputs": [
        {
          "output_type": "execute_result",
          "data": {
            "text/html": [
              "<div>\n",
              "<style scoped>\n",
              "    .dataframe tbody tr th:only-of-type {\n",
              "        vertical-align: middle;\n",
              "    }\n",
              "\n",
              "    .dataframe tbody tr th {\n",
              "        vertical-align: top;\n",
              "    }\n",
              "\n",
              "    .dataframe thead th {\n",
              "        text-align: right;\n",
              "    }\n",
              "</style>\n",
              "<table border=\"1\" class=\"dataframe\">\n",
              "  <thead>\n",
              "    <tr style=\"text-align: right;\">\n",
              "      <th></th>\n",
              "      <th>feature</th>\n",
              "      <th>sound</th>\n",
              "    </tr>\n",
              "  </thead>\n",
              "  <tbody>\n",
              "    <tr>\n",
              "      <th>0</th>\n",
              "      <td>[[-323.8797027562813, -315.7277809532051, -312...</td>\n",
              "      <td>2</td>\n",
              "    </tr>\n",
              "    <tr>\n",
              "      <th>1</th>\n",
              "      <td>[[-680.2892993405603, -676.598708956871, -682....</td>\n",
              "      <td>2</td>\n",
              "    </tr>\n",
              "    <tr>\n",
              "      <th>2</th>\n",
              "      <td>[[-794.0936818010065, -784.1974424666156, -768...</td>\n",
              "      <td>2</td>\n",
              "    </tr>\n",
              "    <tr>\n",
              "      <th>3</th>\n",
              "      <td>[[-818.9717531762269, -809.7580295337414, -794...</td>\n",
              "      <td>2</td>\n",
              "    </tr>\n",
              "    <tr>\n",
              "      <th>4</th>\n",
              "      <td>[[-325.57910028966216, -321.136822616801, -317...</td>\n",
              "      <td>22</td>\n",
              "    </tr>\n",
              "    <tr>\n",
              "      <th>5</th>\n",
              "      <td>[[-713.699936888719, -709.9854353622703, -698....</td>\n",
              "      <td>22</td>\n",
              "    </tr>\n",
              "    <tr>\n",
              "      <th>6</th>\n",
              "      <td>[[-703.9031336298652, -708.2520636163649, -722...</td>\n",
              "      <td>22</td>\n",
              "    </tr>\n",
              "    <tr>\n",
              "      <th>7</th>\n",
              "      <td>[[-732.6971524868021, -734.4955691389483, -746...</td>\n",
              "      <td>22</td>\n",
              "    </tr>\n",
              "    <tr>\n",
              "      <th>8</th>\n",
              "      <td>[[-313.9181800229512, -312.65550275208886, -31...</td>\n",
              "      <td>23</td>\n",
              "    </tr>\n",
              "    <tr>\n",
              "      <th>9</th>\n",
              "      <td>[[-750.190013991363, -742.8886130013237, -742....</td>\n",
              "      <td>23</td>\n",
              "    </tr>\n",
              "  </tbody>\n",
              "</table>\n",
              "</div>"
            ],
            "text/plain": [
              "                                             feature  sound\n",
              "0  [[-323.8797027562813, -315.7277809532051, -312...      2\n",
              "1  [[-680.2892993405603, -676.598708956871, -682....      2\n",
              "2  [[-794.0936818010065, -784.1974424666156, -768...      2\n",
              "3  [[-818.9717531762269, -809.7580295337414, -794...      2\n",
              "4  [[-325.57910028966216, -321.136822616801, -317...     22\n",
              "5  [[-713.699936888719, -709.9854353622703, -698....     22\n",
              "6  [[-703.9031336298652, -708.2520636163649, -722...     22\n",
              "7  [[-732.6971524868021, -734.4955691389483, -746...     22\n",
              "8  [[-313.9181800229512, -312.65550275208886, -31...     23\n",
              "9  [[-750.190013991363, -742.8886130013237, -742....     23"
            ]
          },
          "metadata": {
            "tags": []
          },
          "execution_count": 10
        }
      ]
    },
    {
      "cell_type": "code",
      "metadata": {
        "id": "OJHFOaA2894p"
      },
      "source": [
        "src_path=\"/content/drive/MyDrive/UrbanSound8K/audio_rgb_chroma_augmentations2_128/\""
      ],
      "execution_count": null,
      "outputs": []
    },
    {
      "cell_type": "code",
      "metadata": {
        "id": "PNE7dWaZGI1h",
        "colab": {
          "base_uri": "https://localhost:8080/"
        },
        "outputId": "7f223476-d0c6-4453-caba-949a2e75f168"
      },
      "source": [
        "data_df_aug2 = pd.DataFrame(columns=['path','sound'])\n",
        "count=0\n",
        "dir_list=os.listdir(src_path)\n",
        "dir_list.sort()\n",
        "for sound_files in tqdm(dir_list):\n",
        "    #print(sound_files)\n",
        "     sound_file= sound_files.split('.')[0].split('-')\n",
        "    #print(emotion_file)\n",
        "     path= src_path + '/' + sound_files\n",
        "    #print(path)\n",
        "     sound=int(sound_file[1])\n",
        "    #print(emotion)\n",
        "     data_df_aug2.loc[count] = [path,sound]\n",
        "     count += 1\n",
        "    #print(\"------------------------------\")\n",
        "    #print(\"++++++++++++++++++++++++++++++++++++++++++++++\")"
      ],
      "execution_count": null,
      "outputs": [
        {
          "output_type": "stream",
          "text": [
            "100%|██████████| 3700/3700 [00:09<00:00, 384.05it/s]\n"
          ],
          "name": "stderr"
        }
      ]
    },
    {
      "cell_type": "code",
      "metadata": {
        "id": "xlOowUFfNZXd",
        "colab": {
          "base_uri": "https://localhost:8080/",
          "height": 419
        },
        "outputId": "60c3effc-9f97-4e3b-8cd8-d5e6605a83c9"
      },
      "source": [
        "data_df_aug2"
      ],
      "execution_count": null,
      "outputs": [
        {
          "output_type": "execute_result",
          "data": {
            "text/html": [
              "<div>\n",
              "<style scoped>\n",
              "    .dataframe tbody tr th:only-of-type {\n",
              "        vertical-align: middle;\n",
              "    }\n",
              "\n",
              "    .dataframe tbody tr th {\n",
              "        vertical-align: top;\n",
              "    }\n",
              "\n",
              "    .dataframe thead th {\n",
              "        text-align: right;\n",
              "    }\n",
              "</style>\n",
              "<table border=\"1\" class=\"dataframe\">\n",
              "  <thead>\n",
              "    <tr style=\"text-align: right;\">\n",
              "      <th></th>\n",
              "      <th>path</th>\n",
              "      <th>sound</th>\n",
              "    </tr>\n",
              "  </thead>\n",
              "  <tbody>\n",
              "    <tr>\n",
              "      <th>0</th>\n",
              "      <td>/content/drive/MyDrive/UrbanSound8K/audio_rgb_...</td>\n",
              "      <td>3</td>\n",
              "    </tr>\n",
              "    <tr>\n",
              "      <th>1</th>\n",
              "      <td>/content/drive/MyDrive/UrbanSound8K/audio_rgb_...</td>\n",
              "      <td>3</td>\n",
              "    </tr>\n",
              "    <tr>\n",
              "      <th>2</th>\n",
              "      <td>/content/drive/MyDrive/UrbanSound8K/audio_rgb_...</td>\n",
              "      <td>3</td>\n",
              "    </tr>\n",
              "    <tr>\n",
              "      <th>3</th>\n",
              "      <td>/content/drive/MyDrive/UrbanSound8K/audio_rgb_...</td>\n",
              "      <td>3</td>\n",
              "    </tr>\n",
              "    <tr>\n",
              "      <th>4</th>\n",
              "      <td>/content/drive/MyDrive/UrbanSound8K/audio_rgb_...</td>\n",
              "      <td>4</td>\n",
              "    </tr>\n",
              "    <tr>\n",
              "      <th>...</th>\n",
              "      <td>...</td>\n",
              "      <td>...</td>\n",
              "    </tr>\n",
              "    <tr>\n",
              "      <th>3695</th>\n",
              "      <td>/content/drive/MyDrive/UrbanSound8K/audio_rgb_...</td>\n",
              "      <td>9</td>\n",
              "    </tr>\n",
              "    <tr>\n",
              "      <th>3696</th>\n",
              "      <td>/content/drive/MyDrive/UrbanSound8K/audio_rgb_...</td>\n",
              "      <td>9</td>\n",
              "    </tr>\n",
              "    <tr>\n",
              "      <th>3697</th>\n",
              "      <td>/content/drive/MyDrive/UrbanSound8K/audio_rgb_...</td>\n",
              "      <td>9</td>\n",
              "    </tr>\n",
              "    <tr>\n",
              "      <th>3698</th>\n",
              "      <td>/content/drive/MyDrive/UrbanSound8K/audio_rgb_...</td>\n",
              "      <td>9</td>\n",
              "    </tr>\n",
              "    <tr>\n",
              "      <th>3699</th>\n",
              "      <td>/content/drive/MyDrive/UrbanSound8K/audio_rgb_...</td>\n",
              "      <td>9</td>\n",
              "    </tr>\n",
              "  </tbody>\n",
              "</table>\n",
              "<p>3700 rows × 2 columns</p>\n",
              "</div>"
            ],
            "text/plain": [
              "                                                   path sound\n",
              "0     /content/drive/MyDrive/UrbanSound8K/audio_rgb_...     3\n",
              "1     /content/drive/MyDrive/UrbanSound8K/audio_rgb_...     3\n",
              "2     /content/drive/MyDrive/UrbanSound8K/audio_rgb_...     3\n",
              "3     /content/drive/MyDrive/UrbanSound8K/audio_rgb_...     3\n",
              "4     /content/drive/MyDrive/UrbanSound8K/audio_rgb_...     4\n",
              "...                                                 ...   ...\n",
              "3695  /content/drive/MyDrive/UrbanSound8K/audio_rgb_...     9\n",
              "3696  /content/drive/MyDrive/UrbanSound8K/audio_rgb_...     9\n",
              "3697  /content/drive/MyDrive/UrbanSound8K/audio_rgb_...     9\n",
              "3698  /content/drive/MyDrive/UrbanSound8K/audio_rgb_...     9\n",
              "3699  /content/drive/MyDrive/UrbanSound8K/audio_rgb_...     9\n",
              "\n",
              "[3700 rows x 2 columns]"
            ]
          },
          "metadata": {
            "tags": []
          },
          "execution_count": 17
        }
      ]
    },
    {
      "cell_type": "code",
      "metadata": {
        "id": "WA4jdVwKNcYP"
      },
      "source": [
        ""
      ],
      "execution_count": null,
      "outputs": []
    },
    {
      "cell_type": "code",
      "metadata": {
        "id": "fGeQxXTE_mEc"
      },
      "source": [
        "import pandas as pd\n",
        "import numpy as np\n",
        "from skimage.io import imread\n",
        "from sklearn.model_selection import train_test_split\n",
        "from matplotlib import pyplot as plt\n",
        "%matplotlib inline\n",
        "\n",
        "import keras\n",
        "from keras import optimizers\n",
        "from keras.utils import to_categorical\n",
        "from keras.layers import Input, Dense, Flatten, Dropout, Conv2D, MaxPooling2D, GlobalAveragePooling2D, Activation, concatenate\n",
        "from keras.layers.advanced_activations import LeakyReLU\n",
        "from keras.layers.normalization import BatchNormalization\n",
        "from keras.models import Model\n",
        "from keras.callbacks import ModelCheckpoint, ReduceLROnPlateau"
      ],
      "execution_count": null,
      "outputs": []
    },
    {
      "cell_type": "code",
      "metadata": {
        "id": "ESEcZfH4O0hl"
      },
      "source": [
        "def read_spectograms(file_paths, img_rows, img_cols, as_gray, channels):\n",
        "  \"\"\"\n",
        "  Reads the spectogram files from disk and normalizes the pixel values\n",
        "    @params:\n",
        "      file_paths - Array of file paths to read from\n",
        "      img_rows - The image height.\n",
        "      img_cols - The image width.\n",
        "      as_grey - Read the image as Greyscale or RGB.\n",
        "      channels - Number of channels.\n",
        "    @returns:\n",
        "      The created and compiled model (Model)        \n",
        "  \"\"\"\n",
        "  images = []\n",
        "  \n",
        "  for file_path in tqdm(file_paths):\n",
        "    images.append(imread(file_path, as_gray = as_gray))\n",
        "  \n",
        "  images = np.asarray(images, dtype=np.float32)\n",
        "  \n",
        "  # normalize\n",
        "  images = images / np.max(images)\n",
        "  \n",
        "  # reshape to match Keras expectaions\n",
        "  images = images.reshape(images.shape[0], img_rows, img_cols, channels)\n",
        "\n",
        "  return images"
      ],
      "execution_count": null,
      "outputs": []
    },
    {
      "cell_type": "code",
      "metadata": {
        "id": "D1JtkFdQPQAo",
        "colab": {
          "base_uri": "https://localhost:8080/"
        },
        "outputId": "c9fd9f2c-42e1-43d9-9796-e3db0fc53d5f"
      },
      "source": [
        "x_train_chroma_aug = read_spectograms(data_df_aug2.path.values, img_rows, img_cols, as_gray, in_channel)\n",
        "np.save('/content/drive/My Drive/UrbanSound8K/x_train_rgb_128_chroma_aug2.npy', x_train_chroma_aug)"
      ],
      "execution_count": null,
      "outputs": [
        {
          "output_type": "stream",
          "text": [
            "100%|██████████| 3700/3700 [00:05<00:00, 664.29it/s]\n"
          ],
          "name": "stderr"
        }
      ]
    },
    {
      "cell_type": "code",
      "metadata": {
        "id": "g3mFyO_3avg0",
        "colab": {
          "base_uri": "https://localhost:8080/"
        },
        "outputId": "f46134ec-2fba-46f3-f25d-8272ee51ffdf"
      },
      "source": [
        "src_path='/content/drive/My Drive/UrbanSound8K/spectrogram_rgb_128_spectrogram_audio/'\n",
        "dir_list=os.listdir(src_path)\n",
        "dir_list.sort()\n",
        "print(dir_list)"
      ],
      "execution_count": null,
      "outputs": [
        {
          "output_type": "stream",
          "text": [
            "['fold1', 'fold10', 'fold2', 'fold3', 'fold4', 'fold5', 'fold6', 'fold7', 'fold8', 'fold9']\n"
          ],
          "name": "stdout"
        }
      ]
    },
    {
      "cell_type": "code",
      "metadata": {
        "id": "_BmLJg3ucfAh"
      },
      "source": [
        "data_df = pd.DataFrame(columns=['path','sound'])\n",
        "count=0\n",
        "for directories in dir_list:\n",
        "    file_list=os.listdir(src_path + directories)\n",
        "    file_list.sort()\n",
        "    for sound_files in file_list:\n",
        "        #print(sound_files)\n",
        "        sound_file= sound_files.split('.')[0].split('-')\n",
        "        #print(emotion_file)\n",
        "        path= src_path + directories + '/' + sound_files\n",
        "        #print(path)\n",
        "        sound=int(sound_file[1])\n",
        "        #print(emotion)\n",
        "        data_df.loc[count] = [path,sound]\n",
        "        count += 1\n",
        "        #print(\"------------------------------\")\n",
        "    #print(\"++++++++++++++++++++++++++++++++++++++++++++++\")"
      ],
      "execution_count": null,
      "outputs": []
    },
    {
      "cell_type": "code",
      "metadata": {
        "id": "RvKr8xDd88cf",
        "colab": {
          "base_uri": "https://localhost:8080/",
          "height": 419
        },
        "outputId": "0f59712b-33ec-4f79-a51d-2e8644eebfce"
      },
      "source": [
        "data_df"
      ],
      "execution_count": null,
      "outputs": [
        {
          "output_type": "execute_result",
          "data": {
            "text/html": [
              "<div>\n",
              "<style scoped>\n",
              "    .dataframe tbody tr th:only-of-type {\n",
              "        vertical-align: middle;\n",
              "    }\n",
              "\n",
              "    .dataframe tbody tr th {\n",
              "        vertical-align: top;\n",
              "    }\n",
              "\n",
              "    .dataframe thead th {\n",
              "        text-align: right;\n",
              "    }\n",
              "</style>\n",
              "<table border=\"1\" class=\"dataframe\">\n",
              "  <thead>\n",
              "    <tr style=\"text-align: right;\">\n",
              "      <th></th>\n",
              "      <th>path</th>\n",
              "      <th>sound</th>\n",
              "    </tr>\n",
              "  </thead>\n",
              "  <tbody>\n",
              "    <tr>\n",
              "      <th>0</th>\n",
              "      <td>/content/drive/My Drive/UrbanSound8K/spectrogr...</td>\n",
              "      <td>3</td>\n",
              "    </tr>\n",
              "    <tr>\n",
              "      <th>1</th>\n",
              "      <td>/content/drive/My Drive/UrbanSound8K/spectrogr...</td>\n",
              "      <td>3</td>\n",
              "    </tr>\n",
              "    <tr>\n",
              "      <th>2</th>\n",
              "      <td>/content/drive/My Drive/UrbanSound8K/spectrogr...</td>\n",
              "      <td>3</td>\n",
              "    </tr>\n",
              "    <tr>\n",
              "      <th>3</th>\n",
              "      <td>/content/drive/My Drive/UrbanSound8K/spectrogr...</td>\n",
              "      <td>3</td>\n",
              "    </tr>\n",
              "    <tr>\n",
              "      <th>4</th>\n",
              "      <td>/content/drive/My Drive/UrbanSound8K/spectrogr...</td>\n",
              "      <td>6</td>\n",
              "    </tr>\n",
              "    <tr>\n",
              "      <th>...</th>\n",
              "      <td>...</td>\n",
              "      <td>...</td>\n",
              "    </tr>\n",
              "    <tr>\n",
              "      <th>8727</th>\n",
              "      <td>/content/drive/My Drive/UrbanSound8K/spectrogr...</td>\n",
              "      <td>2</td>\n",
              "    </tr>\n",
              "    <tr>\n",
              "      <th>8728</th>\n",
              "      <td>/content/drive/My Drive/UrbanSound8K/spectrogr...</td>\n",
              "      <td>2</td>\n",
              "    </tr>\n",
              "    <tr>\n",
              "      <th>8729</th>\n",
              "      <td>/content/drive/My Drive/UrbanSound8K/spectrogr...</td>\n",
              "      <td>2</td>\n",
              "    </tr>\n",
              "    <tr>\n",
              "      <th>8730</th>\n",
              "      <td>/content/drive/My Drive/UrbanSound8K/spectrogr...</td>\n",
              "      <td>2</td>\n",
              "    </tr>\n",
              "    <tr>\n",
              "      <th>8731</th>\n",
              "      <td>/content/drive/My Drive/UrbanSound8K/spectrogr...</td>\n",
              "      <td>2</td>\n",
              "    </tr>\n",
              "  </tbody>\n",
              "</table>\n",
              "<p>8732 rows × 2 columns</p>\n",
              "</div>"
            ],
            "text/plain": [
              "                                                   path sound\n",
              "0     /content/drive/My Drive/UrbanSound8K/spectrogr...     3\n",
              "1     /content/drive/My Drive/UrbanSound8K/spectrogr...     3\n",
              "2     /content/drive/My Drive/UrbanSound8K/spectrogr...     3\n",
              "3     /content/drive/My Drive/UrbanSound8K/spectrogr...     3\n",
              "4     /content/drive/My Drive/UrbanSound8K/spectrogr...     6\n",
              "...                                                 ...   ...\n",
              "8727  /content/drive/My Drive/UrbanSound8K/spectrogr...     2\n",
              "8728  /content/drive/My Drive/UrbanSound8K/spectrogr...     2\n",
              "8729  /content/drive/My Drive/UrbanSound8K/spectrogr...     2\n",
              "8730  /content/drive/My Drive/UrbanSound8K/spectrogr...     2\n",
              "8731  /content/drive/My Drive/UrbanSound8K/spectrogr...     2\n",
              "\n",
              "[8732 rows x 2 columns]"
            ]
          },
          "metadata": {
            "tags": []
          },
          "execution_count": 11
        }
      ]
    },
    {
      "cell_type": "code",
      "metadata": {
        "id": "qKUcDklM04fO"
      },
      "source": [
        "labels = data_df.sound.values"
      ],
      "execution_count": null,
      "outputs": []
    },
    {
      "cell_type": "code",
      "metadata": {
        "id": "JzLhXDqg06j9"
      },
      "source": [
        "labels_aug1=data_df_aug2.sound.values"
      ],
      "execution_count": null,
      "outputs": []
    },
    {
      "cell_type": "code",
      "metadata": {
        "id": "QCVoxapF1l4B",
        "colab": {
          "base_uri": "https://localhost:8080/"
        },
        "outputId": "51bdbfa9-3197-459c-b7ca-62be2aa1301c"
      },
      "source": [
        "labels_aug1.shape"
      ],
      "execution_count": null,
      "outputs": [
        {
          "output_type": "execute_result",
          "data": {
            "text/plain": [
              "(3700,)"
            ]
          },
          "metadata": {
            "tags": []
          },
          "execution_count": 22
        }
      ]
    },
    {
      "cell_type": "code",
      "metadata": {
        "id": "Dg6YdCq93PgG"
      },
      "source": [
        "labels_new=np.append(labels,labels_aug)"
      ],
      "execution_count": null,
      "outputs": []
    },
    {
      "cell_type": "code",
      "metadata": {
        "id": "ixpvhNQM3X_M",
        "colab": {
          "base_uri": "https://localhost:8080/"
        },
        "outputId": "cebcf818-cb13-491c-acc8-6b6a97b95048"
      },
      "source": [
        "labels_new"
      ],
      "execution_count": null,
      "outputs": [
        {
          "output_type": "execute_result",
          "data": {
            "text/plain": [
              "array([3, 3, 3, ..., 9, 9, 9], dtype=object)"
            ]
          },
          "metadata": {
            "tags": []
          },
          "execution_count": 24
        }
      ]
    },
    {
      "cell_type": "code",
      "metadata": {
        "id": "7mj6FeoKRsBv"
      },
      "source": [
        "#labels = data_df.sound.values\n",
        "\n",
        "# convert class vectors to binary class matrices One Hot Encoding\n",
        "labels = keras.utils.to_categorical(labels, 10)"
      ],
      "execution_count": null,
      "outputs": []
    },
    {
      "cell_type": "code",
      "metadata": {
        "id": "e0ap1SckixOG"
      },
      "source": [
        "labels_old = np.load('/content/drive/MyDrive/UrbanSound8K/labels_augmentedfull1.npy') "
      ],
      "execution_count": null,
      "outputs": []
    },
    {
      "cell_type": "code",
      "metadata": {
        "id": "WuinFGrHjZZP",
        "colab": {
          "base_uri": "https://localhost:8080/"
        },
        "outputId": "c3be701b-298a-4e12-829e-9dbe300b55c3"
      },
      "source": [
        "labels_old.shape"
      ],
      "execution_count": null,
      "outputs": [
        {
          "output_type": "execute_result",
          "data": {
            "text/plain": [
              "(14853, 10)"
            ]
          },
          "metadata": {
            "tags": []
          },
          "execution_count": 25
        }
      ]
    },
    {
      "cell_type": "code",
      "metadata": {
        "id": "taxp-Ijpi3Wx"
      },
      "source": [
        "labels=np.append(labels_old,labels,axis=0)"
      ],
      "execution_count": null,
      "outputs": []
    },
    {
      "cell_type": "code",
      "metadata": {
        "id": "QEwccyIMs_QP",
        "colab": {
          "base_uri": "https://localhost:8080/"
        },
        "outputId": "ae003954-19af-405b-cf11-d87847f0a228"
      },
      "source": [
        "labels.shape"
      ],
      "execution_count": null,
      "outputs": [
        {
          "output_type": "execute_result",
          "data": {
            "text/plain": [
              "(18553, 10)"
            ]
          },
          "metadata": {
            "tags": []
          },
          "execution_count": 27
        }
      ]
    },
    {
      "cell_type": "code",
      "metadata": {
        "id": "anVCg1HlxRLH"
      },
      "source": [
        "np.save('/content/drive/My Drive/UrbanSound8K/labels_augmentedfull2.npy', labels)"
      ],
      "execution_count": null,
      "outputs": []
    },
    {
      "cell_type": "code",
      "metadata": {
        "id": "Gg7WSG1_OlJ-"
      },
      "source": [
        "x_train_spectrogram = np.load('/content/drive/MyDrive/UrbanSound8K/x_train_rgb_128_spectrogram_augmentedfull1.npy')\n",
        "x_train_spectrogram_aug = np.load('/content/drive/MyDrive/UrbanSound8K/x_train_rgb_128_spectrogram_aug2.npy')\n",
        "x_train_chroma = np.load('/content/drive/MyDrive/UrbanSound8K/x_train_rgb_128_chroma_augmentedfull1.npy')\n",
        "x_train_chroma_aug = np.load('/content/drive/MyDrive/UrbanSound8K/x_train_rgb_128_chroma_aug2.npy')"
      ],
      "execution_count": null,
      "outputs": []
    },
    {
      "cell_type": "code",
      "metadata": {
        "id": "TUjeKjlNXyiP"
      },
      "source": [
        "x_train_chroma_new=np.append(x_train_chroma,x_train_chroma_aug,axis=0)\n",
        "np.save('/content/drive/My Drive/UrbanSound8K/x_train_rgb_128_chroma_augmentedfull2.npy', x_train_chroma_new)"
      ],
      "execution_count": null,
      "outputs": []
    },
    {
      "cell_type": "code",
      "metadata": {
        "id": "YAYQrsseluFR"
      },
      "source": [
        "x_train_spectrogram_new=np.append(x_train_spectrogram,x_train_spectrogram_aug,axis=0)\n",
        "np.save('/content/drive/My Drive/UrbanSound8K/x_train_rgb_128_spectrogram_augmentedfull2.npy', x_train_spectrogram_new)"
      ],
      "execution_count": null,
      "outputs": []
    },
    {
      "cell_type": "code",
      "metadata": {
        "id": "JDl6H6tmaCbJ"
      },
      "source": [
        "featuresdf=pd.read_pickle('/content/drive/My Drive/UrbanSound8K/mfcc_aug2.pkl')\n",
        "featuresdf_old=pd.read_pickle('/content/drive/MyDrive/UrbanSound8K/mfcc_augemtedfull1_128.pkl')"
      ],
      "execution_count": null,
      "outputs": []
    },
    {
      "cell_type": "code",
      "metadata": {
        "id": "FS9_CmDBpj_r",
        "colab": {
          "base_uri": "https://localhost:8080/"
        },
        "outputId": "df359fa3-6a73-4794-bd19-43c56c8629ec"
      },
      "source": [
        "x_train_spectrogram_new.shape"
      ],
      "execution_count": null,
      "outputs": [
        {
          "output_type": "execute_result",
          "data": {
            "text/plain": [
              "(14853, 128, 128, 3)"
            ]
          },
          "metadata": {
            "tags": []
          },
          "execution_count": 25
        }
      ]
    },
    {
      "cell_type": "code",
      "metadata": {
        "id": "YFp4WsF0iE5f"
      },
      "source": [
        "features_df=featuresdf_old.append(featuresdf)"
      ],
      "execution_count": null,
      "outputs": []
    },
    {
      "cell_type": "code",
      "metadata": {
        "id": "5LpHEMCd3rra"
      },
      "source": [
        "labels = np.load('/content/drive/MyDrive/UrbanSound8K/labels_augmentedfull2.npy') \n",
        "x_train_spectrogram = np.load('/content/drive/My Drive/UrbanSound8K/x_train_rgb_128_spectrogram_augmentedfull2.npy')\n",
        "x_train_chroma = np.load('/content/drive/My Drive/UrbanSound8K/x_train_rgb_128_chroma_augmentedfull2.npy')"
      ],
      "execution_count": null,
      "outputs": []
    },
    {
      "cell_type": "code",
      "metadata": {
        "id": "AoFwzDAyp1Do"
      },
      "source": [
        "labels = np.load('/content/drive/MyDrive/UrbanSound8K/labels_128.npy') \n",
        "x_train_spectrogram = np.load('/content/drive/MyDrive/UrbanSound8K/x_train_rgb_128_spectrogram.npy')\n",
        "x_train_chroma = np.load('/content/drive/MyDrive/UrbanSound8K/x_train_rgb_128_chroma.npy')"
      ],
      "execution_count": null,
      "outputs": []
    },
    {
      "cell_type": "code",
      "metadata": {
        "id": "u1iN3uZBbvJ5"
      },
      "source": [
        "labels=np.load('/content/drive/MyDrive/UrbanSound8K/labels.npy')"
      ],
      "execution_count": null,
      "outputs": []
    },
    {
      "cell_type": "code",
      "metadata": {
        "id": "Ym7eoFvlq2FY",
        "colab": {
          "base_uri": "https://localhost:8080/"
        },
        "outputId": "4803c7f9-6109-48c2-c05e-1ba4bfbe7ed4"
      },
      "source": [
        "x_train_spectrogram.shape"
      ],
      "execution_count": null,
      "outputs": [
        {
          "output_type": "execute_result",
          "data": {
            "text/plain": [
              "(18553, 128, 128, 3)"
            ]
          },
          "metadata": {
            "tags": []
          },
          "execution_count": 5
        }
      ]
    },
    {
      "cell_type": "code",
      "metadata": {
        "colab": {
          "base_uri": "https://localhost:8080/"
        },
        "id": "oR6Ic4_ZcNUg",
        "outputId": "ddb27d92-9173-4a90-9ad0-220e64d112e6"
      },
      "source": [
        "labels.shape"
      ],
      "execution_count": null,
      "outputs": [
        {
          "output_type": "execute_result",
          "data": {
            "text/plain": [
              "(18553, 10)"
            ]
          },
          "metadata": {
            "tags": []
          },
          "execution_count": 6
        }
      ]
    },
    {
      "cell_type": "code",
      "metadata": {
        "id": "JaE4RbLFbZia"
      },
      "source": [
        "#x_train_spectrogram = np.load('/content/drive/My Drive/UrbanSound8K/x_train_rgb_224_spectrogram.npy') \n",
        "x_train_spectrogram, x_test_spectrogram, y_spec_train, y_spec_test = train_test_split(x_train_spectrogram, labels, test_size = 0.2, random_state=666)\n",
        "x_train_chroma, x_test_chroma, y_chr_train, y_chr_test = train_test_split(x_train_chroma, labels, test_size = 0.2, random_state=666)"
      ],
      "execution_count": null,
      "outputs": []
    },
    {
      "cell_type": "code",
      "metadata": {
        "id": "fKDJXLq4quSp"
      },
      "source": [
        "#x_train_spectrogram = np.load('/content/drive/My Drive/UrbanSound8K/x_train_rgb_224_spectrogram.npy') \n",
        "x_val_spectrogram, x_test_spectrogram, y_val, y_test = train_test_split(x_test_spectrogram, y_spec_test, test_size = 0.5, random_state=666)\n",
        "x_val_chroma, x_test_chroma, y_val, y_test = train_test_split(x_test_chroma, y_chr_test, test_size = 0.5, random_state=666)"
      ],
      "execution_count": null,
      "outputs": []
    },
    {
      "cell_type": "code",
      "metadata": {
        "id": "t3sHVTJtHfey"
      },
      "source": [
        "def create_convolution_layers(input_img):\n",
        "  model = Conv2D(32, (3, 3), padding='same', input_shape=input_shape)(input_img)\n",
        "  model = LeakyReLU(alpha=0.1)(model)\n",
        "  model = MaxPooling2D((2, 2),padding='same')(model)\n",
        "  model = Dropout(0.25)(model)\n",
        "  \n",
        "  model = Conv2D(64, (3, 3), padding='same')(model)\n",
        "  model = LeakyReLU(alpha=0.1)(model)\n",
        "  model = MaxPooling2D(pool_size=(2, 2),padding='same')(model)\n",
        "  model = Dropout(0.25)(model)\n",
        "    \n",
        "  model = Conv2D(64, (3, 3), padding='same')(model)\n",
        "  model = LeakyReLU(alpha=0.1)(model)\n",
        "  model = MaxPooling2D(pool_size=(2, 2),padding='same')(model)\n",
        "  model = Dropout(0.25)(model)\n",
        "\n",
        "  model = Conv2D(128, (3, 3), padding='same')(model)\n",
        "  model = LeakyReLU(alpha=0.1)(model)\n",
        "  model = MaxPooling2D(pool_size=(2, 2),padding='same')(model)\n",
        "  model = Dropout(0.25)(model)\n",
        "  \n",
        "\n",
        "  model = GlobalAveragePooling2D()(model)\n",
        "    \n",
        "  return model"
      ],
      "execution_count": null,
      "outputs": []
    },
    {
      "cell_type": "code",
      "metadata": {
        "id": "HHvdFovEAs2i"
      },
      "source": [
        ""
      ],
      "execution_count": null,
      "outputs": []
    },
    {
      "cell_type": "code",
      "metadata": {
        "id": "1ihl-OWSwqut"
      },
      "source": [
        "def create_convolution_layers1(input_img):\n",
        "    base_model2 = keras.applications.InceptionV3(weights='imagenet',include_top=False)\n",
        "    x = base_model2(input_img, training=True)\n",
        "    # Convert features of shape `base_model.output_shape[1:]` to vectors\n",
        "    x = keras.layers.GlobalAveragePooling2D()(x)\n",
        "    return x\n"
      ],
      "execution_count": null,
      "outputs": []
    },
    {
      "cell_type": "code",
      "metadata": {
        "id": "_Fny4w9Hwr8n"
      },
      "source": [
        "def create_convolution_layers2(input_img):\n",
        "    base_model2 = keras.applications.VGG19(weights='imagenet',include_top=False)\n",
        "    x = base_model2(input_img, training=True)\n",
        "    # Convert features of shape `base_model.output_shape[1:]` to vectors\n",
        "    x = keras.layers.GlobalAveragePooling2D()(x)\n",
        "    return x"
      ],
      "execution_count": null,
      "outputs": []
    },
    {
      "cell_type": "code",
      "metadata": {
        "id": "SN5sJyRY40Nu"
      },
      "source": [
        "def create_convolution_layers3(input_img):\n",
        "    base_model2 = keras.applications.Xception(weights='imagenet',include_top=False)\n",
        "    x = Conv2D(3,(3,3),padding='same')(input_img)\n",
        "    x = base_model2(x, training=True)\n",
        "    # Convert features of shape `base_model.output_shape[1:]` to vectors\n",
        "    x = keras.layers.GlobalAveragePooling2D()(x)\n",
        "    return x"
      ],
      "execution_count": null,
      "outputs": []
    },
    {
      "cell_type": "code",
      "metadata": {
        "id": "1lqhjLJfHrqq"
      },
      "source": [
        "def create_convolution_layers1(input_img):\n",
        "    x = Conv2D(3,(3,3),padding='same')(input_img)\n",
        "    conv1  = Conv2D(filters=64, kernel_size=(3,3), padding=\"same\", activation=\"relu\")(x)\n",
        "    conv2  = Conv2D(filters=64, kernel_size=(3,3), padding=\"same\", activation=\"relu\")(conv1)\n",
        "    pool1  = MaxPooling2D((2, 2))(conv2)\n",
        "    conv3  = Conv2D(filters=128, kernel_size=(3,3), padding=\"same\", activation=\"relu\")(pool1)\n",
        "    conv4  = Conv2D(filters=128, kernel_size=(3,3), padding=\"same\", activation=\"relu\")(conv3)\n",
        "    pool2  = MaxPooling2D((2, 2))(conv4)\n",
        "    conv5  = Conv2D(filters=256, kernel_size=(3,3), padding=\"same\", activation=\"relu\")(pool2)\n",
        "    conv6  = Conv2D(filters=256, kernel_size=(3,3), padding=\"same\", activation=\"relu\")(conv5)\n",
        "    conv7  = Conv2D(filters=256, kernel_size=(3,3), padding=\"same\", activation=\"relu\")(conv6)\n",
        "    pool3  = MaxPooling2D((2, 2))(conv7)\n",
        "    conv8  = Conv2D(filters=512, kernel_size=(3,3), padding=\"same\", activation=\"relu\")(pool3)\n",
        "    conv9  = Conv2D(filters=512, kernel_size=(3,3), padding=\"same\", activation=\"relu\")(conv8)\n",
        "    conv10 = Conv2D(filters=512, kernel_size=(3,3), padding=\"same\", activation=\"relu\")(conv9)\n",
        "    pool4  = MaxPooling2D((2, 2))(conv10)\n",
        "    conv11 = Conv2D(filters=512, kernel_size=(3,3), padding=\"same\", activation=\"relu\")(pool4)\n",
        "    conv12 = Conv2D(filters=512, kernel_size=(3,3), padding=\"same\", activation=\"relu\")(conv11)\n",
        "    conv13 = Conv2D(filters=512, kernel_size=(3,3), padding=\"same\", activation=\"relu\")(conv12)\n",
        "    pool5  = MaxPooling2D((2, 2))(conv13)\n",
        "\n",
        "    model = GlobalAveragePooling2D()(pool5)\n",
        "    return model"
      ],
      "execution_count": null,
      "outputs": []
    },
    {
      "cell_type": "code",
      "metadata": {
        "id": "6LbaHbFU9j_9"
      },
      "source": [
        "def create_convolution_layers(input_img):\n",
        "  model = Conv2D(32, (3, 3), padding='same',activation='relu' ,input_shape=input_shape)(input_img)\n",
        "  model = BatchNormalization()(model) \n",
        "  model = Conv2D(32,(3,3),activation='relu')(model)\n",
        "  model = BatchNormalization()(model) \n",
        "  #model = LeakyReLU(alpha=0.1)(model)\n",
        "  model = MaxPooling2D((2, 2),padding='same')(model)\n",
        "  model = Dropout(0.25)(model)\n",
        "  \n",
        "  model = Conv2D(64, (3, 3), padding='same',activation='relu')(model)\n",
        "  model = BatchNormalization()(model) \n",
        "  model = Conv2D(64, (3, 3),activation='relu')(model)\n",
        "  model = BatchNormalization()(model) \n",
        "  #model = LeakyReLU(alpha=0.1)(model)\n",
        "  model = MaxPooling2D(pool_size=(2, 2),padding='same')(model)\n",
        "  model = Dropout(0.25)(model)\n",
        "    \n",
        "  model = Conv2D(64, (3, 3), padding='same',activation='relu')(model)\n",
        "  model = BatchNormalization()(model) \n",
        "  model = Conv2D(64, (3, 3), activation='relu')(model)\n",
        "  model = BatchNormalization()(model) \n",
        "  #model = LeakyReLU(alpha=0.1)(model)\n",
        "  model = MaxPooling2D(pool_size=(2, 2),padding='same')(model)\n",
        "  model = Dropout(0.25)(model)\n",
        "\n",
        "  model = Conv2D(128, (3, 3), padding='same',activation='relu')(model)\n",
        "  model = BatchNormalization()(model) \n",
        "  model = Conv2D(128, (3, 3), activation='relu')(model)\n",
        "  model = BatchNormalization()(model) \n",
        "  #model = LeakyReLU(alpha=0.1)(model)\n",
        "  model = MaxPooling2D(pool_size=(2, 2),padding='same')(model)\n",
        "  model = Dropout(0.25)(model)\n",
        "\n",
        "  model = GlobalAveragePooling2D()(model)\n",
        "\n",
        "  #model = Flatten()(model)\n",
        "    \n",
        "  return model"
      ],
      "execution_count": null,
      "outputs": []
    },
    {
      "cell_type": "code",
      "metadata": {
        "id": "2oU74HDATKR3"
      },
      "source": [
        "def create_convolution_layer(input_img):\n",
        "  model = Conv2D(32, (3, 3), padding='same',kernel_regularizer=regularizers.l2(1e-4) ,input_shape=input_shape)(input_img)\n",
        "  model = Activation('relu')(model)\n",
        "  model = BatchNormalization()(model) \n",
        "  model = Conv2D(32,(3,3),kernel_regularizer=regularizers.l2(1e-4))(model)\n",
        "  model = Activation('relu')(model)\n",
        "  model = BatchNormalization()(model) \n",
        "  #model = LeakyReLU(alpha=0.1)(model)\n",
        "  model = MaxPooling2D((2, 2))(model)\n",
        "  model = Dropout(0.25)(model)\n",
        "  \n",
        "  model = Conv2D(64, (3, 3), padding='same',kernel_regularizer=regularizers.l2(1e-4))(model)\n",
        "  model = Activation('relu')(model)\n",
        "  model = BatchNormalization()(model) \n",
        "  model = Conv2D(64,(3,3),kernel_regularizer=regularizers.l2(1e-4))(model)\n",
        "  model = Activation('relu')(model)\n",
        "  model = BatchNormalization()(model) \n",
        "  #model = LeakyReLU(alpha=0.1)(model)\n",
        "  model = MaxPooling2D((2, 2))(model)\n",
        "  model = Dropout(0.25)(model)\n",
        "    \n",
        "  model = Conv2D(64, (3, 3), padding='same',kernel_regularizer=regularizers.l2(1e-4))(model)\n",
        "  model = Activation('relu')(model)\n",
        "  model = BatchNormalization()(model) \n",
        "  model = Conv2D(64,(3,3),kernel_regularizer=regularizers.l2(1e-4))(model)\n",
        "  model = Activation('relu')(model)\n",
        "  model = BatchNormalization()(model) \n",
        "  #model = LeakyReLU(alpha=0.1)(model)\n",
        "  model = MaxPooling2D((2, 2))(model)\n",
        "  model = Dropout(0.25)(model)\n",
        "\n",
        "  model = Conv2D(128, (3, 3), padding='same',kernel_regularizer=regularizers.l2(1e-4))(model)\n",
        "  model = Activation('relu')(model)\n",
        "  model = BatchNormalization()(model) \n",
        "  model = Conv2D(128,(3,3),kernel_regularizer=regularizers.l2(1e-4))(model)\n",
        "  model = Activation('relu')(model)\n",
        "  model = BatchNormalization()(model) \n",
        "  #model = LeakyReLU(alpha=0.1)(model)\n",
        "  model = MaxPooling2D((2, 2))(model)\n",
        "  model = Dropout(0.4)(model)\n",
        "\n",
        "  model = GlobalAveragePooling2D()(model)\n",
        "\n",
        "  #model = Flatten()(model)\n",
        "    \n",
        "  return model"
      ],
      "execution_count": null,
      "outputs": []
    },
    {
      "cell_type": "code",
      "metadata": {
        "id": "7RBG1sXJO8iv"
      },
      "source": [
        "as_gray = False\n",
        "in_channel = 3\n",
        "\n",
        "if as_gray:\n",
        "  in_channel = 1\n",
        "\n",
        "img_rows, img_cols = 128, 128\n",
        "num_classes = 10 # number of appliances\n",
        "\n",
        "batch_size = 32\n",
        "epochs = 100\n",
        "input_shape = (img_rows, img_cols, in_channel)\n",
        "input_img = Input(shape = input_shape)"
      ],
      "execution_count": null,
      "outputs": []
    },
    {
      "cell_type": "code",
      "metadata": {
        "id": "EH3bw8OuiH_h"
      },
      "source": [
        "spectrogram_input = Input(shape=input_shape)\n",
        "spectrogram_model = create_convolution_layers(spectrogram_input)\n",
        "\n",
        "chroma_input = Input(shape=input_shape)\n",
        "chroma_model = create_convolution_layers(chroma_input)"
      ],
      "execution_count": null,
      "outputs": []
    },
    {
      "cell_type": "code",
      "metadata": {
        "id": "JK85Oo9JBOvA"
      },
      "source": [
        "features_df=pd.read_pickle('/content/drive/MyDrive/UrbanSound8K/mfcc_augemtedfull2_128.pkl')"
      ],
      "execution_count": null,
      "outputs": []
    },
    {
      "cell_type": "code",
      "metadata": {
        "id": "jX0l2bQEhqqr",
        "colab": {
          "base_uri": "https://localhost:8080/"
        },
        "outputId": "82df7aab-8f98-4c74-af26-50a8e5eab01d"
      },
      "source": [
        "features_df.shape"
      ],
      "execution_count": null,
      "outputs": [
        {
          "output_type": "execute_result",
          "data": {
            "text/plain": [
              "(18553, 2)"
            ]
          },
          "metadata": {
            "tags": []
          },
          "execution_count": 11
        }
      ]
    },
    {
      "cell_type": "code",
      "metadata": {
        "id": "6FqFdsrQiMxb"
      },
      "source": [
        "X = np.array(features_df.feature.tolist())"
      ],
      "execution_count": null,
      "outputs": []
    },
    {
      "cell_type": "code",
      "metadata": {
        "id": "YC2Dxyu9BKGs",
        "colab": {
          "base_uri": "https://localhost:8080/"
        },
        "outputId": "6cad0798-cf85-4a7c-fb88-fa669250258c"
      },
      "source": [
        "X.shape"
      ],
      "execution_count": null,
      "outputs": [
        {
          "output_type": "execute_result",
          "data": {
            "text/plain": [
              "(18553, 40, 174)"
            ]
          },
          "metadata": {
            "tags": []
          },
          "execution_count": 13
        }
      ]
    },
    {
      "cell_type": "code",
      "metadata": {
        "id": "ZYqZ4QgKO_Hk",
        "colab": {
          "base_uri": "https://localhost:8080/"
        },
        "outputId": "05c81f82-5061-4d94-f3f1-436a38e13281"
      },
      "source": [
        "labels.shape"
      ],
      "execution_count": null,
      "outputs": [
        {
          "output_type": "execute_result",
          "data": {
            "text/plain": [
              "(18553, 10)"
            ]
          },
          "metadata": {
            "tags": []
          },
          "execution_count": 14
        }
      ]
    },
    {
      "cell_type": "code",
      "metadata": {
        "id": "yA2CkR5YiOZe"
      },
      "source": [
        "x_train_mfcc, x_test_mfcc, y_mfcc_train, y_mfcc_test = train_test_split(X, labels, test_size=0.2, random_state = 666)\n",
        "x_val_mfcc, x_test_mfcc, y_val, y_test = train_test_split(x_test_mfcc, y_mfcc_test, test_size = 0.5, random_state=666)\n",
        "\n",
        "num_rows = 40\n",
        "num_columns = 174\n",
        "num_channels = 1\n",
        "\n",
        "x_train_mfcc = x_train_mfcc.reshape(x_train_mfcc.shape[0], num_rows, num_columns, num_channels)\n",
        "x_test_mfcc = x_test_mfcc.reshape(x_test_mfcc.shape[0], num_rows, num_columns, num_channels)\n",
        "x_val_mfcc = x_val_mfcc.reshape(x_val_mfcc.shape[0], num_rows, num_columns, num_channels)"
      ],
      "execution_count": null,
      "outputs": []
    },
    {
      "cell_type": "code",
      "metadata": {
        "id": "F2jtT3DwiFIQ"
      },
      "source": [
        "num_rows = 40\n",
        "num_columns = 174\n",
        "num_channels = 1\n",
        "input_shape=(num_rows, num_columns, num_channels)\n",
        "mfcc_input = Input(shape=input_shape)\n",
        "mfcc_model = create_convolution_layers(mfcc_input)"
      ],
      "execution_count": null,
      "outputs": []
    },
    {
      "cell_type": "code",
      "metadata": {
        "id": "U1LgEWiQ9sCJ",
        "colab": {
          "base_uri": "https://localhost:8080/"
        },
        "outputId": "6bf37de2-9371-4bad-a5ff-595f280cd8fa"
      },
      "source": [
        "\n",
        "from keras.layers import multiply,dot,average,GlobalMaxPooling2D\n",
        "#chroma_input = Input(shape=input_shape)\n",
        "#chroma_model = create_convolution_layers(chroma_input)\n",
        "\n",
        "#conv = concatenate([spectrogram_model, chroma_model,mfcc_model])\n",
        "conv = concatenate([spectrogram_model,chroma_model,mfcc_model])#,mfcc_model])\n",
        "#conv = Flatten()(conv)\n",
        "\n",
        "dense = Dense(500)(conv)\n",
        "\n",
        "dense = Dropout(0.5)(dense)\n",
        "\n",
        "output = Dense(num_classes, activation='softmax')(dense)\n",
        "\n",
        "model = Model(inputs=[spectrogram_input,chroma_input,mfcc_input], outputs=[output])\n",
        "\n",
        "opt = optimizers.Adam()\n",
        "\n",
        "model.compile(loss='categorical_crossentropy',\n",
        "              optimizer=opt,\n",
        "              metrics=['accuracy'])\n",
        "\n",
        "print(model.summary())"
      ],
      "execution_count": null,
      "outputs": [
        {
          "output_type": "stream",
          "text": [
            "Model: \"functional_1\"\n",
            "__________________________________________________________________________________________________\n",
            "Layer (type)                    Output Shape         Param #     Connected to                     \n",
            "==================================================================================================\n",
            "input_2 (InputLayer)            [(None, 128, 128, 3) 0                                            \n",
            "__________________________________________________________________________________________________\n",
            "input_3 (InputLayer)            [(None, 128, 128, 3) 0                                            \n",
            "__________________________________________________________________________________________________\n",
            "input_4 (InputLayer)            [(None, 40, 174, 1)] 0                                            \n",
            "__________________________________________________________________________________________________\n",
            "conv2d (Conv2D)                 (None, 128, 128, 32) 896         input_2[0][0]                    \n",
            "__________________________________________________________________________________________________\n",
            "conv2d_4 (Conv2D)               (None, 128, 128, 32) 896         input_3[0][0]                    \n",
            "__________________________________________________________________________________________________\n",
            "conv2d_8 (Conv2D)               (None, 40, 174, 32)  320         input_4[0][0]                    \n",
            "__________________________________________________________________________________________________\n",
            "leaky_re_lu (LeakyReLU)         (None, 128, 128, 32) 0           conv2d[0][0]                     \n",
            "__________________________________________________________________________________________________\n",
            "leaky_re_lu_4 (LeakyReLU)       (None, 128, 128, 32) 0           conv2d_4[0][0]                   \n",
            "__________________________________________________________________________________________________\n",
            "leaky_re_lu_8 (LeakyReLU)       (None, 40, 174, 32)  0           conv2d_8[0][0]                   \n",
            "__________________________________________________________________________________________________\n",
            "max_pooling2d (MaxPooling2D)    (None, 64, 64, 32)   0           leaky_re_lu[0][0]                \n",
            "__________________________________________________________________________________________________\n",
            "max_pooling2d_4 (MaxPooling2D)  (None, 64, 64, 32)   0           leaky_re_lu_4[0][0]              \n",
            "__________________________________________________________________________________________________\n",
            "max_pooling2d_8 (MaxPooling2D)  (None, 20, 87, 32)   0           leaky_re_lu_8[0][0]              \n",
            "__________________________________________________________________________________________________\n",
            "dropout (Dropout)               (None, 64, 64, 32)   0           max_pooling2d[0][0]              \n",
            "__________________________________________________________________________________________________\n",
            "dropout_4 (Dropout)             (None, 64, 64, 32)   0           max_pooling2d_4[0][0]            \n",
            "__________________________________________________________________________________________________\n",
            "dropout_8 (Dropout)             (None, 20, 87, 32)   0           max_pooling2d_8[0][0]            \n",
            "__________________________________________________________________________________________________\n",
            "conv2d_1 (Conv2D)               (None, 64, 64, 64)   18496       dropout[0][0]                    \n",
            "__________________________________________________________________________________________________\n",
            "conv2d_5 (Conv2D)               (None, 64, 64, 64)   18496       dropout_4[0][0]                  \n",
            "__________________________________________________________________________________________________\n",
            "conv2d_9 (Conv2D)               (None, 20, 87, 64)   18496       dropout_8[0][0]                  \n",
            "__________________________________________________________________________________________________\n",
            "leaky_re_lu_1 (LeakyReLU)       (None, 64, 64, 64)   0           conv2d_1[0][0]                   \n",
            "__________________________________________________________________________________________________\n",
            "leaky_re_lu_5 (LeakyReLU)       (None, 64, 64, 64)   0           conv2d_5[0][0]                   \n",
            "__________________________________________________________________________________________________\n",
            "leaky_re_lu_9 (LeakyReLU)       (None, 20, 87, 64)   0           conv2d_9[0][0]                   \n",
            "__________________________________________________________________________________________________\n",
            "max_pooling2d_1 (MaxPooling2D)  (None, 32, 32, 64)   0           leaky_re_lu_1[0][0]              \n",
            "__________________________________________________________________________________________________\n",
            "max_pooling2d_5 (MaxPooling2D)  (None, 32, 32, 64)   0           leaky_re_lu_5[0][0]              \n",
            "__________________________________________________________________________________________________\n",
            "max_pooling2d_9 (MaxPooling2D)  (None, 10, 44, 64)   0           leaky_re_lu_9[0][0]              \n",
            "__________________________________________________________________________________________________\n",
            "dropout_1 (Dropout)             (None, 32, 32, 64)   0           max_pooling2d_1[0][0]            \n",
            "__________________________________________________________________________________________________\n",
            "dropout_5 (Dropout)             (None, 32, 32, 64)   0           max_pooling2d_5[0][0]            \n",
            "__________________________________________________________________________________________________\n",
            "dropout_9 (Dropout)             (None, 10, 44, 64)   0           max_pooling2d_9[0][0]            \n",
            "__________________________________________________________________________________________________\n",
            "conv2d_2 (Conv2D)               (None, 32, 32, 64)   36928       dropout_1[0][0]                  \n",
            "__________________________________________________________________________________________________\n",
            "conv2d_6 (Conv2D)               (None, 32, 32, 64)   36928       dropout_5[0][0]                  \n",
            "__________________________________________________________________________________________________\n",
            "conv2d_10 (Conv2D)              (None, 10, 44, 64)   36928       dropout_9[0][0]                  \n",
            "__________________________________________________________________________________________________\n",
            "leaky_re_lu_2 (LeakyReLU)       (None, 32, 32, 64)   0           conv2d_2[0][0]                   \n",
            "__________________________________________________________________________________________________\n",
            "leaky_re_lu_6 (LeakyReLU)       (None, 32, 32, 64)   0           conv2d_6[0][0]                   \n",
            "__________________________________________________________________________________________________\n",
            "leaky_re_lu_10 (LeakyReLU)      (None, 10, 44, 64)   0           conv2d_10[0][0]                  \n",
            "__________________________________________________________________________________________________\n",
            "max_pooling2d_2 (MaxPooling2D)  (None, 16, 16, 64)   0           leaky_re_lu_2[0][0]              \n",
            "__________________________________________________________________________________________________\n",
            "max_pooling2d_6 (MaxPooling2D)  (None, 16, 16, 64)   0           leaky_re_lu_6[0][0]              \n",
            "__________________________________________________________________________________________________\n",
            "max_pooling2d_10 (MaxPooling2D) (None, 5, 22, 64)    0           leaky_re_lu_10[0][0]             \n",
            "__________________________________________________________________________________________________\n",
            "dropout_2 (Dropout)             (None, 16, 16, 64)   0           max_pooling2d_2[0][0]            \n",
            "__________________________________________________________________________________________________\n",
            "dropout_6 (Dropout)             (None, 16, 16, 64)   0           max_pooling2d_6[0][0]            \n",
            "__________________________________________________________________________________________________\n",
            "dropout_10 (Dropout)            (None, 5, 22, 64)    0           max_pooling2d_10[0][0]           \n",
            "__________________________________________________________________________________________________\n",
            "conv2d_3 (Conv2D)               (None, 16, 16, 128)  73856       dropout_2[0][0]                  \n",
            "__________________________________________________________________________________________________\n",
            "conv2d_7 (Conv2D)               (None, 16, 16, 128)  73856       dropout_6[0][0]                  \n",
            "__________________________________________________________________________________________________\n",
            "conv2d_11 (Conv2D)              (None, 5, 22, 128)   73856       dropout_10[0][0]                 \n",
            "__________________________________________________________________________________________________\n",
            "leaky_re_lu_3 (LeakyReLU)       (None, 16, 16, 128)  0           conv2d_3[0][0]                   \n",
            "__________________________________________________________________________________________________\n",
            "leaky_re_lu_7 (LeakyReLU)       (None, 16, 16, 128)  0           conv2d_7[0][0]                   \n",
            "__________________________________________________________________________________________________\n",
            "leaky_re_lu_11 (LeakyReLU)      (None, 5, 22, 128)   0           conv2d_11[0][0]                  \n",
            "__________________________________________________________________________________________________\n",
            "max_pooling2d_3 (MaxPooling2D)  (None, 8, 8, 128)    0           leaky_re_lu_3[0][0]              \n",
            "__________________________________________________________________________________________________\n",
            "max_pooling2d_7 (MaxPooling2D)  (None, 8, 8, 128)    0           leaky_re_lu_7[0][0]              \n",
            "__________________________________________________________________________________________________\n",
            "max_pooling2d_11 (MaxPooling2D) (None, 3, 11, 128)   0           leaky_re_lu_11[0][0]             \n",
            "__________________________________________________________________________________________________\n",
            "dropout_3 (Dropout)             (None, 8, 8, 128)    0           max_pooling2d_3[0][0]            \n",
            "__________________________________________________________________________________________________\n",
            "dropout_7 (Dropout)             (None, 8, 8, 128)    0           max_pooling2d_7[0][0]            \n",
            "__________________________________________________________________________________________________\n",
            "dropout_11 (Dropout)            (None, 3, 11, 128)   0           max_pooling2d_11[0][0]           \n",
            "__________________________________________________________________________________________________\n",
            "global_average_pooling2d (Globa (None, 128)          0           dropout_3[0][0]                  \n",
            "__________________________________________________________________________________________________\n",
            "global_average_pooling2d_1 (Glo (None, 128)          0           dropout_7[0][0]                  \n",
            "__________________________________________________________________________________________________\n",
            "global_average_pooling2d_2 (Glo (None, 128)          0           dropout_11[0][0]                 \n",
            "__________________________________________________________________________________________________\n",
            "concatenate_1 (Concatenate)     (None, 384)          0           global_average_pooling2d[0][0]   \n",
            "                                                                 global_average_pooling2d_1[0][0] \n",
            "                                                                 global_average_pooling2d_2[0][0] \n",
            "__________________________________________________________________________________________________\n",
            "dense_2 (Dense)                 (None, 500)          192500      concatenate_1[0][0]              \n",
            "__________________________________________________________________________________________________\n",
            "dropout_13 (Dropout)            (None, 500)          0           dense_2[0][0]                    \n",
            "__________________________________________________________________________________________________\n",
            "dense_3 (Dense)                 (None, 10)           5010        dropout_13[0][0]                 \n",
            "==================================================================================================\n",
            "Total params: 587,462\n",
            "Trainable params: 587,462\n",
            "Non-trainable params: 0\n",
            "__________________________________________________________________________________________________\n",
            "None\n"
          ],
          "name": "stdout"
        }
      ]
    },
    {
      "cell_type": "code",
      "metadata": {
        "id": "DfTix6-y-N6H",
        "colab": {
          "base_uri": "https://localhost:8080/"
        },
        "outputId": "8ae34c2b-b789-4514-ae60-1bbcb0e16f3f"
      },
      "source": [
        "from keras.callbacks import ModelCheckpoint \n",
        "from datetime import datetime \n",
        "\n",
        "#num_epochs = 12\n",
        "#num_batch_size = 256\n",
        "\n",
        "num_epochs = 200\n",
        "num_batch_size = 128\n",
        "\n",
        "#checkpointer = ModelCheckpoint(filepath='/content/drive/My Drive/UrbanSound8K/weights_spe_chr_mfcc.best.basic_cnn.hdf5', verbose=1, save_best_only=True)\n",
        "#callback = tf.keras.callbacks.EarlyStopping(patience=4, restore_best_weights=True)\n",
        "start = datetime.now()\n",
        "\n",
        "\n",
        "\n",
        "\n",
        "history=model.fit([x_train_spectrogram,x_train_chroma,x_train_mfcc], y_spec_train,\n",
        "          batch_size=num_batch_size,\n",
        "          epochs=num_epochs,\n",
        "          verbose=1,\n",
        "          validation_data=([x_val_spectrogram,x_val_chroma,x_val_mfcc], y_val), #callbacks=[callback],\n",
        "          shuffle=True)\n",
        "\n",
        "\n",
        "duration = datetime.now() - start\n",
        "print(\"Training completed in time: \", duration)"
      ],
      "execution_count": null,
      "outputs": [
        {
          "output_type": "stream",
          "text": [
            "Epoch 1/200\n",
            "116/116 [==============================] - 15s 131ms/step - loss: 1.7810 - accuracy: 0.3927 - val_loss: 1.2697 - val_accuracy: 0.5515\n",
            "Epoch 2/200\n",
            "116/116 [==============================] - 14s 121ms/step - loss: 1.0385 - accuracy: 0.6394 - val_loss: 0.8591 - val_accuracy: 0.7229\n",
            "Epoch 3/200\n",
            "116/116 [==============================] - 14s 121ms/step - loss: 0.7141 - accuracy: 0.7653 - val_loss: 0.6416 - val_accuracy: 0.7968\n",
            "Epoch 4/200\n",
            "116/116 [==============================] - 14s 122ms/step - loss: 0.5659 - accuracy: 0.8181 - val_loss: 0.4680 - val_accuracy: 0.8534\n",
            "Epoch 5/200\n",
            "116/116 [==============================] - 14s 121ms/step - loss: 0.4544 - accuracy: 0.8555 - val_loss: 0.4347 - val_accuracy: 0.8539\n",
            "Epoch 6/200\n",
            "116/116 [==============================] - 14s 121ms/step - loss: 0.3652 - accuracy: 0.8815 - val_loss: 0.4057 - val_accuracy: 0.8674\n",
            "Epoch 7/200\n",
            "116/116 [==============================] - 14s 122ms/step - loss: 0.3311 - accuracy: 0.8952 - val_loss: 0.3091 - val_accuracy: 0.8997\n",
            "Epoch 8/200\n",
            "116/116 [==============================] - 14s 122ms/step - loss: 0.2852 - accuracy: 0.9087 - val_loss: 0.3212 - val_accuracy: 0.8981\n",
            "Epoch 9/200\n",
            "116/116 [==============================] - 14s 121ms/step - loss: 0.2461 - accuracy: 0.9195 - val_loss: 0.2915 - val_accuracy: 0.9073\n",
            "Epoch 10/200\n",
            "116/116 [==============================] - 14s 121ms/step - loss: 0.2291 - accuracy: 0.9265 - val_loss: 0.2446 - val_accuracy: 0.9197\n",
            "Epoch 11/200\n",
            "116/116 [==============================] - 14s 122ms/step - loss: 0.1906 - accuracy: 0.9373 - val_loss: 0.2802 - val_accuracy: 0.9089\n",
            "Epoch 12/200\n",
            "116/116 [==============================] - 14s 121ms/step - loss: 0.1935 - accuracy: 0.9363 - val_loss: 0.2499 - val_accuracy: 0.9213\n",
            "Epoch 13/200\n",
            "116/116 [==============================] - 14s 121ms/step - loss: 0.1633 - accuracy: 0.9457 - val_loss: 0.1645 - val_accuracy: 0.9493\n",
            "Epoch 14/200\n",
            "116/116 [==============================] - 14s 121ms/step - loss: 0.1657 - accuracy: 0.9455 - val_loss: 0.1596 - val_accuracy: 0.9472\n",
            "Epoch 15/200\n",
            "116/116 [==============================] - 14s 121ms/step - loss: 0.1575 - accuracy: 0.9464 - val_loss: 0.1751 - val_accuracy: 0.9466\n",
            "Epoch 16/200\n",
            "116/116 [==============================] - 14s 121ms/step - loss: 0.1376 - accuracy: 0.9532 - val_loss: 0.2014 - val_accuracy: 0.9332\n",
            "Epoch 17/200\n",
            "116/116 [==============================] - 14s 121ms/step - loss: 0.1312 - accuracy: 0.9552 - val_loss: 0.1487 - val_accuracy: 0.9531\n",
            "Epoch 18/200\n",
            "116/116 [==============================] - 14s 121ms/step - loss: 0.0990 - accuracy: 0.9671 - val_loss: 0.2189 - val_accuracy: 0.9342\n",
            "Epoch 19/200\n",
            "116/116 [==============================] - 14s 121ms/step - loss: 0.1315 - accuracy: 0.9567 - val_loss: 0.1531 - val_accuracy: 0.9558\n",
            "Epoch 20/200\n",
            "116/116 [==============================] - 14s 121ms/step - loss: 0.1122 - accuracy: 0.9625 - val_loss: 0.1456 - val_accuracy: 0.9531\n",
            "Epoch 21/200\n",
            "116/116 [==============================] - 14s 121ms/step - loss: 0.1153 - accuracy: 0.9621 - val_loss: 0.1495 - val_accuracy: 0.9526\n",
            "Epoch 22/200\n",
            "116/116 [==============================] - 14s 121ms/step - loss: 0.1068 - accuracy: 0.9637 - val_loss: 0.1687 - val_accuracy: 0.9509\n",
            "Epoch 23/200\n",
            "116/116 [==============================] - 14s 122ms/step - loss: 0.0949 - accuracy: 0.9689 - val_loss: 0.1492 - val_accuracy: 0.9536\n",
            "Epoch 24/200\n",
            "116/116 [==============================] - 14s 121ms/step - loss: 0.0964 - accuracy: 0.9686 - val_loss: 0.1423 - val_accuracy: 0.9601\n",
            "Epoch 25/200\n",
            "116/116 [==============================] - 14s 121ms/step - loss: 0.0801 - accuracy: 0.9722 - val_loss: 0.1714 - val_accuracy: 0.9477\n",
            "Epoch 26/200\n",
            "116/116 [==============================] - 14s 122ms/step - loss: 0.0853 - accuracy: 0.9725 - val_loss: 0.1728 - val_accuracy: 0.9477\n",
            "Epoch 27/200\n",
            "116/116 [==============================] - 14s 121ms/step - loss: 0.0857 - accuracy: 0.9736 - val_loss: 0.1547 - val_accuracy: 0.9558\n",
            "Epoch 28/200\n",
            "116/116 [==============================] - 14s 121ms/step - loss: 0.0876 - accuracy: 0.9714 - val_loss: 0.1303 - val_accuracy: 0.9639\n",
            "Epoch 29/200\n",
            "116/116 [==============================] - 14s 122ms/step - loss: 0.0828 - accuracy: 0.9720 - val_loss: 0.1256 - val_accuracy: 0.9617\n",
            "Epoch 30/200\n",
            "116/116 [==============================] - 14s 122ms/step - loss: 0.0755 - accuracy: 0.9748 - val_loss: 0.1354 - val_accuracy: 0.9580\n",
            "Epoch 31/200\n",
            "116/116 [==============================] - 14s 122ms/step - loss: 0.1065 - accuracy: 0.9664 - val_loss: 0.1274 - val_accuracy: 0.9580\n",
            "Epoch 32/200\n",
            "116/116 [==============================] - 14s 121ms/step - loss: 0.0644 - accuracy: 0.9776 - val_loss: 0.1233 - val_accuracy: 0.9677\n",
            "Epoch 33/200\n",
            "116/116 [==============================] - 14s 122ms/step - loss: 0.0673 - accuracy: 0.9786 - val_loss: 0.1185 - val_accuracy: 0.9617\n",
            "Epoch 34/200\n",
            "116/116 [==============================] - 14s 122ms/step - loss: 0.0650 - accuracy: 0.9784 - val_loss: 0.1322 - val_accuracy: 0.9698\n",
            "Epoch 35/200\n",
            "116/116 [==============================] - 14s 121ms/step - loss: 0.0736 - accuracy: 0.9757 - val_loss: 0.1619 - val_accuracy: 0.9536\n",
            "Epoch 36/200\n",
            "116/116 [==============================] - 14s 121ms/step - loss: 0.0825 - accuracy: 0.9752 - val_loss: 0.1878 - val_accuracy: 0.9526\n",
            "Epoch 37/200\n",
            "116/116 [==============================] - 14s 122ms/step - loss: 0.0607 - accuracy: 0.9807 - val_loss: 0.1129 - val_accuracy: 0.9677\n",
            "Epoch 38/200\n",
            "116/116 [==============================] - 14s 122ms/step - loss: 0.0586 - accuracy: 0.9807 - val_loss: 0.1063 - val_accuracy: 0.9709\n",
            "Epoch 39/200\n",
            "116/116 [==============================] - 14s 121ms/step - loss: 0.0680 - accuracy: 0.9777 - val_loss: 0.0941 - val_accuracy: 0.9757\n",
            "Epoch 40/200\n",
            "116/116 [==============================] - 14s 121ms/step - loss: 0.0584 - accuracy: 0.9813 - val_loss: 0.1031 - val_accuracy: 0.9714\n",
            "Epoch 41/200\n",
            "116/116 [==============================] - 14s 121ms/step - loss: 0.0762 - accuracy: 0.9761 - val_loss: 0.1546 - val_accuracy: 0.9623\n",
            "Epoch 42/200\n",
            "116/116 [==============================] - 14s 121ms/step - loss: 0.1049 - accuracy: 0.9690 - val_loss: 0.1799 - val_accuracy: 0.9515\n",
            "Epoch 43/200\n",
            "116/116 [==============================] - 14s 121ms/step - loss: 0.0673 - accuracy: 0.9778 - val_loss: 0.1013 - val_accuracy: 0.9677\n",
            "Epoch 44/200\n",
            "116/116 [==============================] - 14s 121ms/step - loss: 0.0791 - accuracy: 0.9774 - val_loss: 0.1426 - val_accuracy: 0.9580\n",
            "Epoch 45/200\n",
            "116/116 [==============================] - 14s 122ms/step - loss: 0.0586 - accuracy: 0.9816 - val_loss: 0.0915 - val_accuracy: 0.9730\n",
            "Epoch 46/200\n",
            "116/116 [==============================] - 14s 121ms/step - loss: 0.0631 - accuracy: 0.9799 - val_loss: 0.1383 - val_accuracy: 0.9596\n",
            "Epoch 47/200\n",
            "116/116 [==============================] - 14s 121ms/step - loss: 0.0504 - accuracy: 0.9833 - val_loss: 0.1179 - val_accuracy: 0.9698\n",
            "Epoch 48/200\n",
            "116/116 [==============================] - 14s 121ms/step - loss: 0.0470 - accuracy: 0.9838 - val_loss: 0.1483 - val_accuracy: 0.9655\n",
            "Epoch 49/200\n",
            "116/116 [==============================] - 14s 121ms/step - loss: 0.0543 - accuracy: 0.9831 - val_loss: 0.1545 - val_accuracy: 0.9666\n",
            "Epoch 50/200\n",
            "116/116 [==============================] - 14s 122ms/step - loss: 0.0505 - accuracy: 0.9841 - val_loss: 0.0985 - val_accuracy: 0.9757\n",
            "Epoch 51/200\n",
            "116/116 [==============================] - 14s 122ms/step - loss: 0.0468 - accuracy: 0.9852 - val_loss: 0.2094 - val_accuracy: 0.9504\n",
            "Epoch 52/200\n",
            "116/116 [==============================] - 14s 122ms/step - loss: 0.0968 - accuracy: 0.9714 - val_loss: 0.1666 - val_accuracy: 0.9590\n",
            "Epoch 53/200\n",
            "116/116 [==============================] - 14s 121ms/step - loss: 0.0794 - accuracy: 0.9763 - val_loss: 0.1045 - val_accuracy: 0.9768\n",
            "Epoch 54/200\n",
            "116/116 [==============================] - 14s 122ms/step - loss: 0.0552 - accuracy: 0.9825 - val_loss: 0.0846 - val_accuracy: 0.9774\n",
            "Epoch 55/200\n",
            "116/116 [==============================] - 14s 121ms/step - loss: 0.0430 - accuracy: 0.9867 - val_loss: 0.1052 - val_accuracy: 0.9725\n",
            "Epoch 56/200\n",
            "116/116 [==============================] - 14s 121ms/step - loss: 0.0382 - accuracy: 0.9885 - val_loss: 0.1005 - val_accuracy: 0.9784\n",
            "Epoch 57/200\n",
            "116/116 [==============================] - 14s 122ms/step - loss: 0.0363 - accuracy: 0.9881 - val_loss: 0.1097 - val_accuracy: 0.9752\n",
            "Epoch 58/200\n",
            "116/116 [==============================] - 14s 122ms/step - loss: 0.0406 - accuracy: 0.9873 - val_loss: 0.1137 - val_accuracy: 0.9752\n",
            "Epoch 59/200\n",
            "116/116 [==============================] - 14s 121ms/step - loss: 0.0641 - accuracy: 0.9807 - val_loss: 0.1209 - val_accuracy: 0.9671\n",
            "Epoch 60/200\n",
            "116/116 [==============================] - 14s 121ms/step - loss: 0.0665 - accuracy: 0.9795 - val_loss: 0.1503 - val_accuracy: 0.9666\n",
            "Epoch 61/200\n",
            "116/116 [==============================] - 14s 121ms/step - loss: 0.0761 - accuracy: 0.9771 - val_loss: 0.1120 - val_accuracy: 0.9709\n",
            "Epoch 62/200\n",
            "116/116 [==============================] - 14s 121ms/step - loss: 0.0500 - accuracy: 0.9850 - val_loss: 0.1028 - val_accuracy: 0.9725\n",
            "Epoch 63/200\n",
            "116/116 [==============================] - 14s 122ms/step - loss: 0.0427 - accuracy: 0.9866 - val_loss: 0.1115 - val_accuracy: 0.9774\n",
            "Epoch 64/200\n",
            "116/116 [==============================] - 14s 121ms/step - loss: 0.0442 - accuracy: 0.9857 - val_loss: 0.0866 - val_accuracy: 0.9811\n",
            "Epoch 65/200\n",
            "116/116 [==============================] - 14s 122ms/step - loss: 0.0371 - accuracy: 0.9887 - val_loss: 0.1066 - val_accuracy: 0.9763\n",
            "Epoch 66/200\n",
            "116/116 [==============================] - 14s 121ms/step - loss: 0.0428 - accuracy: 0.9875 - val_loss: 0.1121 - val_accuracy: 0.9736\n",
            "Epoch 67/200\n",
            "116/116 [==============================] - 14s 121ms/step - loss: 0.0427 - accuracy: 0.9870 - val_loss: 0.0964 - val_accuracy: 0.9741\n",
            "Epoch 68/200\n",
            "116/116 [==============================] - 14s 121ms/step - loss: 0.0638 - accuracy: 0.9819 - val_loss: 0.1447 - val_accuracy: 0.9666\n",
            "Epoch 69/200\n",
            "116/116 [==============================] - 14s 121ms/step - loss: 0.0576 - accuracy: 0.9822 - val_loss: 0.1081 - val_accuracy: 0.9752\n",
            "Epoch 70/200\n",
            "116/116 [==============================] - 14s 121ms/step - loss: 0.0536 - accuracy: 0.9849 - val_loss: 0.0961 - val_accuracy: 0.9757\n",
            "Epoch 71/200\n",
            "116/116 [==============================] - 14s 121ms/step - loss: 0.0406 - accuracy: 0.9885 - val_loss: 0.0887 - val_accuracy: 0.9806\n",
            "Epoch 72/200\n",
            "116/116 [==============================] - 14s 122ms/step - loss: 0.0351 - accuracy: 0.9902 - val_loss: 0.1067 - val_accuracy: 0.9720\n",
            "Epoch 73/200\n",
            "116/116 [==============================] - 14s 122ms/step - loss: 0.0453 - accuracy: 0.9860 - val_loss: 0.1033 - val_accuracy: 0.9747\n",
            "Epoch 74/200\n",
            "116/116 [==============================] - 14s 122ms/step - loss: 0.0448 - accuracy: 0.9871 - val_loss: 0.0842 - val_accuracy: 0.9774\n",
            "Epoch 75/200\n",
            "116/116 [==============================] - 14s 121ms/step - loss: 0.0442 - accuracy: 0.9867 - val_loss: 0.1368 - val_accuracy: 0.9730\n",
            "Epoch 76/200\n",
            "116/116 [==============================] - 14s 121ms/step - loss: 0.0578 - accuracy: 0.9832 - val_loss: 0.1126 - val_accuracy: 0.9714\n",
            "Epoch 77/200\n",
            "116/116 [==============================] - 14s 121ms/step - loss: 0.0650 - accuracy: 0.9828 - val_loss: 0.1516 - val_accuracy: 0.9693\n",
            "Epoch 78/200\n",
            "116/116 [==============================] - 14s 122ms/step - loss: 0.0610 - accuracy: 0.9804 - val_loss: 0.0923 - val_accuracy: 0.9774\n",
            "Epoch 79/200\n",
            "116/116 [==============================] - 14s 121ms/step - loss: 0.0322 - accuracy: 0.9895 - val_loss: 0.1192 - val_accuracy: 0.9747\n",
            "Epoch 80/200\n",
            "116/116 [==============================] - 14s 122ms/step - loss: 0.0349 - accuracy: 0.9890 - val_loss: 0.0996 - val_accuracy: 0.9801\n",
            "Epoch 81/200\n",
            "116/116 [==============================] - 14s 121ms/step - loss: 0.0546 - accuracy: 0.9844 - val_loss: 0.1126 - val_accuracy: 0.9730\n",
            "Epoch 82/200\n",
            "116/116 [==============================] - 14s 121ms/step - loss: 0.0348 - accuracy: 0.9897 - val_loss: 0.1080 - val_accuracy: 0.9741\n",
            "Epoch 83/200\n",
            "116/116 [==============================] - 14s 121ms/step - loss: 0.0349 - accuracy: 0.9894 - val_loss: 0.1163 - val_accuracy: 0.9741\n",
            "Epoch 84/200\n",
            "116/116 [==============================] - 14s 121ms/step - loss: 0.0345 - accuracy: 0.9894 - val_loss: 0.1183 - val_accuracy: 0.9757\n",
            "Epoch 85/200\n",
            "116/116 [==============================] - 14s 121ms/step - loss: 0.0351 - accuracy: 0.9885 - val_loss: 0.1252 - val_accuracy: 0.9741\n",
            "Epoch 86/200\n",
            "116/116 [==============================] - 14s 122ms/step - loss: 0.0297 - accuracy: 0.9905 - val_loss: 0.1006 - val_accuracy: 0.9779\n",
            "Epoch 87/200\n",
            "116/116 [==============================] - 14s 121ms/step - loss: 0.0298 - accuracy: 0.9902 - val_loss: 0.1275 - val_accuracy: 0.9730\n",
            "Epoch 88/200\n",
            "116/116 [==============================] - 14s 122ms/step - loss: 0.0388 - accuracy: 0.9877 - val_loss: 0.1523 - val_accuracy: 0.9704\n",
            "Epoch 89/200\n",
            "116/116 [==============================] - 14s 121ms/step - loss: 0.0599 - accuracy: 0.9839 - val_loss: 0.1313 - val_accuracy: 0.9725\n",
            "Epoch 90/200\n",
            "116/116 [==============================] - 14s 121ms/step - loss: 0.0665 - accuracy: 0.9817 - val_loss: 0.1650 - val_accuracy: 0.9720\n",
            "Epoch 91/200\n",
            "116/116 [==============================] - 14s 121ms/step - loss: 0.0800 - accuracy: 0.9804 - val_loss: 0.1479 - val_accuracy: 0.9704\n",
            "Epoch 92/200\n",
            "116/116 [==============================] - 14s 121ms/step - loss: 0.0443 - accuracy: 0.9872 - val_loss: 0.1256 - val_accuracy: 0.9747\n",
            "Epoch 93/200\n",
            "116/116 [==============================] - 14s 121ms/step - loss: 0.0336 - accuracy: 0.9901 - val_loss: 0.1207 - val_accuracy: 0.9790\n",
            "Epoch 94/200\n",
            "116/116 [==============================] - 14s 122ms/step - loss: 0.0362 - accuracy: 0.9892 - val_loss: 0.1306 - val_accuracy: 0.9741\n",
            "Epoch 95/200\n",
            "116/116 [==============================] - 14s 122ms/step - loss: 0.0298 - accuracy: 0.9911 - val_loss: 0.0934 - val_accuracy: 0.9801\n",
            "Epoch 96/200\n",
            "116/116 [==============================] - 14s 121ms/step - loss: 0.0181 - accuracy: 0.9937 - val_loss: 0.1142 - val_accuracy: 0.9774\n",
            "Epoch 97/200\n",
            "116/116 [==============================] - 14s 121ms/step - loss: 0.0430 - accuracy: 0.9873 - val_loss: 0.0994 - val_accuracy: 0.9730\n",
            "Epoch 98/200\n",
            "116/116 [==============================] - 14s 122ms/step - loss: 0.0657 - accuracy: 0.9838 - val_loss: 0.1551 - val_accuracy: 0.9666\n",
            "Epoch 99/200\n",
            "116/116 [==============================] - 14s 121ms/step - loss: 0.0721 - accuracy: 0.9814 - val_loss: 0.0916 - val_accuracy: 0.9801\n",
            "Epoch 100/200\n",
            "116/116 [==============================] - 14s 121ms/step - loss: 0.0314 - accuracy: 0.9900 - val_loss: 0.1286 - val_accuracy: 0.9741\n",
            "Epoch 101/200\n",
            "116/116 [==============================] - 14s 121ms/step - loss: 0.0289 - accuracy: 0.9912 - val_loss: 0.0846 - val_accuracy: 0.9795\n",
            "Epoch 102/200\n",
            "116/116 [==============================] - 14s 121ms/step - loss: 0.0281 - accuracy: 0.9914 - val_loss: 0.1068 - val_accuracy: 0.9774\n",
            "Epoch 103/200\n",
            "116/116 [==============================] - 14s 121ms/step - loss: 0.0317 - accuracy: 0.9903 - val_loss: 0.1262 - val_accuracy: 0.9736\n",
            "Epoch 104/200\n",
            "116/116 [==============================] - 14s 122ms/step - loss: 0.0246 - accuracy: 0.9925 - val_loss: 0.1115 - val_accuracy: 0.9811\n",
            "Epoch 105/200\n",
            "116/116 [==============================] - 14s 121ms/step - loss: 0.0307 - accuracy: 0.9908 - val_loss: 0.1173 - val_accuracy: 0.9795\n",
            "Epoch 106/200\n",
            "116/116 [==============================] - 14s 121ms/step - loss: 0.0436 - accuracy: 0.9877 - val_loss: 0.1562 - val_accuracy: 0.9747\n",
            "Epoch 107/200\n",
            "116/116 [==============================] - 14s 122ms/step - loss: 0.0756 - accuracy: 0.9823 - val_loss: 0.2094 - val_accuracy: 0.9628\n",
            "Epoch 108/200\n",
            "116/116 [==============================] - 14s 121ms/step - loss: 0.0683 - accuracy: 0.9832 - val_loss: 0.1408 - val_accuracy: 0.9693\n",
            "Epoch 109/200\n",
            "116/116 [==============================] - 14s 121ms/step - loss: 0.0535 - accuracy: 0.9866 - val_loss: 0.1097 - val_accuracy: 0.9795\n",
            "Epoch 110/200\n",
            "116/116 [==============================] - 14s 122ms/step - loss: 0.0448 - accuracy: 0.9869 - val_loss: 0.1337 - val_accuracy: 0.9736\n",
            "Epoch 111/200\n",
            "116/116 [==============================] - 14s 121ms/step - loss: 0.0425 - accuracy: 0.9883 - val_loss: 0.1403 - val_accuracy: 0.9730\n",
            "Epoch 112/200\n",
            "116/116 [==============================] - 14s 122ms/step - loss: 0.0327 - accuracy: 0.9901 - val_loss: 0.1217 - val_accuracy: 0.9790\n",
            "Epoch 113/200\n",
            "116/116 [==============================] - 14s 121ms/step - loss: 0.0280 - accuracy: 0.9918 - val_loss: 0.1327 - val_accuracy: 0.9757\n",
            "Epoch 114/200\n",
            "116/116 [==============================] - 14s 121ms/step - loss: 0.0280 - accuracy: 0.9923 - val_loss: 0.1161 - val_accuracy: 0.9763\n",
            "Epoch 115/200\n",
            "116/116 [==============================] - 14s 122ms/step - loss: 0.0367 - accuracy: 0.9903 - val_loss: 0.1232 - val_accuracy: 0.9774\n",
            "Epoch 116/200\n",
            "116/116 [==============================] - 14s 122ms/step - loss: 0.0248 - accuracy: 0.9933 - val_loss: 0.1039 - val_accuracy: 0.9854\n",
            "Epoch 117/200\n",
            "116/116 [==============================] - 14s 121ms/step - loss: 0.0169 - accuracy: 0.9939 - val_loss: 0.1381 - val_accuracy: 0.9822\n",
            "Epoch 118/200\n",
            "116/116 [==============================] - 14s 121ms/step - loss: 0.0548 - accuracy: 0.9864 - val_loss: 0.1228 - val_accuracy: 0.9784\n",
            "Epoch 119/200\n",
            "116/116 [==============================] - 14s 121ms/step - loss: 0.0386 - accuracy: 0.9895 - val_loss: 0.1562 - val_accuracy: 0.9704\n",
            "Epoch 120/200\n",
            "116/116 [==============================] - 14s 121ms/step - loss: 0.0484 - accuracy: 0.9873 - val_loss: 0.1222 - val_accuracy: 0.9790\n",
            "Epoch 121/200\n",
            "116/116 [==============================] - 14s 121ms/step - loss: 0.0331 - accuracy: 0.9908 - val_loss: 0.1134 - val_accuracy: 0.9774\n",
            "Epoch 122/200\n",
            "116/116 [==============================] - 14s 122ms/step - loss: 0.0360 - accuracy: 0.9903 - val_loss: 0.1296 - val_accuracy: 0.9795\n",
            "Epoch 123/200\n",
            "116/116 [==============================] - 14s 121ms/step - loss: 0.0452 - accuracy: 0.9884 - val_loss: 0.1298 - val_accuracy: 0.9757\n",
            "Epoch 124/200\n",
            "116/116 [==============================] - 14s 122ms/step - loss: 0.0413 - accuracy: 0.9907 - val_loss: 0.1400 - val_accuracy: 0.9698\n",
            "Epoch 125/200\n",
            "116/116 [==============================] - 14s 121ms/step - loss: 0.0325 - accuracy: 0.9900 - val_loss: 0.1188 - val_accuracy: 0.9784\n",
            "Epoch 126/200\n",
            "116/116 [==============================] - 14s 121ms/step - loss: 0.0404 - accuracy: 0.9893 - val_loss: 0.1644 - val_accuracy: 0.9720\n",
            "Epoch 127/200\n",
            "116/116 [==============================] - 14s 122ms/step - loss: 0.0232 - accuracy: 0.9937 - val_loss: 0.0863 - val_accuracy: 0.9811\n",
            "Epoch 128/200\n",
            "116/116 [==============================] - 14s 121ms/step - loss: 0.0358 - accuracy: 0.9896 - val_loss: 0.1038 - val_accuracy: 0.9849\n",
            "Epoch 129/200\n",
            "116/116 [==============================] - 14s 122ms/step - loss: 0.0474 - accuracy: 0.9877 - val_loss: 0.1948 - val_accuracy: 0.9650\n",
            "Epoch 130/200\n",
            "116/116 [==============================] - 14s 122ms/step - loss: 0.0717 - accuracy: 0.9826 - val_loss: 0.1707 - val_accuracy: 0.9671\n",
            "Epoch 131/200\n",
            "116/116 [==============================] - 14s 122ms/step - loss: 0.0496 - accuracy: 0.9872 - val_loss: 0.1810 - val_accuracy: 0.9736\n",
            "Epoch 132/200\n",
            "116/116 [==============================] - 14s 122ms/step - loss: 0.0414 - accuracy: 0.9896 - val_loss: 0.1356 - val_accuracy: 0.9752\n",
            "Epoch 133/200\n",
            "116/116 [==============================] - 14s 121ms/step - loss: 0.0358 - accuracy: 0.9905 - val_loss: 0.1328 - val_accuracy: 0.9790\n",
            "Epoch 134/200\n",
            "116/116 [==============================] - 14s 121ms/step - loss: 0.0289 - accuracy: 0.9929 - val_loss: 0.1026 - val_accuracy: 0.9811\n",
            "Epoch 135/200\n",
            "116/116 [==============================] - 14s 121ms/step - loss: 0.0243 - accuracy: 0.9929 - val_loss: 0.1377 - val_accuracy: 0.9774\n",
            "Epoch 136/200\n",
            "116/116 [==============================] - 14s 122ms/step - loss: 0.0288 - accuracy: 0.9925 - val_loss: 0.1876 - val_accuracy: 0.9720\n",
            "Epoch 137/200\n",
            "116/116 [==============================] - 14s 122ms/step - loss: 0.0277 - accuracy: 0.9918 - val_loss: 0.2005 - val_accuracy: 0.9714\n",
            "Epoch 138/200\n",
            "116/116 [==============================] - 14s 122ms/step - loss: 0.0429 - accuracy: 0.9898 - val_loss: 0.1670 - val_accuracy: 0.9747\n",
            "Epoch 139/200\n",
            "116/116 [==============================] - 14s 122ms/step - loss: 0.0399 - accuracy: 0.9904 - val_loss: 0.1529 - val_accuracy: 0.9757\n",
            "Epoch 140/200\n",
            "116/116 [==============================] - 14s 122ms/step - loss: 0.0848 - accuracy: 0.9815 - val_loss: 0.1488 - val_accuracy: 0.9757\n",
            "Epoch 141/200\n",
            "116/116 [==============================] - 14s 122ms/step - loss: 0.0403 - accuracy: 0.9895 - val_loss: 0.1442 - val_accuracy: 0.9752\n",
            "Epoch 142/200\n",
            "116/116 [==============================] - 14s 121ms/step - loss: 0.0239 - accuracy: 0.9938 - val_loss: 0.1187 - val_accuracy: 0.9806\n",
            "Epoch 143/200\n",
            "116/116 [==============================] - 14s 121ms/step - loss: 0.0274 - accuracy: 0.9923 - val_loss: 0.1144 - val_accuracy: 0.9806\n",
            "Epoch 144/200\n",
            "116/116 [==============================] - 14s 122ms/step - loss: 0.0404 - accuracy: 0.9906 - val_loss: 0.1463 - val_accuracy: 0.9741\n",
            "Epoch 145/200\n",
            "116/116 [==============================] - 14s 121ms/step - loss: 0.0428 - accuracy: 0.9901 - val_loss: 0.1923 - val_accuracy: 0.9709\n",
            "Epoch 146/200\n",
            "116/116 [==============================] - 14s 122ms/step - loss: 0.0545 - accuracy: 0.9877 - val_loss: 0.1554 - val_accuracy: 0.9720\n",
            "Epoch 147/200\n",
            "116/116 [==============================] - 14s 121ms/step - loss: 0.0306 - accuracy: 0.9918 - val_loss: 0.1395 - val_accuracy: 0.9757\n",
            "Epoch 148/200\n",
            "116/116 [==============================] - 14s 121ms/step - loss: 0.0405 - accuracy: 0.9906 - val_loss: 0.1707 - val_accuracy: 0.9704\n",
            "Epoch 149/200\n",
            "116/116 [==============================] - 14s 122ms/step - loss: 0.0444 - accuracy: 0.9890 - val_loss: 0.1440 - val_accuracy: 0.9801\n",
            "Epoch 150/200\n",
            "116/116 [==============================] - 14s 122ms/step - loss: 0.0318 - accuracy: 0.9910 - val_loss: 0.1106 - val_accuracy: 0.9811\n",
            "Epoch 151/200\n",
            "116/116 [==============================] - 14s 121ms/step - loss: 0.0433 - accuracy: 0.9889 - val_loss: 0.1321 - val_accuracy: 0.9768\n",
            "Epoch 152/200\n",
            "116/116 [==============================] - 14s 122ms/step - loss: 0.0295 - accuracy: 0.9926 - val_loss: 0.1680 - val_accuracy: 0.9714\n",
            "Epoch 153/200\n",
            "116/116 [==============================] - 14s 121ms/step - loss: 0.0393 - accuracy: 0.9897 - val_loss: 0.1692 - val_accuracy: 0.9752\n",
            "Epoch 154/200\n",
            "116/116 [==============================] - 14s 122ms/step - loss: 0.0404 - accuracy: 0.9918 - val_loss: 0.1342 - val_accuracy: 0.9763\n",
            "Epoch 155/200\n",
            "116/116 [==============================] - 14s 121ms/step - loss: 0.0514 - accuracy: 0.9877 - val_loss: 0.1813 - val_accuracy: 0.9687\n",
            "Epoch 156/200\n",
            "116/116 [==============================] - 14s 121ms/step - loss: 0.0382 - accuracy: 0.9910 - val_loss: 0.1394 - val_accuracy: 0.9763\n",
            "Epoch 157/200\n",
            "116/116 [==============================] - 14s 121ms/step - loss: 0.0275 - accuracy: 0.9929 - val_loss: 0.1265 - val_accuracy: 0.9801\n",
            "Epoch 158/200\n",
            "116/116 [==============================] - 14s 121ms/step - loss: 0.0352 - accuracy: 0.9913 - val_loss: 0.1148 - val_accuracy: 0.9811\n",
            "Epoch 159/200\n",
            "116/116 [==============================] - 14s 121ms/step - loss: 0.0260 - accuracy: 0.9929 - val_loss: 0.1467 - val_accuracy: 0.9752\n",
            "Epoch 160/200\n",
            "116/116 [==============================] - 14s 122ms/step - loss: 0.0282 - accuracy: 0.9926 - val_loss: 0.1274 - val_accuracy: 0.9741\n",
            "Epoch 161/200\n",
            "116/116 [==============================] - 14s 122ms/step - loss: 0.0311 - accuracy: 0.9923 - val_loss: 0.1624 - val_accuracy: 0.9730\n",
            "Epoch 162/200\n",
            "116/116 [==============================] - 14s 122ms/step - loss: 0.0495 - accuracy: 0.9893 - val_loss: 0.1791 - val_accuracy: 0.9779\n",
            "Epoch 163/200\n",
            "116/116 [==============================] - 14s 122ms/step - loss: 0.0780 - accuracy: 0.9844 - val_loss: 0.1639 - val_accuracy: 0.9730\n",
            "Epoch 164/200\n",
            "116/116 [==============================] - 14s 122ms/step - loss: 0.0356 - accuracy: 0.9921 - val_loss: 0.3174 - val_accuracy: 0.9682\n",
            "Epoch 165/200\n",
            "116/116 [==============================] - 14s 122ms/step - loss: 0.0465 - accuracy: 0.9898 - val_loss: 0.1949 - val_accuracy: 0.9768\n",
            "Epoch 166/200\n",
            "116/116 [==============================] - 14s 122ms/step - loss: 0.0315 - accuracy: 0.9920 - val_loss: 0.1528 - val_accuracy: 0.9757\n",
            "Epoch 167/200\n",
            "116/116 [==============================] - 14s 121ms/step - loss: 0.0228 - accuracy: 0.9938 - val_loss: 0.1417 - val_accuracy: 0.9779\n",
            "Epoch 168/200\n",
            "116/116 [==============================] - 14s 122ms/step - loss: 0.0257 - accuracy: 0.9938 - val_loss: 0.1298 - val_accuracy: 0.9795\n",
            "Epoch 169/200\n",
            "116/116 [==============================] - 14s 121ms/step - loss: 0.0329 - accuracy: 0.9921 - val_loss: 0.1999 - val_accuracy: 0.9704\n",
            "Epoch 170/200\n",
            "116/116 [==============================] - 14s 121ms/step - loss: 0.0452 - accuracy: 0.9892 - val_loss: 0.2290 - val_accuracy: 0.9704\n",
            "Epoch 171/200\n",
            "116/116 [==============================] - 14s 121ms/step - loss: 0.0316 - accuracy: 0.9916 - val_loss: 0.1111 - val_accuracy: 0.9774\n",
            "Epoch 172/200\n",
            "116/116 [==============================] - 14s 122ms/step - loss: 0.0537 - accuracy: 0.9883 - val_loss: 0.1312 - val_accuracy: 0.9768\n",
            "Epoch 173/200\n",
            "116/116 [==============================] - 14s 121ms/step - loss: 0.0428 - accuracy: 0.9900 - val_loss: 0.1889 - val_accuracy: 0.9720\n",
            "Epoch 174/200\n",
            "116/116 [==============================] - 14s 122ms/step - loss: 0.0395 - accuracy: 0.9904 - val_loss: 0.1510 - val_accuracy: 0.9827\n",
            "Epoch 175/200\n",
            "116/116 [==============================] - 14s 122ms/step - loss: 0.0274 - accuracy: 0.9934 - val_loss: 0.1252 - val_accuracy: 0.9790\n",
            "Epoch 176/200\n",
            "116/116 [==============================] - 14s 122ms/step - loss: 0.0282 - accuracy: 0.9938 - val_loss: 0.1495 - val_accuracy: 0.9795\n",
            "Epoch 177/200\n",
            "116/116 [==============================] - 14s 122ms/step - loss: 0.0310 - accuracy: 0.9931 - val_loss: 0.1251 - val_accuracy: 0.9752\n",
            "Epoch 178/200\n",
            "116/116 [==============================] - 14s 121ms/step - loss: 0.0170 - accuracy: 0.9952 - val_loss: 0.1433 - val_accuracy: 0.9806\n",
            "Epoch 179/200\n",
            "116/116 [==============================] - 14s 121ms/step - loss: 0.0398 - accuracy: 0.9912 - val_loss: 0.1416 - val_accuracy: 0.9784\n",
            "Epoch 180/200\n",
            "116/116 [==============================] - 14s 121ms/step - loss: 0.0659 - accuracy: 0.9875 - val_loss: 0.1439 - val_accuracy: 0.9747\n",
            "Epoch 181/200\n",
            "116/116 [==============================] - 14s 122ms/step - loss: 0.0546 - accuracy: 0.9882 - val_loss: 0.1361 - val_accuracy: 0.9714\n",
            "Epoch 182/200\n",
            "116/116 [==============================] - 14s 122ms/step - loss: 0.0391 - accuracy: 0.9914 - val_loss: 0.1533 - val_accuracy: 0.9763\n",
            "Epoch 183/200\n",
            "116/116 [==============================] - 14s 122ms/step - loss: 0.0302 - accuracy: 0.9932 - val_loss: 0.1320 - val_accuracy: 0.9768\n",
            "Epoch 184/200\n",
            "116/116 [==============================] - 14s 122ms/step - loss: 0.0402 - accuracy: 0.9914 - val_loss: 0.1577 - val_accuracy: 0.9768\n",
            "Epoch 185/200\n",
            "116/116 [==============================] - 14s 122ms/step - loss: 0.0349 - accuracy: 0.9918 - val_loss: 0.1105 - val_accuracy: 0.9817\n",
            "Epoch 186/200\n",
            "116/116 [==============================] - 14s 122ms/step - loss: 0.0550 - accuracy: 0.9889 - val_loss: 0.1563 - val_accuracy: 0.9811\n",
            "Epoch 187/200\n",
            "116/116 [==============================] - 14s 122ms/step - loss: 0.0492 - accuracy: 0.9893 - val_loss: 0.1520 - val_accuracy: 0.9779\n",
            "Epoch 188/200\n",
            "116/116 [==============================] - 14s 121ms/step - loss: 0.0291 - accuracy: 0.9931 - val_loss: 0.1233 - val_accuracy: 0.9817\n",
            "Epoch 189/200\n",
            "116/116 [==============================] - 14s 121ms/step - loss: 0.0281 - accuracy: 0.9927 - val_loss: 0.1640 - val_accuracy: 0.9768\n",
            "Epoch 190/200\n",
            "116/116 [==============================] - 14s 121ms/step - loss: 0.0250 - accuracy: 0.9947 - val_loss: 0.1204 - val_accuracy: 0.9811\n",
            "Epoch 191/200\n",
            "116/116 [==============================] - 14s 122ms/step - loss: 0.0322 - accuracy: 0.9932 - val_loss: 0.1388 - val_accuracy: 0.9752\n",
            "Epoch 192/200\n",
            "116/116 [==============================] - 14s 121ms/step - loss: 0.0441 - accuracy: 0.9912 - val_loss: 0.1063 - val_accuracy: 0.9768\n",
            "Epoch 193/200\n",
            "116/116 [==============================] - 14s 122ms/step - loss: 0.0199 - accuracy: 0.9953 - val_loss: 0.1503 - val_accuracy: 0.9741\n",
            "Epoch 194/200\n",
            "116/116 [==============================] - 14s 121ms/step - loss: 0.0205 - accuracy: 0.9944 - val_loss: 0.1406 - val_accuracy: 0.9795\n",
            "Epoch 195/200\n",
            "116/116 [==============================] - 14s 121ms/step - loss: 0.0348 - accuracy: 0.9920 - val_loss: 0.1264 - val_accuracy: 0.9806\n",
            "Epoch 196/200\n",
            "116/116 [==============================] - 14s 122ms/step - loss: 0.0534 - accuracy: 0.9886 - val_loss: 0.1635 - val_accuracy: 0.9784\n",
            "Epoch 197/200\n",
            "116/116 [==============================] - 14s 122ms/step - loss: 0.0587 - accuracy: 0.9881 - val_loss: 0.1453 - val_accuracy: 0.9779\n",
            "Epoch 198/200\n",
            "116/116 [==============================] - 14s 121ms/step - loss: 0.0296 - accuracy: 0.9933 - val_loss: 0.1413 - val_accuracy: 0.9779\n",
            "Epoch 199/200\n",
            "116/116 [==============================] - 14s 122ms/step - loss: 0.0336 - accuracy: 0.9924 - val_loss: 0.1766 - val_accuracy: 0.9677\n",
            "Epoch 200/200\n",
            "116/116 [==============================] - 14s 121ms/step - loss: 0.0331 - accuracy: 0.9922 - val_loss: 0.1113 - val_accuracy: 0.9827\n",
            "Training completed in time:  0:47:18.196543\n"
          ],
          "name": "stdout"
        }
      ]
    },
    {
      "cell_type": "code",
      "metadata": {
        "id": "4YPmT1aaCp7r"
      },
      "source": [
        ""
      ],
      "execution_count": null,
      "outputs": []
    },
    {
      "cell_type": "code",
      "metadata": {
        "id": "xo11WFRmxv0z",
        "colab": {
          "base_uri": "https://localhost:8080/",
          "height": 573
        },
        "outputId": "135a28a0-5a50-4537-9a80-ec4130f92d38"
      },
      "source": [
        "acc = history.history['accuracy']\n",
        "val_acc = history.history['val_accuracy']\n",
        "loss = history.history['loss']\n",
        "val_loss = history.history['val_loss']\n",
        "epochs = range(len(acc))\n",
        "plt.plot(epochs, acc, 'r', label='Training acc')\n",
        "plt.plot(epochs, val_acc, 'b', label='Validation acc')\n",
        "plt.title('Training and validation accuracy')\n",
        "plt.ylabel('accuracy')  \n",
        "plt.xlabel('epoch')\n",
        "plt.legend()\n",
        "plt.figure()\n",
        "plt.plot(epochs, loss, 'r', label='Training loss')\n",
        "plt.plot(epochs, val_loss, 'b', label='Validation loss')\n",
        "plt.title('Training and validation loss')\n",
        "plt.ylabel('loss')  \n",
        "plt.xlabel('epoch')\n",
        "plt.legend()\n",
        "plt.show()"
      ],
      "execution_count": null,
      "outputs": [
        {
          "output_type": "display_data",
          "data": {
            "image/png": "[encoded data removed]",
            "text/plain": [
              "<Figure size 432x288 with 1 Axes>"
            ]
          },
          "metadata": {
            "tags": [],
            "needs_background": "light"
          }
        },
        {
          "output_type": "display_data",
          "data": {
            "image/png": "[encoded data removed]",
            "text/plain": [
              "<Figure size 432x288 with 1 Axes>"
            ]
          },
          "metadata": {
            "tags": [],
            "needs_background": "light"
          }
        }
      ]
    },
    {
      "cell_type": "code",
      "metadata": {
        "id": "bQNFS0mYUI0e"
      },
      "source": [
        ""
      ],
      "execution_count": null,
      "outputs": []
    },
    {
      "cell_type": "code",
      "metadata": {
        "colab": {
          "base_uri": "https://localhost:8080/"
        },
        "id": "WNPIJIOoGUbV",
        "outputId": "8032664a-9996-413e-d991-1b7e798c2b74"
      },
      "source": [
        "\n",
        "final_loss, final_acc = model.evaluate([x_test_chroma,x_test_mfcc],y_test, verbose=1)\n",
        "print(\"Final loss: {0:.6f}, final accuracy: {1:.6f}\".format(final_loss, final_acc))\n",
        "\n",
        "final_loss, final_acc = model.evaluate([x_val_chroma,x_val_mfcc], y_val, verbose=1)\n",
        "print(\"Final loss: {0:.6f}, final accuracy: {1:.6f}\".format(final_loss, final_acc))\n",
        "\n"
      ],
      "execution_count": null,
      "outputs": [
        {
          "output_type": "stream",
          "text": [
            "58/58 [==============================] - 0s 8ms/step - loss: 0.2523 - accuracy: 0.9671\n",
            "Final loss: 0.252274, final accuracy: 0.967134\n",
            "58/58 [==============================] - 0s 8ms/step - loss: 0.1841 - accuracy: 0.9693\n",
            "Final loss: 0.184079, final accuracy: 0.969272\n"
          ],
          "name": "stdout"
        }
      ]
    },
    {
      "cell_type": "code",
      "metadata": {
        "id": "w5WtjH3d3X_K",
        "colab": {
          "base_uri": "https://localhost:8080/"
        },
        "outputId": "24370045-d351-4468-f4fa-f198dbbb07c0"
      },
      "source": [
        "score = model.evaluate([x_train_chroma,x_train_mfcc], y_spec_train, verbose=0)\n",
        "print(\"Training Accuracy: \", score[1])\n",
        "\n",
        "score = model.evaluate([x_test_chroma,x_test_mfcc], y_test, verbose=0)\n",
        "print(\"Test Accuracy: \", score[1])\n",
        "\n",
        "score = model.evaluate([x_val_chroma,x_val_mfcc], y_val, verbose=0)\n",
        "print(\"val Accuracy: \", score[1])"
      ],
      "execution_count": null,
      "outputs": [
        {
          "output_type": "stream",
          "text": [
            "Training Accuracy:  0.9973723292350769\n",
            "Test Accuracy:  0.967133641242981\n",
            "val Accuracy:  0.969272255897522\n"
          ],
          "name": "stdout"
        }
      ]
    },
    {
      "cell_type": "code",
      "metadata": {
        "id": "ub4aNrFQn0WW",
        "colab": {
          "base_uri": "https://localhost:8080/"
        },
        "outputId": "8fd7bf47-90ce-452a-eae5-56d09e04ca07"
      },
      "source": [
        "\n",
        "final_loss, final_acc = model.evaluate([x_test_spectrogram,x_test_chroma,x_test_mfcc],y_test, verbose=1)\n",
        "print(\"Final loss: {0:.6f}, final accuracy: {1:.6f}\".format(final_loss, final_acc))\n",
        "\n",
        "final_loss, final_acc = model.evaluate([x_val_spectrogram,x_val_chroma,x_val_mfcc], y_val, verbose=1)\n",
        "print(\"Final loss: {0:.6f}, final accuracy: {1:.6f}\".format(final_loss, final_acc))\n",
        "\n"
      ],
      "execution_count": null,
      "outputs": [
        {
          "output_type": "stream",
          "text": [
            "58/58 [==============================] - 1s 10ms/step - loss: 0.2139 - accuracy: 0.9558\n",
            "Final loss: 0.213915, final accuracy: 0.955819\n",
            "58/58 [==============================] - 1s 12ms/step - loss: 0.2201 - accuracy: 0.9542\n",
            "Final loss: 0.220080, final accuracy: 0.954178\n"
          ],
          "name": "stdout"
        }
      ]
    },
    {
      "cell_type": "code",
      "metadata": {
        "colab": {
          "base_uri": "https://localhost:8080/"
        },
        "id": "BIM1f9yePKnt",
        "outputId": "2d8ff97d-ec5a-4471-d89e-9342ad2773b9"
      },
      "source": [
        "# Evaluating the model on the training and testing set\n",
        "score = model.evaluate([x_train_spectrogram,x_train_chroma,x_train_mfcc], y_spec_train, verbose=0)\n",
        "print(\"Training Accuracy: \", score[1])\n",
        "\n",
        "score = model.evaluate([x_test_spectrogram,x_test_chroma,x_test_mfcc], y_test, verbose=0)\n",
        "print(\"Test Accuracy: \", score[1])\n",
        "\n",
        "score = model.evaluate([x_val_spectrogram,x_val_chroma,x_val_mfcc], y_val, verbose=0)\n",
        "print(\"val Accuracy: \", score[1])"
      ],
      "execution_count": null,
      "outputs": [
        {
          "output_type": "stream",
          "text": [
            "Training Accuracy:  0.9982482194900513\n",
            "Test Accuracy:  0.9558189511299133\n",
            "val Accuracy:  0.9541779160499573\n"
          ],
          "name": "stdout"
        }
      ]
    },
    {
      "cell_type": "code",
      "metadata": {
        "id": "yRQsQXWymF_4",
        "colab": {
          "base_uri": "https://localhost:8080/"
        },
        "outputId": "6c5cb101-8334-4996-bfca-261de4dcaf05"
      },
      "source": [
        "# Evaluating the model on the training and testing set\n",
        "score = model.evaluate([x_train_spectrogram,x_train_chroma,x_train_mfcc], y_spec_train, verbose=0)\n",
        "print(\"Training Accuracy: \", score[1])\n",
        "\n",
        "score = model.evaluate([x_val_spectrogram,x_val_chroma,x_val_mfcc], y_val, verbose=0)\n",
        "print(\"Val Accuracy: \", score[1])\n",
        "\n",
        "score = model.evaluate([x_test_spectrogram,x_test_chroma,x_test_mfcc], y_test, verbose=0)\n",
        "print(\"Testing Accuracy: \", score[1])"
      ],
      "execution_count": null,
      "outputs": [
        {
          "output_type": "stream",
          "text": [
            "Training Accuracy:  0.9991914629936218\n",
            "Val Accuracy:  0.982749342918396\n",
            "Testing Accuracy:  0.977909505367279\n"
          ],
          "name": "stdout"
        }
      ]
    },
    {
      "cell_type": "code",
      "metadata": {
        "id": "wC1Uhd0y2p9b",
        "colab": {
          "base_uri": "https://localhost:8080/"
        },
        "outputId": "f186bdb1-9115-426a-c31a-7e02078898e8"
      },
      "source": [
        "\n",
        "final_loss, final_acc = model.evaluate([x_test_spectrogram,x_test_chroma,x_test_mfcc], y_test, verbose=1)\n",
        "print(\"Final loss: {0:.6f}, final accuracy: {1:.6f}\".format(final_loss, final_acc))\n",
        "\n",
        "final_loss, final_acc = model.evaluate([x_val_spectrogram,x_val_chroma,x_val_mfcc], y_val, verbose=1)\n",
        "print(\"Final loss: {0:.6f}, final accuracy: {1:.6f}\".format(final_loss, final_acc))\n",
        "\n"
      ],
      "execution_count": null,
      "outputs": [
        {
          "output_type": "stream",
          "text": [
            "58/58 [==============================] - 1s 15ms/step - loss: 0.1562 - accuracy: 0.9779\n",
            "Final loss: 0.156190, final accuracy: 0.977910\n",
            "58/58 [==============================] - 1s 15ms/step - loss: 0.1113 - accuracy: 0.9827\n",
            "Final loss: 0.111264, final accuracy: 0.982749\n"
          ],
          "name": "stdout"
        }
      ]
    },
    {
      "cell_type": "code",
      "metadata": {
        "id": "85hXvAwGPWAn"
      },
      "source": [
        "#print('test data', test_data)\n",
        "preds = np.round(model.predict([x_test_spectrogram,x_test_chroma,x_test_mfcc]),0) \n",
        "#to fit them into classification metrics and confusion metrics, some additional modificaitions are required\n",
        "#print('rounded test_labels', preds)"
      ],
      "execution_count": null,
      "outputs": []
    },
    {
      "cell_type": "code",
      "metadata": {
        "colab": {
          "base_uri": "https://localhost:8080/"
        },
        "id": "OnI2p2ykXSBR",
        "outputId": "4da71507-e4a9-4e4c-c70d-482b56e7cd2d"
      },
      "source": [
        "!pip install skmultilearn"
      ],
      "execution_count": null,
      "outputs": [
        {
          "output_type": "stream",
          "text": [
            "\u001b[31mERROR: Could not find a version that satisfies the requirement skmultilearn (from versions: none)\u001b[0m\n",
            "\u001b[31mERROR: No matching distribution found for skmultilearn\u001b[0m\n"
          ],
          "name": "stdout"
        }
      ]
    },
    {
      "cell_type": "code",
      "metadata": {
        "id": "dA13P87BUrYH"
      },
      "source": [
        "Classes_List=['air_conditioner','car_horn','children_playing','dog_bark','drilling','engine_idling','gun_shot','jackhammer','siren','street_music']"
      ],
      "execution_count": null,
      "outputs": []
    },
    {
      "cell_type": "code",
      "metadata": {
        "id": "uVZIvcQwUT8T",
        "colab": {
          "base_uri": "https://localhost:8080/"
        },
        "outputId": "916023b5-5f10-4e50-e013-101b1ed9ff20"
      },
      "source": [
        "import sklearn.metrics as metrics\n",
        "classification_metrics = metrics.classification_report(y_test, preds, target_names=Classes_List )\n",
        "print(classification_metrics)"
      ],
      "execution_count": null,
      "outputs": [
        {
          "output_type": "stream",
          "text": [
            "                  precision    recall  f1-score   support\n",
            "\n",
            " air_conditioner       0.98      1.00      0.99       197\n",
            "        car_horn       0.99      0.98      0.98       100\n",
            "children_playing       0.94      0.98      0.96       203\n",
            "        dog_bark       0.97      0.97      0.97       202\n",
            "        drilling       0.97      0.99      0.98       203\n",
            "   engine_idling       0.99      0.98      0.98       202\n",
            "        gun_shot       0.97      0.99      0.98        89\n",
            "      jackhammer       0.99      0.99      0.99       251\n",
            "           siren       0.99      1.00      0.99       210\n",
            "    street_music       0.99      0.91      0.95       199\n",
            "\n",
            "       micro avg       0.98      0.98      0.98      1856\n",
            "       macro avg       0.98      0.98      0.98      1856\n",
            "    weighted avg       0.98      0.98      0.98      1856\n",
            "     samples avg       0.98      0.98      0.98      1856\n",
            "\n"
          ],
          "name": "stdout"
        }
      ]
    },
    {
      "cell_type": "code",
      "metadata": {
        "id": "4ueoeSAEVHLL"
      },
      "source": [
        ""
      ],
      "execution_count": null,
      "outputs": []
    },
    {
      "cell_type": "code",
      "metadata": {
        "id": "cE9M76g8Ck2x"
      },
      "source": [
        "#Since our data is in dummy format we put the numpy array into a dataframe and call idxmax axis=1 to return the column\n",
        "# label of the maximum value thus creating a categorical variable\n",
        "#Basically, flipping a dummy variable back to it's categorical variable\n",
        "categorical_test_labels = pd.DataFrame(y_test).idxmax(axis=1)\n",
        "categorical_preds = pd.DataFrame(preds).idxmax(axis=1)"
      ],
      "execution_count": null,
      "outputs": []
    },
    {
      "cell_type": "code",
      "metadata": {
        "id": "fxLP9pmpC8gL"
      },
      "source": [
        "confusion_matrix= confusion_matrix(categorical_test_labels, categorical_preds)"
      ],
      "execution_count": null,
      "outputs": []
    },
    {
      "cell_type": "code",
      "metadata": {
        "id": "YEWpGt2sDsIP"
      },
      "source": [
        "#To get better visual of the confusion matrix:\n",
        "from itertools import product\n",
        "def plot_confusion_matrix(cm, classes,\n",
        "             normalize=False,\n",
        "             title='Confusion matrix',\n",
        "             cmap=plt.cm.Blues):\n",
        "    #Add Normalization Option\n",
        "    '''prints pretty confusion metric with normalization option '''\n",
        "    if normalize:\n",
        "        cm = cm.astype('float') / cm.sum(axis=1)[:, np.newaxis]\n",
        "        print(\"Normalized confusion matrix\")\n",
        "    else:\n",
        "        print('Confusion matrix, without normalization')\n",
        "    \n",
        "#     print(cm)\n",
        "    \n",
        "    plt.imshow(cm, interpolation='nearest', cmap=cmap)\n",
        "    plt.title(title)\n",
        "    plt.colorbar()\n",
        "    tick_marks = np.arange(len(classes))\n",
        "    plt.xticks(tick_marks, classes, rotation=45)\n",
        "    plt.yticks(tick_marks, classes)\n",
        "    \n",
        "    fmt = '.2f' if normalize else 'd'\n",
        "    thresh = cm.max() / 2.\n",
        "    for i, j in product(range(cm.shape[0]), range(cm.shape[1])):\n",
        "        plt.text(j, i, format(cm[i, j], fmt), horizontalalignment=\"center\", color=\"white\" if cm[i, j] > thresh else \"black\")\n",
        "    \n",
        "    #plt.tight_layout()\n",
        "    plt.ylabel('True label')\n",
        "    plt.xlabel('Predicted label')"
      ],
      "execution_count": null,
      "outputs": []
    },
    {
      "cell_type": "code",
      "metadata": {
        "id": "bO3wgRi-DxIX",
        "colab": {
          "base_uri": "https://localhost:8080/",
          "height": 368
        },
        "outputId": "1fdd19cc-e139-47a9-e58c-549aff6962b0"
      },
      "source": [
        "plot_confusion_matrix(confusion_matrix, Classes_List)"
      ],
      "execution_count": null,
      "outputs": [
        {
          "output_type": "stream",
          "text": [
            "Confusion matrix, without normalization\n"
          ],
          "name": "stdout"
        },
        {
          "output_type": "display_data",
          "data": {
            "image/png": "[encoded data removed]",
            "text/plain": [
              "<Figure size 432x288 with 2 Axes>"
            ]
          },
          "metadata": {
            "tags": [],
            "needs_background": "light"
          }
        }
      ]
    },
    {
      "cell_type": "code",
      "metadata": {
        "id": "912bQHG7FNUl",
        "colab": {
          "base_uri": "https://localhost:8080/",
          "height": 368
        },
        "outputId": "45fe1e82-3d7a-460f-c419-2e67295ee833"
      },
      "source": [
        "plot_confusion_matrix(confusion_matrix, Classes_List,normalize=True)"
      ],
      "execution_count": null,
      "outputs": [
        {
          "output_type": "stream",
          "text": [
            "Normalized confusion matrix\n"
          ],
          "name": "stdout"
        },
        {
          "output_type": "display_data",
          "data": {
            "image/png": "[encoded data removed]",
            "text/plain": [
              "<Figure size 432x288 with 2 Axes>"
            ]
          },
          "metadata": {
            "tags": [],
            "needs_background": "light"
          }
        }
      ]
    },
    {
      "cell_type": "code",
      "metadata": {
        "id": "YdEZ7BXC3HrM"
      },
      "source": [
        "model.save(\"/content/drive/MyDrive/UrbanSound8K/my_model.h5\")"
      ],
      "execution_count": null,
      "outputs": []
    },
    {
      "cell_type": "code",
      "metadata": {
        "id": "_yV0ogXqZNVE"
      },
      "source": [
        ""
      ],
      "execution_count": null,
      "outputs": []
    }
  ]
}